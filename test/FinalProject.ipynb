{
 "cells": [
  {
   "cell_type": "markdown",
   "metadata": {},
   "source": [
    "# CP321 Final Project"
   ]
  },
  {
   "cell_type": "code",
   "execution_count": 4,
   "metadata": {},
   "outputs": [],
   "source": [
    "import pandas as pd\n",
    "import numpy as np"
   ]
  },
  {
   "cell_type": "code",
   "execution_count": null,
   "metadata": {},
   "outputs": [
    {
     "ename": "",
     "evalue": "",
     "output_type": "error",
     "traceback": [
      "\u001b[1;31mThe Kernel crashed while executing code in the current cell or a previous cell. \n",
      "\u001b[1;31mPlease review the code in the cell(s) to identify a possible cause of the failure. \n",
      "\u001b[1;31mClick <a href='https://aka.ms/vscodeJupyterKernelCrash'>here</a> for more info. \n",
      "\u001b[1;31mView Jupyter <a href='command:jupyter.viewOutput'>log</a> for further details."
     ]
    }
   ],
   "source": [
    "datafile = \"/Users/jashan/Desktop/CP321FinalProject/finalData2.csv\""
   ]
  },
  {
   "cell_type": "code",
   "execution_count": null,
   "metadata": {},
   "outputs": [],
   "source": [
    "raw_data = pd.read_csv(datafile)\n",
    "raw_data"
   ]
  },
  {
   "cell_type": "code",
   "execution_count": null,
   "metadata": {},
   "outputs": [
    {
     "data": {
      "application/vnd.microsoft.datawrangler.viewer.v0+json": {
       "columns": [
        {
         "name": "index",
         "rawType": "int64",
         "type": "integer"
        },
        {
         "name": "GEO",
         "rawType": "object",
         "type": "string"
        },
        {
         "name": "EDUCATION",
         "rawType": "object",
         "type": "string"
        },
        {
         "name": "MAJOR",
         "rawType": "object",
         "type": "string"
        },
        {
         "name": "OCCUPATON",
         "rawType": "object",
         "type": "string"
        },
        {
         "name": "GENDER",
         "rawType": "object",
         "type": "string"
        },
        {
         "name": "VALUE",
         "rawType": "int64",
         "type": "integer"
        }
       ],
       "conversionMethod": "pd.DataFrame",
       "ref": "abe0a290-562c-4afc-bca6-b1db77785668",
       "rows": [
        [
         "0",
         "Newfoundland and Labrador",
         "No certificate, diploma or degree",
         "No postsecondary certificate, diploma or degree",
         "All occupations",
         "Men+",
         "12025"
        ],
        [
         "1",
         "Newfoundland and Labrador",
         "No certificate, diploma or degree",
         "No postsecondary certificate, diploma or degree",
         "All occupations",
         "Women+",
         "7755"
        ],
        [
         "2",
         "Newfoundland and Labrador",
         "No certificate, diploma or degree",
         "No postsecondary certificate, diploma or degree",
         "0 Legislative and senior management occupations",
         "Women+",
         "10"
        ],
        [
         "3",
         "Newfoundland and Labrador",
         "No certificate, diploma or degree",
         "No postsecondary certificate, diploma or degree",
         "00 Legislative and senior managers",
         "Women+",
         "10"
        ],
        [
         "4",
         "Newfoundland and Labrador",
         "No certificate, diploma or degree",
         "No postsecondary certificate, diploma or degree",
         "000 Legislative and senior managers",
         "Women+",
         "10"
        ],
        [
         "5",
         "Newfoundland and Labrador",
         "No certificate, diploma or degree",
         "No postsecondary certificate, diploma or degree",
         "0001 Legislative and senior managers",
         "Women+",
         "10"
        ],
        [
         "6",
         "Newfoundland and Labrador",
         "No certificate, diploma or degree",
         "No postsecondary certificate, diploma or degree",
         "00018 Seniors managers - public and private sector",
         "Women+",
         "10"
        ],
        [
         "7",
         "Newfoundland and Labrador",
         "No certificate, diploma or degree",
         "No postsecondary certificate, diploma or degree",
         "1 Business, finance and administration occupations",
         "Men+",
         "250"
        ],
        [
         "8",
         "Newfoundland and Labrador",
         "No certificate, diploma or degree",
         "No postsecondary certificate, diploma or degree",
         "1 Business, finance and administration occupations",
         "Women+",
         "375"
        ],
        [
         "9",
         "Newfoundland and Labrador",
         "No certificate, diploma or degree",
         "No postsecondary certificate, diploma or degree",
         "10 Specialized middle management occupations in administrative services, financial and business services and communication (except broadcasting)",
         "Men+",
         "15"
        ],
        [
         "10",
         "Newfoundland and Labrador",
         "No certificate, diploma or degree",
         "No postsecondary certificate, diploma or degree",
         "10 Specialized middle management occupations in administrative services, financial and business services and communication (except broadcasting)",
         "Women+",
         "20"
        ],
        [
         "11",
         "Newfoundland and Labrador",
         "No certificate, diploma or degree",
         "No postsecondary certificate, diploma or degree",
         "100 Specialized middle management occupations in administrative services, financial and business services and communication (except broadcasting)",
         "Men+",
         "15"
        ],
        [
         "12",
         "Newfoundland and Labrador",
         "No certificate, diploma or degree",
         "No postsecondary certificate, diploma or degree",
         "100 Specialized middle management occupations in administrative services, financial and business services and communication (except broadcasting)",
         "Women+",
         "20"
        ],
        [
         "13",
         "Newfoundland and Labrador",
         "No certificate, diploma or degree",
         "No postsecondary certificate, diploma or degree",
         "1001 Administrative services managers",
         "Men+",
         "10"
        ],
        [
         "14",
         "Newfoundland and Labrador",
         "No certificate, diploma or degree",
         "No postsecondary certificate, diploma or degree",
         "1001 Administrative services managers",
         "Women+",
         "10"
        ],
        [
         "15",
         "Newfoundland and Labrador",
         "No certificate, diploma or degree",
         "No postsecondary certificate, diploma or degree",
         "1002 Managers in financial and business services",
         "Women+",
         "10"
        ],
        [
         "16",
         "Newfoundland and Labrador",
         "No certificate, diploma or degree",
         "No postsecondary certificate, diploma or degree",
         "11 Professional occupations in finance and business",
         "Men+",
         "15"
        ],
        [
         "17",
         "Newfoundland and Labrador",
         "No certificate, diploma or degree",
         "No postsecondary certificate, diploma or degree",
         "112 Professional occupations in business",
         "Men+",
         "15"
        ],
        [
         "18",
         "Newfoundland and Labrador",
         "No certificate, diploma or degree",
         "No postsecondary certificate, diploma or degree",
         "1120 Human resources and business service professionals",
         "Men+",
         "15"
        ],
        [
         "19",
         "Newfoundland and Labrador",
         "No certificate, diploma or degree",
         "No postsecondary certificate, diploma or degree",
         "11200 Human resources professionals",
         "Men+",
         "10"
        ],
        [
         "20",
         "Newfoundland and Labrador",
         "No certificate, diploma or degree",
         "No postsecondary certificate, diploma or degree",
         "12 Administrative and financial supervisors and specialized administrative occupations",
         "Men+",
         "45"
        ],
        [
         "21",
         "Newfoundland and Labrador",
         "No certificate, diploma or degree",
         "No postsecondary certificate, diploma or degree",
         "12 Administrative and financial supervisors and specialized administrative occupations",
         "Women+",
         "35"
        ],
        [
         "22",
         "Newfoundland and Labrador",
         "No certificate, diploma or degree",
         "No postsecondary certificate, diploma or degree",
         "120 Administrative and financial supervisors",
         "Men+",
         "30"
        ],
        [
         "23",
         "Newfoundland and Labrador",
         "No certificate, diploma or degree",
         "No postsecondary certificate, diploma or degree",
         "1201 Administrative and financial supervisors",
         "Men+",
         "30"
        ],
        [
         "24",
         "Newfoundland and Labrador",
         "No certificate, diploma or degree",
         "No postsecondary certificate, diploma or degree",
         "12010 Supervisors, general office and administrative support workers",
         "Men+",
         "20"
        ],
        [
         "25",
         "Newfoundland and Labrador",
         "No certificate, diploma or degree",
         "No postsecondary certificate, diploma or degree",
         "12013 Supervisors, supply chain, tracking and scheduling coordination occupations",
         "Men+",
         "10"
        ],
        [
         "26",
         "Newfoundland and Labrador",
         "No certificate, diploma or degree",
         "No postsecondary certificate, diploma or degree",
         "121 Specialized administrative occupations",
         "Men+",
         "15"
        ],
        [
         "27",
         "Newfoundland and Labrador",
         "No certificate, diploma or degree",
         "No postsecondary certificate, diploma or degree",
         "121 Specialized administrative occupations",
         "Women+",
         "10"
        ],
        [
         "28",
         "Newfoundland and Labrador",
         "No certificate, diploma or degree",
         "No postsecondary certificate, diploma or degree",
         "1210 Administrative and regulatory occupations",
         "Men+",
         "15"
        ],
        [
         "29",
         "Newfoundland and Labrador",
         "No certificate, diploma or degree",
         "No postsecondary certificate, diploma or degree",
         "1210 Administrative and regulatory occupations",
         "Women+",
         "10"
        ],
        [
         "30",
         "Newfoundland and Labrador",
         "No certificate, diploma or degree",
         "No postsecondary certificate, diploma or degree",
         "12104 Employment insurance and revenue officers",
         "Men+",
         "10"
        ],
        [
         "31",
         "Newfoundland and Labrador",
         "No certificate, diploma or degree",
         "No postsecondary certificate, diploma or degree",
         "122 Accounting, insurance and related business administrative occupations",
         "Women+",
         "20"
        ],
        [
         "32",
         "Newfoundland and Labrador",
         "No certificate, diploma or degree",
         "No postsecondary certificate, diploma or degree",
         "1220 Accounting, insurance and related business administrative occupations",
         "Women+",
         "20"
        ],
        [
         "33",
         "Newfoundland and Labrador",
         "No certificate, diploma or degree",
         "No postsecondary certificate, diploma or degree",
         "12200 Accounting technicians and bookkeepers",
         "Women+",
         "20"
        ],
        [
         "34",
         "Newfoundland and Labrador",
         "No certificate, diploma or degree",
         "No postsecondary certificate, diploma or degree",
         "13 Administrative occupations and transportation logistics occupations",
         "Men+",
         "20"
        ],
        [
         "35",
         "Newfoundland and Labrador",
         "No certificate, diploma or degree",
         "No postsecondary certificate, diploma or degree",
         "13 Administrative occupations and transportation logistics occupations",
         "Women+",
         "110"
        ],
        [
         "36",
         "Newfoundland and Labrador",
         "No certificate, diploma or degree",
         "No postsecondary certificate, diploma or degree",
         "131 Administrative occupations",
         "Men+",
         "20"
        ],
        [
         "37",
         "Newfoundland and Labrador",
         "No certificate, diploma or degree",
         "No postsecondary certificate, diploma or degree",
         "131 Administrative occupations",
         "Women+",
         "105"
        ],
        [
         "38",
         "Newfoundland and Labrador",
         "No certificate, diploma or degree",
         "No postsecondary certificate, diploma or degree",
         "1310 Administrative, property and payroll officers",
         "Men+",
         "20"
        ],
        [
         "39",
         "Newfoundland and Labrador",
         "No certificate, diploma or degree",
         "No postsecondary certificate, diploma or degree",
         "1310 Administrative, property and payroll officers",
         "Women+",
         "70"
        ],
        [
         "40",
         "Newfoundland and Labrador",
         "No certificate, diploma or degree",
         "No postsecondary certificate, diploma or degree",
         "13100 Administrative officers",
         "Men+",
         "10"
        ],
        [
         "41",
         "Newfoundland and Labrador",
         "No certificate, diploma or degree",
         "No postsecondary certificate, diploma or degree",
         "13100 Administrative officers",
         "Women+",
         "25"
        ],
        [
         "42",
         "Newfoundland and Labrador",
         "No certificate, diploma or degree",
         "No postsecondary certificate, diploma or degree",
         "13101 Property administrators",
         "Men+",
         "15"
        ],
        [
         "43",
         "Newfoundland and Labrador",
         "No certificate, diploma or degree",
         "No postsecondary certificate, diploma or degree",
         "13101 Property administrators",
         "Women+",
         "20"
        ],
        [
         "44",
         "Newfoundland and Labrador",
         "No certificate, diploma or degree",
         "No postsecondary certificate, diploma or degree",
         "13102 Payroll administrators",
         "Women+",
         "25"
        ],
        [
         "45",
         "Newfoundland and Labrador",
         "No certificate, diploma or degree",
         "No postsecondary certificate, diploma or degree",
         "1311 Office administrative assistants - general, legal and medical",
         "Women+",
         "40"
        ],
        [
         "46",
         "Newfoundland and Labrador",
         "No certificate, diploma or degree",
         "No postsecondary certificate, diploma or degree",
         "13110 Administrative assistants",
         "Women+",
         "35"
        ],
        [
         "47",
         "Newfoundland and Labrador",
         "No certificate, diploma or degree",
         "No postsecondary certificate, diploma or degree",
         "14 Administrative and financial support and supply chain logistics occupations",
         "Men+",
         "160"
        ],
        [
         "48",
         "Newfoundland and Labrador",
         "No certificate, diploma or degree",
         "No postsecondary certificate, diploma or degree",
         "14 Administrative and financial support and supply chain logistics occupations",
         "Women+",
         "210"
        ],
        [
         "49",
         "Newfoundland and Labrador",
         "No certificate, diploma or degree",
         "No postsecondary certificate, diploma or degree",
         "141 Office, court, and data support occupations",
         "Men+",
         "20"
        ]
       ],
       "shape": {
        "columns": 6,
        "rows": 130832
       }
      },
      "text/html": [
       "<div>\n",
       "<style scoped>\n",
       "    .dataframe tbody tr th:only-of-type {\n",
       "        vertical-align: middle;\n",
       "    }\n",
       "\n",
       "    .dataframe tbody tr th {\n",
       "        vertical-align: top;\n",
       "    }\n",
       "\n",
       "    .dataframe thead th {\n",
       "        text-align: right;\n",
       "    }\n",
       "</style>\n",
       "<table border=\"1\" class=\"dataframe\">\n",
       "  <thead>\n",
       "    <tr style=\"text-align: right;\">\n",
       "      <th></th>\n",
       "      <th>GEO</th>\n",
       "      <th>EDUCATION</th>\n",
       "      <th>MAJOR</th>\n",
       "      <th>OCCUPATON</th>\n",
       "      <th>GENDER</th>\n",
       "      <th>VALUE</th>\n",
       "    </tr>\n",
       "  </thead>\n",
       "  <tbody>\n",
       "    <tr>\n",
       "      <th>0</th>\n",
       "      <td>Newfoundland and Labrador</td>\n",
       "      <td>No certificate, diploma or degree</td>\n",
       "      <td>No postsecondary certificate, diploma or degree</td>\n",
       "      <td>All occupations</td>\n",
       "      <td>Men+</td>\n",
       "      <td>12025</td>\n",
       "    </tr>\n",
       "    <tr>\n",
       "      <th>1</th>\n",
       "      <td>Newfoundland and Labrador</td>\n",
       "      <td>No certificate, diploma or degree</td>\n",
       "      <td>No postsecondary certificate, diploma or degree</td>\n",
       "      <td>All occupations</td>\n",
       "      <td>Women+</td>\n",
       "      <td>7755</td>\n",
       "    </tr>\n",
       "    <tr>\n",
       "      <th>2</th>\n",
       "      <td>Newfoundland and Labrador</td>\n",
       "      <td>No certificate, diploma or degree</td>\n",
       "      <td>No postsecondary certificate, diploma or degree</td>\n",
       "      <td>0 Legislative and senior management occupations</td>\n",
       "      <td>Women+</td>\n",
       "      <td>10</td>\n",
       "    </tr>\n",
       "    <tr>\n",
       "      <th>3</th>\n",
       "      <td>Newfoundland and Labrador</td>\n",
       "      <td>No certificate, diploma or degree</td>\n",
       "      <td>No postsecondary certificate, diploma or degree</td>\n",
       "      <td>00 Legislative and senior managers</td>\n",
       "      <td>Women+</td>\n",
       "      <td>10</td>\n",
       "    </tr>\n",
       "    <tr>\n",
       "      <th>4</th>\n",
       "      <td>Newfoundland and Labrador</td>\n",
       "      <td>No certificate, diploma or degree</td>\n",
       "      <td>No postsecondary certificate, diploma or degree</td>\n",
       "      <td>000 Legislative and senior managers</td>\n",
       "      <td>Women+</td>\n",
       "      <td>10</td>\n",
       "    </tr>\n",
       "    <tr>\n",
       "      <th>...</th>\n",
       "      <td>...</td>\n",
       "      <td>...</td>\n",
       "      <td>...</td>\n",
       "      <td>...</td>\n",
       "      <td>...</td>\n",
       "      <td>...</td>\n",
       "    </tr>\n",
       "    <tr>\n",
       "      <th>130827</th>\n",
       "      <td>Nunavut</td>\n",
       "      <td>Postsecondary certificate, diploma or degree</td>\n",
       "      <td>Personal, protective and transportation services</td>\n",
       "      <td>9 Occupations in manufacturing and utilities</td>\n",
       "      <td>Men+</td>\n",
       "      <td>10</td>\n",
       "    </tr>\n",
       "    <tr>\n",
       "      <th>130828</th>\n",
       "      <td>Nunavut</td>\n",
       "      <td>Postsecondary certificate, diploma or degree</td>\n",
       "      <td>Personal, protective and transportation services</td>\n",
       "      <td>90 Middle management occupations in manufactur...</td>\n",
       "      <td>Men+</td>\n",
       "      <td>10</td>\n",
       "    </tr>\n",
       "    <tr>\n",
       "      <th>130829</th>\n",
       "      <td>Nunavut</td>\n",
       "      <td>Postsecondary certificate, diploma or degree</td>\n",
       "      <td>Personal, protective and transportation services</td>\n",
       "      <td>900 Middle management occupations in manufactu...</td>\n",
       "      <td>Men+</td>\n",
       "      <td>10</td>\n",
       "    </tr>\n",
       "    <tr>\n",
       "      <th>130830</th>\n",
       "      <td>Nunavut</td>\n",
       "      <td>Postsecondary certificate, diploma or degree</td>\n",
       "      <td>Personal, protective and transportation services</td>\n",
       "      <td>9001 Managers in manufacturing and utilities</td>\n",
       "      <td>Men+</td>\n",
       "      <td>10</td>\n",
       "    </tr>\n",
       "    <tr>\n",
       "      <th>130831</th>\n",
       "      <td>Nunavut</td>\n",
       "      <td>Postsecondary certificate, diploma or degree</td>\n",
       "      <td>Personal, protective and transportation services</td>\n",
       "      <td>90011 Utilities managers</td>\n",
       "      <td>Men+</td>\n",
       "      <td>10</td>\n",
       "    </tr>\n",
       "  </tbody>\n",
       "</table>\n",
       "<p>130832 rows × 6 columns</p>\n",
       "</div>"
      ],
      "text/plain": [
       "                              GEO  \\\n",
       "0       Newfoundland and Labrador   \n",
       "1       Newfoundland and Labrador   \n",
       "2       Newfoundland and Labrador   \n",
       "3       Newfoundland and Labrador   \n",
       "4       Newfoundland and Labrador   \n",
       "...                           ...   \n",
       "130827                    Nunavut   \n",
       "130828                    Nunavut   \n",
       "130829                    Nunavut   \n",
       "130830                    Nunavut   \n",
       "130831                    Nunavut   \n",
       "\n",
       "                                           EDUCATION  \\\n",
       "0                  No certificate, diploma or degree   \n",
       "1                  No certificate, diploma or degree   \n",
       "2                  No certificate, diploma or degree   \n",
       "3                  No certificate, diploma or degree   \n",
       "4                  No certificate, diploma or degree   \n",
       "...                                              ...   \n",
       "130827  Postsecondary certificate, diploma or degree   \n",
       "130828  Postsecondary certificate, diploma or degree   \n",
       "130829  Postsecondary certificate, diploma or degree   \n",
       "130830  Postsecondary certificate, diploma or degree   \n",
       "130831  Postsecondary certificate, diploma or degree   \n",
       "\n",
       "                                                   MAJOR  \\\n",
       "0        No postsecondary certificate, diploma or degree   \n",
       "1        No postsecondary certificate, diploma or degree   \n",
       "2        No postsecondary certificate, diploma or degree   \n",
       "3        No postsecondary certificate, diploma or degree   \n",
       "4        No postsecondary certificate, diploma or degree   \n",
       "...                                                  ...   \n",
       "130827  Personal, protective and transportation services   \n",
       "130828  Personal, protective and transportation services   \n",
       "130829  Personal, protective and transportation services   \n",
       "130830  Personal, protective and transportation services   \n",
       "130831  Personal, protective and transportation services   \n",
       "\n",
       "                                                OCCUPATON  GENDER  VALUE  \n",
       "0                                         All occupations    Men+  12025  \n",
       "1                                         All occupations  Women+   7755  \n",
       "2         0 Legislative and senior management occupations  Women+     10  \n",
       "3                      00 Legislative and senior managers  Women+     10  \n",
       "4                     000 Legislative and senior managers  Women+     10  \n",
       "...                                                   ...     ...    ...  \n",
       "130827       9 Occupations in manufacturing and utilities    Men+     10  \n",
       "130828  90 Middle management occupations in manufactur...    Men+     10  \n",
       "130829  900 Middle management occupations in manufactu...    Men+     10  \n",
       "130830       9001 Managers in manufacturing and utilities    Men+     10  \n",
       "130831                           90011 Utilities managers    Men+     10  \n",
       "\n",
       "[130832 rows x 6 columns]"
      ]
     },
     "execution_count": 106,
     "metadata": {},
     "output_type": "execute_result"
    }
   ],
   "source": [
    "redundant_cols = [\n",
    "    \"DGUID\",\n",
    "    \"Age (2)\",\n",
    "    \"UOM\",\n",
    "    \"UOM_ID\",\n",
    "    \"SCALAR_FACTOR\",\n",
    "    \"SCALAR_ID\",\n",
    "    \"STATUS\",\n",
    "    \"SYMBOL\",\n",
    "    \"TERMINATED\",\n",
    "    \"DECIMALS\",\n",
    "    \"VECTOR\",\n",
    "    \"REF_DATE\",\n",
    "    \"COORDINATE\",\n",
    "]\n",
    "master_df = raw_data.drop(columns=redundant_cols)\n",
    "master_df.columns = [\"GEO\",\"EDUCATION\",\"MAJOR\",\"OCCUPATON\",\"GENDER\",\"VALUE\"]\n",
    "master_df"
   ]
  },
  {
   "cell_type": "code",
   "execution_count": null,
   "metadata": {},
   "outputs": [
    {
     "data": {
      "text/plain": [
       "GEO          0\n",
       "EDUCATION    0\n",
       "MAJOR        0\n",
       "OCCUPATON    0\n",
       "GENDER       0\n",
       "VALUE        0\n",
       "dtype: int64"
      ]
     },
     "execution_count": 107,
     "metadata": {},
     "output_type": "execute_result"
    }
   ],
   "source": [
    "master_df.isnull().sum()"
   ]
  },
  {
   "cell_type": "markdown",
   "metadata": {},
   "source": [
    "Fix Gender"
   ]
  },
  {
   "cell_type": "code",
   "execution_count": null,
   "metadata": {},
   "outputs": [
    {
     "data": {
      "application/vnd.microsoft.datawrangler.viewer.v0+json": {
       "columns": [
        {
         "name": "index",
         "rawType": "int64",
         "type": "integer"
        },
        {
         "name": "GEO",
         "rawType": "object",
         "type": "string"
        },
        {
         "name": "EDUCATION",
         "rawType": "object",
         "type": "string"
        },
        {
         "name": "MAJOR",
         "rawType": "object",
         "type": "string"
        },
        {
         "name": "OCCUPATON",
         "rawType": "object",
         "type": "string"
        },
        {
         "name": "GENDER",
         "rawType": "object",
         "type": "string"
        },
        {
         "name": "VALUE",
         "rawType": "int64",
         "type": "integer"
        },
        {
         "name": "NOC",
         "rawType": "object",
         "type": "unknown"
        },
        {
         "name": "Hierarchy",
         "rawType": "int64",
         "type": "integer"
        },
        {
         "name": "Occupation_cleaned",
         "rawType": "object",
         "type": "string"
        }
       ],
       "conversionMethod": "pd.DataFrame",
       "ref": "bad2e6de-3dc6-43ca-9350-f27f55caa93a",
       "rows": [
        [
         "0",
         "Newfoundland and Labrador",
         "No certificate, diploma or degree",
         "No postsecondary certificate, diploma or degree",
         "All occupations",
         "Men",
         "12025",
         null,
         "0",
         "occupations"
        ],
        [
         "1",
         "Newfoundland and Labrador",
         "No certificate, diploma or degree",
         "No postsecondary certificate, diploma or degree",
         "All occupations",
         "Women",
         "7755",
         null,
         "0",
         "occupations"
        ],
        [
         "2",
         "Newfoundland and Labrador",
         "No certificate, diploma or degree",
         "No postsecondary certificate, diploma or degree",
         "0 Legislative and senior management occupations",
         "Women",
         "10",
         "0",
         "1",
         "Legislative and senior management occupations"
        ],
        [
         "3",
         "Newfoundland and Labrador",
         "No certificate, diploma or degree",
         "No postsecondary certificate, diploma or degree",
         "00 Legislative and senior managers",
         "Women",
         "10",
         "00",
         "2",
         "Legislative and senior managers"
        ],
        [
         "4",
         "Newfoundland and Labrador",
         "No certificate, diploma or degree",
         "No postsecondary certificate, diploma or degree",
         "000 Legislative and senior managers",
         "Women",
         "10",
         "000",
         "3",
         "Legislative and senior managers"
        ],
        [
         "5",
         "Newfoundland and Labrador",
         "No certificate, diploma or degree",
         "No postsecondary certificate, diploma or degree",
         "0001 Legislative and senior managers",
         "Women",
         "10",
         "0001",
         "4",
         "Legislative and senior managers"
        ],
        [
         "6",
         "Newfoundland and Labrador",
         "No certificate, diploma or degree",
         "No postsecondary certificate, diploma or degree",
         "00018 Seniors managers - public and private sector",
         "Women",
         "10",
         "00018",
         "5",
         "Seniors managers - public and private sector"
        ],
        [
         "7",
         "Newfoundland and Labrador",
         "No certificate, diploma or degree",
         "No postsecondary certificate, diploma or degree",
         "1 Business, finance and administration occupations",
         "Men",
         "250",
         "1",
         "1",
         "Business, finance and administration occupations"
        ],
        [
         "8",
         "Newfoundland and Labrador",
         "No certificate, diploma or degree",
         "No postsecondary certificate, diploma or degree",
         "1 Business, finance and administration occupations",
         "Women",
         "375",
         "1",
         "1",
         "Business, finance and administration occupations"
        ],
        [
         "9",
         "Newfoundland and Labrador",
         "No certificate, diploma or degree",
         "No postsecondary certificate, diploma or degree",
         "10 Specialized middle management occupations in administrative services, financial and business services and communication (except broadcasting)",
         "Men",
         "15",
         "10",
         "2",
         "Specialized middle management occupations in administrative services, financial and business services and communication (except broadcasting)"
        ],
        [
         "10",
         "Newfoundland and Labrador",
         "No certificate, diploma or degree",
         "No postsecondary certificate, diploma or degree",
         "10 Specialized middle management occupations in administrative services, financial and business services and communication (except broadcasting)",
         "Women",
         "20",
         "10",
         "2",
         "Specialized middle management occupations in administrative services, financial and business services and communication (except broadcasting)"
        ],
        [
         "11",
         "Newfoundland and Labrador",
         "No certificate, diploma or degree",
         "No postsecondary certificate, diploma or degree",
         "100 Specialized middle management occupations in administrative services, financial and business services and communication (except broadcasting)",
         "Men",
         "15",
         "100",
         "3",
         "Specialized middle management occupations in administrative services, financial and business services and communication (except broadcasting)"
        ],
        [
         "12",
         "Newfoundland and Labrador",
         "No certificate, diploma or degree",
         "No postsecondary certificate, diploma or degree",
         "100 Specialized middle management occupations in administrative services, financial and business services and communication (except broadcasting)",
         "Women",
         "20",
         "100",
         "3",
         "Specialized middle management occupations in administrative services, financial and business services and communication (except broadcasting)"
        ],
        [
         "13",
         "Newfoundland and Labrador",
         "No certificate, diploma or degree",
         "No postsecondary certificate, diploma or degree",
         "1001 Administrative services managers",
         "Men",
         "10",
         "1001",
         "4",
         "Administrative services managers"
        ],
        [
         "14",
         "Newfoundland and Labrador",
         "No certificate, diploma or degree",
         "No postsecondary certificate, diploma or degree",
         "1001 Administrative services managers",
         "Women",
         "10",
         "1001",
         "4",
         "Administrative services managers"
        ],
        [
         "15",
         "Newfoundland and Labrador",
         "No certificate, diploma or degree",
         "No postsecondary certificate, diploma or degree",
         "1002 Managers in financial and business services",
         "Women",
         "10",
         "1002",
         "4",
         "Managers in financial and business services"
        ],
        [
         "16",
         "Newfoundland and Labrador",
         "No certificate, diploma or degree",
         "No postsecondary certificate, diploma or degree",
         "11 Professional occupations in finance and business",
         "Men",
         "15",
         "11",
         "2",
         "Professional occupations in finance and business"
        ],
        [
         "17",
         "Newfoundland and Labrador",
         "No certificate, diploma or degree",
         "No postsecondary certificate, diploma or degree",
         "112 Professional occupations in business",
         "Men",
         "15",
         "112",
         "3",
         "Professional occupations in business"
        ],
        [
         "18",
         "Newfoundland and Labrador",
         "No certificate, diploma or degree",
         "No postsecondary certificate, diploma or degree",
         "1120 Human resources and business service professionals",
         "Men",
         "15",
         "1120",
         "4",
         "Human resources and business service professionals"
        ],
        [
         "19",
         "Newfoundland and Labrador",
         "No certificate, diploma or degree",
         "No postsecondary certificate, diploma or degree",
         "11200 Human resources professionals",
         "Men",
         "10",
         "11200",
         "5",
         "Human resources professionals"
        ],
        [
         "20",
         "Newfoundland and Labrador",
         "No certificate, diploma or degree",
         "No postsecondary certificate, diploma or degree",
         "12 Administrative and financial supervisors and specialized administrative occupations",
         "Men",
         "45",
         "12",
         "2",
         "Administrative and financial supervisors and specialized administrative occupations"
        ],
        [
         "21",
         "Newfoundland and Labrador",
         "No certificate, diploma or degree",
         "No postsecondary certificate, diploma or degree",
         "12 Administrative and financial supervisors and specialized administrative occupations",
         "Women",
         "35",
         "12",
         "2",
         "Administrative and financial supervisors and specialized administrative occupations"
        ],
        [
         "22",
         "Newfoundland and Labrador",
         "No certificate, diploma or degree",
         "No postsecondary certificate, diploma or degree",
         "120 Administrative and financial supervisors",
         "Men",
         "30",
         "120",
         "3",
         "Administrative and financial supervisors"
        ],
        [
         "23",
         "Newfoundland and Labrador",
         "No certificate, diploma or degree",
         "No postsecondary certificate, diploma or degree",
         "1201 Administrative and financial supervisors",
         "Men",
         "30",
         "1201",
         "4",
         "Administrative and financial supervisors"
        ],
        [
         "24",
         "Newfoundland and Labrador",
         "No certificate, diploma or degree",
         "No postsecondary certificate, diploma or degree",
         "12010 Supervisors, general office and administrative support workers",
         "Men",
         "20",
         "12010",
         "5",
         "Supervisors, general office and administrative support workers"
        ],
        [
         "25",
         "Newfoundland and Labrador",
         "No certificate, diploma or degree",
         "No postsecondary certificate, diploma or degree",
         "12013 Supervisors, supply chain, tracking and scheduling coordination occupations",
         "Men",
         "10",
         "12013",
         "5",
         "Supervisors, supply chain, tracking and scheduling coordination occupations"
        ],
        [
         "26",
         "Newfoundland and Labrador",
         "No certificate, diploma or degree",
         "No postsecondary certificate, diploma or degree",
         "121 Specialized administrative occupations",
         "Men",
         "15",
         "121",
         "3",
         "Specialized administrative occupations"
        ],
        [
         "27",
         "Newfoundland and Labrador",
         "No certificate, diploma or degree",
         "No postsecondary certificate, diploma or degree",
         "121 Specialized administrative occupations",
         "Women",
         "10",
         "121",
         "3",
         "Specialized administrative occupations"
        ],
        [
         "28",
         "Newfoundland and Labrador",
         "No certificate, diploma or degree",
         "No postsecondary certificate, diploma or degree",
         "1210 Administrative and regulatory occupations",
         "Men",
         "15",
         "1210",
         "4",
         "Administrative and regulatory occupations"
        ],
        [
         "29",
         "Newfoundland and Labrador",
         "No certificate, diploma or degree",
         "No postsecondary certificate, diploma or degree",
         "1210 Administrative and regulatory occupations",
         "Women",
         "10",
         "1210",
         "4",
         "Administrative and regulatory occupations"
        ],
        [
         "30",
         "Newfoundland and Labrador",
         "No certificate, diploma or degree",
         "No postsecondary certificate, diploma or degree",
         "12104 Employment insurance and revenue officers",
         "Men",
         "10",
         "12104",
         "5",
         "Employment insurance and revenue officers"
        ],
        [
         "31",
         "Newfoundland and Labrador",
         "No certificate, diploma or degree",
         "No postsecondary certificate, diploma or degree",
         "122 Accounting, insurance and related business administrative occupations",
         "Women",
         "20",
         "122",
         "3",
         "Accounting, insurance and related business administrative occupations"
        ],
        [
         "32",
         "Newfoundland and Labrador",
         "No certificate, diploma or degree",
         "No postsecondary certificate, diploma or degree",
         "1220 Accounting, insurance and related business administrative occupations",
         "Women",
         "20",
         "1220",
         "4",
         "Accounting, insurance and related business administrative occupations"
        ],
        [
         "33",
         "Newfoundland and Labrador",
         "No certificate, diploma or degree",
         "No postsecondary certificate, diploma or degree",
         "12200 Accounting technicians and bookkeepers",
         "Women",
         "20",
         "12200",
         "5",
         "Accounting technicians and bookkeepers"
        ],
        [
         "34",
         "Newfoundland and Labrador",
         "No certificate, diploma or degree",
         "No postsecondary certificate, diploma or degree",
         "13 Administrative occupations and transportation logistics occupations",
         "Men",
         "20",
         "13",
         "2",
         "Administrative occupations and transportation logistics occupations"
        ],
        [
         "35",
         "Newfoundland and Labrador",
         "No certificate, diploma or degree",
         "No postsecondary certificate, diploma or degree",
         "13 Administrative occupations and transportation logistics occupations",
         "Women",
         "110",
         "13",
         "2",
         "Administrative occupations and transportation logistics occupations"
        ],
        [
         "36",
         "Newfoundland and Labrador",
         "No certificate, diploma or degree",
         "No postsecondary certificate, diploma or degree",
         "131 Administrative occupations",
         "Men",
         "20",
         "131",
         "3",
         "Administrative occupations"
        ],
        [
         "37",
         "Newfoundland and Labrador",
         "No certificate, diploma or degree",
         "No postsecondary certificate, diploma or degree",
         "131 Administrative occupations",
         "Women",
         "105",
         "131",
         "3",
         "Administrative occupations"
        ],
        [
         "38",
         "Newfoundland and Labrador",
         "No certificate, diploma or degree",
         "No postsecondary certificate, diploma or degree",
         "1310 Administrative, property and payroll officers",
         "Men",
         "20",
         "1310",
         "4",
         "Administrative, property and payroll officers"
        ],
        [
         "39",
         "Newfoundland and Labrador",
         "No certificate, diploma or degree",
         "No postsecondary certificate, diploma or degree",
         "1310 Administrative, property and payroll officers",
         "Women",
         "70",
         "1310",
         "4",
         "Administrative, property and payroll officers"
        ],
        [
         "40",
         "Newfoundland and Labrador",
         "No certificate, diploma or degree",
         "No postsecondary certificate, diploma or degree",
         "13100 Administrative officers",
         "Men",
         "10",
         "13100",
         "5",
         "Administrative officers"
        ],
        [
         "41",
         "Newfoundland and Labrador",
         "No certificate, diploma or degree",
         "No postsecondary certificate, diploma or degree",
         "13100 Administrative officers",
         "Women",
         "25",
         "13100",
         "5",
         "Administrative officers"
        ],
        [
         "42",
         "Newfoundland and Labrador",
         "No certificate, diploma or degree",
         "No postsecondary certificate, diploma or degree",
         "13101 Property administrators",
         "Men",
         "15",
         "13101",
         "5",
         "Property administrators"
        ],
        [
         "43",
         "Newfoundland and Labrador",
         "No certificate, diploma or degree",
         "No postsecondary certificate, diploma or degree",
         "13101 Property administrators",
         "Women",
         "20",
         "13101",
         "5",
         "Property administrators"
        ],
        [
         "44",
         "Newfoundland and Labrador",
         "No certificate, diploma or degree",
         "No postsecondary certificate, diploma or degree",
         "13102 Payroll administrators",
         "Women",
         "25",
         "13102",
         "5",
         "Payroll administrators"
        ],
        [
         "45",
         "Newfoundland and Labrador",
         "No certificate, diploma or degree",
         "No postsecondary certificate, diploma or degree",
         "1311 Office administrative assistants - general, legal and medical",
         "Women",
         "40",
         "1311",
         "4",
         "Office administrative assistants - general, legal and medical"
        ],
        [
         "46",
         "Newfoundland and Labrador",
         "No certificate, diploma or degree",
         "No postsecondary certificate, diploma or degree",
         "13110 Administrative assistants",
         "Women",
         "35",
         "13110",
         "5",
         "Administrative assistants"
        ],
        [
         "47",
         "Newfoundland and Labrador",
         "No certificate, diploma or degree",
         "No postsecondary certificate, diploma or degree",
         "14 Administrative and financial support and supply chain logistics occupations",
         "Men",
         "160",
         "14",
         "2",
         "Administrative and financial support and supply chain logistics occupations"
        ],
        [
         "48",
         "Newfoundland and Labrador",
         "No certificate, diploma or degree",
         "No postsecondary certificate, diploma or degree",
         "14 Administrative and financial support and supply chain logistics occupations",
         "Women",
         "210",
         "14",
         "2",
         "Administrative and financial support and supply chain logistics occupations"
        ],
        [
         "49",
         "Newfoundland and Labrador",
         "No certificate, diploma or degree",
         "No postsecondary certificate, diploma or degree",
         "141 Office, court, and data support occupations",
         "Men",
         "20",
         "141",
         "3",
         "Office, court, and data support occupations"
        ]
       ],
       "shape": {
        "columns": 9,
        "rows": 130832
       }
      },
      "text/html": [
       "<div>\n",
       "<style scoped>\n",
       "    .dataframe tbody tr th:only-of-type {\n",
       "        vertical-align: middle;\n",
       "    }\n",
       "\n",
       "    .dataframe tbody tr th {\n",
       "        vertical-align: top;\n",
       "    }\n",
       "\n",
       "    .dataframe thead th {\n",
       "        text-align: right;\n",
       "    }\n",
       "</style>\n",
       "<table border=\"1\" class=\"dataframe\">\n",
       "  <thead>\n",
       "    <tr style=\"text-align: right;\">\n",
       "      <th></th>\n",
       "      <th>GEO</th>\n",
       "      <th>EDUCATION</th>\n",
       "      <th>MAJOR</th>\n",
       "      <th>OCCUPATON</th>\n",
       "      <th>GENDER</th>\n",
       "      <th>VALUE</th>\n",
       "      <th>NOC</th>\n",
       "      <th>Hierarchy</th>\n",
       "      <th>Occupation_cleaned</th>\n",
       "    </tr>\n",
       "  </thead>\n",
       "  <tbody>\n",
       "    <tr>\n",
       "      <th>0</th>\n",
       "      <td>Newfoundland and Labrador</td>\n",
       "      <td>No certificate, diploma or degree</td>\n",
       "      <td>No postsecondary certificate, diploma or degree</td>\n",
       "      <td>All occupations</td>\n",
       "      <td>Men</td>\n",
       "      <td>12025</td>\n",
       "      <td>NaN</td>\n",
       "      <td>0</td>\n",
       "      <td>occupations</td>\n",
       "    </tr>\n",
       "    <tr>\n",
       "      <th>1</th>\n",
       "      <td>Newfoundland and Labrador</td>\n",
       "      <td>No certificate, diploma or degree</td>\n",
       "      <td>No postsecondary certificate, diploma or degree</td>\n",
       "      <td>All occupations</td>\n",
       "      <td>Women</td>\n",
       "      <td>7755</td>\n",
       "      <td>NaN</td>\n",
       "      <td>0</td>\n",
       "      <td>occupations</td>\n",
       "    </tr>\n",
       "    <tr>\n",
       "      <th>2</th>\n",
       "      <td>Newfoundland and Labrador</td>\n",
       "      <td>No certificate, diploma or degree</td>\n",
       "      <td>No postsecondary certificate, diploma or degree</td>\n",
       "      <td>0 Legislative and senior management occupations</td>\n",
       "      <td>Women</td>\n",
       "      <td>10</td>\n",
       "      <td>0</td>\n",
       "      <td>1</td>\n",
       "      <td>Legislative and senior management occupations</td>\n",
       "    </tr>\n",
       "    <tr>\n",
       "      <th>3</th>\n",
       "      <td>Newfoundland and Labrador</td>\n",
       "      <td>No certificate, diploma or degree</td>\n",
       "      <td>No postsecondary certificate, diploma or degree</td>\n",
       "      <td>00 Legislative and senior managers</td>\n",
       "      <td>Women</td>\n",
       "      <td>10</td>\n",
       "      <td>00</td>\n",
       "      <td>2</td>\n",
       "      <td>Legislative and senior managers</td>\n",
       "    </tr>\n",
       "    <tr>\n",
       "      <th>4</th>\n",
       "      <td>Newfoundland and Labrador</td>\n",
       "      <td>No certificate, diploma or degree</td>\n",
       "      <td>No postsecondary certificate, diploma or degree</td>\n",
       "      <td>000 Legislative and senior managers</td>\n",
       "      <td>Women</td>\n",
       "      <td>10</td>\n",
       "      <td>000</td>\n",
       "      <td>3</td>\n",
       "      <td>Legislative and senior managers</td>\n",
       "    </tr>\n",
       "    <tr>\n",
       "      <th>...</th>\n",
       "      <td>...</td>\n",
       "      <td>...</td>\n",
       "      <td>...</td>\n",
       "      <td>...</td>\n",
       "      <td>...</td>\n",
       "      <td>...</td>\n",
       "      <td>...</td>\n",
       "      <td>...</td>\n",
       "      <td>...</td>\n",
       "    </tr>\n",
       "    <tr>\n",
       "      <th>130827</th>\n",
       "      <td>Nunavut</td>\n",
       "      <td>Postsecondary certificate, diploma or degree</td>\n",
       "      <td>Personal, protective and transportation services</td>\n",
       "      <td>9 Occupations in manufacturing and utilities</td>\n",
       "      <td>Men</td>\n",
       "      <td>10</td>\n",
       "      <td>9</td>\n",
       "      <td>1</td>\n",
       "      <td>Occupations in manufacturing and utilities</td>\n",
       "    </tr>\n",
       "    <tr>\n",
       "      <th>130828</th>\n",
       "      <td>Nunavut</td>\n",
       "      <td>Postsecondary certificate, diploma or degree</td>\n",
       "      <td>Personal, protective and transportation services</td>\n",
       "      <td>90 Middle management occupations in manufactur...</td>\n",
       "      <td>Men</td>\n",
       "      <td>10</td>\n",
       "      <td>90</td>\n",
       "      <td>2</td>\n",
       "      <td>Middle management occupations in manufacturing...</td>\n",
       "    </tr>\n",
       "    <tr>\n",
       "      <th>130829</th>\n",
       "      <td>Nunavut</td>\n",
       "      <td>Postsecondary certificate, diploma or degree</td>\n",
       "      <td>Personal, protective and transportation services</td>\n",
       "      <td>900 Middle management occupations in manufactu...</td>\n",
       "      <td>Men</td>\n",
       "      <td>10</td>\n",
       "      <td>900</td>\n",
       "      <td>3</td>\n",
       "      <td>Middle management occupations in manufacturing...</td>\n",
       "    </tr>\n",
       "    <tr>\n",
       "      <th>130830</th>\n",
       "      <td>Nunavut</td>\n",
       "      <td>Postsecondary certificate, diploma or degree</td>\n",
       "      <td>Personal, protective and transportation services</td>\n",
       "      <td>9001 Managers in manufacturing and utilities</td>\n",
       "      <td>Men</td>\n",
       "      <td>10</td>\n",
       "      <td>9001</td>\n",
       "      <td>4</td>\n",
       "      <td>Managers in manufacturing and utilities</td>\n",
       "    </tr>\n",
       "    <tr>\n",
       "      <th>130831</th>\n",
       "      <td>Nunavut</td>\n",
       "      <td>Postsecondary certificate, diploma or degree</td>\n",
       "      <td>Personal, protective and transportation services</td>\n",
       "      <td>90011 Utilities managers</td>\n",
       "      <td>Men</td>\n",
       "      <td>10</td>\n",
       "      <td>90011</td>\n",
       "      <td>5</td>\n",
       "      <td>Utilities managers</td>\n",
       "    </tr>\n",
       "  </tbody>\n",
       "</table>\n",
       "<p>130832 rows × 9 columns</p>\n",
       "</div>"
      ],
      "text/plain": [
       "                              GEO  \\\n",
       "0       Newfoundland and Labrador   \n",
       "1       Newfoundland and Labrador   \n",
       "2       Newfoundland and Labrador   \n",
       "3       Newfoundland and Labrador   \n",
       "4       Newfoundland and Labrador   \n",
       "...                           ...   \n",
       "130827                    Nunavut   \n",
       "130828                    Nunavut   \n",
       "130829                    Nunavut   \n",
       "130830                    Nunavut   \n",
       "130831                    Nunavut   \n",
       "\n",
       "                                           EDUCATION  \\\n",
       "0                  No certificate, diploma or degree   \n",
       "1                  No certificate, diploma or degree   \n",
       "2                  No certificate, diploma or degree   \n",
       "3                  No certificate, diploma or degree   \n",
       "4                  No certificate, diploma or degree   \n",
       "...                                              ...   \n",
       "130827  Postsecondary certificate, diploma or degree   \n",
       "130828  Postsecondary certificate, diploma or degree   \n",
       "130829  Postsecondary certificate, diploma or degree   \n",
       "130830  Postsecondary certificate, diploma or degree   \n",
       "130831  Postsecondary certificate, diploma or degree   \n",
       "\n",
       "                                                   MAJOR  \\\n",
       "0        No postsecondary certificate, diploma or degree   \n",
       "1        No postsecondary certificate, diploma or degree   \n",
       "2        No postsecondary certificate, diploma or degree   \n",
       "3        No postsecondary certificate, diploma or degree   \n",
       "4        No postsecondary certificate, diploma or degree   \n",
       "...                                                  ...   \n",
       "130827  Personal, protective and transportation services   \n",
       "130828  Personal, protective and transportation services   \n",
       "130829  Personal, protective and transportation services   \n",
       "130830  Personal, protective and transportation services   \n",
       "130831  Personal, protective and transportation services   \n",
       "\n",
       "                                                OCCUPATON GENDER  VALUE  \\\n",
       "0                                         All occupations    Men  12025   \n",
       "1                                         All occupations  Women   7755   \n",
       "2         0 Legislative and senior management occupations  Women     10   \n",
       "3                      00 Legislative and senior managers  Women     10   \n",
       "4                     000 Legislative and senior managers  Women     10   \n",
       "...                                                   ...    ...    ...   \n",
       "130827       9 Occupations in manufacturing and utilities    Men     10   \n",
       "130828  90 Middle management occupations in manufactur...    Men     10   \n",
       "130829  900 Middle management occupations in manufactu...    Men     10   \n",
       "130830       9001 Managers in manufacturing and utilities    Men     10   \n",
       "130831                           90011 Utilities managers    Men     10   \n",
       "\n",
       "          NOC  Hierarchy                                 Occupation_cleaned  \n",
       "0         NaN          0                                        occupations  \n",
       "1         NaN          0                                        occupations  \n",
       "2           0          1      Legislative and senior management occupations  \n",
       "3          00          2                    Legislative and senior managers  \n",
       "4         000          3                    Legislative and senior managers  \n",
       "...       ...        ...                                                ...  \n",
       "130827      9          1         Occupations in manufacturing and utilities  \n",
       "130828     90          2  Middle management occupations in manufacturing...  \n",
       "130829    900          3  Middle management occupations in manufacturing...  \n",
       "130830   9001          4            Managers in manufacturing and utilities  \n",
       "130831  90011          5                                 Utilities managers  \n",
       "\n",
       "[130832 rows x 9 columns]"
      ]
     },
     "execution_count": 108,
     "metadata": {},
     "output_type": "execute_result"
    }
   ],
   "source": [
    "def clean_gender_values(value):\n",
    "    return value[:-1]\n",
    "\n",
    "\n",
    "def get_noc_codes(value):\n",
    "    noc = value.split(\" \")[0]\n",
    "    if not noc.isdigit():\n",
    "        return np.nan\n",
    "    return noc\n",
    "\n",
    "def get_hierarchy_number(value):\n",
    "    if type(value) is float:\n",
    "        return 0\n",
    "    return len(value)\n",
    "\n",
    "def clean_occupations(value):\n",
    "    value = value.split(\" \")\n",
    "    value.pop(0)\n",
    "    return \" \".join(value)\n",
    "\n",
    "\n",
    "master_df[\"GENDER\"] = master_df.GENDER.apply(clean_gender_values) # remove plus sign form gender values\n",
    "master_df[\"NOC\"] = master_df.OCCUPATON.apply(get_noc_codes) # Split NOC codes based on categories.\n",
    "master_df[\"Hierarchy\"] = master_df.NOC.apply(get_hierarchy_number)\n",
    "master_df[\"Occupation_cleaned\"] = master_df.OCCUPATON.apply(clean_occupations)\n",
    "\n",
    "master_df"
   ]
  },
  {
   "cell_type": "code",
   "execution_count": null,
   "metadata": {},
   "outputs": [
    {
     "name": "stdout",
     "output_type": "stream",
     "text": [
      "<class 'pandas.core.frame.DataFrame'>\n",
      "RangeIndex: 130832 entries, 0 to 130831\n",
      "Data columns (total 9 columns):\n",
      " #   Column              Non-Null Count   Dtype \n",
      "---  ------              --------------   ----- \n",
      " 0   GEO                 130832 non-null  object\n",
      " 1   EDUCATION           130832 non-null  object\n",
      " 2   MAJOR               130832 non-null  object\n",
      " 3   OCCUPATON           130832 non-null  object\n",
      " 4   GENDER              130832 non-null  object\n",
      " 5   VALUE               130832 non-null  int64 \n",
      " 6   NOC                 130477 non-null  object\n",
      " 7   Hierarchy           130832 non-null  int64 \n",
      " 8   Occupation_cleaned  130832 non-null  object\n",
      "dtypes: int64(2), object(7)\n",
      "memory usage: 9.0+ MB\n"
     ]
    }
   ],
   "source": [
    "master_df.info()"
   ]
  },
  {
   "cell_type": "code",
   "execution_count": null,
   "metadata": {},
   "outputs": [
    {
     "data": {
      "text/plain": [
       "array(['Newfoundland and Labrador', 'Prince Edward Island', 'Nova Scotia',\n",
       "       'New Brunswick', 'Quebec', 'Ontario', 'Manitoba', 'Saskatchewan',\n",
       "       'Alberta', 'British Columbia', 'Yukon', 'Northwest Territories',\n",
       "       'Nunavut'], dtype=object)"
      ]
     },
     "execution_count": 110,
     "metadata": {},
     "output_type": "execute_result"
    }
   ],
   "source": [
    "master_df.GEO.unique()"
   ]
  },
  {
   "cell_type": "code",
   "execution_count": null,
   "metadata": {},
   "outputs": [
    {
     "data": {
      "application/vnd.microsoft.datawrangler.viewer.v0+json": {
       "columns": [
        {
         "name": "GEO",
         "rawType": "object",
         "type": "string"
        },
        {
         "name": "Men",
         "rawType": "float64",
         "type": "float"
        },
        {
         "name": "Women",
         "rawType": "float64",
         "type": "float"
        }
       ],
       "conversionMethod": "pd.DataFrame",
       "ref": "342ebe63-5c1c-4134-8620-ecf3f643eb6f",
       "rows": [
        [
         "Alberta",
         "1020365.0",
         "933935.0"
        ],
        [
         "British Columbia",
         "1157210.0",
         "1109930.0"
        ],
        [
         "Manitoba",
         "292585.0",
         "270620.0"
        ],
        [
         "New Brunswick",
         "168630.0",
         "163515.0"
        ],
        [
         "Newfoundland and Labrador",
         "106830.0",
         "106810.0"
        ],
        [
         "Northwest Territories",
         "9835.0",
         "9595.0"
        ],
        [
         "Nova Scotia",
         "208285.0",
         "208130.0"
        ],
        [
         "Nunavut",
         "6020.0",
         "5890.0"
        ],
        [
         "Ontario",
         "3212250.0",
         "3071520.0"
        ],
        [
         "Prince Edward Island",
         "33615.0",
         "33950.0"
        ],
        [
         "Quebec",
         "1944775.0",
         "1835270.0"
        ],
        [
         "Saskatchewan",
         "245555.0",
         "231090.0"
        ],
        [
         "Yukon",
         "9670.0",
         "10460.0"
        ]
       ],
       "shape": {
        "columns": 2,
        "rows": 13
       }
      },
      "text/html": [
       "<div>\n",
       "<style scoped>\n",
       "    .dataframe tbody tr th:only-of-type {\n",
       "        vertical-align: middle;\n",
       "    }\n",
       "\n",
       "    .dataframe tbody tr th {\n",
       "        vertical-align: top;\n",
       "    }\n",
       "\n",
       "    .dataframe thead th {\n",
       "        text-align: right;\n",
       "    }\n",
       "</style>\n",
       "<table border=\"1\" class=\"dataframe\">\n",
       "  <thead>\n",
       "    <tr style=\"text-align: right;\">\n",
       "      <th>GENDER</th>\n",
       "      <th>Men</th>\n",
       "      <th>Women</th>\n",
       "    </tr>\n",
       "    <tr>\n",
       "      <th>GEO</th>\n",
       "      <th></th>\n",
       "      <th></th>\n",
       "    </tr>\n",
       "  </thead>\n",
       "  <tbody>\n",
       "    <tr>\n",
       "      <th>Alberta</th>\n",
       "      <td>1020365.0</td>\n",
       "      <td>933935.0</td>\n",
       "    </tr>\n",
       "    <tr>\n",
       "      <th>British Columbia</th>\n",
       "      <td>1157210.0</td>\n",
       "      <td>1109930.0</td>\n",
       "    </tr>\n",
       "    <tr>\n",
       "      <th>Manitoba</th>\n",
       "      <td>292585.0</td>\n",
       "      <td>270620.0</td>\n",
       "    </tr>\n",
       "    <tr>\n",
       "      <th>New Brunswick</th>\n",
       "      <td>168630.0</td>\n",
       "      <td>163515.0</td>\n",
       "    </tr>\n",
       "    <tr>\n",
       "      <th>Newfoundland and Labrador</th>\n",
       "      <td>106830.0</td>\n",
       "      <td>106810.0</td>\n",
       "    </tr>\n",
       "    <tr>\n",
       "      <th>Northwest Territories</th>\n",
       "      <td>9835.0</td>\n",
       "      <td>9595.0</td>\n",
       "    </tr>\n",
       "    <tr>\n",
       "      <th>Nova Scotia</th>\n",
       "      <td>208285.0</td>\n",
       "      <td>208130.0</td>\n",
       "    </tr>\n",
       "    <tr>\n",
       "      <th>Nunavut</th>\n",
       "      <td>6020.0</td>\n",
       "      <td>5890.0</td>\n",
       "    </tr>\n",
       "    <tr>\n",
       "      <th>Ontario</th>\n",
       "      <td>3212250.0</td>\n",
       "      <td>3071520.0</td>\n",
       "    </tr>\n",
       "    <tr>\n",
       "      <th>Prince Edward Island</th>\n",
       "      <td>33615.0</td>\n",
       "      <td>33950.0</td>\n",
       "    </tr>\n",
       "    <tr>\n",
       "      <th>Quebec</th>\n",
       "      <td>1944775.0</td>\n",
       "      <td>1835270.0</td>\n",
       "    </tr>\n",
       "    <tr>\n",
       "      <th>Saskatchewan</th>\n",
       "      <td>245555.0</td>\n",
       "      <td>231090.0</td>\n",
       "    </tr>\n",
       "    <tr>\n",
       "      <th>Yukon</th>\n",
       "      <td>9670.0</td>\n",
       "      <td>10460.0</td>\n",
       "    </tr>\n",
       "  </tbody>\n",
       "</table>\n",
       "</div>"
      ],
      "text/plain": [
       "GENDER                           Men      Women\n",
       "GEO                                            \n",
       "Alberta                    1020365.0   933935.0\n",
       "British Columbia           1157210.0  1109930.0\n",
       "Manitoba                    292585.0   270620.0\n",
       "New Brunswick               168630.0   163515.0\n",
       "Newfoundland and Labrador   106830.0   106810.0\n",
       "Northwest Territories         9835.0     9595.0\n",
       "Nova Scotia                 208285.0   208130.0\n",
       "Nunavut                       6020.0     5890.0\n",
       "Ontario                    3212250.0  3071520.0\n",
       "Prince Edward Island         33615.0    33950.0\n",
       "Quebec                     1944775.0  1835270.0\n",
       "Saskatchewan                245555.0   231090.0\n",
       "Yukon                         9670.0    10460.0"
      ]
     },
     "execution_count": 133,
     "metadata": {},
     "output_type": "execute_result"
    }
   ],
   "source": [
    "temp_df = master_df[master_df.Hierarchy == 1].groupby([\"GEO\", \"GENDER\"],as_index=False).VALUE.sum()\n",
    "temp_df =  temp_df.pivot_table(index=\"GEO\",columns=\"GENDER\",values=\"VALUE\")\n",
    "\n",
    "\n",
    "temp_df"
   ]
  },
  {
   "cell_type": "code",
   "execution_count": null,
   "metadata": {},
   "outputs": [
    {
     "name": "stdout",
     "output_type": "stream",
     "text": [
      "8,415,625\n",
      "7,990,715\n"
     ]
    }
   ],
   "source": [
    "print(f'{temp_df[\"Men\"].sum():,.0f}')\n",
    "print(f'{temp_df[\"Women\"].sum():,.0f}')"
   ]
  },
  {
   "cell_type": "code",
   "execution_count": null,
   "metadata": {},
   "outputs": [
    {
     "data": {
      "application/vnd.microsoft.datawrangler.viewer.v0+json": {
       "columns": [
        {
         "name": "index",
         "rawType": "int64",
         "type": "integer"
        },
        {
         "name": "OCCUPATON",
         "rawType": "object",
         "type": "string"
        },
        {
         "name": "VALUE",
         "rawType": "int64",
         "type": "integer"
        }
       ],
       "conversionMethod": "pd.DataFrame",
       "ref": "eaba1cd7-63bd-4cc6-a242-c8240679d4f7",
       "rows": [
        [
         "0",
         "0 Legislative and senior management occupations",
         "233785"
        ],
        [
         "1",
         "1 Business, finance and administration occupations",
         "3025615"
        ],
        [
         "2",
         "2 Natural and applied sciences and related occupations",
         "1484980"
        ],
        [
         "3",
         "3 Health occupations",
         "1395250"
        ],
        [
         "4",
         "4 Occupations in education, law and social, community and government services",
         "2179420"
        ],
        [
         "5",
         "5 Occupations in art, culture, recreation and sport",
         "521955"
        ],
        [
         "6",
         "6 Sales and service occupations",
         "3482800"
        ],
        [
         "7",
         "7 Trades, transport and equipment operators and related occupations",
         "2898420"
        ],
        [
         "8",
         "8 Natural resources, agriculture and related production occupations",
         "407185"
        ],
        [
         "9",
         "9 Occupations in manufacturing and utilities",
         "776930"
        ]
       ],
       "shape": {
        "columns": 2,
        "rows": 10
       }
      },
      "text/html": [
       "<div>\n",
       "<style scoped>\n",
       "    .dataframe tbody tr th:only-of-type {\n",
       "        vertical-align: middle;\n",
       "    }\n",
       "\n",
       "    .dataframe tbody tr th {\n",
       "        vertical-align: top;\n",
       "    }\n",
       "\n",
       "    .dataframe thead th {\n",
       "        text-align: right;\n",
       "    }\n",
       "</style>\n",
       "<table border=\"1\" class=\"dataframe\">\n",
       "  <thead>\n",
       "    <tr style=\"text-align: right;\">\n",
       "      <th></th>\n",
       "      <th>OCCUPATON</th>\n",
       "      <th>VALUE</th>\n",
       "    </tr>\n",
       "  </thead>\n",
       "  <tbody>\n",
       "    <tr>\n",
       "      <th>0</th>\n",
       "      <td>0 Legislative and senior management occupations</td>\n",
       "      <td>233785</td>\n",
       "    </tr>\n",
       "    <tr>\n",
       "      <th>1</th>\n",
       "      <td>1 Business, finance and administration occupat...</td>\n",
       "      <td>3025615</td>\n",
       "    </tr>\n",
       "    <tr>\n",
       "      <th>2</th>\n",
       "      <td>2 Natural and applied sciences and related occ...</td>\n",
       "      <td>1484980</td>\n",
       "    </tr>\n",
       "    <tr>\n",
       "      <th>3</th>\n",
       "      <td>3 Health occupations</td>\n",
       "      <td>1395250</td>\n",
       "    </tr>\n",
       "    <tr>\n",
       "      <th>4</th>\n",
       "      <td>4 Occupations in education, law and social, co...</td>\n",
       "      <td>2179420</td>\n",
       "    </tr>\n",
       "    <tr>\n",
       "      <th>5</th>\n",
       "      <td>5 Occupations in art, culture, recreation and ...</td>\n",
       "      <td>521955</td>\n",
       "    </tr>\n",
       "    <tr>\n",
       "      <th>6</th>\n",
       "      <td>6 Sales and service occupations</td>\n",
       "      <td>3482800</td>\n",
       "    </tr>\n",
       "    <tr>\n",
       "      <th>7</th>\n",
       "      <td>7 Trades, transport and equipment operators an...</td>\n",
       "      <td>2898420</td>\n",
       "    </tr>\n",
       "    <tr>\n",
       "      <th>8</th>\n",
       "      <td>8 Natural resources, agriculture and related p...</td>\n",
       "      <td>407185</td>\n",
       "    </tr>\n",
       "    <tr>\n",
       "      <th>9</th>\n",
       "      <td>9 Occupations in manufacturing and utilities</td>\n",
       "      <td>776930</td>\n",
       "    </tr>\n",
       "  </tbody>\n",
       "</table>\n",
       "</div>"
      ],
      "text/plain": [
       "                                           OCCUPATON    VALUE\n",
       "0    0 Legislative and senior management occupations   233785\n",
       "1  1 Business, finance and administration occupat...  3025615\n",
       "2  2 Natural and applied sciences and related occ...  1484980\n",
       "3                               3 Health occupations  1395250\n",
       "4  4 Occupations in education, law and social, co...  2179420\n",
       "5  5 Occupations in art, culture, recreation and ...   521955\n",
       "6                    6 Sales and service occupations  3482800\n",
       "7  7 Trades, transport and equipment operators an...  2898420\n",
       "8  8 Natural resources, agriculture and related p...   407185\n",
       "9       9 Occupations in manufacturing and utilities   776930"
      ]
     },
     "execution_count": 173,
     "metadata": {},
     "output_type": "execute_result"
    }
   ],
   "source": [
    "temp_df_2 = master_df[master_df.Hierarchy == 1].groupby(\"OCCUPATON\",as_index=False).VALUE.sum()\n",
    "temp_df_2"
   ]
  },
  {
   "cell_type": "code",
   "execution_count": null,
   "metadata": {},
   "outputs": [
    {
     "data": {
      "text/plain": [
       "np.int64(16406340)"
      ]
     },
     "execution_count": 174,
     "metadata": {},
     "output_type": "execute_result"
    }
   ],
   "source": [
    "temp_df_3 = master_df[master_df.Hierarchy ==1].VALUE.sum()\n",
    "temp_df_3"
   ]
  },
  {
   "cell_type": "code",
   "execution_count": null,
   "metadata": {},
   "outputs": [
    {
     "data": {
      "text/plain": [
       "np.int64(16406385)"
      ]
     },
     "execution_count": 175,
     "metadata": {},
     "output_type": "execute_result"
    }
   ],
   "source": [
    "temp_df_4 = master_df[master_df.OCCUPATON == \"All occupations\"].VALUE.sum()\n",
    "temp_df_4"
   ]
  },
  {
   "cell_type": "code",
   "execution_count": null,
   "metadata": {},
   "outputs": [
    {
     "data": {
      "application/vnd.microsoft.datawrangler.viewer.v0+json": {
       "columns": [
        {
         "name": "OCCUPATON",
         "rawType": "object",
         "type": "string"
        },
        {
         "name": "Men",
         "rawType": "float64",
         "type": "float"
        },
        {
         "name": "Women",
         "rawType": "float64",
         "type": "float"
        }
       ],
       "conversionMethod": "pd.DataFrame",
       "ref": "18262fe1-2eac-4c72-a6cf-c3a8b09de910",
       "rows": [
        [
         "0 Legislative and senior management occupations",
         "159935.0",
         "73850.0"
        ],
        [
         "00 Legislative and senior managers",
         "159935.0",
         "73850.0"
        ],
        [
         "000 Legislative and senior managers",
         "159935.0",
         "73850.0"
        ],
        [
         "0001 Legislative and senior managers",
         "159935.0",
         "73850.0"
        ],
        [
         "00010 Legislators",
         "3495.0",
         "3135.0"
        ],
        [
         "00018 Seniors managers - public and private sector",
         "156450.0",
         "70705.0"
        ],
        [
         "1 Business, finance and administration occupations",
         "938130.0",
         "2087485.0"
        ],
        [
         "10 Specialized middle management occupations in administrative services, financial and business services and communication (except broadcasting)",
         "190095.0",
         "232920.0"
        ],
        [
         "100 Specialized middle management occupations in administrative services, financial and business services and communication (except broadcasting)",
         "190095.0",
         "232920.0"
        ],
        [
         "1001 Administrative services managers",
         "82905.0",
         "111235.0"
        ],
        [
         "10010 Financial managers",
         "29980.0",
         "42630.0"
        ],
        [
         "10011 Human resources managers",
         "15630.0",
         "34235.0"
        ],
        [
         "10012 Purchasing managers",
         "15965.0",
         "10055.0"
        ],
        [
         "10019 Other administrative services managers",
         "21050.0",
         "23995.0"
        ],
        [
         "1002 Managers in financial and business services",
         "99880.0",
         "118475.0"
        ],
        [
         "10020 Insurance, real estate and financial brokerage managers",
         "17685.0",
         "15870.0"
        ],
        [
         "10021 Banking, credit and other investment managers",
         "34915.0",
         "38830.0"
        ],
        [
         "10022 Advertising, marketing and public relations managers",
         "35885.0",
         "53395.0"
        ],
        [
         "10029 Other business services managers",
         "11135.0",
         "10110.0"
        ],
        [
         "1003 Managers in communication (except broadcasting)",
         "7175.0",
         "3095.0"
        ],
        [
         "10030 Telecommunication carriers managers",
         "7175.0",
         "3095.0"
        ],
        [
         "11 Professional occupations in finance and business",
         "296495.0",
         "400395.0"
        ],
        [
         "111 Professional occupations in finance",
         "178720.0",
         "194505.0"
        ],
        [
         "1110 Auditors, accountants and investment professionals",
         "178720.0",
         "194505.0"
        ],
        [
         "11100 Financial auditors and accountants",
         "78400.0",
         "106720.0"
        ],
        [
         "11101 Financial and investment analysts",
         "29555.0",
         "24570.0"
        ],
        [
         "11102 Financial advisors",
         "48610.0",
         "42100.0"
        ],
        [
         "11103 Securities agents, investment dealers and brokers",
         "9505.0",
         "4245.0"
        ],
        [
         "11109 Other financial officers",
         "12420.0",
         "16530.0"
        ],
        [
         "112 Professional occupations in business",
         "117720.0",
         "205840.0"
        ],
        [
         "1120 Human resources and business service professionals",
         "117720.0",
         "205840.0"
        ],
        [
         "11200 Human resources professionals",
         "22675.0",
         "69335.0"
        ],
        [
         "11201 Professional occupations in business management consulting",
         "51210.0",
         "46350.0"
        ],
        [
         "11202 Professional occupations in advertising, marketing and public relations",
         "43630.0",
         "89995.0"
        ],
        [
         "12 Administrative and financial supervisors and specialized administrative occupations",
         "131120.0",
         "322990.0"
        ],
        [
         "120 Administrative and financial supervisors",
         "31975.0",
         "32380.0"
        ],
        [
         "1201 Administrative and financial supervisors",
         "31975.0",
         "32380.0"
        ],
        [
         "12010 Supervisors, general office and administrative support workers",
         "7235.0",
         "10030.0"
        ],
        [
         "12011 Supervisors, finance and insurance office workers",
         "3795.0",
         "13105.0"
        ],
        [
         "12012 Supervisors, library, correspondence and related information workers",
         "760.0",
         "1695.0"
        ],
        [
         "12013 Supervisors, supply chain, tracking and scheduling coordination occupations",
         "19825.0",
         "7240.0"
        ],
        [
         "121 Specialized administrative occupations",
         "56535.0",
         "149025.0"
        ],
        [
         "1210 Administrative and regulatory occupations",
         "52615.0",
         "132055.0"
        ],
        [
         "12100 Executive assistants",
         "3855.0",
         "42010.0"
        ],
        [
         "12101 Human resources and recruitment officers",
         "10675.0",
         "27875.0"
        ],
        [
         "12102 Procurement and purchasing agents and officers",
         "21680.0",
         "26115.0"
        ],
        [
         "12103 Conference and event planners",
         "5270.0",
         "15150.0"
        ],
        [
         "12104 Employment insurance and revenue officers",
         "10700.0",
         "20425.0"
        ],
        [
         "1211 Court reporters, transcriptionists, records management technicians and statistical officers",
         "3825.0",
         "16970.0"
        ],
        [
         "12110 Court reporters, medical transcriptionists and related occupations",
         "655.0",
         "7340.0"
        ]
       ],
       "shape": {
        "columns": 2,
        "rows": 819
       }
      },
      "text/html": [
       "<div>\n",
       "<style scoped>\n",
       "    .dataframe tbody tr th:only-of-type {\n",
       "        vertical-align: middle;\n",
       "    }\n",
       "\n",
       "    .dataframe tbody tr th {\n",
       "        vertical-align: top;\n",
       "    }\n",
       "\n",
       "    .dataframe thead th {\n",
       "        text-align: right;\n",
       "    }\n",
       "</style>\n",
       "<table border=\"1\" class=\"dataframe\">\n",
       "  <thead>\n",
       "    <tr style=\"text-align: right;\">\n",
       "      <th>GENDER</th>\n",
       "      <th>Men</th>\n",
       "      <th>Women</th>\n",
       "    </tr>\n",
       "    <tr>\n",
       "      <th>OCCUPATON</th>\n",
       "      <th></th>\n",
       "      <th></th>\n",
       "    </tr>\n",
       "  </thead>\n",
       "  <tbody>\n",
       "    <tr>\n",
       "      <th>0 Legislative and senior management occupations</th>\n",
       "      <td>159935.0</td>\n",
       "      <td>73850.0</td>\n",
       "    </tr>\n",
       "    <tr>\n",
       "      <th>00 Legislative and senior managers</th>\n",
       "      <td>159935.0</td>\n",
       "      <td>73850.0</td>\n",
       "    </tr>\n",
       "    <tr>\n",
       "      <th>000 Legislative and senior managers</th>\n",
       "      <td>159935.0</td>\n",
       "      <td>73850.0</td>\n",
       "    </tr>\n",
       "    <tr>\n",
       "      <th>0001 Legislative and senior managers</th>\n",
       "      <td>159935.0</td>\n",
       "      <td>73850.0</td>\n",
       "    </tr>\n",
       "    <tr>\n",
       "      <th>00010 Legislators</th>\n",
       "      <td>3495.0</td>\n",
       "      <td>3135.0</td>\n",
       "    </tr>\n",
       "    <tr>\n",
       "      <th>...</th>\n",
       "      <td>...</td>\n",
       "      <td>...</td>\n",
       "    </tr>\n",
       "    <tr>\n",
       "      <th>95105 Labourers in textile processing and cutting</th>\n",
       "      <td>2035.0</td>\n",
       "      <td>3150.0</td>\n",
       "    </tr>\n",
       "    <tr>\n",
       "      <th>95106 Labourers in food and beverage processing</th>\n",
       "      <td>32385.0</td>\n",
       "      <td>40255.0</td>\n",
       "    </tr>\n",
       "    <tr>\n",
       "      <th>95107 Labourers in fish and seafood processing</th>\n",
       "      <td>3940.0</td>\n",
       "      <td>3230.0</td>\n",
       "    </tr>\n",
       "    <tr>\n",
       "      <th>95109 Other labourers in processing, manufacturing and utilities</th>\n",
       "      <td>41890.0</td>\n",
       "      <td>32425.0</td>\n",
       "    </tr>\n",
       "    <tr>\n",
       "      <th>All occupations</th>\n",
       "      <td>8415620.0</td>\n",
       "      <td>7990765.0</td>\n",
       "    </tr>\n",
       "  </tbody>\n",
       "</table>\n",
       "<p>819 rows × 2 columns</p>\n",
       "</div>"
      ],
      "text/plain": [
       "GENDER                                                    Men      Women\n",
       "OCCUPATON                                                               \n",
       "0 Legislative and senior management occupations      159935.0    73850.0\n",
       "00 Legislative and senior managers                   159935.0    73850.0\n",
       "000 Legislative and senior managers                  159935.0    73850.0\n",
       "0001 Legislative and senior managers                 159935.0    73850.0\n",
       "00010 Legislators                                      3495.0     3135.0\n",
       "...                                                       ...        ...\n",
       "95105 Labourers in textile processing and cutting      2035.0     3150.0\n",
       "95106 Labourers in food and beverage processing       32385.0    40255.0\n",
       "95107 Labourers in fish and seafood processing         3940.0     3230.0\n",
       "95109 Other labourers in processing, manufactur...    41890.0    32425.0\n",
       "All occupations                                     8415620.0  7990765.0\n",
       "\n",
       "[819 rows x 2 columns]"
      ]
     },
     "execution_count": 177,
     "metadata": {},
     "output_type": "execute_result"
    }
   ],
   "source": [
    "temp_df_5 = master_df.groupby([\"OCCUPATON\",\"GENDER\"],as_index=False)[\"VALUE\"].sum()\n",
    "temp_df_5 = temp_df_5.pivot_table(index=\"OCCUPATON\",columns='GENDER',values=\"VALUE\")\n",
    "temp_df_5"
   ]
  }
 ],
 "metadata": {
  "kernelspec": {
   "display_name": ".env",
   "language": "python",
   "name": "python3"
  },
  "language_info": {
   "codemirror_mode": {
    "name": "ipython",
    "version": 3
   },
   "file_extension": ".py",
   "mimetype": "text/x-python",
   "name": "python",
   "nbconvert_exporter": "python",
   "pygments_lexer": "ipython3",
   "version": "3.9.21"
  }
 },
 "nbformat": 4,
 "nbformat_minor": 2
}

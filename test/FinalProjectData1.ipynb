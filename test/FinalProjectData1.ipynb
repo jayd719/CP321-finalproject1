{
 "cells": [
  {
   "cell_type": "markdown",
   "metadata": {},
   "source": [
    "# CP321 Final Project"
   ]
  },
  {
   "cell_type": "code",
   "execution_count": 298,
   "metadata": {},
   "outputs": [],
   "source": [
    "import pandas as pd\n",
    "import numpy as np\n",
    "import plotly.express as px\n"
   ]
  },
  {
   "cell_type": "code",
   "execution_count": 299,
   "metadata": {},
   "outputs": [],
   "source": [
    "datafile = \"/Users/jashan/Desktop/CP321-FinalProject/data/finalData.csv\""
   ]
  },
  {
   "cell_type": "code",
   "execution_count": 300,
   "metadata": {},
   "outputs": [
    {
     "data": {
      "text/html": [
       "<div>\n",
       "<style scoped>\n",
       "    .dataframe tbody tr th:only-of-type {\n",
       "        vertical-align: middle;\n",
       "    }\n",
       "\n",
       "    .dataframe tbody tr th {\n",
       "        vertical-align: top;\n",
       "    }\n",
       "\n",
       "    .dataframe thead th {\n",
       "        text-align: right;\n",
       "    }\n",
       "</style>\n",
       "<table border=\"1\" class=\"dataframe\">\n",
       "  <thead>\n",
       "    <tr style=\"text-align: right;\">\n",
       "      <th></th>\n",
       "      <th>REF_DATE</th>\n",
       "      <th>GEO</th>\n",
       "      <th>DGUID</th>\n",
       "      <th>Age (2)</th>\n",
       "      <th>Highest certificate, diploma or degree (16)</th>\n",
       "      <th>Major field of study - Classification of Instructional Programs (CIP) 2021 (500)</th>\n",
       "      <th>Occupation - Unit group - National Occupational Classification (NOC) 2021 (821A)</th>\n",
       "      <th>Gender (3)</th>\n",
       "      <th>UOM</th>\n",
       "      <th>UOM_ID</th>\n",
       "      <th>SCALAR_FACTOR</th>\n",
       "      <th>SCALAR_ID</th>\n",
       "      <th>VECTOR</th>\n",
       "      <th>COORDINATE</th>\n",
       "      <th>VALUE</th>\n",
       "      <th>STATUS</th>\n",
       "      <th>SYMBOL</th>\n",
       "      <th>TERMINATED</th>\n",
       "      <th>DECIMALS</th>\n",
       "    </tr>\n",
       "  </thead>\n",
       "  <tbody>\n",
       "    <tr>\n",
       "      <th>0</th>\n",
       "      <td>2021</td>\n",
       "      <td>Newfoundland and Labrador</td>\n",
       "      <td>2021A000210</td>\n",
       "      <td>25 to 64 years</td>\n",
       "      <td>No certificate, diploma or degree</td>\n",
       "      <td>No postsecondary certificate, diploma or degree</td>\n",
       "      <td>All occupations</td>\n",
       "      <td>Men+</td>\n",
       "      <td>NaN</td>\n",
       "      <td>0</td>\n",
       "      <td>units</td>\n",
       "      <td>0</td>\n",
       "      <td>NaN</td>\n",
       "      <td>2.2.2.2.3.2</td>\n",
       "      <td>12025</td>\n",
       "      <td>NaN</td>\n",
       "      <td>NaN</td>\n",
       "      <td>NaN</td>\n",
       "      <td>0</td>\n",
       "    </tr>\n",
       "    <tr>\n",
       "      <th>1</th>\n",
       "      <td>2021</td>\n",
       "      <td>Newfoundland and Labrador</td>\n",
       "      <td>2021A000210</td>\n",
       "      <td>25 to 64 years</td>\n",
       "      <td>No certificate, diploma or degree</td>\n",
       "      <td>No postsecondary certificate, diploma or degree</td>\n",
       "      <td>All occupations</td>\n",
       "      <td>Women+</td>\n",
       "      <td>NaN</td>\n",
       "      <td>0</td>\n",
       "      <td>units</td>\n",
       "      <td>0</td>\n",
       "      <td>NaN</td>\n",
       "      <td>2.2.2.2.3.3</td>\n",
       "      <td>7755</td>\n",
       "      <td>NaN</td>\n",
       "      <td>NaN</td>\n",
       "      <td>NaN</td>\n",
       "      <td>0</td>\n",
       "    </tr>\n",
       "    <tr>\n",
       "      <th>2</th>\n",
       "      <td>2021</td>\n",
       "      <td>Newfoundland and Labrador</td>\n",
       "      <td>2021A000210</td>\n",
       "      <td>25 to 64 years</td>\n",
       "      <td>No certificate, diploma or degree</td>\n",
       "      <td>No postsecondary certificate, diploma or degree</td>\n",
       "      <td>0 Legislative and senior management occupations</td>\n",
       "      <td>Women+</td>\n",
       "      <td>NaN</td>\n",
       "      <td>0</td>\n",
       "      <td>units</td>\n",
       "      <td>0</td>\n",
       "      <td>NaN</td>\n",
       "      <td>2.2.2.2.4.3</td>\n",
       "      <td>10</td>\n",
       "      <td>NaN</td>\n",
       "      <td>NaN</td>\n",
       "      <td>NaN</td>\n",
       "      <td>0</td>\n",
       "    </tr>\n",
       "    <tr>\n",
       "      <th>3</th>\n",
       "      <td>2021</td>\n",
       "      <td>Newfoundland and Labrador</td>\n",
       "      <td>2021A000210</td>\n",
       "      <td>25 to 64 years</td>\n",
       "      <td>No certificate, diploma or degree</td>\n",
       "      <td>No postsecondary certificate, diploma or degree</td>\n",
       "      <td>00 Legislative and senior managers</td>\n",
       "      <td>Women+</td>\n",
       "      <td>NaN</td>\n",
       "      <td>0</td>\n",
       "      <td>units</td>\n",
       "      <td>0</td>\n",
       "      <td>NaN</td>\n",
       "      <td>2.2.2.2.5.3</td>\n",
       "      <td>10</td>\n",
       "      <td>NaN</td>\n",
       "      <td>NaN</td>\n",
       "      <td>NaN</td>\n",
       "      <td>0</td>\n",
       "    </tr>\n",
       "    <tr>\n",
       "      <th>4</th>\n",
       "      <td>2021</td>\n",
       "      <td>Newfoundland and Labrador</td>\n",
       "      <td>2021A000210</td>\n",
       "      <td>25 to 64 years</td>\n",
       "      <td>No certificate, diploma or degree</td>\n",
       "      <td>No postsecondary certificate, diploma or degree</td>\n",
       "      <td>000 Legislative and senior managers</td>\n",
       "      <td>Women+</td>\n",
       "      <td>NaN</td>\n",
       "      <td>0</td>\n",
       "      <td>units</td>\n",
       "      <td>0</td>\n",
       "      <td>NaN</td>\n",
       "      <td>2.2.2.2.6.3</td>\n",
       "      <td>10</td>\n",
       "      <td>NaN</td>\n",
       "      <td>NaN</td>\n",
       "      <td>NaN</td>\n",
       "      <td>0</td>\n",
       "    </tr>\n",
       "    <tr>\n",
       "      <th>...</th>\n",
       "      <td>...</td>\n",
       "      <td>...</td>\n",
       "      <td>...</td>\n",
       "      <td>...</td>\n",
       "      <td>...</td>\n",
       "      <td>...</td>\n",
       "      <td>...</td>\n",
       "      <td>...</td>\n",
       "      <td>...</td>\n",
       "      <td>...</td>\n",
       "      <td>...</td>\n",
       "      <td>...</td>\n",
       "      <td>...</td>\n",
       "      <td>...</td>\n",
       "      <td>...</td>\n",
       "      <td>...</td>\n",
       "      <td>...</td>\n",
       "      <td>...</td>\n",
       "      <td>...</td>\n",
       "    </tr>\n",
       "    <tr>\n",
       "      <th>130827</th>\n",
       "      <td>2021</td>\n",
       "      <td>Nunavut</td>\n",
       "      <td>2021A000262</td>\n",
       "      <td>25 to 64 years</td>\n",
       "      <td>Postsecondary certificate, diploma or degree</td>\n",
       "      <td>Personal, protective and transportation services</td>\n",
       "      <td>9 Occupations in manufacturing and utilities</td>\n",
       "      <td>Men+</td>\n",
       "      <td>NaN</td>\n",
       "      <td>0</td>\n",
       "      <td>units</td>\n",
       "      <td>0</td>\n",
       "      <td>NaN</td>\n",
       "      <td>14.2.4.476.725.2</td>\n",
       "      <td>10</td>\n",
       "      <td>NaN</td>\n",
       "      <td>NaN</td>\n",
       "      <td>NaN</td>\n",
       "      <td>0</td>\n",
       "    </tr>\n",
       "    <tr>\n",
       "      <th>130828</th>\n",
       "      <td>2021</td>\n",
       "      <td>Nunavut</td>\n",
       "      <td>2021A000262</td>\n",
       "      <td>25 to 64 years</td>\n",
       "      <td>Postsecondary certificate, diploma or degree</td>\n",
       "      <td>Personal, protective and transportation services</td>\n",
       "      <td>90 Middle management occupations in manufactur...</td>\n",
       "      <td>Men+</td>\n",
       "      <td>NaN</td>\n",
       "      <td>0</td>\n",
       "      <td>units</td>\n",
       "      <td>0</td>\n",
       "      <td>NaN</td>\n",
       "      <td>14.2.4.476.726.2</td>\n",
       "      <td>10</td>\n",
       "      <td>NaN</td>\n",
       "      <td>NaN</td>\n",
       "      <td>NaN</td>\n",
       "      <td>0</td>\n",
       "    </tr>\n",
       "    <tr>\n",
       "      <th>130829</th>\n",
       "      <td>2021</td>\n",
       "      <td>Nunavut</td>\n",
       "      <td>2021A000262</td>\n",
       "      <td>25 to 64 years</td>\n",
       "      <td>Postsecondary certificate, diploma or degree</td>\n",
       "      <td>Personal, protective and transportation services</td>\n",
       "      <td>900 Middle management occupations in manufactu...</td>\n",
       "      <td>Men+</td>\n",
       "      <td>NaN</td>\n",
       "      <td>0</td>\n",
       "      <td>units</td>\n",
       "      <td>0</td>\n",
       "      <td>NaN</td>\n",
       "      <td>14.2.4.476.727.2</td>\n",
       "      <td>10</td>\n",
       "      <td>NaN</td>\n",
       "      <td>NaN</td>\n",
       "      <td>NaN</td>\n",
       "      <td>0</td>\n",
       "    </tr>\n",
       "    <tr>\n",
       "      <th>130830</th>\n",
       "      <td>2021</td>\n",
       "      <td>Nunavut</td>\n",
       "      <td>2021A000262</td>\n",
       "      <td>25 to 64 years</td>\n",
       "      <td>Postsecondary certificate, diploma or degree</td>\n",
       "      <td>Personal, protective and transportation services</td>\n",
       "      <td>9001 Managers in manufacturing and utilities</td>\n",
       "      <td>Men+</td>\n",
       "      <td>NaN</td>\n",
       "      <td>0</td>\n",
       "      <td>units</td>\n",
       "      <td>0</td>\n",
       "      <td>NaN</td>\n",
       "      <td>14.2.4.476.728.2</td>\n",
       "      <td>10</td>\n",
       "      <td>NaN</td>\n",
       "      <td>NaN</td>\n",
       "      <td>NaN</td>\n",
       "      <td>0</td>\n",
       "    </tr>\n",
       "    <tr>\n",
       "      <th>130831</th>\n",
       "      <td>2021</td>\n",
       "      <td>Nunavut</td>\n",
       "      <td>2021A000262</td>\n",
       "      <td>25 to 64 years</td>\n",
       "      <td>Postsecondary certificate, diploma or degree</td>\n",
       "      <td>Personal, protective and transportation services</td>\n",
       "      <td>90011 Utilities managers</td>\n",
       "      <td>Men+</td>\n",
       "      <td>NaN</td>\n",
       "      <td>0</td>\n",
       "      <td>units</td>\n",
       "      <td>0</td>\n",
       "      <td>NaN</td>\n",
       "      <td>14.2.4.476.730.2</td>\n",
       "      <td>10</td>\n",
       "      <td>NaN</td>\n",
       "      <td>NaN</td>\n",
       "      <td>NaN</td>\n",
       "      <td>0</td>\n",
       "    </tr>\n",
       "  </tbody>\n",
       "</table>\n",
       "<p>130832 rows × 19 columns</p>\n",
       "</div>"
      ],
      "text/plain": [
       "        REF_DATE                        GEO        DGUID         Age (2)  \\\n",
       "0           2021  Newfoundland and Labrador  2021A000210  25 to 64 years   \n",
       "1           2021  Newfoundland and Labrador  2021A000210  25 to 64 years   \n",
       "2           2021  Newfoundland and Labrador  2021A000210  25 to 64 years   \n",
       "3           2021  Newfoundland and Labrador  2021A000210  25 to 64 years   \n",
       "4           2021  Newfoundland and Labrador  2021A000210  25 to 64 years   \n",
       "...          ...                        ...          ...             ...   \n",
       "130827      2021                    Nunavut  2021A000262  25 to 64 years   \n",
       "130828      2021                    Nunavut  2021A000262  25 to 64 years   \n",
       "130829      2021                    Nunavut  2021A000262  25 to 64 years   \n",
       "130830      2021                    Nunavut  2021A000262  25 to 64 years   \n",
       "130831      2021                    Nunavut  2021A000262  25 to 64 years   \n",
       "\n",
       "         Highest certificate, diploma or degree (16)  \\\n",
       "0                  No certificate, diploma or degree   \n",
       "1                  No certificate, diploma or degree   \n",
       "2                  No certificate, diploma or degree   \n",
       "3                  No certificate, diploma or degree   \n",
       "4                  No certificate, diploma or degree   \n",
       "...                                              ...   \n",
       "130827  Postsecondary certificate, diploma or degree   \n",
       "130828  Postsecondary certificate, diploma or degree   \n",
       "130829  Postsecondary certificate, diploma or degree   \n",
       "130830  Postsecondary certificate, diploma or degree   \n",
       "130831  Postsecondary certificate, diploma or degree   \n",
       "\n",
       "       Major field of study - Classification of Instructional Programs (CIP) 2021 (500)  \\\n",
       "0         No postsecondary certificate, diploma or degree                                 \n",
       "1         No postsecondary certificate, diploma or degree                                 \n",
       "2         No postsecondary certificate, diploma or degree                                 \n",
       "3         No postsecondary certificate, diploma or degree                                 \n",
       "4         No postsecondary certificate, diploma or degree                                 \n",
       "...                                                   ...                                 \n",
       "130827   Personal, protective and transportation services                                 \n",
       "130828   Personal, protective and transportation services                                 \n",
       "130829   Personal, protective and transportation services                                 \n",
       "130830   Personal, protective and transportation services                                 \n",
       "130831   Personal, protective and transportation services                                 \n",
       "\n",
       "       Occupation - Unit group - National Occupational Classification (NOC) 2021 (821A)  \\\n",
       "0                                         All occupations                                 \n",
       "1                                         All occupations                                 \n",
       "2         0 Legislative and senior management occupations                                 \n",
       "3                      00 Legislative and senior managers                                 \n",
       "4                     000 Legislative and senior managers                                 \n",
       "...                                                   ...                                 \n",
       "130827       9 Occupations in manufacturing and utilities                                 \n",
       "130828  90 Middle management occupations in manufactur...                                 \n",
       "130829  900 Middle management occupations in manufactu...                                 \n",
       "130830       9001 Managers in manufacturing and utilities                                 \n",
       "130831                           90011 Utilities managers                                 \n",
       "\n",
       "       Gender (3)  UOM  UOM_ID SCALAR_FACTOR  SCALAR_ID  VECTOR  \\\n",
       "0            Men+  NaN       0         units          0     NaN   \n",
       "1          Women+  NaN       0         units          0     NaN   \n",
       "2          Women+  NaN       0         units          0     NaN   \n",
       "3          Women+  NaN       0         units          0     NaN   \n",
       "4          Women+  NaN       0         units          0     NaN   \n",
       "...           ...  ...     ...           ...        ...     ...   \n",
       "130827       Men+  NaN       0         units          0     NaN   \n",
       "130828       Men+  NaN       0         units          0     NaN   \n",
       "130829       Men+  NaN       0         units          0     NaN   \n",
       "130830       Men+  NaN       0         units          0     NaN   \n",
       "130831       Men+  NaN       0         units          0     NaN   \n",
       "\n",
       "              COORDINATE  VALUE  STATUS  SYMBOL  TERMINATED  DECIMALS  \n",
       "0            2.2.2.2.3.2  12025     NaN     NaN         NaN         0  \n",
       "1            2.2.2.2.3.3   7755     NaN     NaN         NaN         0  \n",
       "2            2.2.2.2.4.3     10     NaN     NaN         NaN         0  \n",
       "3            2.2.2.2.5.3     10     NaN     NaN         NaN         0  \n",
       "4            2.2.2.2.6.3     10     NaN     NaN         NaN         0  \n",
       "...                  ...    ...     ...     ...         ...       ...  \n",
       "130827  14.2.4.476.725.2     10     NaN     NaN         NaN         0  \n",
       "130828  14.2.4.476.726.2     10     NaN     NaN         NaN         0  \n",
       "130829  14.2.4.476.727.2     10     NaN     NaN         NaN         0  \n",
       "130830  14.2.4.476.728.2     10     NaN     NaN         NaN         0  \n",
       "130831  14.2.4.476.730.2     10     NaN     NaN         NaN         0  \n",
       "\n",
       "[130832 rows x 19 columns]"
      ]
     },
     "execution_count": 300,
     "metadata": {},
     "output_type": "execute_result"
    }
   ],
   "source": [
    "raw_data = pd.read_csv(datafile)\n",
    "raw_data"
   ]
  },
  {
   "cell_type": "code",
   "execution_count": null,
   "metadata": {},
   "outputs": [
    {
     "data": {
      "text/html": [
       "<div>\n",
       "<style scoped>\n",
       "    .dataframe tbody tr th:only-of-type {\n",
       "        vertical-align: middle;\n",
       "    }\n",
       "\n",
       "    .dataframe tbody tr th {\n",
       "        vertical-align: top;\n",
       "    }\n",
       "\n",
       "    .dataframe thead th {\n",
       "        text-align: right;\n",
       "    }\n",
       "</style>\n",
       "<table border=\"1\" class=\"dataframe\">\n",
       "  <thead>\n",
       "    <tr style=\"text-align: right;\">\n",
       "      <th></th>\n",
       "      <th>GEO</th>\n",
       "      <th>EDUCATION</th>\n",
       "      <th>MAJOR</th>\n",
       "      <th>OCCUPATION</th>\n",
       "      <th>GENDER</th>\n",
       "      <th>COUNT</th>\n",
       "    </tr>\n",
       "  </thead>\n",
       "  <tbody>\n",
       "    <tr>\n",
       "      <th>0</th>\n",
       "      <td>Newfoundland and Labrador</td>\n",
       "      <td>No certificate, diploma or degree</td>\n",
       "      <td>No postsecondary certificate, diploma or degree</td>\n",
       "      <td>All occupations</td>\n",
       "      <td>Men+</td>\n",
       "      <td>12025</td>\n",
       "    </tr>\n",
       "    <tr>\n",
       "      <th>1</th>\n",
       "      <td>Newfoundland and Labrador</td>\n",
       "      <td>No certificate, diploma or degree</td>\n",
       "      <td>No postsecondary certificate, diploma or degree</td>\n",
       "      <td>All occupations</td>\n",
       "      <td>Women+</td>\n",
       "      <td>7755</td>\n",
       "    </tr>\n",
       "    <tr>\n",
       "      <th>2</th>\n",
       "      <td>Newfoundland and Labrador</td>\n",
       "      <td>No certificate, diploma or degree</td>\n",
       "      <td>No postsecondary certificate, diploma or degree</td>\n",
       "      <td>0 Legislative and senior management occupations</td>\n",
       "      <td>Women+</td>\n",
       "      <td>10</td>\n",
       "    </tr>\n",
       "    <tr>\n",
       "      <th>3</th>\n",
       "      <td>Newfoundland and Labrador</td>\n",
       "      <td>No certificate, diploma or degree</td>\n",
       "      <td>No postsecondary certificate, diploma or degree</td>\n",
       "      <td>00 Legislative and senior managers</td>\n",
       "      <td>Women+</td>\n",
       "      <td>10</td>\n",
       "    </tr>\n",
       "    <tr>\n",
       "      <th>4</th>\n",
       "      <td>Newfoundland and Labrador</td>\n",
       "      <td>No certificate, diploma or degree</td>\n",
       "      <td>No postsecondary certificate, diploma or degree</td>\n",
       "      <td>000 Legislative and senior managers</td>\n",
       "      <td>Women+</td>\n",
       "      <td>10</td>\n",
       "    </tr>\n",
       "    <tr>\n",
       "      <th>...</th>\n",
       "      <td>...</td>\n",
       "      <td>...</td>\n",
       "      <td>...</td>\n",
       "      <td>...</td>\n",
       "      <td>...</td>\n",
       "      <td>...</td>\n",
       "    </tr>\n",
       "    <tr>\n",
       "      <th>130827</th>\n",
       "      <td>Nunavut</td>\n",
       "      <td>Postsecondary certificate, diploma or degree</td>\n",
       "      <td>Personal, protective and transportation services</td>\n",
       "      <td>9 Occupations in manufacturing and utilities</td>\n",
       "      <td>Men+</td>\n",
       "      <td>10</td>\n",
       "    </tr>\n",
       "    <tr>\n",
       "      <th>130828</th>\n",
       "      <td>Nunavut</td>\n",
       "      <td>Postsecondary certificate, diploma or degree</td>\n",
       "      <td>Personal, protective and transportation services</td>\n",
       "      <td>90 Middle management occupations in manufactur...</td>\n",
       "      <td>Men+</td>\n",
       "      <td>10</td>\n",
       "    </tr>\n",
       "    <tr>\n",
       "      <th>130829</th>\n",
       "      <td>Nunavut</td>\n",
       "      <td>Postsecondary certificate, diploma or degree</td>\n",
       "      <td>Personal, protective and transportation services</td>\n",
       "      <td>900 Middle management occupations in manufactu...</td>\n",
       "      <td>Men+</td>\n",
       "      <td>10</td>\n",
       "    </tr>\n",
       "    <tr>\n",
       "      <th>130830</th>\n",
       "      <td>Nunavut</td>\n",
       "      <td>Postsecondary certificate, diploma or degree</td>\n",
       "      <td>Personal, protective and transportation services</td>\n",
       "      <td>9001 Managers in manufacturing and utilities</td>\n",
       "      <td>Men+</td>\n",
       "      <td>10</td>\n",
       "    </tr>\n",
       "    <tr>\n",
       "      <th>130831</th>\n",
       "      <td>Nunavut</td>\n",
       "      <td>Postsecondary certificate, diploma or degree</td>\n",
       "      <td>Personal, protective and transportation services</td>\n",
       "      <td>90011 Utilities managers</td>\n",
       "      <td>Men+</td>\n",
       "      <td>10</td>\n",
       "    </tr>\n",
       "  </tbody>\n",
       "</table>\n",
       "<p>130832 rows × 6 columns</p>\n",
       "</div>"
      ],
      "text/plain": [
       "                              GEO  \\\n",
       "0       Newfoundland and Labrador   \n",
       "1       Newfoundland and Labrador   \n",
       "2       Newfoundland and Labrador   \n",
       "3       Newfoundland and Labrador   \n",
       "4       Newfoundland and Labrador   \n",
       "...                           ...   \n",
       "130827                    Nunavut   \n",
       "130828                    Nunavut   \n",
       "130829                    Nunavut   \n",
       "130830                    Nunavut   \n",
       "130831                    Nunavut   \n",
       "\n",
       "                                           EDUCATION  \\\n",
       "0                  No certificate, diploma or degree   \n",
       "1                  No certificate, diploma or degree   \n",
       "2                  No certificate, diploma or degree   \n",
       "3                  No certificate, diploma or degree   \n",
       "4                  No certificate, diploma or degree   \n",
       "...                                              ...   \n",
       "130827  Postsecondary certificate, diploma or degree   \n",
       "130828  Postsecondary certificate, diploma or degree   \n",
       "130829  Postsecondary certificate, diploma or degree   \n",
       "130830  Postsecondary certificate, diploma or degree   \n",
       "130831  Postsecondary certificate, diploma or degree   \n",
       "\n",
       "                                                   MAJOR  \\\n",
       "0        No postsecondary certificate, diploma or degree   \n",
       "1        No postsecondary certificate, diploma or degree   \n",
       "2        No postsecondary certificate, diploma or degree   \n",
       "3        No postsecondary certificate, diploma or degree   \n",
       "4        No postsecondary certificate, diploma or degree   \n",
       "...                                                  ...   \n",
       "130827  Personal, protective and transportation services   \n",
       "130828  Personal, protective and transportation services   \n",
       "130829  Personal, protective and transportation services   \n",
       "130830  Personal, protective and transportation services   \n",
       "130831  Personal, protective and transportation services   \n",
       "\n",
       "                                               OCCUPATION  GENDER  COUNT  \n",
       "0                                         All occupations    Men+  12025  \n",
       "1                                         All occupations  Women+   7755  \n",
       "2         0 Legislative and senior management occupations  Women+     10  \n",
       "3                      00 Legislative and senior managers  Women+     10  \n",
       "4                     000 Legislative and senior managers  Women+     10  \n",
       "...                                                   ...     ...    ...  \n",
       "130827       9 Occupations in manufacturing and utilities    Men+     10  \n",
       "130828  90 Middle management occupations in manufactur...    Men+     10  \n",
       "130829  900 Middle management occupations in manufactu...    Men+     10  \n",
       "130830       9001 Managers in manufacturing and utilities    Men+     10  \n",
       "130831                           90011 Utilities managers    Men+     10  \n",
       "\n",
       "[130832 rows x 6 columns]"
      ]
     },
     "execution_count": 301,
     "metadata": {},
     "output_type": "execute_result"
    }
   ],
   "source": [
    "redundant_cols = [\n",
    "    \"DGUID\",\n",
    "    \"Age (2)\",\n",
    "    \"UOM\",\n",
    "    \"UOM_ID\",\n",
    "    \"SCALAR_FACTOR\",\n",
    "    \"SCALAR_ID\",\n",
    "    \"STATUS\",\n",
    "    \"SYMBOL\",\n",
    "    \"TERMINATED\",\n",
    "    \"DECIMALS\",\n",
    "    \"VECTOR\",\n",
    "    \"REF_DATE\",\n",
    "    \"COORDINATE\",\n",
    "]\n",
    "master_df = raw_data.drop(columns=redundant_cols)\n",
    "master_df.columns = \n",
    "master_df"
   ]
  },
  {
   "cell_type": "code",
   "execution_count": 302,
   "metadata": {},
   "outputs": [
    {
     "data": {
      "text/plain": [
       "GEO           0\n",
       "EDUCATION     0\n",
       "MAJOR         0\n",
       "OCCUPATION    0\n",
       "GENDER        0\n",
       "COUNT         0\n",
       "dtype: int64"
      ]
     },
     "execution_count": 302,
     "metadata": {},
     "output_type": "execute_result"
    }
   ],
   "source": [
    "master_df.isnull().sum()"
   ]
  },
  {
   "cell_type": "markdown",
   "metadata": {},
   "source": [
    "Fix Gender"
   ]
  },
  {
   "cell_type": "code",
   "execution_count": 303,
   "metadata": {},
   "outputs": [
    {
     "data": {
      "text/html": [
       "<div>\n",
       "<style scoped>\n",
       "    .dataframe tbody tr th:only-of-type {\n",
       "        vertical-align: middle;\n",
       "    }\n",
       "\n",
       "    .dataframe tbody tr th {\n",
       "        vertical-align: top;\n",
       "    }\n",
       "\n",
       "    .dataframe thead th {\n",
       "        text-align: right;\n",
       "    }\n",
       "</style>\n",
       "<table border=\"1\" class=\"dataframe\">\n",
       "  <thead>\n",
       "    <tr style=\"text-align: right;\">\n",
       "      <th></th>\n",
       "      <th>GEO</th>\n",
       "      <th>EDUCATION</th>\n",
       "      <th>MAJOR</th>\n",
       "      <th>OCCUPATION</th>\n",
       "      <th>GENDER</th>\n",
       "      <th>COUNT</th>\n",
       "      <th>NOC</th>\n",
       "      <th>Hierarchy</th>\n",
       "      <th>OCCUPATION_C</th>\n",
       "    </tr>\n",
       "  </thead>\n",
       "  <tbody>\n",
       "    <tr>\n",
       "      <th>0</th>\n",
       "      <td>Newfoundland and Labrador</td>\n",
       "      <td>No certificate, diploma or degree</td>\n",
       "      <td>No postsecondary certificate, diploma or degree</td>\n",
       "      <td>All occupations</td>\n",
       "      <td>Men</td>\n",
       "      <td>12025</td>\n",
       "      <td>NaN</td>\n",
       "      <td>0</td>\n",
       "      <td>occupations</td>\n",
       "    </tr>\n",
       "    <tr>\n",
       "      <th>1</th>\n",
       "      <td>Newfoundland and Labrador</td>\n",
       "      <td>No certificate, diploma or degree</td>\n",
       "      <td>No postsecondary certificate, diploma or degree</td>\n",
       "      <td>All occupations</td>\n",
       "      <td>Women</td>\n",
       "      <td>7755</td>\n",
       "      <td>NaN</td>\n",
       "      <td>0</td>\n",
       "      <td>occupations</td>\n",
       "    </tr>\n",
       "    <tr>\n",
       "      <th>2</th>\n",
       "      <td>Newfoundland and Labrador</td>\n",
       "      <td>No certificate, diploma or degree</td>\n",
       "      <td>No postsecondary certificate, diploma or degree</td>\n",
       "      <td>0 Legislative and senior management occupations</td>\n",
       "      <td>Women</td>\n",
       "      <td>10</td>\n",
       "      <td>0</td>\n",
       "      <td>1</td>\n",
       "      <td>Legislative and senior management occupations</td>\n",
       "    </tr>\n",
       "    <tr>\n",
       "      <th>3</th>\n",
       "      <td>Newfoundland and Labrador</td>\n",
       "      <td>No certificate, diploma or degree</td>\n",
       "      <td>No postsecondary certificate, diploma or degree</td>\n",
       "      <td>00 Legislative and senior managers</td>\n",
       "      <td>Women</td>\n",
       "      <td>10</td>\n",
       "      <td>00</td>\n",
       "      <td>2</td>\n",
       "      <td>Legislative and senior managers</td>\n",
       "    </tr>\n",
       "    <tr>\n",
       "      <th>4</th>\n",
       "      <td>Newfoundland and Labrador</td>\n",
       "      <td>No certificate, diploma or degree</td>\n",
       "      <td>No postsecondary certificate, diploma or degree</td>\n",
       "      <td>000 Legislative and senior managers</td>\n",
       "      <td>Women</td>\n",
       "      <td>10</td>\n",
       "      <td>000</td>\n",
       "      <td>3</td>\n",
       "      <td>Legislative and senior managers</td>\n",
       "    </tr>\n",
       "    <tr>\n",
       "      <th>...</th>\n",
       "      <td>...</td>\n",
       "      <td>...</td>\n",
       "      <td>...</td>\n",
       "      <td>...</td>\n",
       "      <td>...</td>\n",
       "      <td>...</td>\n",
       "      <td>...</td>\n",
       "      <td>...</td>\n",
       "      <td>...</td>\n",
       "    </tr>\n",
       "    <tr>\n",
       "      <th>130827</th>\n",
       "      <td>Nunavut</td>\n",
       "      <td>Postsecondary certificate, diploma or degree</td>\n",
       "      <td>Personal, protective and transportation services</td>\n",
       "      <td>9 Occupations in manufacturing and utilities</td>\n",
       "      <td>Men</td>\n",
       "      <td>10</td>\n",
       "      <td>9</td>\n",
       "      <td>1</td>\n",
       "      <td>Occupations in manufacturing and utilities</td>\n",
       "    </tr>\n",
       "    <tr>\n",
       "      <th>130828</th>\n",
       "      <td>Nunavut</td>\n",
       "      <td>Postsecondary certificate, diploma or degree</td>\n",
       "      <td>Personal, protective and transportation services</td>\n",
       "      <td>90 Middle management occupations in manufactur...</td>\n",
       "      <td>Men</td>\n",
       "      <td>10</td>\n",
       "      <td>90</td>\n",
       "      <td>2</td>\n",
       "      <td>Middle management occupations in manufacturing...</td>\n",
       "    </tr>\n",
       "    <tr>\n",
       "      <th>130829</th>\n",
       "      <td>Nunavut</td>\n",
       "      <td>Postsecondary certificate, diploma or degree</td>\n",
       "      <td>Personal, protective and transportation services</td>\n",
       "      <td>900 Middle management occupations in manufactu...</td>\n",
       "      <td>Men</td>\n",
       "      <td>10</td>\n",
       "      <td>900</td>\n",
       "      <td>3</td>\n",
       "      <td>Middle management occupations in manufacturing...</td>\n",
       "    </tr>\n",
       "    <tr>\n",
       "      <th>130830</th>\n",
       "      <td>Nunavut</td>\n",
       "      <td>Postsecondary certificate, diploma or degree</td>\n",
       "      <td>Personal, protective and transportation services</td>\n",
       "      <td>9001 Managers in manufacturing and utilities</td>\n",
       "      <td>Men</td>\n",
       "      <td>10</td>\n",
       "      <td>9001</td>\n",
       "      <td>4</td>\n",
       "      <td>Managers in manufacturing and utilities</td>\n",
       "    </tr>\n",
       "    <tr>\n",
       "      <th>130831</th>\n",
       "      <td>Nunavut</td>\n",
       "      <td>Postsecondary certificate, diploma or degree</td>\n",
       "      <td>Personal, protective and transportation services</td>\n",
       "      <td>90011 Utilities managers</td>\n",
       "      <td>Men</td>\n",
       "      <td>10</td>\n",
       "      <td>90011</td>\n",
       "      <td>5</td>\n",
       "      <td>Utilities managers</td>\n",
       "    </tr>\n",
       "  </tbody>\n",
       "</table>\n",
       "<p>130832 rows × 9 columns</p>\n",
       "</div>"
      ],
      "text/plain": [
       "                              GEO  \\\n",
       "0       Newfoundland and Labrador   \n",
       "1       Newfoundland and Labrador   \n",
       "2       Newfoundland and Labrador   \n",
       "3       Newfoundland and Labrador   \n",
       "4       Newfoundland and Labrador   \n",
       "...                           ...   \n",
       "130827                    Nunavut   \n",
       "130828                    Nunavut   \n",
       "130829                    Nunavut   \n",
       "130830                    Nunavut   \n",
       "130831                    Nunavut   \n",
       "\n",
       "                                           EDUCATION  \\\n",
       "0                  No certificate, diploma or degree   \n",
       "1                  No certificate, diploma or degree   \n",
       "2                  No certificate, diploma or degree   \n",
       "3                  No certificate, diploma or degree   \n",
       "4                  No certificate, diploma or degree   \n",
       "...                                              ...   \n",
       "130827  Postsecondary certificate, diploma or degree   \n",
       "130828  Postsecondary certificate, diploma or degree   \n",
       "130829  Postsecondary certificate, diploma or degree   \n",
       "130830  Postsecondary certificate, diploma or degree   \n",
       "130831  Postsecondary certificate, diploma or degree   \n",
       "\n",
       "                                                   MAJOR  \\\n",
       "0        No postsecondary certificate, diploma or degree   \n",
       "1        No postsecondary certificate, diploma or degree   \n",
       "2        No postsecondary certificate, diploma or degree   \n",
       "3        No postsecondary certificate, diploma or degree   \n",
       "4        No postsecondary certificate, diploma or degree   \n",
       "...                                                  ...   \n",
       "130827  Personal, protective and transportation services   \n",
       "130828  Personal, protective and transportation services   \n",
       "130829  Personal, protective and transportation services   \n",
       "130830  Personal, protective and transportation services   \n",
       "130831  Personal, protective and transportation services   \n",
       "\n",
       "                                               OCCUPATION GENDER  COUNT  \\\n",
       "0                                         All occupations    Men  12025   \n",
       "1                                         All occupations  Women   7755   \n",
       "2         0 Legislative and senior management occupations  Women     10   \n",
       "3                      00 Legislative and senior managers  Women     10   \n",
       "4                     000 Legislative and senior managers  Women     10   \n",
       "...                                                   ...    ...    ...   \n",
       "130827       9 Occupations in manufacturing and utilities    Men     10   \n",
       "130828  90 Middle management occupations in manufactur...    Men     10   \n",
       "130829  900 Middle management occupations in manufactu...    Men     10   \n",
       "130830       9001 Managers in manufacturing and utilities    Men     10   \n",
       "130831                           90011 Utilities managers    Men     10   \n",
       "\n",
       "          NOC  Hierarchy                                       OCCUPATION_C  \n",
       "0         NaN          0                                        occupations  \n",
       "1         NaN          0                                        occupations  \n",
       "2           0          1      Legislative and senior management occupations  \n",
       "3          00          2                    Legislative and senior managers  \n",
       "4         000          3                    Legislative and senior managers  \n",
       "...       ...        ...                                                ...  \n",
       "130827      9          1         Occupations in manufacturing and utilities  \n",
       "130828     90          2  Middle management occupations in manufacturing...  \n",
       "130829    900          3  Middle management occupations in manufacturing...  \n",
       "130830   9001          4            Managers in manufacturing and utilities  \n",
       "130831  90011          5                                 Utilities managers  \n",
       "\n",
       "[130832 rows x 9 columns]"
      ]
     },
     "execution_count": 303,
     "metadata": {},
     "output_type": "execute_result"
    }
   ],
   "source": [
    "def clean_gender_COUNTs(COUNT):\n",
    "    return COUNT[:-1]\n",
    "\n",
    "\n",
    "def get_noc_codes(COUNT):\n",
    "    noc = COUNT.split(\" \")[0]\n",
    "    if not noc.isdigit():\n",
    "        return np.nan\n",
    "    return noc\n",
    "\n",
    "def get_hierarchy_number(COUNT):\n",
    "    if type(COUNT) is float:\n",
    "        return 0\n",
    "    return len(COUNT)\n",
    "\n",
    "def clean_occupations(COUNT):\n",
    "    COUNT = COUNT.split(\" \")\n",
    "    COUNT.pop(0)\n",
    "    return \" \".join(COUNT)\n",
    "\n",
    "\n",
    "master_df[\"GENDER\"] = master_df.GENDER.apply(clean_gender_COUNTs) # remove plus sign form gender COUNTs\n",
    "master_df[\"NOC\"] = master_df.OCCUPATION.apply(get_noc_codes) # Split NOC codes based on categories.\n",
    "master_df[\"Hierarchy\"] = master_df.NOC.apply(get_hierarchy_number)\n",
    "master_df[\"OCCUPATION_C\"] = master_df.OCCUPATION.apply(clean_occupations)\n",
    "\n",
    "master_df"
   ]
  },
  {
   "cell_type": "code",
   "execution_count": 304,
   "metadata": {},
   "outputs": [
    {
     "name": "stdout",
     "output_type": "stream",
     "text": [
      "<class 'pandas.core.frame.DataFrame'>\n",
      "RangeIndex: 130832 entries, 0 to 130831\n",
      "Data columns (total 9 columns):\n",
      " #   Column        Non-Null Count   Dtype \n",
      "---  ------        --------------   ----- \n",
      " 0   GEO           130832 non-null  object\n",
      " 1   EDUCATION     130832 non-null  object\n",
      " 2   MAJOR         130832 non-null  object\n",
      " 3   OCCUPATION    130832 non-null  object\n",
      " 4   GENDER        130832 non-null  object\n",
      " 5   COUNT         130832 non-null  int64 \n",
      " 6   NOC           130477 non-null  object\n",
      " 7   Hierarchy     130832 non-null  int64 \n",
      " 8   OCCUPATION_C  130832 non-null  object\n",
      "dtypes: int64(2), object(7)\n",
      "memory usage: 9.0+ MB\n"
     ]
    }
   ],
   "source": [
    "master_df.info()"
   ]
  },
  {
   "cell_type": "code",
   "execution_count": 305,
   "metadata": {},
   "outputs": [
    {
     "data": {
      "text/plain": [
       "array(['Newfoundland and Labrador', 'Prince Edward Island', 'Nova Scotia',\n",
       "       'New Brunswick', 'Quebec', 'Ontario', 'Manitoba', 'Saskatchewan',\n",
       "       'Alberta', 'British Columbia', 'Yukon', 'Northwest Territories',\n",
       "       'Nunavut'], dtype=object)"
      ]
     },
     "execution_count": 305,
     "metadata": {},
     "output_type": "execute_result"
    }
   ],
   "source": [
    "master_df.GEO.unique()"
   ]
  },
  {
   "cell_type": "code",
   "execution_count": 306,
   "metadata": {},
   "outputs": [
    {
     "data": {
      "text/plain": [
       "array(['Legislative and senior management occupations',\n",
       "       'Business, finance and administration occupations',\n",
       "       'Natural and applied sciences and related occupations',\n",
       "       'Health occupations',\n",
       "       'Occupations in education, law and social, community and government services',\n",
       "       'Occupations in art, culture, recreation and sport',\n",
       "       'Sales and service occupations',\n",
       "       'Trades, transport and equipment operators and related occupations',\n",
       "       'Natural resources, agriculture and related production occupations',\n",
       "       'Occupations in manufacturing and utilities'], dtype=object)"
      ]
     },
     "execution_count": 306,
     "metadata": {},
     "output_type": "execute_result"
    }
   ],
   "source": [
    "broader_cats = master_df[master_df.Hierarchy==1].OCCUPATION_C.unique()\n",
    "broader_cats"
   ]
  },
  {
   "cell_type": "code",
   "execution_count": 307,
   "metadata": {},
   "outputs": [
    {
     "data": {
      "text/html": [
       "<div>\n",
       "<style scoped>\n",
       "    .dataframe tbody tr th:only-of-type {\n",
       "        vertical-align: middle;\n",
       "    }\n",
       "\n",
       "    .dataframe tbody tr th {\n",
       "        vertical-align: top;\n",
       "    }\n",
       "\n",
       "    .dataframe thead th {\n",
       "        text-align: right;\n",
       "    }\n",
       "</style>\n",
       "<table border=\"1\" class=\"dataframe\">\n",
       "  <thead>\n",
       "    <tr style=\"text-align: right;\">\n",
       "      <th></th>\n",
       "      <th>GEO</th>\n",
       "      <th>OCCUPATION_C</th>\n",
       "      <th>GENDER</th>\n",
       "      <th>COUNT</th>\n",
       "    </tr>\n",
       "  </thead>\n",
       "  <tbody>\n",
       "    <tr>\n",
       "      <th>0</th>\n",
       "      <td>Alberta</td>\n",
       "      <td>Business, finance and administration occupations</td>\n",
       "      <td>Men</td>\n",
       "      <td>98320</td>\n",
       "    </tr>\n",
       "    <tr>\n",
       "      <th>1</th>\n",
       "      <td>Alberta</td>\n",
       "      <td>Business, finance and administration occupations</td>\n",
       "      <td>Women</td>\n",
       "      <td>248605</td>\n",
       "    </tr>\n",
       "    <tr>\n",
       "      <th>2</th>\n",
       "      <td>Alberta</td>\n",
       "      <td>Health occupations</td>\n",
       "      <td>Men</td>\n",
       "      <td>31680</td>\n",
       "    </tr>\n",
       "    <tr>\n",
       "      <th>3</th>\n",
       "      <td>Alberta</td>\n",
       "      <td>Health occupations</td>\n",
       "      <td>Women</td>\n",
       "      <td>140075</td>\n",
       "    </tr>\n",
       "    <tr>\n",
       "      <th>4</th>\n",
       "      <td>Alberta</td>\n",
       "      <td>Legislative and senior management occupations</td>\n",
       "      <td>Men</td>\n",
       "      <td>15080</td>\n",
       "    </tr>\n",
       "    <tr>\n",
       "      <th>...</th>\n",
       "      <td>...</td>\n",
       "      <td>...</td>\n",
       "      <td>...</td>\n",
       "      <td>...</td>\n",
       "    </tr>\n",
       "    <tr>\n",
       "      <th>255</th>\n",
       "      <td>Yukon</td>\n",
       "      <td>Occupations in manufacturing and utilities</td>\n",
       "      <td>Women</td>\n",
       "      <td>40</td>\n",
       "    </tr>\n",
       "    <tr>\n",
       "      <th>256</th>\n",
       "      <td>Yukon</td>\n",
       "      <td>Sales and service occupations</td>\n",
       "      <td>Men</td>\n",
       "      <td>1615</td>\n",
       "    </tr>\n",
       "    <tr>\n",
       "      <th>257</th>\n",
       "      <td>Yukon</td>\n",
       "      <td>Sales and service occupations</td>\n",
       "      <td>Women</td>\n",
       "      <td>1880</td>\n",
       "    </tr>\n",
       "    <tr>\n",
       "      <th>258</th>\n",
       "      <td>Yukon</td>\n",
       "      <td>Trades, transport and equipment operators and ...</td>\n",
       "      <td>Men</td>\n",
       "      <td>3435</td>\n",
       "    </tr>\n",
       "    <tr>\n",
       "      <th>259</th>\n",
       "      <td>Yukon</td>\n",
       "      <td>Trades, transport and equipment operators and ...</td>\n",
       "      <td>Women</td>\n",
       "      <td>355</td>\n",
       "    </tr>\n",
       "  </tbody>\n",
       "</table>\n",
       "<p>260 rows × 4 columns</p>\n",
       "</div>"
      ],
      "text/plain": [
       "         GEO                                       OCCUPATION_C GENDER   COUNT\n",
       "0    Alberta   Business, finance and administration occupations    Men   98320\n",
       "1    Alberta   Business, finance and administration occupations  Women  248605\n",
       "2    Alberta                                 Health occupations    Men   31680\n",
       "3    Alberta                                 Health occupations  Women  140075\n",
       "4    Alberta      Legislative and senior management occupations    Men   15080\n",
       "..       ...                                                ...    ...     ...\n",
       "255    Yukon         Occupations in manufacturing and utilities  Women      40\n",
       "256    Yukon                      Sales and service occupations    Men    1615\n",
       "257    Yukon                      Sales and service occupations  Women    1880\n",
       "258    Yukon  Trades, transport and equipment operators and ...    Men    3435\n",
       "259    Yukon  Trades, transport and equipment operators and ...  Women     355\n",
       "\n",
       "[260 rows x 4 columns]"
      ]
     },
     "execution_count": 307,
     "metadata": {},
     "output_type": "execute_result"
    }
   ],
   "source": [
    "temp_df = master_df[master_df.Hierarchy == 1].groupby([\"GEO\",\"OCCUPATION_C\",\"GENDER\"],as_index=False).COUNT.sum()\n",
    "temp_df"
   ]
  },
  {
   "cell_type": "code",
   "execution_count": 308,
   "metadata": {},
   "outputs": [
    {
     "data": {
      "text/html": [
       "<div>\n",
       "<style scoped>\n",
       "    .dataframe tbody tr th:only-of-type {\n",
       "        vertical-align: middle;\n",
       "    }\n",
       "\n",
       "    .dataframe tbody tr th {\n",
       "        vertical-align: top;\n",
       "    }\n",
       "\n",
       "    .dataframe thead th {\n",
       "        text-align: right;\n",
       "    }\n",
       "</style>\n",
       "<table border=\"1\" class=\"dataframe\">\n",
       "  <thead>\n",
       "    <tr style=\"text-align: right;\">\n",
       "      <th></th>\n",
       "      <th>GEO</th>\n",
       "      <th>OCCUPATION_C</th>\n",
       "      <th>GENDER</th>\n",
       "      <th>COUNT</th>\n",
       "    </tr>\n",
       "  </thead>\n",
       "  <tbody>\n",
       "    <tr>\n",
       "      <th>0</th>\n",
       "      <td>Alberta</td>\n",
       "      <td>Business, finance and administration occupations</td>\n",
       "      <td>Men</td>\n",
       "      <td>98320</td>\n",
       "    </tr>\n",
       "    <tr>\n",
       "      <th>1</th>\n",
       "      <td>Alberta</td>\n",
       "      <td>Business, finance and administration occupations</td>\n",
       "      <td>Women</td>\n",
       "      <td>248605</td>\n",
       "    </tr>\n",
       "    <tr>\n",
       "      <th>2</th>\n",
       "      <td>Alberta</td>\n",
       "      <td>Health occupations</td>\n",
       "      <td>Men</td>\n",
       "      <td>31680</td>\n",
       "    </tr>\n",
       "    <tr>\n",
       "      <th>3</th>\n",
       "      <td>Alberta</td>\n",
       "      <td>Health occupations</td>\n",
       "      <td>Women</td>\n",
       "      <td>140075</td>\n",
       "    </tr>\n",
       "    <tr>\n",
       "      <th>4</th>\n",
       "      <td>Alberta</td>\n",
       "      <td>Legislative and senior management occupations</td>\n",
       "      <td>Men</td>\n",
       "      <td>15080</td>\n",
       "    </tr>\n",
       "    <tr>\n",
       "      <th>5</th>\n",
       "      <td>Alberta</td>\n",
       "      <td>Legislative and senior management occupations</td>\n",
       "      <td>Women</td>\n",
       "      <td>6370</td>\n",
       "    </tr>\n",
       "    <tr>\n",
       "      <th>6</th>\n",
       "      <td>Alberta</td>\n",
       "      <td>Natural and applied sciences and related occup...</td>\n",
       "      <td>Men</td>\n",
       "      <td>132840</td>\n",
       "    </tr>\n",
       "    <tr>\n",
       "      <th>7</th>\n",
       "      <td>Alberta</td>\n",
       "      <td>Natural and applied sciences and related occup...</td>\n",
       "      <td>Women</td>\n",
       "      <td>41165</td>\n",
       "    </tr>\n",
       "    <tr>\n",
       "      <th>8</th>\n",
       "      <td>Alberta</td>\n",
       "      <td>Natural resources, agriculture and related pro...</td>\n",
       "      <td>Men</td>\n",
       "      <td>57725</td>\n",
       "    </tr>\n",
       "    <tr>\n",
       "      <th>9</th>\n",
       "      <td>Alberta</td>\n",
       "      <td>Natural resources, agriculture and related pro...</td>\n",
       "      <td>Women</td>\n",
       "      <td>15175</td>\n",
       "    </tr>\n",
       "    <tr>\n",
       "      <th>10</th>\n",
       "      <td>Alberta</td>\n",
       "      <td>Occupations in art, culture, recreation and sport</td>\n",
       "      <td>Men</td>\n",
       "      <td>17780</td>\n",
       "    </tr>\n",
       "    <tr>\n",
       "      <th>11</th>\n",
       "      <td>Alberta</td>\n",
       "      <td>Occupations in art, culture, recreation and sport</td>\n",
       "      <td>Women</td>\n",
       "      <td>27355</td>\n",
       "    </tr>\n",
       "    <tr>\n",
       "      <th>12</th>\n",
       "      <td>Alberta</td>\n",
       "      <td>Occupations in education, law and social, comm...</td>\n",
       "      <td>Men</td>\n",
       "      <td>76000</td>\n",
       "    </tr>\n",
       "    <tr>\n",
       "      <th>13</th>\n",
       "      <td>Alberta</td>\n",
       "      <td>Occupations in education, law and social, comm...</td>\n",
       "      <td>Women</td>\n",
       "      <td>157265</td>\n",
       "    </tr>\n",
       "    <tr>\n",
       "      <th>14</th>\n",
       "      <td>Alberta</td>\n",
       "      <td>Occupations in manufacturing and utilities</td>\n",
       "      <td>Men</td>\n",
       "      <td>60505</td>\n",
       "    </tr>\n",
       "    <tr>\n",
       "      <th>15</th>\n",
       "      <td>Alberta</td>\n",
       "      <td>Occupations in manufacturing and utilities</td>\n",
       "      <td>Women</td>\n",
       "      <td>16265</td>\n",
       "    </tr>\n",
       "    <tr>\n",
       "      <th>16</th>\n",
       "      <td>Alberta</td>\n",
       "      <td>Sales and service occupations</td>\n",
       "      <td>Men</td>\n",
       "      <td>170640</td>\n",
       "    </tr>\n",
       "    <tr>\n",
       "      <th>17</th>\n",
       "      <td>Alberta</td>\n",
       "      <td>Sales and service occupations</td>\n",
       "      <td>Women</td>\n",
       "      <td>241910</td>\n",
       "    </tr>\n",
       "    <tr>\n",
       "      <th>18</th>\n",
       "      <td>Alberta</td>\n",
       "      <td>Trades, transport and equipment operators and ...</td>\n",
       "      <td>Men</td>\n",
       "      <td>359795</td>\n",
       "    </tr>\n",
       "    <tr>\n",
       "      <th>19</th>\n",
       "      <td>Alberta</td>\n",
       "      <td>Trades, transport and equipment operators and ...</td>\n",
       "      <td>Women</td>\n",
       "      <td>39750</td>\n",
       "    </tr>\n",
       "  </tbody>\n",
       "</table>\n",
       "</div>"
      ],
      "text/plain": [
       "        GEO                                       OCCUPATION_C GENDER   COUNT\n",
       "0   Alberta   Business, finance and administration occupations    Men   98320\n",
       "1   Alberta   Business, finance and administration occupations  Women  248605\n",
       "2   Alberta                                 Health occupations    Men   31680\n",
       "3   Alberta                                 Health occupations  Women  140075\n",
       "4   Alberta      Legislative and senior management occupations    Men   15080\n",
       "5   Alberta      Legislative and senior management occupations  Women    6370\n",
       "6   Alberta  Natural and applied sciences and related occup...    Men  132840\n",
       "7   Alberta  Natural and applied sciences and related occup...  Women   41165\n",
       "8   Alberta  Natural resources, agriculture and related pro...    Men   57725\n",
       "9   Alberta  Natural resources, agriculture and related pro...  Women   15175\n",
       "10  Alberta  Occupations in art, culture, recreation and sport    Men   17780\n",
       "11  Alberta  Occupations in art, culture, recreation and sport  Women   27355\n",
       "12  Alberta  Occupations in education, law and social, comm...    Men   76000\n",
       "13  Alberta  Occupations in education, law and social, comm...  Women  157265\n",
       "14  Alberta         Occupations in manufacturing and utilities    Men   60505\n",
       "15  Alberta         Occupations in manufacturing and utilities  Women   16265\n",
       "16  Alberta                      Sales and service occupations    Men  170640\n",
       "17  Alberta                      Sales and service occupations  Women  241910\n",
       "18  Alberta  Trades, transport and equipment operators and ...    Men  359795\n",
       "19  Alberta  Trades, transport and equipment operators and ...  Women   39750"
      ]
     },
     "execution_count": 308,
     "metadata": {},
     "output_type": "execute_result"
    }
   ],
   "source": [
    "alberta = temp_df[temp_df.GEO == \"Alberta\"].copy()\n",
    "alberta"
   ]
  },
  {
   "cell_type": "code",
   "execution_count": 309,
   "metadata": {},
   "outputs": [
    {
     "data": {
      "application/vnd.plotly.v1+json": {
       "config": {
        "plotlyServerURL": "https://plot.ly"
       },
       "data": [
        {
         "alignmentgroup": "True",
         "cliponaxis": false,
         "hovertemplate": "GENDER=Men<br>Occupation Code=%{x}<br>COUNT=%{y}<extra></extra>",
         "legendgroup": "Men",
         "marker": {
          "color": "#636efa",
          "pattern": {
           "shape": ""
          }
         },
         "name": "Men",
         "offsetgroup": "Men",
         "orientation": "v",
         "showlegend": true,
         "textangle": 0,
         "textfont": {
          "size": 12
         },
         "textposition": "outside",
         "type": "bar",
         "x": [
          "Business, finance and administration occupations",
          "Health occupations",
          "Legislative and senior management occupations",
          "Natural and applied sciences and related occupations",
          "Natural resources, agriculture and related production occupations",
          "Occupations in art, culture, recreation and sport",
          "Occupations in education, law and social, community and government services",
          "Occupations in manufacturing and utilities",
          "Sales and service occupations",
          "Trades, transport and equipment operators and related occupations"
         ],
         "xaxis": "x",
         "y": {
          "bdata": "EIABAMB7AADoOgAA6AYCAH3hAAB0RQAA4CgBAFnsAACQmgIAc30FAA==",
          "dtype": "i4"
         },
         "yaxis": "y"
        },
        {
         "alignmentgroup": "True",
         "cliponaxis": false,
         "hovertemplate": "GENDER=Women<br>Occupation Code=%{x}<br>COUNT=%{y}<extra></extra>",
         "legendgroup": "Women",
         "marker": {
          "color": "#EF553B",
          "pattern": {
           "shape": ""
          }
         },
         "name": "Women",
         "offsetgroup": "Women",
         "orientation": "v",
         "showlegend": true,
         "textangle": 0,
         "textfont": {
          "size": 12
         },
         "textposition": "outside",
         "type": "bar",
         "x": [
          "Business, finance and administration occupations",
          "Health occupations",
          "Legislative and senior management occupations",
          "Natural and applied sciences and related occupations",
          "Natural resources, agriculture and related production occupations",
          "Occupations in art, culture, recreation and sport",
          "Occupations in education, law and social, community and government services",
          "Occupations in manufacturing and utilities",
          "Sales and service occupations",
          "Trades, transport and equipment operators and related occupations"
         ],
         "xaxis": "x",
         "y": {
          "bdata": "HcsDACsjAgDiGAAAzaAAAEc7AADbagAAUWYCAIk/AAD2sAMARpsAAA==",
          "dtype": "i4"
         },
         "yaxis": "y"
        }
       ],
       "layout": {
        "barmode": "group",
        "hovermode": "x unified",
        "legend": {
         "title": {
          "text": "Gender"
         },
         "tracegroupgap": 0
        },
        "plot_bgcolor": "white",
        "template": {
         "data": {
          "bar": [
           {
            "error_x": {
             "color": "#2a3f5f"
            },
            "error_y": {
             "color": "#2a3f5f"
            },
            "marker": {
             "line": {
              "color": "#E5ECF6",
              "width": 0.5
             },
             "pattern": {
              "fillmode": "overlay",
              "size": 10,
              "solidity": 0.2
             }
            },
            "type": "bar"
           }
          ],
          "barpolar": [
           {
            "marker": {
             "line": {
              "color": "#E5ECF6",
              "width": 0.5
             },
             "pattern": {
              "fillmode": "overlay",
              "size": 10,
              "solidity": 0.2
             }
            },
            "type": "barpolar"
           }
          ],
          "carpet": [
           {
            "aaxis": {
             "endlinecolor": "#2a3f5f",
             "gridcolor": "white",
             "linecolor": "white",
             "minorgridcolor": "white",
             "startlinecolor": "#2a3f5f"
            },
            "baxis": {
             "endlinecolor": "#2a3f5f",
             "gridcolor": "white",
             "linecolor": "white",
             "minorgridcolor": "white",
             "startlinecolor": "#2a3f5f"
            },
            "type": "carpet"
           }
          ],
          "choropleth": [
           {
            "colorbar": {
             "outlinewidth": 0,
             "ticks": ""
            },
            "type": "choropleth"
           }
          ],
          "contour": [
           {
            "colorbar": {
             "outlinewidth": 0,
             "ticks": ""
            },
            "colorscale": [
             [
              0,
              "#0d0887"
             ],
             [
              0.1111111111111111,
              "#46039f"
             ],
             [
              0.2222222222222222,
              "#7201a8"
             ],
             [
              0.3333333333333333,
              "#9c179e"
             ],
             [
              0.4444444444444444,
              "#bd3786"
             ],
             [
              0.5555555555555556,
              "#d8576b"
             ],
             [
              0.6666666666666666,
              "#ed7953"
             ],
             [
              0.7777777777777778,
              "#fb9f3a"
             ],
             [
              0.8888888888888888,
              "#fdca26"
             ],
             [
              1,
              "#f0f921"
             ]
            ],
            "type": "contour"
           }
          ],
          "contourcarpet": [
           {
            "colorbar": {
             "outlinewidth": 0,
             "ticks": ""
            },
            "type": "contourcarpet"
           }
          ],
          "heatmap": [
           {
            "colorbar": {
             "outlinewidth": 0,
             "ticks": ""
            },
            "colorscale": [
             [
              0,
              "#0d0887"
             ],
             [
              0.1111111111111111,
              "#46039f"
             ],
             [
              0.2222222222222222,
              "#7201a8"
             ],
             [
              0.3333333333333333,
              "#9c179e"
             ],
             [
              0.4444444444444444,
              "#bd3786"
             ],
             [
              0.5555555555555556,
              "#d8576b"
             ],
             [
              0.6666666666666666,
              "#ed7953"
             ],
             [
              0.7777777777777778,
              "#fb9f3a"
             ],
             [
              0.8888888888888888,
              "#fdca26"
             ],
             [
              1,
              "#f0f921"
             ]
            ],
            "type": "heatmap"
           }
          ],
          "histogram": [
           {
            "marker": {
             "pattern": {
              "fillmode": "overlay",
              "size": 10,
              "solidity": 0.2
             }
            },
            "type": "histogram"
           }
          ],
          "histogram2d": [
           {
            "colorbar": {
             "outlinewidth": 0,
             "ticks": ""
            },
            "colorscale": [
             [
              0,
              "#0d0887"
             ],
             [
              0.1111111111111111,
              "#46039f"
             ],
             [
              0.2222222222222222,
              "#7201a8"
             ],
             [
              0.3333333333333333,
              "#9c179e"
             ],
             [
              0.4444444444444444,
              "#bd3786"
             ],
             [
              0.5555555555555556,
              "#d8576b"
             ],
             [
              0.6666666666666666,
              "#ed7953"
             ],
             [
              0.7777777777777778,
              "#fb9f3a"
             ],
             [
              0.8888888888888888,
              "#fdca26"
             ],
             [
              1,
              "#f0f921"
             ]
            ],
            "type": "histogram2d"
           }
          ],
          "histogram2dcontour": [
           {
            "colorbar": {
             "outlinewidth": 0,
             "ticks": ""
            },
            "colorscale": [
             [
              0,
              "#0d0887"
             ],
             [
              0.1111111111111111,
              "#46039f"
             ],
             [
              0.2222222222222222,
              "#7201a8"
             ],
             [
              0.3333333333333333,
              "#9c179e"
             ],
             [
              0.4444444444444444,
              "#bd3786"
             ],
             [
              0.5555555555555556,
              "#d8576b"
             ],
             [
              0.6666666666666666,
              "#ed7953"
             ],
             [
              0.7777777777777778,
              "#fb9f3a"
             ],
             [
              0.8888888888888888,
              "#fdca26"
             ],
             [
              1,
              "#f0f921"
             ]
            ],
            "type": "histogram2dcontour"
           }
          ],
          "mesh3d": [
           {
            "colorbar": {
             "outlinewidth": 0,
             "ticks": ""
            },
            "type": "mesh3d"
           }
          ],
          "parcoords": [
           {
            "line": {
             "colorbar": {
              "outlinewidth": 0,
              "ticks": ""
             }
            },
            "type": "parcoords"
           }
          ],
          "pie": [
           {
            "automargin": true,
            "type": "pie"
           }
          ],
          "scatter": [
           {
            "fillpattern": {
             "fillmode": "overlay",
             "size": 10,
             "solidity": 0.2
            },
            "type": "scatter"
           }
          ],
          "scatter3d": [
           {
            "line": {
             "colorbar": {
              "outlinewidth": 0,
              "ticks": ""
             }
            },
            "marker": {
             "colorbar": {
              "outlinewidth": 0,
              "ticks": ""
             }
            },
            "type": "scatter3d"
           }
          ],
          "scattercarpet": [
           {
            "marker": {
             "colorbar": {
              "outlinewidth": 0,
              "ticks": ""
             }
            },
            "type": "scattercarpet"
           }
          ],
          "scattergeo": [
           {
            "marker": {
             "colorbar": {
              "outlinewidth": 0,
              "ticks": ""
             }
            },
            "type": "scattergeo"
           }
          ],
          "scattergl": [
           {
            "marker": {
             "colorbar": {
              "outlinewidth": 0,
              "ticks": ""
             }
            },
            "type": "scattergl"
           }
          ],
          "scattermap": [
           {
            "marker": {
             "colorbar": {
              "outlinewidth": 0,
              "ticks": ""
             }
            },
            "type": "scattermap"
           }
          ],
          "scattermapbox": [
           {
            "marker": {
             "colorbar": {
              "outlinewidth": 0,
              "ticks": ""
             }
            },
            "type": "scattermapbox"
           }
          ],
          "scatterpolar": [
           {
            "marker": {
             "colorbar": {
              "outlinewidth": 0,
              "ticks": ""
             }
            },
            "type": "scatterpolar"
           }
          ],
          "scatterpolargl": [
           {
            "marker": {
             "colorbar": {
              "outlinewidth": 0,
              "ticks": ""
             }
            },
            "type": "scatterpolargl"
           }
          ],
          "scatterternary": [
           {
            "marker": {
             "colorbar": {
              "outlinewidth": 0,
              "ticks": ""
             }
            },
            "type": "scatterternary"
           }
          ],
          "surface": [
           {
            "colorbar": {
             "outlinewidth": 0,
             "ticks": ""
            },
            "colorscale": [
             [
              0,
              "#0d0887"
             ],
             [
              0.1111111111111111,
              "#46039f"
             ],
             [
              0.2222222222222222,
              "#7201a8"
             ],
             [
              0.3333333333333333,
              "#9c179e"
             ],
             [
              0.4444444444444444,
              "#bd3786"
             ],
             [
              0.5555555555555556,
              "#d8576b"
             ],
             [
              0.6666666666666666,
              "#ed7953"
             ],
             [
              0.7777777777777778,
              "#fb9f3a"
             ],
             [
              0.8888888888888888,
              "#fdca26"
             ],
             [
              1,
              "#f0f921"
             ]
            ],
            "type": "surface"
           }
          ],
          "table": [
           {
            "cells": {
             "fill": {
              "color": "#EBF0F8"
             },
             "line": {
              "color": "white"
             }
            },
            "header": {
             "fill": {
              "color": "#C8D4E3"
             },
             "line": {
              "color": "white"
             }
            },
            "type": "table"
           }
          ]
         },
         "layout": {
          "annotationdefaults": {
           "arrowcolor": "#2a3f5f",
           "arrowhead": 0,
           "arrowwidth": 1
          },
          "autotypenumbers": "strict",
          "coloraxis": {
           "colorbar": {
            "outlinewidth": 0,
            "ticks": ""
           }
          },
          "colorscale": {
           "diverging": [
            [
             0,
             "#8e0152"
            ],
            [
             0.1,
             "#c51b7d"
            ],
            [
             0.2,
             "#de77ae"
            ],
            [
             0.3,
             "#f1b6da"
            ],
            [
             0.4,
             "#fde0ef"
            ],
            [
             0.5,
             "#f7f7f7"
            ],
            [
             0.6,
             "#e6f5d0"
            ],
            [
             0.7,
             "#b8e186"
            ],
            [
             0.8,
             "#7fbc41"
            ],
            [
             0.9,
             "#4d9221"
            ],
            [
             1,
             "#276419"
            ]
           ],
           "sequential": [
            [
             0,
             "#0d0887"
            ],
            [
             0.1111111111111111,
             "#46039f"
            ],
            [
             0.2222222222222222,
             "#7201a8"
            ],
            [
             0.3333333333333333,
             "#9c179e"
            ],
            [
             0.4444444444444444,
             "#bd3786"
            ],
            [
             0.5555555555555556,
             "#d8576b"
            ],
            [
             0.6666666666666666,
             "#ed7953"
            ],
            [
             0.7777777777777778,
             "#fb9f3a"
            ],
            [
             0.8888888888888888,
             "#fdca26"
            ],
            [
             1,
             "#f0f921"
            ]
           ],
           "sequentialminus": [
            [
             0,
             "#0d0887"
            ],
            [
             0.1111111111111111,
             "#46039f"
            ],
            [
             0.2222222222222222,
             "#7201a8"
            ],
            [
             0.3333333333333333,
             "#9c179e"
            ],
            [
             0.4444444444444444,
             "#bd3786"
            ],
            [
             0.5555555555555556,
             "#d8576b"
            ],
            [
             0.6666666666666666,
             "#ed7953"
            ],
            [
             0.7777777777777778,
             "#fb9f3a"
            ],
            [
             0.8888888888888888,
             "#fdca26"
            ],
            [
             1,
             "#f0f921"
            ]
           ]
          },
          "colorway": [
           "#636efa",
           "#EF553B",
           "#00cc96",
           "#ab63fa",
           "#FFA15A",
           "#19d3f3",
           "#FF6692",
           "#B6E880",
           "#FF97FF",
           "#FECB52"
          ],
          "font": {
           "color": "#2a3f5f"
          },
          "geo": {
           "bgcolor": "white",
           "lakecolor": "white",
           "landcolor": "#E5ECF6",
           "showlakes": true,
           "showland": true,
           "subunitcolor": "white"
          },
          "hoverlabel": {
           "align": "left"
          },
          "hovermode": "closest",
          "mapbox": {
           "style": "light"
          },
          "paper_bgcolor": "white",
          "plot_bgcolor": "#E5ECF6",
          "polar": {
           "angularaxis": {
            "gridcolor": "white",
            "linecolor": "white",
            "ticks": ""
           },
           "bgcolor": "#E5ECF6",
           "radialaxis": {
            "gridcolor": "white",
            "linecolor": "white",
            "ticks": ""
           }
          },
          "scene": {
           "xaxis": {
            "backgroundcolor": "#E5ECF6",
            "gridcolor": "white",
            "gridwidth": 2,
            "linecolor": "white",
            "showbackground": true,
            "ticks": "",
            "zerolinecolor": "white"
           },
           "yaxis": {
            "backgroundcolor": "#E5ECF6",
            "gridcolor": "white",
            "gridwidth": 2,
            "linecolor": "white",
            "showbackground": true,
            "ticks": "",
            "zerolinecolor": "white"
           },
           "zaxis": {
            "backgroundcolor": "#E5ECF6",
            "gridcolor": "white",
            "gridwidth": 2,
            "linecolor": "white",
            "showbackground": true,
            "ticks": "",
            "zerolinecolor": "white"
           }
          },
          "shapedefaults": {
           "line": {
            "color": "#2a3f5f"
           }
          },
          "ternary": {
           "aaxis": {
            "gridcolor": "white",
            "linecolor": "white",
            "ticks": ""
           },
           "baxis": {
            "gridcolor": "white",
            "linecolor": "white",
            "ticks": ""
           },
           "bgcolor": "#E5ECF6",
           "caxis": {
            "gridcolor": "white",
            "linecolor": "white",
            "ticks": ""
           }
          },
          "title": {
           "x": 0.05
          },
          "xaxis": {
           "automargin": true,
           "gridcolor": "white",
           "linecolor": "white",
           "ticks": "",
           "title": {
            "standoff": 15
           },
           "zerolinecolor": "white",
           "zerolinewidth": 2
          },
          "yaxis": {
           "automargin": true,
           "gridcolor": "white",
           "linecolor": "white",
           "ticks": "",
           "title": {
            "standoff": 15
           },
           "zerolinecolor": "white",
           "zerolinewidth": 2
          }
         }
        },
        "title": {
         "text": "Gender Distribution Across Occupations in Alberta"
        },
        "xaxis": {
         "anchor": "y",
         "categoryorder": "total descending",
         "domain": [
          0,
          1
         ],
         "tickangle": -45,
         "title": {
          "text": "Occupation Code"
         }
        },
        "yaxis": {
         "anchor": "x",
         "domain": [
          0,
          1
         ],
         "title": {
          "text": "COUNT"
         }
        }
       }
      }
     },
     "metadata": {},
     "output_type": "display_data"
    }
   ],
   "source": [
    "fig = px.bar(\n",
    "    alberta,\n",
    "    x=\"OCCUPATION_C\",\n",
    "    y=\"COUNT\",\n",
    "    color=\"GENDER\",\n",
    "    barmode=\"group\",\n",
    "    title=\"Gender Distribution Across Occupations in Alberta\",\n",
    "    labels={\"OCCUPATION_C\": \"Occupation Code\", \"Count\": \"Number of People\"},\n",
    ")\n",
    "\n",
    "fig.update_layout(xaxis={\"categoryorder\": \"total descending\"})\n",
    "fig.update_layout(\n",
    "    xaxis_tickangle=-45,\n",
    "    plot_bgcolor=\"white\",\n",
    "    hovermode=\"x unified\",\n",
    "    legend_title_text=\"Gender\",\n",
    ")\n",
    "\n",
    "fig.update_traces(\n",
    "    textfont_size=12, textangle=0, textposition=\"outside\", cliponaxis=False\n",
    ")\n",
    "\n",
    "fig"
   ]
  },
  {
   "cell_type": "code",
   "execution_count": 310,
   "metadata": {},
   "outputs": [
    {
     "data": {
      "text/html": [
       "<div>\n",
       "<style scoped>\n",
       "    .dataframe tbody tr th:only-of-type {\n",
       "        vertical-align: middle;\n",
       "    }\n",
       "\n",
       "    .dataframe tbody tr th {\n",
       "        vertical-align: top;\n",
       "    }\n",
       "\n",
       "    .dataframe thead th {\n",
       "        text-align: right;\n",
       "    }\n",
       "</style>\n",
       "<table border=\"1\" class=\"dataframe\">\n",
       "  <thead>\n",
       "    <tr style=\"text-align: right;\">\n",
       "      <th></th>\n",
       "      <th>GEO</th>\n",
       "      <th>OCCUPATION_C</th>\n",
       "      <th>GENDER</th>\n",
       "      <th>COUNT</th>\n",
       "    </tr>\n",
       "  </thead>\n",
       "  <tbody>\n",
       "    <tr>\n",
       "      <th>0</th>\n",
       "      <td>Alberta</td>\n",
       "      <td>Business, finance and administration occupations</td>\n",
       "      <td>Men</td>\n",
       "      <td>98320</td>\n",
       "    </tr>\n",
       "    <tr>\n",
       "      <th>1</th>\n",
       "      <td>Alberta</td>\n",
       "      <td>Business, finance and administration occupations</td>\n",
       "      <td>Women</td>\n",
       "      <td>248605</td>\n",
       "    </tr>\n",
       "    <tr>\n",
       "      <th>20</th>\n",
       "      <td>British Columbia</td>\n",
       "      <td>Business, finance and administration occupations</td>\n",
       "      <td>Men</td>\n",
       "      <td>121755</td>\n",
       "    </tr>\n",
       "    <tr>\n",
       "      <th>21</th>\n",
       "      <td>British Columbia</td>\n",
       "      <td>Business, finance and administration occupations</td>\n",
       "      <td>Women</td>\n",
       "      <td>287075</td>\n",
       "    </tr>\n",
       "    <tr>\n",
       "      <th>40</th>\n",
       "      <td>Manitoba</td>\n",
       "      <td>Business, finance and administration occupations</td>\n",
       "      <td>Men</td>\n",
       "      <td>28670</td>\n",
       "    </tr>\n",
       "    <tr>\n",
       "      <th>41</th>\n",
       "      <td>Manitoba</td>\n",
       "      <td>Business, finance and administration occupations</td>\n",
       "      <td>Women</td>\n",
       "      <td>67945</td>\n",
       "    </tr>\n",
       "    <tr>\n",
       "      <th>60</th>\n",
       "      <td>New Brunswick</td>\n",
       "      <td>Business, finance and administration occupations</td>\n",
       "      <td>Men</td>\n",
       "      <td>14880</td>\n",
       "    </tr>\n",
       "    <tr>\n",
       "      <th>61</th>\n",
       "      <td>New Brunswick</td>\n",
       "      <td>Business, finance and administration occupations</td>\n",
       "      <td>Women</td>\n",
       "      <td>39110</td>\n",
       "    </tr>\n",
       "    <tr>\n",
       "      <th>80</th>\n",
       "      <td>Newfoundland and Labrador</td>\n",
       "      <td>Business, finance and administration occupations</td>\n",
       "      <td>Men</td>\n",
       "      <td>7625</td>\n",
       "    </tr>\n",
       "    <tr>\n",
       "      <th>81</th>\n",
       "      <td>Newfoundland and Labrador</td>\n",
       "      <td>Business, finance and administration occupations</td>\n",
       "      <td>Women</td>\n",
       "      <td>22885</td>\n",
       "    </tr>\n",
       "    <tr>\n",
       "      <th>100</th>\n",
       "      <td>Northwest Territories</td>\n",
       "      <td>Business, finance and administration occupations</td>\n",
       "      <td>Men</td>\n",
       "      <td>905</td>\n",
       "    </tr>\n",
       "    <tr>\n",
       "      <th>101</th>\n",
       "      <td>Northwest Territories</td>\n",
       "      <td>Business, finance and administration occupations</td>\n",
       "      <td>Women</td>\n",
       "      <td>2820</td>\n",
       "    </tr>\n",
       "    <tr>\n",
       "      <th>120</th>\n",
       "      <td>Nova Scotia</td>\n",
       "      <td>Business, finance and administration occupations</td>\n",
       "      <td>Men</td>\n",
       "      <td>19025</td>\n",
       "    </tr>\n",
       "    <tr>\n",
       "      <th>121</th>\n",
       "      <td>Nova Scotia</td>\n",
       "      <td>Business, finance and administration occupations</td>\n",
       "      <td>Women</td>\n",
       "      <td>48250</td>\n",
       "    </tr>\n",
       "    <tr>\n",
       "      <th>140</th>\n",
       "      <td>Nunavut</td>\n",
       "      <td>Business, finance and administration occupations</td>\n",
       "      <td>Men</td>\n",
       "      <td>560</td>\n",
       "    </tr>\n",
       "    <tr>\n",
       "      <th>141</th>\n",
       "      <td>Nunavut</td>\n",
       "      <td>Business, finance and administration occupations</td>\n",
       "      <td>Women</td>\n",
       "      <td>1615</td>\n",
       "    </tr>\n",
       "    <tr>\n",
       "      <th>160</th>\n",
       "      <td>Ontario</td>\n",
       "      <td>Business, finance and administration occupations</td>\n",
       "      <td>Men</td>\n",
       "      <td>396015</td>\n",
       "    </tr>\n",
       "    <tr>\n",
       "      <th>161</th>\n",
       "      <td>Ontario</td>\n",
       "      <td>Business, finance and administration occupations</td>\n",
       "      <td>Women</td>\n",
       "      <td>814415</td>\n",
       "    </tr>\n",
       "    <tr>\n",
       "      <th>180</th>\n",
       "      <td>Prince Edward Island</td>\n",
       "      <td>Business, finance and administration occupations</td>\n",
       "      <td>Men</td>\n",
       "      <td>2965</td>\n",
       "    </tr>\n",
       "    <tr>\n",
       "      <th>181</th>\n",
       "      <td>Prince Edward Island</td>\n",
       "      <td>Business, finance and administration occupations</td>\n",
       "      <td>Women</td>\n",
       "      <td>8035</td>\n",
       "    </tr>\n",
       "    <tr>\n",
       "      <th>200</th>\n",
       "      <td>Quebec</td>\n",
       "      <td>Business, finance and administration occupations</td>\n",
       "      <td>Men</td>\n",
       "      <td>227215</td>\n",
       "    </tr>\n",
       "    <tr>\n",
       "      <th>201</th>\n",
       "      <td>Quebec</td>\n",
       "      <td>Business, finance and administration occupations</td>\n",
       "      <td>Women</td>\n",
       "      <td>487910</td>\n",
       "    </tr>\n",
       "    <tr>\n",
       "      <th>220</th>\n",
       "      <td>Saskatchewan</td>\n",
       "      <td>Business, finance and administration occupations</td>\n",
       "      <td>Men</td>\n",
       "      <td>19345</td>\n",
       "    </tr>\n",
       "    <tr>\n",
       "      <th>221</th>\n",
       "      <td>Saskatchewan</td>\n",
       "      <td>Business, finance and administration occupations</td>\n",
       "      <td>Women</td>\n",
       "      <td>55900</td>\n",
       "    </tr>\n",
       "    <tr>\n",
       "      <th>240</th>\n",
       "      <td>Yukon</td>\n",
       "      <td>Business, finance and administration occupations</td>\n",
       "      <td>Men</td>\n",
       "      <td>850</td>\n",
       "    </tr>\n",
       "    <tr>\n",
       "      <th>241</th>\n",
       "      <td>Yukon</td>\n",
       "      <td>Business, finance and administration occupations</td>\n",
       "      <td>Women</td>\n",
       "      <td>2920</td>\n",
       "    </tr>\n",
       "  </tbody>\n",
       "</table>\n",
       "</div>"
      ],
      "text/plain": [
       "                           GEO  \\\n",
       "0                      Alberta   \n",
       "1                      Alberta   \n",
       "20            British Columbia   \n",
       "21            British Columbia   \n",
       "40                    Manitoba   \n",
       "41                    Manitoba   \n",
       "60               New Brunswick   \n",
       "61               New Brunswick   \n",
       "80   Newfoundland and Labrador   \n",
       "81   Newfoundland and Labrador   \n",
       "100      Northwest Territories   \n",
       "101      Northwest Territories   \n",
       "120                Nova Scotia   \n",
       "121                Nova Scotia   \n",
       "140                    Nunavut   \n",
       "141                    Nunavut   \n",
       "160                    Ontario   \n",
       "161                    Ontario   \n",
       "180       Prince Edward Island   \n",
       "181       Prince Edward Island   \n",
       "200                     Quebec   \n",
       "201                     Quebec   \n",
       "220               Saskatchewan   \n",
       "221               Saskatchewan   \n",
       "240                      Yukon   \n",
       "241                      Yukon   \n",
       "\n",
       "                                         OCCUPATION_C GENDER   COUNT  \n",
       "0    Business, finance and administration occupations    Men   98320  \n",
       "1    Business, finance and administration occupations  Women  248605  \n",
       "20   Business, finance and administration occupations    Men  121755  \n",
       "21   Business, finance and administration occupations  Women  287075  \n",
       "40   Business, finance and administration occupations    Men   28670  \n",
       "41   Business, finance and administration occupations  Women   67945  \n",
       "60   Business, finance and administration occupations    Men   14880  \n",
       "61   Business, finance and administration occupations  Women   39110  \n",
       "80   Business, finance and administration occupations    Men    7625  \n",
       "81   Business, finance and administration occupations  Women   22885  \n",
       "100  Business, finance and administration occupations    Men     905  \n",
       "101  Business, finance and administration occupations  Women    2820  \n",
       "120  Business, finance and administration occupations    Men   19025  \n",
       "121  Business, finance and administration occupations  Women   48250  \n",
       "140  Business, finance and administration occupations    Men     560  \n",
       "141  Business, finance and administration occupations  Women    1615  \n",
       "160  Business, finance and administration occupations    Men  396015  \n",
       "161  Business, finance and administration occupations  Women  814415  \n",
       "180  Business, finance and administration occupations    Men    2965  \n",
       "181  Business, finance and administration occupations  Women    8035  \n",
       "200  Business, finance and administration occupations    Men  227215  \n",
       "201  Business, finance and administration occupations  Women  487910  \n",
       "220  Business, finance and administration occupations    Men   19345  \n",
       "221  Business, finance and administration occupations  Women   55900  \n",
       "240  Business, finance and administration occupations    Men     850  \n",
       "241  Business, finance and administration occupations  Women    2920  "
      ]
     },
     "execution_count": 310,
     "metadata": {},
     "output_type": "execute_result"
    }
   ],
   "source": [
    "industry = temp_df[\n",
    "    temp_df.OCCUPATION_C == \"Business, finance and administration occupations\"\n",
    "].copy()\n",
    "industry"
   ]
  },
  {
   "cell_type": "markdown",
   "metadata": {},
   "source": [
    "FINAL HA"
   ]
  },
  {
   "cell_type": "code",
   "execution_count": 311,
   "metadata": {},
   "outputs": [
    {
     "data": {
      "application/vnd.plotly.v1+json": {
       "config": {
        "plotlyServerURL": "https://plot.ly"
       },
       "data": [
        {
         "alignmentgroup": "True",
         "cliponaxis": false,
         "hovertemplate": "<b>Region:</b> %{x}<br><b>Count:</b> %{y}<extra></extra>",
         "legendgroup": "Men",
         "marker": {
          "color": "rgb(204,204,204)",
          "pattern": {
           "shape": ""
          }
         },
         "name": "Men",
         "offsetgroup": "Men",
         "orientation": "v",
         "showlegend": true,
         "textangle": 0,
         "textfont": {
          "size": 10
         },
         "textposition": "outside",
         "texttemplate": "%{y:.2s}",
         "type": "bar",
         "x": [
          "Alberta",
          "British Columbia",
          "Manitoba",
          "New Brunswick",
          "Newfoundland and Labrador",
          "Northwest Territories",
          "Nova Scotia",
          "Nunavut",
          "Ontario",
          "Prince Edward Island",
          "Quebec",
          "Saskatchewan",
          "Yukon"
         ],
         "xaxis": "x",
         "y": {
          "bdata": "EIABAJvbAQD+bwAAIDoAAMkdAACJAwAAUUoAADACAADvCgYAlQsAAI93AwCRSwAAUgMAAA==",
          "dtype": "i4"
         },
         "yaxis": "y"
        },
        {
         "alignmentgroup": "True",
         "cliponaxis": false,
         "hovertemplate": "<b>Region:</b> %{x}<br><b>Count:</b> %{y}<extra></extra>",
         "legendgroup": "Women",
         "marker": {
          "color": "rgb(241,226,204)",
          "pattern": {
           "shape": ""
          }
         },
         "name": "Women",
         "offsetgroup": "Women",
         "orientation": "v",
         "showlegend": true,
         "textangle": 0,
         "textfont": {
          "size": 10
         },
         "textposition": "outside",
         "texttemplate": "%{y:.2s}",
         "type": "bar",
         "x": [
          "Alberta",
          "British Columbia",
          "Manitoba",
          "New Brunswick",
          "Newfoundland and Labrador",
          "Northwest Territories",
          "Nova Scotia",
          "Nunavut",
          "Ontario",
          "Prince Edward Island",
          "Quebec",
          "Saskatchewan",
          "Yukon"
         ],
         "xaxis": "x",
         "y": {
          "bdata": "HcsDAGNhBABpCQEAxpgAAGVZAAAECwAAerwAAE8GAABPbQwAYx8AAOZxBwBc2gAAaAsAAA==",
          "dtype": "i4"
         },
         "yaxis": "y"
        }
       ],
       "layout": {
        "barmode": "group",
        "height": 600,
        "legend": {
         "bordercolor": "black",
         "borderwidth": 1,
         "orientation": "h",
         "title": {},
         "tracegroupgap": 0,
         "x": 1,
         "xanchor": "right",
         "y": 1,
         "yanchor": "bottom"
        },
        "margin": {
         "b": 100,
         "l": 50,
         "r": 50,
         "t": 80
        },
        "template": {
         "data": {
          "bar": [
           {
            "error_x": {
             "color": "#2a3f5f"
            },
            "error_y": {
             "color": "#2a3f5f"
            },
            "marker": {
             "line": {
              "color": "white",
              "width": 0.5
             },
             "pattern": {
              "fillmode": "overlay",
              "size": 10,
              "solidity": 0.2
             }
            },
            "type": "bar"
           }
          ],
          "barpolar": [
           {
            "marker": {
             "line": {
              "color": "white",
              "width": 0.5
             },
             "pattern": {
              "fillmode": "overlay",
              "size": 10,
              "solidity": 0.2
             }
            },
            "type": "barpolar"
           }
          ],
          "carpet": [
           {
            "aaxis": {
             "endlinecolor": "#2a3f5f",
             "gridcolor": "#C8D4E3",
             "linecolor": "#C8D4E3",
             "minorgridcolor": "#C8D4E3",
             "startlinecolor": "#2a3f5f"
            },
            "baxis": {
             "endlinecolor": "#2a3f5f",
             "gridcolor": "#C8D4E3",
             "linecolor": "#C8D4E3",
             "minorgridcolor": "#C8D4E3",
             "startlinecolor": "#2a3f5f"
            },
            "type": "carpet"
           }
          ],
          "choropleth": [
           {
            "colorbar": {
             "outlinewidth": 0,
             "ticks": ""
            },
            "type": "choropleth"
           }
          ],
          "contour": [
           {
            "colorbar": {
             "outlinewidth": 0,
             "ticks": ""
            },
            "colorscale": [
             [
              0,
              "#0d0887"
             ],
             [
              0.1111111111111111,
              "#46039f"
             ],
             [
              0.2222222222222222,
              "#7201a8"
             ],
             [
              0.3333333333333333,
              "#9c179e"
             ],
             [
              0.4444444444444444,
              "#bd3786"
             ],
             [
              0.5555555555555556,
              "#d8576b"
             ],
             [
              0.6666666666666666,
              "#ed7953"
             ],
             [
              0.7777777777777778,
              "#fb9f3a"
             ],
             [
              0.8888888888888888,
              "#fdca26"
             ],
             [
              1,
              "#f0f921"
             ]
            ],
            "type": "contour"
           }
          ],
          "contourcarpet": [
           {
            "colorbar": {
             "outlinewidth": 0,
             "ticks": ""
            },
            "type": "contourcarpet"
           }
          ],
          "heatmap": [
           {
            "colorbar": {
             "outlinewidth": 0,
             "ticks": ""
            },
            "colorscale": [
             [
              0,
              "#0d0887"
             ],
             [
              0.1111111111111111,
              "#46039f"
             ],
             [
              0.2222222222222222,
              "#7201a8"
             ],
             [
              0.3333333333333333,
              "#9c179e"
             ],
             [
              0.4444444444444444,
              "#bd3786"
             ],
             [
              0.5555555555555556,
              "#d8576b"
             ],
             [
              0.6666666666666666,
              "#ed7953"
             ],
             [
              0.7777777777777778,
              "#fb9f3a"
             ],
             [
              0.8888888888888888,
              "#fdca26"
             ],
             [
              1,
              "#f0f921"
             ]
            ],
            "type": "heatmap"
           }
          ],
          "histogram": [
           {
            "marker": {
             "pattern": {
              "fillmode": "overlay",
              "size": 10,
              "solidity": 0.2
             }
            },
            "type": "histogram"
           }
          ],
          "histogram2d": [
           {
            "colorbar": {
             "outlinewidth": 0,
             "ticks": ""
            },
            "colorscale": [
             [
              0,
              "#0d0887"
             ],
             [
              0.1111111111111111,
              "#46039f"
             ],
             [
              0.2222222222222222,
              "#7201a8"
             ],
             [
              0.3333333333333333,
              "#9c179e"
             ],
             [
              0.4444444444444444,
              "#bd3786"
             ],
             [
              0.5555555555555556,
              "#d8576b"
             ],
             [
              0.6666666666666666,
              "#ed7953"
             ],
             [
              0.7777777777777778,
              "#fb9f3a"
             ],
             [
              0.8888888888888888,
              "#fdca26"
             ],
             [
              1,
              "#f0f921"
             ]
            ],
            "type": "histogram2d"
           }
          ],
          "histogram2dcontour": [
           {
            "colorbar": {
             "outlinewidth": 0,
             "ticks": ""
            },
            "colorscale": [
             [
              0,
              "#0d0887"
             ],
             [
              0.1111111111111111,
              "#46039f"
             ],
             [
              0.2222222222222222,
              "#7201a8"
             ],
             [
              0.3333333333333333,
              "#9c179e"
             ],
             [
              0.4444444444444444,
              "#bd3786"
             ],
             [
              0.5555555555555556,
              "#d8576b"
             ],
             [
              0.6666666666666666,
              "#ed7953"
             ],
             [
              0.7777777777777778,
              "#fb9f3a"
             ],
             [
              0.8888888888888888,
              "#fdca26"
             ],
             [
              1,
              "#f0f921"
             ]
            ],
            "type": "histogram2dcontour"
           }
          ],
          "mesh3d": [
           {
            "colorbar": {
             "outlinewidth": 0,
             "ticks": ""
            },
            "type": "mesh3d"
           }
          ],
          "parcoords": [
           {
            "line": {
             "colorbar": {
              "outlinewidth": 0,
              "ticks": ""
             }
            },
            "type": "parcoords"
           }
          ],
          "pie": [
           {
            "automargin": true,
            "type": "pie"
           }
          ],
          "scatter": [
           {
            "fillpattern": {
             "fillmode": "overlay",
             "size": 10,
             "solidity": 0.2
            },
            "type": "scatter"
           }
          ],
          "scatter3d": [
           {
            "line": {
             "colorbar": {
              "outlinewidth": 0,
              "ticks": ""
             }
            },
            "marker": {
             "colorbar": {
              "outlinewidth": 0,
              "ticks": ""
             }
            },
            "type": "scatter3d"
           }
          ],
          "scattercarpet": [
           {
            "marker": {
             "colorbar": {
              "outlinewidth": 0,
              "ticks": ""
             }
            },
            "type": "scattercarpet"
           }
          ],
          "scattergeo": [
           {
            "marker": {
             "colorbar": {
              "outlinewidth": 0,
              "ticks": ""
             }
            },
            "type": "scattergeo"
           }
          ],
          "scattergl": [
           {
            "marker": {
             "colorbar": {
              "outlinewidth": 0,
              "ticks": ""
             }
            },
            "type": "scattergl"
           }
          ],
          "scattermap": [
           {
            "marker": {
             "colorbar": {
              "outlinewidth": 0,
              "ticks": ""
             }
            },
            "type": "scattermap"
           }
          ],
          "scattermapbox": [
           {
            "marker": {
             "colorbar": {
              "outlinewidth": 0,
              "ticks": ""
             }
            },
            "type": "scattermapbox"
           }
          ],
          "scatterpolar": [
           {
            "marker": {
             "colorbar": {
              "outlinewidth": 0,
              "ticks": ""
             }
            },
            "type": "scatterpolar"
           }
          ],
          "scatterpolargl": [
           {
            "marker": {
             "colorbar": {
              "outlinewidth": 0,
              "ticks": ""
             }
            },
            "type": "scatterpolargl"
           }
          ],
          "scatterternary": [
           {
            "marker": {
             "colorbar": {
              "outlinewidth": 0,
              "ticks": ""
             }
            },
            "type": "scatterternary"
           }
          ],
          "surface": [
           {
            "colorbar": {
             "outlinewidth": 0,
             "ticks": ""
            },
            "colorscale": [
             [
              0,
              "#0d0887"
             ],
             [
              0.1111111111111111,
              "#46039f"
             ],
             [
              0.2222222222222222,
              "#7201a8"
             ],
             [
              0.3333333333333333,
              "#9c179e"
             ],
             [
              0.4444444444444444,
              "#bd3786"
             ],
             [
              0.5555555555555556,
              "#d8576b"
             ],
             [
              0.6666666666666666,
              "#ed7953"
             ],
             [
              0.7777777777777778,
              "#fb9f3a"
             ],
             [
              0.8888888888888888,
              "#fdca26"
             ],
             [
              1,
              "#f0f921"
             ]
            ],
            "type": "surface"
           }
          ],
          "table": [
           {
            "cells": {
             "fill": {
              "color": "#EBF0F8"
             },
             "line": {
              "color": "white"
             }
            },
            "header": {
             "fill": {
              "color": "#C8D4E3"
             },
             "line": {
              "color": "white"
             }
            },
            "type": "table"
           }
          ]
         },
         "layout": {
          "annotationdefaults": {
           "arrowcolor": "#2a3f5f",
           "arrowhead": 0,
           "arrowwidth": 1
          },
          "autotypenumbers": "strict",
          "coloraxis": {
           "colorbar": {
            "outlinewidth": 0,
            "ticks": ""
           }
          },
          "colorscale": {
           "diverging": [
            [
             0,
             "#8e0152"
            ],
            [
             0.1,
             "#c51b7d"
            ],
            [
             0.2,
             "#de77ae"
            ],
            [
             0.3,
             "#f1b6da"
            ],
            [
             0.4,
             "#fde0ef"
            ],
            [
             0.5,
             "#f7f7f7"
            ],
            [
             0.6,
             "#e6f5d0"
            ],
            [
             0.7,
             "#b8e186"
            ],
            [
             0.8,
             "#7fbc41"
            ],
            [
             0.9,
             "#4d9221"
            ],
            [
             1,
             "#276419"
            ]
           ],
           "sequential": [
            [
             0,
             "#0d0887"
            ],
            [
             0.1111111111111111,
             "#46039f"
            ],
            [
             0.2222222222222222,
             "#7201a8"
            ],
            [
             0.3333333333333333,
             "#9c179e"
            ],
            [
             0.4444444444444444,
             "#bd3786"
            ],
            [
             0.5555555555555556,
             "#d8576b"
            ],
            [
             0.6666666666666666,
             "#ed7953"
            ],
            [
             0.7777777777777778,
             "#fb9f3a"
            ],
            [
             0.8888888888888888,
             "#fdca26"
            ],
            [
             1,
             "#f0f921"
            ]
           ],
           "sequentialminus": [
            [
             0,
             "#0d0887"
            ],
            [
             0.1111111111111111,
             "#46039f"
            ],
            [
             0.2222222222222222,
             "#7201a8"
            ],
            [
             0.3333333333333333,
             "#9c179e"
            ],
            [
             0.4444444444444444,
             "#bd3786"
            ],
            [
             0.5555555555555556,
             "#d8576b"
            ],
            [
             0.6666666666666666,
             "#ed7953"
            ],
            [
             0.7777777777777778,
             "#fb9f3a"
            ],
            [
             0.8888888888888888,
             "#fdca26"
            ],
            [
             1,
             "#f0f921"
            ]
           ]
          },
          "colorway": [
           "#636efa",
           "#EF553B",
           "#00cc96",
           "#ab63fa",
           "#FFA15A",
           "#19d3f3",
           "#FF6692",
           "#B6E880",
           "#FF97FF",
           "#FECB52"
          ],
          "font": {
           "color": "#2a3f5f"
          },
          "geo": {
           "bgcolor": "white",
           "lakecolor": "white",
           "landcolor": "white",
           "showlakes": true,
           "showland": true,
           "subunitcolor": "#C8D4E3"
          },
          "hoverlabel": {
           "align": "left"
          },
          "hovermode": "closest",
          "mapbox": {
           "style": "light"
          },
          "paper_bgcolor": "white",
          "plot_bgcolor": "white",
          "polar": {
           "angularaxis": {
            "gridcolor": "#EBF0F8",
            "linecolor": "#EBF0F8",
            "ticks": ""
           },
           "bgcolor": "white",
           "radialaxis": {
            "gridcolor": "#EBF0F8",
            "linecolor": "#EBF0F8",
            "ticks": ""
           }
          },
          "scene": {
           "xaxis": {
            "backgroundcolor": "white",
            "gridcolor": "#DFE8F3",
            "gridwidth": 2,
            "linecolor": "#EBF0F8",
            "showbackground": true,
            "ticks": "",
            "zerolinecolor": "#EBF0F8"
           },
           "yaxis": {
            "backgroundcolor": "white",
            "gridcolor": "#DFE8F3",
            "gridwidth": 2,
            "linecolor": "#EBF0F8",
            "showbackground": true,
            "ticks": "",
            "zerolinecolor": "#EBF0F8"
           },
           "zaxis": {
            "backgroundcolor": "white",
            "gridcolor": "#DFE8F3",
            "gridwidth": 2,
            "linecolor": "#EBF0F8",
            "showbackground": true,
            "ticks": "",
            "zerolinecolor": "#EBF0F8"
           }
          },
          "shapedefaults": {
           "line": {
            "color": "#2a3f5f"
           }
          },
          "ternary": {
           "aaxis": {
            "gridcolor": "#DFE8F3",
            "linecolor": "#A2B1C6",
            "ticks": ""
           },
           "baxis": {
            "gridcolor": "#DFE8F3",
            "linecolor": "#A2B1C6",
            "ticks": ""
           },
           "bgcolor": "white",
           "caxis": {
            "gridcolor": "#DFE8F3",
            "linecolor": "#A2B1C6",
            "ticks": ""
           }
          },
          "title": {
           "x": 0.05
          },
          "xaxis": {
           "automargin": true,
           "gridcolor": "#EBF0F8",
           "linecolor": "#EBF0F8",
           "ticks": "",
           "title": {
            "standoff": 15
           },
           "zerolinecolor": "#EBF0F8",
           "zerolinewidth": 2
          },
          "yaxis": {
           "automargin": true,
           "gridcolor": "#EBF0F8",
           "linecolor": "#EBF0F8",
           "ticks": "",
           "title": {
            "standoff": 15
           },
           "zerolinecolor": "#EBF0F8",
           "zerolinewidth": 2
          }
         }
        },
        "title": {
         "font": {
          "color": "#2a4978",
          "family": "Arial",
          "size": 20
         },
         "text": "<b>Gender Composition of  Aerospace Engineering Departments Across Canada</b>"
        },
        "xaxis": {
         "anchor": "y",
         "categoryorder": "total descending",
         "domain": [
          0,
          1
         ],
         "tickangle": -30,
         "tickfont": {
          "size": 12
         },
         "title": {
          "font": {
           "size": 12
          },
          "text": "<b>Administrative Units</b>"
         }
        },
        "yaxis": {
         "anchor": "x",
         "domain": [
          0,
          1
         ],
         "gridcolor": "rgba(200, 200, 200, 0.3)",
         "showgrid": true,
         "tickfont": {
          "size": 12
         },
         "title": {
          "font": {
           "size": 12
          },
          "text": "<b>Number of People (Log Scale)</b>"
         },
         "type": "log"
        }
       }
      }
     },
     "metadata": {},
     "output_type": "display_data"
    }
   ],
   "source": [
    "fig = px.bar(\n",
    "    industry,\n",
    "    x=\"GEO\",\n",
    "    y=\"COUNT\",\n",
    "    color=\"GENDER\",\n",
    "    barmode=\"group\",\n",
    "    log_y=True,\n",
    "    template=\"plotly_white\",\n",
    "    color_discrete_sequence=px.colors.qualitative.Pastel2_r,\n",
    ")\n",
    "\n",
    "fig.update_layout(xaxis={\"categoryorder\": \"total descending\"})\n",
    "\n",
    "fig.update_layout(\n",
    "    xaxis_tickangle=-30,\n",
    "    xaxis=dict(\n",
    "        categoryorder=\"total descending\",\n",
    "        tickangle=-30,\n",
    "        title=\"<b>Administrative Units</b>\",\n",
    "        tickfont=dict(size=12),\n",
    "        title_font=dict(size=12 ),\n",
    "    ),\n",
    "    yaxis=dict(\n",
    "        title=\"<b>Number of People (Log Scale)</b>\",\n",
    "        tickfont=dict(size=12),\n",
    "        title_font=dict(size=12),\n",
    "        showgrid=True,\n",
    "        gridcolor=\"rgba(200, 200, 200, 0.3)\",\n",
    "    ),\n",
    "    height=600,\n",
    "    margin=dict(l=50, r=50, t=80, b=100),\n",
    ")\n",
    "\n",
    "# update Tile\n",
    "fig.update_layout(\n",
    "    title=dict(\n",
    "        text=\"<b>Gender Composition of  Aerospace Engineering Departments Across Canada</b>\",\n",
    "        font=dict(size=20, family=\"Arial\", color=\"#2a4978\"),\n",
    "    )\n",
    ")\n",
    "fig.update_layout(\n",
    "    legend=dict(\n",
    "        orientation=\"h\",\n",
    "        title=None,\n",
    "        y=1,\n",
    "        x=1,\n",
    "        xanchor=\"right\",\n",
    "        yanchor=\"bottom\",\n",
    "    ),\n",
    "    legend_bordercolor=\"black\",\n",
    "    legend_borderwidth=1,\n",
    ")\n",
    "fig.update_traces(\n",
    "    textfont_size=10,\n",
    "    textangle=0,\n",
    "    textposition=\"outside\",\n",
    "    cliponaxis=False,\n",
    "    texttemplate=\"%{y:.2s}\",\n",
    "    hovertemplate=\"<b>Region:</b> %{x}<br>\"\n",
    "    \"<b>Count:</b> %{y}<extra></extra>\",\n",
    ")\n",
    "\n",
    "\n",
    "fig"
   ]
  },
  {
   "cell_type": "code",
   "execution_count": 312,
   "metadata": {},
   "outputs": [
    {
     "data": {
      "text/html": [
       "<div>\n",
       "<style scoped>\n",
       "    .dataframe tbody tr th:only-of-type {\n",
       "        vertical-align: middle;\n",
       "    }\n",
       "\n",
       "    .dataframe tbody tr th {\n",
       "        vertical-align: top;\n",
       "    }\n",
       "\n",
       "    .dataframe thead th {\n",
       "        text-align: right;\n",
       "    }\n",
       "</style>\n",
       "<table border=\"1\" class=\"dataframe\">\n",
       "  <thead>\n",
       "    <tr style=\"text-align: right;\">\n",
       "      <th></th>\n",
       "      <th>GEO</th>\n",
       "      <th>OCCUPATION_C</th>\n",
       "      <th>COUNT</th>\n",
       "    </tr>\n",
       "  </thead>\n",
       "  <tbody>\n",
       "    <tr>\n",
       "      <th>0</th>\n",
       "      <td>Alberta</td>\n",
       "      <td>Accommodation service managers</td>\n",
       "      <td>3040</td>\n",
       "    </tr>\n",
       "    <tr>\n",
       "      <th>1</th>\n",
       "      <td>Alberta</td>\n",
       "      <td>Accommodation, travel, tourism and related ser...</td>\n",
       "      <td>930</td>\n",
       "    </tr>\n",
       "    <tr>\n",
       "      <th>2</th>\n",
       "      <td>Alberta</td>\n",
       "      <td>Accounting and related clerks</td>\n",
       "      <td>18610</td>\n",
       "    </tr>\n",
       "    <tr>\n",
       "      <th>3</th>\n",
       "      <td>Alberta</td>\n",
       "      <td>Accounting technicians and bookkeepers</td>\n",
       "      <td>17935</td>\n",
       "    </tr>\n",
       "    <tr>\n",
       "      <th>4</th>\n",
       "      <td>Alberta</td>\n",
       "      <td>Actors, comedians and circus performers</td>\n",
       "      <td>735</td>\n",
       "    </tr>\n",
       "    <tr>\n",
       "      <th>...</th>\n",
       "      <td>...</td>\n",
       "      <td>...</td>\n",
       "      <td>...</td>\n",
       "    </tr>\n",
       "    <tr>\n",
       "      <th>5625</th>\n",
       "      <td>Yukon</td>\n",
       "      <td>Utilities managers</td>\n",
       "      <td>20</td>\n",
       "    </tr>\n",
       "    <tr>\n",
       "      <th>5626</th>\n",
       "      <td>Yukon</td>\n",
       "      <td>Veterinarians</td>\n",
       "      <td>20</td>\n",
       "    </tr>\n",
       "    <tr>\n",
       "      <th>5627</th>\n",
       "      <td>Yukon</td>\n",
       "      <td>Water and waste treatment plant operators</td>\n",
       "      <td>50</td>\n",
       "    </tr>\n",
       "    <tr>\n",
       "      <th>5628</th>\n",
       "      <td>Yukon</td>\n",
       "      <td>Web developers and programmers</td>\n",
       "      <td>15</td>\n",
       "    </tr>\n",
       "    <tr>\n",
       "      <th>5629</th>\n",
       "      <td>Yukon</td>\n",
       "      <td>Welders and related machine operators</td>\n",
       "      <td>20</td>\n",
       "    </tr>\n",
       "  </tbody>\n",
       "</table>\n",
       "<p>5630 rows × 3 columns</p>\n",
       "</div>"
      ],
      "text/plain": [
       "          GEO                                       OCCUPATION_C  COUNT\n",
       "0     Alberta                     Accommodation service managers   3040\n",
       "1     Alberta  Accommodation, travel, tourism and related ser...    930\n",
       "2     Alberta                      Accounting and related clerks  18610\n",
       "3     Alberta             Accounting technicians and bookkeepers  17935\n",
       "4     Alberta            Actors, comedians and circus performers    735\n",
       "...       ...                                                ...    ...\n",
       "5625    Yukon                                 Utilities managers     20\n",
       "5626    Yukon                                      Veterinarians     20\n",
       "5627    Yukon          Water and waste treatment plant operators     50\n",
       "5628    Yukon                     Web developers and programmers     15\n",
       "5629    Yukon              Welders and related machine operators     20\n",
       "\n",
       "[5630 rows x 3 columns]"
      ]
     },
     "execution_count": 312,
     "metadata": {},
     "output_type": "execute_result"
    }
   ],
   "source": [
    "cat_5_df = master_df[master_df.Hierarchy == 5].groupby([\"GEO\", \"OCCUPATION_C\"],as_index=False).COUNT.sum()\n",
    "cat_5_df"
   ]
  },
  {
   "cell_type": "code",
   "execution_count": 313,
   "metadata": {},
   "outputs": [
    {
     "data": {
      "text/plain": [
       "array(['Accommodation service managers',\n",
       "       'Accommodation, travel, tourism and related services supervisors',\n",
       "       'Accounting and related clerks',\n",
       "       'Accounting technicians and bookkeepers',\n",
       "       'Actors, comedians and circus performers',\n",
       "       'Administrative assistants', 'Administrative officers',\n",
       "       'Administrators - post-secondary education and vocational training',\n",
       "       'Advertising, marketing and public relations managers',\n",
       "       'Aerospace engineers', 'Agricultural and fish products inspectors',\n",
       "       'Agricultural representatives, consultants and specialists',\n",
       "       'Agricultural service contractors and farm supervisors',\n",
       "       'Air pilots, flight engineers and flying instructors',\n",
       "       'Air traffic controllers and related occupations',\n",
       "       'Air transport ramp attendants',\n",
       "       'Aircraft assemblers and aircraft assembly inspectors',\n",
       "       'Aircraft instrument, electrical and avionics mechanics, technicians and inspectors',\n",
       "       'Aircraft mechanics and aircraft inspectors',\n",
       "       'Airline ticket and service agents',\n",
       "       'Animal health technologists and veterinary technicians',\n",
       "       'Announcers and other broadcasters',\n",
       "       'Appliance servicers and repairers', 'Architects',\n",
       "       'Architectural technologists and technicians',\n",
       "       'Architecture and science managers', 'Archivists',\n",
       "       'Artisans and craftspersons',\n",
       "       'Assemblers and inspectors of other wood products',\n",
       "       'Assemblers and inspectors, electrical appliance, apparatus and equipment manufacturing',\n",
       "       'Assemblers, fabricators and inspectors, industrial electrical motors and transformers',\n",
       "       'Assessors, business valuators and appraisers', 'Athletes',\n",
       "       'Audio and video recording technicians',\n",
       "       'Audiologists and speech-language pathologists',\n",
       "       'Authors and writers (except technical)',\n",
       "       'Auto body collision, refinishing and glass technicians and damage repair estimators',\n",
       "       'Automotive and heavy truck and equipment parts installers and servicers',\n",
       "       'Automotive service technicians, truck and bus mechanics and mechanical repairers',\n",
       "       'Bakers', 'Banking, credit and other investment managers',\n",
       "       'Banking, insurance and other financial clerks', 'Bartenders',\n",
       "       'Binding and finishing machine operators',\n",
       "       'Biological technologists and technicians',\n",
       "       'Biologists and related scientists',\n",
       "       'Boat and cable ferry operators and related occupations',\n",
       "       'Boilermakers',\n",
       "       'Border services, customs, and immigration officers',\n",
       "       'Bricklayers', 'Broadcast technicians',\n",
       "       'Bus drivers, subway operators and other transit operators',\n",
       "       'Business development officers and market researchers and analysts',\n",
       "       'Business systems specialists', 'Butchers - retail and wholesale',\n",
       "       'By-law enforcement and other regulatory officers',\n",
       "       'Cabinetmakers',\n",
       "       'Camera, platemaking and other prepress occupations',\n",
       "       'Cardiology technologists and electrophysiological diagnostic technologists',\n",
       "       'Career development practitioners and career counsellors (except education)',\n",
       "       'Carpenters', 'Cashiers', 'Casino workers',\n",
       "       'Central control and process operators, mineral and metal processing',\n",
       "       'Central control and process operators, petroleum, gas and chemical processing',\n",
       "       'Chain saw and skidder operators', 'Chefs', 'Chemical engineers',\n",
       "       'Chemical plant machine operators',\n",
       "       'Chemical technologists and technicians', 'Chemists',\n",
       "       'Chiropractors', 'Civil engineering technologists and technicians',\n",
       "       'Civil engineers', 'Cleaning supervisors', 'Coaches',\n",
       "       'Collection clerks', 'College and other vocational instructors',\n",
       "       'Commissioned officers of the Canadian Armed Forces',\n",
       "       'Commissioned police officers and related occupations in public protection services',\n",
       "       'Computer and information systems managers',\n",
       "       'Computer engineers (except software engineers and designers)',\n",
       "       'Computer network and web technicians',\n",
       "       'Computer systems developers and programmers',\n",
       "       'Concrete finishers', 'Concrete, clay and stone forming operators',\n",
       "       'Conductors, composers and arrangers',\n",
       "       'Conference and event planners',\n",
       "       'Conservation and fishery officers', 'Conservators and curators',\n",
       "       'Construction estimators', 'Construction inspectors',\n",
       "       'Construction managers',\n",
       "       'Construction millwrights and industrial mechanics',\n",
       "       'Construction trades helpers and labourers',\n",
       "       'Contractors and supervisors, carpentry trades',\n",
       "       'Contractors and supervisors, electrical trades and telecommunications occupations',\n",
       "       'Contractors and supervisors, heavy equipment operator crews',\n",
       "       'Contractors and supervisors, landscaping, grounds maintenance and horticulture services',\n",
       "       'Contractors and supervisors, machining, metal forming, shaping and erecting trades and related occupations',\n",
       "       'Contractors and supervisors, mechanic trades',\n",
       "       'Contractors and supervisors, oil and gas drilling and services',\n",
       "       'Contractors and supervisors, other construction trades, installers, repairers and servicers',\n",
       "       'Contractors and supervisors, pipefitting trades', 'Cooks',\n",
       "       'Corporate sales managers', 'Correctional service officers',\n",
       "       'Correspondence, publication and regulatory clerks',\n",
       "       'Couriers and messengers',\n",
       "       'Court clerks and related court services occupations',\n",
       "       'Court reporters, medical transcriptionists and related occupations',\n",
       "       'Crane operators', 'Customer and information services supervisors',\n",
       "       'Customer services representatives - financial institutions',\n",
       "       'Customs, ship and other brokers', 'Cybersecurity specialists',\n",
       "       'Dancers', 'Data entry clerks', 'Data scientists',\n",
       "       'Database analysts and data administrators',\n",
       "       'Deck officers, water transport',\n",
       "       'Delivery service drivers and door-to-door distributors',\n",
       "       'Dental assistants and dental laboratory assistants',\n",
       "       'Dental hygienists and dental therapists',\n",
       "       'Dental technologists and technicians', 'Dentists', 'Denturists',\n",
       "       'Desktop publishing operators and related occupations',\n",
       "       'Dietitians and nutritionists', 'Dispatchers',\n",
       "       'Drafting technologists and technicians',\n",
       "       'Drillers and blasters - surface mining, quarrying and construction',\n",
       "       'Dry cleaning, laundry and related occupations',\n",
       "       'Early childhood educators and assistants',\n",
       "       'Economists and economic policy researchers and analysts',\n",
       "       'Editors',\n",
       "       'Education policy researchers, consultants and program officers',\n",
       "       'Educational counsellors',\n",
       "       'Electrical and electronics engineering technologists and technicians',\n",
       "       'Electrical and electronics engineers', 'Electrical mechanics',\n",
       "       'Electrical power line and cable workers',\n",
       "       'Electricians (except industrial and power system)',\n",
       "       'Electronic service technicians (household and business equipment)',\n",
       "       'Electronics assemblers, fabricators, inspectors and testers',\n",
       "       'Elementary and secondary school teacher assistants',\n",
       "       'Elementary school and kindergarten teachers',\n",
       "       'Elevator constructors and mechanics',\n",
       "       'Employment insurance and revenue officers',\n",
       "       'Engineer officers, water transport',\n",
       "       'Engineering inspectors and regulatory officers',\n",
       "       'Engineering managers',\n",
       "       'Estheticians, electrologists and related occupations',\n",
       "       'Executive assistants', 'Executive housekeepers',\n",
       "       'Facility operation and maintenance managers',\n",
       "       'Film and video camera operators', 'Financial advisors',\n",
       "       'Financial and investment analysts',\n",
       "       'Financial auditors and accountants', 'Financial managers',\n",
       "       'Financial sales representatives',\n",
       "       'Fire chiefs and senior firefighting officers', 'Firefighters',\n",
       "       'Fish and seafood plant workers', 'Fishermen/women',\n",
       "       'Fishing vessel deckhands', 'Floor covering installers',\n",
       "       'Food and beverage servers',\n",
       "       'Food counter attendants, kitchen helpers and related support occupations',\n",
       "       'Food service supervisors', 'Forestry professionals',\n",
       "       'Forestry technologists and technicians', 'Foundry workers',\n",
       "       'Funeral directors and embalmers',\n",
       "       'Furniture and fixture assemblers, finishers, refinishers and inspectors',\n",
       "       'Gas fitters',\n",
       "       'General building maintenance workers and building superintendents',\n",
       "       'General office support workers',\n",
       "       'General practitioners and family physicians',\n",
       "       'Geological and mineral technologists and technicians',\n",
       "       'Geological engineers', 'Geoscientists and oceanographers',\n",
       "       'Glass forming and finishing machine operators and glass cutters',\n",
       "       'Glaziers',\n",
       "       'Government managers - economic analysis, policy development and program administration',\n",
       "       'Government managers - education policy development and program administration',\n",
       "       'Government managers - health and social policy development and program administration',\n",
       "       'Graphic arts technicians', 'Graphic designers and illustrators',\n",
       "       'Ground and water transport ticket agents, cargo service representatives and related clerks',\n",
       "       'Hairstylists and barbers', 'Harvesting labourers',\n",
       "       'Health information management occupations',\n",
       "       'Health policy researchers, consultants and program officers',\n",
       "       'Heating, refrigeration and air conditioning mechanics',\n",
       "       'Heavy equipment operators', 'Heavy-duty equipment mechanics',\n",
       "       'Home building and renovation managers',\n",
       "       'Home child care providers',\n",
       "       'Home support workers, caregivers and related occupations',\n",
       "       'Hotel front desk clerks',\n",
       "       'Human resources and recruitment officers',\n",
       "       'Human resources managers', 'Human resources professionals',\n",
       "       'Image, social and other personal consultants',\n",
       "       'Industrial and manufacturing engineers',\n",
       "       'Industrial butchers and meat cutters, poultry preparers and related workers',\n",
       "       'Industrial designers', 'Industrial electricians',\n",
       "       'Industrial engineering and manufacturing technologists and technicians',\n",
       "       'Industrial instrument technicians and mechanics',\n",
       "       'Industrial painters, coaters and metal finishing process operators',\n",
       "       'Industrial sewing machine operators',\n",
       "       'Information systems specialists',\n",
       "       'Information systems testing technicians',\n",
       "       'Inspectors and graders, textile, fabric, fur and leather products manufacturing',\n",
       "       'Inspectors and testers, mineral and metal processing',\n",
       "       'Instructors of persons with disabilities', 'Insulators',\n",
       "       'Insurance adjusters and claims examiners',\n",
       "       'Insurance agents and brokers', 'Insurance underwriters',\n",
       "       'Insurance, real estate and financial brokerage managers',\n",
       "       'Interior designers and interior decorators', 'Ironworkers',\n",
       "       'Janitors, caretakers and heavy-duty cleaners',\n",
       "       'Jewellers, jewellery and watch repairers and related occupations',\n",
       "       'Journalists', 'Judges',\n",
       "       'Kinesiologists and other professional occupations in therapy and assessment',\n",
       "       'Labourers in chemical products processing and utilities',\n",
       "       'Labourers in fish and seafood processing',\n",
       "       'Labourers in food and beverage processing',\n",
       "       'Labourers in metal fabrication',\n",
       "       'Labourers in mineral and metal processing',\n",
       "       'Labourers in rubber and plastic products manufacturing',\n",
       "       'Labourers in textile processing and cutting',\n",
       "       'Labourers in wood, pulp and paper processing',\n",
       "       'Land survey technologists and technicians', 'Land surveyors',\n",
       "       'Landscape and horticulture technicians and specialists',\n",
       "       'Landscape architects',\n",
       "       'Landscaping and grounds maintenance labourers',\n",
       "       'Lawyers and Quebec notaries', 'Legal administrative assistants',\n",
       "       'Legislators', 'Letter carriers', 'Librarians',\n",
       "       'Library and public archive technicians',\n",
       "       'Library assistants and clerks',\n",
       "       'Library, archive, museum and art gallery managers',\n",
       "       'Licensed practical nurses', 'Light duty cleaners',\n",
       "       'Livestock labourers', 'Logging and forestry labourers',\n",
       "       'Logging machinery operators', 'Longshore workers',\n",
       "       'Lumber graders and other wood processing inspectors and graders',\n",
       "       'Machine fitters',\n",
       "       'Machine operators and inspectors, electrical apparatus manufacturing',\n",
       "       'Machine operators of other metal products',\n",
       "       'Machine operators, mineral and metal processing',\n",
       "       'Machining tool operators',\n",
       "       'Machinists and machining and tooling inspectors',\n",
       "       'Mail and parcel sorters and related occupations',\n",
       "       'Managers - publishing, motion pictures, broadcasting and performing arts',\n",
       "       'Managers in agriculture', 'Managers in aquaculture',\n",
       "       'Managers in customer and personal services',\n",
       "       'Managers in health care', 'Managers in horticulture',\n",
       "       'Managers in natural resources production and fishing',\n",
       "       'Managers in social, community and correctional services',\n",
       "       'Managers in transportation', 'Manufacturing managers',\n",
       "       'Massage therapists', 'Material handlers',\n",
       "       'Mathematicians, statisticians and actuaries',\n",
       "       \"Maîtres d'hôtel and hosts/hostesses\",\n",
       "       'Meat cutters and fishmongers - retail and wholesale',\n",
       "       'Mechanical assemblers and inspectors',\n",
       "       'Mechanical engineering technologists and technicians',\n",
       "       'Mechanical engineers', 'Medical administrative assistants',\n",
       "       'Medical laboratory assistants and related technical occupations',\n",
       "       'Medical laboratory technologists',\n",
       "       'Medical radiation technologists', 'Medical sonographers',\n",
       "       'Metallurgical and materials engineers',\n",
       "       'Metalworking and forging machine operators',\n",
       "       'Meteorologists and climatologists', 'Mine labourers',\n",
       "       'Mining engineers',\n",
       "       'Motion pictures, broadcasting, photography and performing arts assistants and operators',\n",
       "       'Motor vehicle assemblers, inspectors and testers',\n",
       "       'Motorcycle, all-terrain vehicle and other related mechanics',\n",
       "       'Musicians and singers',\n",
       "       'Natural and applied science policy researchers, consultants and program officers',\n",
       "       'Non-destructive testers and inspectors',\n",
       "       'Nurse aides, orderlies and patient service associates',\n",
       "       'Nurse practitioners', 'Nursery and greenhouse labourers',\n",
       "       'Nursing coordinators and supervisors',\n",
       "       'Occupational health and safety specialists',\n",
       "       'Occupational therapists',\n",
       "       'Oil and gas drilling, servicing and related labourers',\n",
       "       'Oil and gas well drillers, servicers, testers and related workers',\n",
       "       'Oil and gas well drilling and related workers and services operators',\n",
       "       'Oil and solid fuel heating mechanics',\n",
       "       'Operations members of the Canadian Armed Forces',\n",
       "       'Operators and attendants in amusement, recreation and sport',\n",
       "       'Opticians', 'Optometrists',\n",
       "       'Other administrative services managers',\n",
       "       'Other assisting occupations in support of health services',\n",
       "       'Other business services managers',\n",
       "       'Other customer and information services representatives',\n",
       "       'Other financial officers', 'Other instructors',\n",
       "       'Other labourers in processing, manufacturing and utilities',\n",
       "       'Other managers in public administration',\n",
       "       'Other medical technologists and technicians', 'Other performers',\n",
       "       'Other practitioners of natural healing',\n",
       "       'Other products assemblers, finishers and inspectors',\n",
       "       'Other professional engineers',\n",
       "       'Other professional occupations in health diagnosing and treating',\n",
       "       'Other professional occupations in physical sciences',\n",
       "       'Other professional occupations in social science',\n",
       "       'Other repairers and servicers', 'Other sales related occupations',\n",
       "       'Other service support occupations', 'Other services supervisors',\n",
       "       'Other small engine and small equipment repairers',\n",
       "       'Other support occupations in personal services',\n",
       "       'Other technical and coordinating occupations in motion pictures, broadcasting and the performing arts',\n",
       "       'Other technical occupations in therapy and assessment',\n",
       "       'Other technical trades and related occupations',\n",
       "       'Other trades helpers and labourers',\n",
       "       'Other wood processing machine operators',\n",
       "       'Outdoor sport and recreational guides',\n",
       "       'Painters and decorators (except interior decorators)',\n",
       "       'Painters, sculptors and other visual artists',\n",
       "       'Paper converting machine operators',\n",
       "       'Paralegals and related occupations', 'Paramedical occupations',\n",
       "       'Patternmakers - textile, leather and fur products',\n",
       "       'Payroll administrators', 'Personnel clerks',\n",
       "       'Pest controllers and fumigators',\n",
       "       'Pet groomers and animal care workers', 'Petroleum engineers',\n",
       "       'Pharmacists',\n",
       "       'Pharmacy technical assistants and pharmacy assistants',\n",
       "       'Pharmacy technicians', 'Photographers',\n",
       "       'Photographic and film processors',\n",
       "       'Physician assistants, midwives and allied health professionals',\n",
       "       'Physicists and astronomers', 'Physiotherapists',\n",
       "       'Plasterers, drywall installers and finishers and lathers',\n",
       "       'Plastic products assemblers, finishers and inspectors',\n",
       "       'Plastics processing machine operators',\n",
       "       'Plateless printing equipment operators', 'Plumbers',\n",
       "       'Police investigators and other investigative occupations',\n",
       "       'Police officers (except commissioned)',\n",
       "       'Post-secondary teaching and research assistants',\n",
       "       'Postal and courier services managers',\n",
       "       'Postal services representatives',\n",
       "       'Power engineers and power systems operators',\n",
       "       'Power system electricians',\n",
       "       'Primary combat members of the Canadian Armed Forces',\n",
       "       'Printing press operators', 'Probation and parole officers',\n",
       "       'Process control and machine operators, food and beverage processing',\n",
       "       'Procurement and purchasing agents and officers',\n",
       "       'Producers, directors, choreographers and related occupations',\n",
       "       'Production and transportation logistics coordinators',\n",
       "       'Production logistics workers',\n",
       "       'Professional occupations in advertising, marketing and public relations',\n",
       "       'Professional occupations in business management consulting',\n",
       "       'Program leaders and instructors in recreation, sport and fitness',\n",
       "       'Program officers unique to government', 'Property administrators',\n",
       "       'Psychologists',\n",
       "       'Public and environmental health and safety professionals',\n",
       "       'Public works and maintenance labourers',\n",
       "       'Public works maintenance equipment operators and related workers',\n",
       "       'Pulp mill, papermaking and finishing machine operators',\n",
       "       'Pulping, papermaking and coating control operators',\n",
       "       'Purchasing and inventory control workers', 'Purchasing managers',\n",
       "       'Pursers and flight attendants',\n",
       "       'Railway and motor transport labourers',\n",
       "       'Railway and yard locomotive engineers', 'Railway carmen/women',\n",
       "       'Railway conductors and brakemen/women',\n",
       "       'Railway traffic controllers and marine traffic regulators',\n",
       "       'Railway yard and track maintenance workers',\n",
       "       'Real estate agents and salespersons', 'Receptionists',\n",
       "       'Records management technicians',\n",
       "       'Recreation, sports and fitness policy researchers, consultants and program officers',\n",
       "       'Recreation, sports and fitness program and service directors',\n",
       "       'Registered nurses and registered psychiatric nurses',\n",
       "       'Registrars, restorers, interpreters and other occupations related to museum and art galleries',\n",
       "       'Religion workers', 'Religious leaders',\n",
       "       'Residential and commercial installers and servicers',\n",
       "       'Respiratory therapists, clinical perfusionists and cardiopulmonary technologists',\n",
       "       'Restaurant and food service managers',\n",
       "       'Retail and wholesale buyers',\n",
       "       'Retail and wholesale trade managers', 'Retail sales supervisors',\n",
       "       'Retail salespersons and visual merchandisers',\n",
       "       'Roofers and shinglers',\n",
       "       'Rubber processing machine operators and related workers',\n",
       "       'Sales and account representatives - wholesale trade (non-technical)',\n",
       "       'Sawmill machine operators',\n",
       "       'School principals and administrators of elementary and secondary education',\n",
       "       'Secondary school teachers',\n",
       "       'Securities agents, investment dealers and brokers',\n",
       "       'Security guards and related security service occupations',\n",
       "       'Seniors managers - public and private sector',\n",
       "       'Service station attendants', 'Sheet metal workers',\n",
       "       'Sheriffs and bailiffs', 'Shippers and receivers',\n",
       "       'Shoe repairers and shoemakers',\n",
       "       'Silviculture and forestry workers',\n",
       "       'Social and community service workers',\n",
       "       'Social policy researchers, consultants and program officers',\n",
       "       'Social workers', 'Software developers and programmers',\n",
       "       'Software engineers and designers',\n",
       "       'Specialists in clinical and laboratory medicine',\n",
       "       'Specialists in surgery', 'Specialized cleaners',\n",
       "       'Specialized livestock workers and farm machinery operators',\n",
       "       'Specialized members of the Canadian Armed Forces',\n",
       "       'Sports officials and referees',\n",
       "       'Statistical officers and related research support occupations',\n",
       "       'Steamfitters, pipefitters and sprinkler system installers',\n",
       "       'Store shelf stockers, clerks and order fillers',\n",
       "       'Storekeepers and partspersons',\n",
       "       'Structural metal and platework fabricators and fitters',\n",
       "       'Student monitors, crossing guards and related occupations',\n",
       "       'Supervisors, electronics and electrical products manufacturing',\n",
       "       'Supervisors, finance and insurance office workers',\n",
       "       'Supervisors, food and beverage processing',\n",
       "       'Supervisors, forest products processing',\n",
       "       'Supervisors, furniture and fixtures manufacturing',\n",
       "       'Supervisors, general office and administrative support workers',\n",
       "       'Supervisors, library, correspondence and related information workers',\n",
       "       'Supervisors, logging and forestry',\n",
       "       'Supervisors, mail and message distribution occupations',\n",
       "       'Supervisors, mineral and metal processing',\n",
       "       'Supervisors, mining and quarrying',\n",
       "       'Supervisors, motor transport and other ground transit operators',\n",
       "       'Supervisors, motor vehicle assembling',\n",
       "       'Supervisors, other mechanical and metal products manufacturing',\n",
       "       'Supervisors, other products manufacturing and assembly',\n",
       "       'Supervisors, petroleum, gas and chemical processing and utilities',\n",
       "       'Supervisors, plastic and rubber products manufacturing',\n",
       "       'Supervisors, printing and related occupations',\n",
       "       'Supervisors, railway transport operations',\n",
       "       'Supervisors, supply chain, tracking and scheduling coordination occupations',\n",
       "       'Supervisors, textile, fabric, fur and leather products processing and manufacturing',\n",
       "       'Support occupations in accommodation, travel and facilities set-up services',\n",
       "       'Survey interviewers and statistical clerks',\n",
       "       'Tailors, dressmakers, furriers and milliners',\n",
       "       'Taxi and limousine drivers and chauffeurs',\n",
       "       'Technical occupations in geomatics and meteorology',\n",
       "       'Technical sales specialists - wholesale trade',\n",
       "       'Technical writers', 'Telecommunication carriers managers',\n",
       "       'Telecommunications equipment installation and cable television service technicians',\n",
       "       'Telecommunications line and cable installers and repairers',\n",
       "       'Testers and graders, food and beverage processing',\n",
       "       'Textile fibre and yarn, hide and pelt processing machine operators and workers',\n",
       "       'Theatre, fashion, exhibit and other creative designers',\n",
       "       'Therapists in counselling and related specialized therapies',\n",
       "       'Tilesetters', 'Tool and die makers', 'Tour and travel guides',\n",
       "       'Traditional Chinese medicine practitioners and acupuncturists',\n",
       "       'Translators, terminologists and interpreters',\n",
       "       'Transport truck drivers',\n",
       "       'Transportation route and crew schedulers', 'Travel counsellors',\n",
       "       'Underground mine service and support workers',\n",
       "       'Underground production and development miners',\n",
       "       'University professors and lecturers', 'Upholsterers',\n",
       "       'Urban and land use planners', 'User support technicians',\n",
       "       'Utilities managers', 'Utility maintenance workers',\n",
       "       'Veterinarians', 'Water and waste treatment plant operators',\n",
       "       'Water transport deck and engine room crew', 'Water well drillers',\n",
       "       'Weavers, knitters and other fabric making occupations',\n",
       "       'Web designers', 'Web developers and programmers',\n",
       "       'Welders and related machine operators',\n",
       "       'Woodworking machine operators',\n",
       "       'Aquaculture and marine harvest labourers',\n",
       "       'Fishing masters and officers', 'Trappers and hunters'],\n",
       "      dtype=object)"
      ]
     },
     "execution_count": 313,
     "metadata": {},
     "output_type": "execute_result"
    }
   ],
   "source": [
    "cat_5_df.OCCUPATION_C.unique()"
   ]
  },
  {
   "cell_type": "code",
   "execution_count": 314,
   "metadata": {},
   "outputs": [],
   "source": [
    "ESSENTIAL_OCCUPATIONS = {\"nurse\", \"police\", \"fire\"}\n",
    "\n",
    "\n",
    "def get_essential_occupations(occupations):\n",
    "    essentail_cols = []\n",
    "    for occupation in occupations:\n",
    "        lower_occupation = occupation.lower()\n",
    "        if (\n",
    "            any(essential in lower_occupation for essential in ESSENTIAL_OCCUPATIONS)\n",
    "            and \"nursery\" not in lower_occupation\n",
    "        ):\n",
    "            essentail_cols.append(occupation)\n",
    "    return essentail_cols\n",
    "\n",
    "\n",
    "required_cols = get_essential_occupations(cat_5_df.OCCUPATION_C.unique())"
   ]
  },
  {
   "cell_type": "code",
   "execution_count": 315,
   "metadata": {},
   "outputs": [
    {
     "data": {
      "text/html": [
       "<div>\n",
       "<style scoped>\n",
       "    .dataframe tbody tr th:only-of-type {\n",
       "        vertical-align: middle;\n",
       "    }\n",
       "\n",
       "    .dataframe tbody tr th {\n",
       "        vertical-align: top;\n",
       "    }\n",
       "\n",
       "    .dataframe thead th {\n",
       "        text-align: right;\n",
       "    }\n",
       "</style>\n",
       "<table border=\"1\" class=\"dataframe\">\n",
       "  <thead>\n",
       "    <tr style=\"text-align: right;\">\n",
       "      <th></th>\n",
       "      <th>GEO</th>\n",
       "      <th>OCCUPATION_C</th>\n",
       "      <th>COUNT</th>\n",
       "    </tr>\n",
       "  </thead>\n",
       "  <tbody>\n",
       "    <tr>\n",
       "      <th>79</th>\n",
       "      <td>Alberta</td>\n",
       "      <td>Commissioned police officers and related occup...</td>\n",
       "      <td>90</td>\n",
       "    </tr>\n",
       "    <tr>\n",
       "      <th>162</th>\n",
       "      <td>Alberta</td>\n",
       "      <td>Fire chiefs and senior firefighting officers</td>\n",
       "      <td>305</td>\n",
       "    </tr>\n",
       "    <tr>\n",
       "      <th>163</th>\n",
       "      <td>Alberta</td>\n",
       "      <td>Firefighters</td>\n",
       "      <td>4760</td>\n",
       "    </tr>\n",
       "    <tr>\n",
       "      <th>252</th>\n",
       "      <td>Alberta</td>\n",
       "      <td>Licensed practical nurses</td>\n",
       "      <td>8820</td>\n",
       "    </tr>\n",
       "    <tr>\n",
       "      <th>300</th>\n",
       "      <td>Alberta</td>\n",
       "      <td>Nurse aides, orderlies and patient service ass...</td>\n",
       "      <td>33445</td>\n",
       "    </tr>\n",
       "    <tr>\n",
       "      <th>...</th>\n",
       "      <td>...</td>\n",
       "      <td>...</td>\n",
       "      <td>...</td>\n",
       "    </tr>\n",
       "    <tr>\n",
       "      <th>5463</th>\n",
       "      <td>Yukon</td>\n",
       "      <td>Firefighters</td>\n",
       "      <td>35</td>\n",
       "    </tr>\n",
       "    <tr>\n",
       "      <th>5507</th>\n",
       "      <td>Yukon</td>\n",
       "      <td>Licensed practical nurses</td>\n",
       "      <td>75</td>\n",
       "    </tr>\n",
       "    <tr>\n",
       "      <th>5529</th>\n",
       "      <td>Yukon</td>\n",
       "      <td>Nurse aides, orderlies and patient service ass...</td>\n",
       "      <td>175</td>\n",
       "    </tr>\n",
       "    <tr>\n",
       "      <th>5556</th>\n",
       "      <td>Yukon</td>\n",
       "      <td>Police officers (except commissioned)</td>\n",
       "      <td>140</td>\n",
       "    </tr>\n",
       "    <tr>\n",
       "      <th>5577</th>\n",
       "      <td>Yukon</td>\n",
       "      <td>Registered nurses and registered psychiatric n...</td>\n",
       "      <td>365</td>\n",
       "    </tr>\n",
       "  </tbody>\n",
       "</table>\n",
       "<p>103 rows × 3 columns</p>\n",
       "</div>"
      ],
      "text/plain": [
       "          GEO                                       OCCUPATION_C  COUNT\n",
       "79    Alberta  Commissioned police officers and related occup...     90\n",
       "162   Alberta       Fire chiefs and senior firefighting officers    305\n",
       "163   Alberta                                       Firefighters   4760\n",
       "252   Alberta                          Licensed practical nurses   8820\n",
       "300   Alberta  Nurse aides, orderlies and patient service ass...  33445\n",
       "...       ...                                                ...    ...\n",
       "5463    Yukon                                       Firefighters     35\n",
       "5507    Yukon                          Licensed practical nurses     75\n",
       "5529    Yukon  Nurse aides, orderlies and patient service ass...    175\n",
       "5556    Yukon              Police officers (except commissioned)    140\n",
       "5577    Yukon  Registered nurses and registered psychiatric n...    365\n",
       "\n",
       "[103 rows x 3 columns]"
      ]
     },
     "execution_count": 315,
     "metadata": {},
     "output_type": "execute_result"
    }
   ],
   "source": [
    "essential_df = cat_5_df[cat_5_df[\"OCCUPATION_C\"].isin(required_cols)]\n",
    "essential_df"
   ]
  },
  {
   "cell_type": "code",
   "execution_count": 316,
   "metadata": {},
   "outputs": [
    {
     "data": {
      "application/vnd.plotly.v1+json": {
       "config": {
        "plotlyServerURL": "https://plot.ly"
       },
       "data": [
        {
         "hovertemplate": "GEO=Alberta<br>COUNT=%{r}<br>OCCUPATION_C=%{theta}<extra></extra>",
         "legendgroup": "Alberta",
         "line": {
          "color": "#f0f921",
          "dash": "solid"
         },
         "marker": {
          "symbol": "circle"
         },
         "mode": "lines",
         "name": "Alberta",
         "r": {
          "bdata": "WgAAADEBAACYEgAAdCIAAKWCAAArAgAAXgEAAPkkAADJmgAAWgAAAA==",
          "dtype": "i4"
         },
         "showlegend": true,
         "subplot": "polar",
         "theta": [
          "Commissioned police officers and related occupations in public protection services",
          "Fire chiefs and senior firefighting officers",
          "Firefighters",
          "Licensed practical nurses",
          "Nurse aides, orderlies and patient service associates",
          "Nurse practitioners",
          "Police investigators and other investigative occupations",
          "Police officers (except commissioned)",
          "Registered nurses and registered psychiatric nurses",
          "Commissioned police officers and related occupations in public protection services"
         ],
         "type": "scatterpolar"
        },
        {
         "hovertemplate": "GEO=British Columbia<br>COUNT=%{r}<br>OCCUPATION_C=%{theta}<extra></extra>",
         "legendgroup": "British Columbia",
         "line": {
          "color": "#fdca26",
          "dash": "solid"
         },
         "marker": {
          "symbol": "circle"
         },
         "mode": "lines",
         "name": "British Columbia",
         "r": {
          "bdata": "wwAAAPQBAAA5EgAAqx0AAOWSAACZAgAA6gEAACMoAABbqQAAwwAAAA==",
          "dtype": "i4"
         },
         "showlegend": true,
         "subplot": "polar",
         "theta": [
          "Commissioned police officers and related occupations in public protection services",
          "Fire chiefs and senior firefighting officers",
          "Firefighters",
          "Licensed practical nurses",
          "Nurse aides, orderlies and patient service associates",
          "Nurse practitioners",
          "Police investigators and other investigative occupations",
          "Police officers (except commissioned)",
          "Registered nurses and registered psychiatric nurses",
          "Commissioned police officers and related occupations in public protection services"
         ],
         "type": "scatterpolar"
        },
        {
         "hovertemplate": "GEO=Manitoba<br>COUNT=%{r}<br>OCCUPATION_C=%{theta}<extra></extra>",
         "legendgroup": "Manitoba",
         "line": {
          "color": "#fb9f3a",
          "dash": "solid"
         },
         "marker": {
          "symbol": "circle"
         },
         "mode": "lines",
         "name": "Manitoba",
         "r": {
          "bdata": "HgBVACQEZgjqOPAAcwD7CSwzHgA=",
          "dtype": "i2"
         },
         "showlegend": true,
         "subplot": "polar",
         "theta": [
          "Commissioned police officers and related occupations in public protection services",
          "Fire chiefs and senior firefighting officers",
          "Firefighters",
          "Licensed practical nurses",
          "Nurse aides, orderlies and patient service associates",
          "Nurse practitioners",
          "Police investigators and other investigative occupations",
          "Police officers (except commissioned)",
          "Registered nurses and registered psychiatric nurses",
          "Commissioned police officers and related occupations in public protection services"
         ],
         "type": "scatterpolar"
        },
        {
         "hovertemplate": "GEO=New Brunswick<br>COUNT=%{r}<br>OCCUPATION_C=%{theta}<extra></extra>",
         "legendgroup": "New Brunswick",
         "line": {
          "color": "#ed7953",
          "dash": "solid"
         },
         "marker": {
          "symbol": "circle"
         },
         "mode": "lines",
         "name": "New Brunswick",
         "r": {
          "bdata": "IwAZAGwCAAqCHq8AFACgBYMdIwA=",
          "dtype": "i2"
         },
         "showlegend": true,
         "subplot": "polar",
         "theta": [
          "Commissioned police officers and related occupations in public protection services",
          "Fire chiefs and senior firefighting officers",
          "Firefighters",
          "Licensed practical nurses",
          "Nurse aides, orderlies and patient service associates",
          "Nurse practitioners",
          "Police investigators and other investigative occupations",
          "Police officers (except commissioned)",
          "Registered nurses and registered psychiatric nurses",
          "Commissioned police officers and related occupations in public protection services"
         ],
         "type": "scatterpolar"
        },
        {
         "hovertemplate": "GEO=Newfoundland and Labrador<br>COUNT=%{r}<br>OCCUPATION_C=%{theta}<extra></extra>",
         "legendgroup": "Newfoundland and Labrador",
         "line": {
          "color": "#d8576b",
          "dash": "solid"
         },
         "marker": {
          "symbol": "circle"
         },
         "mode": "lines",
         "name": "Newfoundland and Labrador",
         "r": {
          "bdata": "CgBKAXwGihGWAGsDkBUKAA==",
          "dtype": "i2"
         },
         "showlegend": true,
         "subplot": "polar",
         "theta": [
          "Fire chiefs and senior firefighting officers",
          "Firefighters",
          "Licensed practical nurses",
          "Nurse aides, orderlies and patient service associates",
          "Nurse practitioners",
          "Police officers (except commissioned)",
          "Registered nurses and registered psychiatric nurses",
          "Fire chiefs and senior firefighting officers"
         ],
         "type": "scatterpolar"
        },
        {
         "hovertemplate": "GEO=Northwest Territories<br>COUNT=%{r}<br>OCCUPATION_C=%{theta}<extra></extra>",
         "legendgroup": "Northwest Territories",
         "line": {
          "color": "#bd3786",
          "dash": "solid"
         },
         "marker": {
          "symbol": "circle"
         },
         "mode": "lines",
         "name": "Northwest Territories",
         "r": {
          "bdata": "CgAyACMA3AAPAA8AuQB8AQoA",
          "dtype": "i2"
         },
         "showlegend": true,
         "subplot": "polar",
         "theta": [
          "Fire chiefs and senior firefighting officers",
          "Firefighters",
          "Licensed practical nurses",
          "Nurse aides, orderlies and patient service associates",
          "Nurse practitioners",
          "Police investigators and other investigative occupations",
          "Police officers (except commissioned)",
          "Registered nurses and registered psychiatric nurses",
          "Fire chiefs and senior firefighting officers"
         ],
         "type": "scatterpolar"
        },
        {
         "hovertemplate": "GEO=Nova Scotia<br>COUNT=%{r}<br>OCCUPATION_C=%{theta}<extra></extra>",
         "legendgroup": "Nova Scotia",
         "line": {
          "color": "#9c179e",
          "dash": "solid"
         },
         "marker": {
          "symbol": "circle"
         },
         "mode": "lines",
         "name": "Nova Scotia",
         "r": {
          "bdata": "GQAtADQD+gruJeYAFADBB88mGQA=",
          "dtype": "i2"
         },
         "showlegend": true,
         "subplot": "polar",
         "theta": [
          "Commissioned police officers and related occupations in public protection services",
          "Fire chiefs and senior firefighting officers",
          "Firefighters",
          "Licensed practical nurses",
          "Nurse aides, orderlies and patient service associates",
          "Nurse practitioners",
          "Police investigators and other investigative occupations",
          "Police officers (except commissioned)",
          "Registered nurses and registered psychiatric nurses",
          "Commissioned police officers and related occupations in public protection services"
         ],
         "type": "scatterpolar"
        },
        {
         "hovertemplate": "GEO=Nunavut<br>COUNT=%{r}<br>OCCUPATION_C=%{theta}<extra></extra>",
         "legendgroup": "Nunavut",
         "line": {
          "color": "#7201a8",
          "dash": "solid"
         },
         "marker": {
          "symbol": "circle"
         },
         "mode": "lines",
         "name": "Nunavut",
         "r": {
          "bdata": "CgAKAKUAbgCbAAoA",
          "dtype": "i2"
         },
         "showlegend": true,
         "subplot": "polar",
         "theta": [
          "Firefighters",
          "Licensed practical nurses",
          "Nurse aides, orderlies and patient service associates",
          "Police officers (except commissioned)",
          "Registered nurses and registered psychiatric nurses",
          "Firefighters"
         ],
         "type": "scatterpolar"
        },
        {
         "hovertemplate": "GEO=Ontario<br>COUNT=%{r}<br>OCCUPATION_C=%{theta}<extra></extra>",
         "legendgroup": "Ontario",
         "line": {
          "color": "#46039f",
          "dash": "solid"
         },
         "marker": {
          "symbol": "circle"
         },
         "mode": "lines",
         "name": "Ontario",
         "r": {
          "bdata": "ngIAAGYDAADTMQAAdFQAAJu4AQB/DQAA4AYAAOBlAAB2qwEAngIAAA==",
          "dtype": "i4"
         },
         "showlegend": true,
         "subplot": "polar",
         "theta": [
          "Commissioned police officers and related occupations in public protection services",
          "Fire chiefs and senior firefighting officers",
          "Firefighters",
          "Licensed practical nurses",
          "Nurse aides, orderlies and patient service associates",
          "Nurse practitioners",
          "Police investigators and other investigative occupations",
          "Police officers (except commissioned)",
          "Registered nurses and registered psychiatric nurses",
          "Commissioned police officers and related occupations in public protection services"
         ],
         "type": "scatterpolar"
        },
        {
         "hovertemplate": "GEO=Prince Edward Island<br>COUNT=%{r}<br>OCCUPATION_C=%{theta}<extra></extra>",
         "legendgroup": "Prince Edward Island",
         "line": {
          "color": "#0d0887",
          "dash": "solid"
         },
         "marker": {
          "symbol": "circle"
         },
         "mode": "lines",
         "name": "Prince Edward Island",
         "r": {
          "bdata": "fAG0BS0AwwD1BXwB",
          "dtype": "i2"
         },
         "showlegend": true,
         "subplot": "polar",
         "theta": [
          "Licensed practical nurses",
          "Nurse aides, orderlies and patient service associates",
          "Nurse practitioners",
          "Police officers (except commissioned)",
          "Registered nurses and registered psychiatric nurses",
          "Licensed practical nurses"
         ],
         "type": "scatterpolar"
        },
        {
         "hovertemplate": "GEO=Quebec<br>COUNT=%{r}<br>OCCUPATION_C=%{theta}<extra></extra>",
         "legendgroup": "Quebec",
         "line": {
          "color": "#f0f921",
          "dash": "solid"
         },
         "marker": {
          "symbol": "circle"
         },
         "mode": "lines",
         "name": "Quebec",
         "r": {
          "bdata": "6AMAAPkBAADYGAAAnVMAADA4AQDuAgAAAwIAAGM9AADxCAEA6AMAAA==",
          "dtype": "i4"
         },
         "showlegend": true,
         "subplot": "polar",
         "theta": [
          "Commissioned police officers and related occupations in public protection services",
          "Fire chiefs and senior firefighting officers",
          "Firefighters",
          "Licensed practical nurses",
          "Nurse aides, orderlies and patient service associates",
          "Nurse practitioners",
          "Police investigators and other investigative occupations",
          "Police officers (except commissioned)",
          "Registered nurses and registered psychiatric nurses",
          "Commissioned police officers and related occupations in public protection services"
         ],
         "type": "scatterpolar"
        },
        {
         "hovertemplate": "GEO=Saskatchewan<br>COUNT=%{r}<br>OCCUPATION_C=%{theta}<extra></extra>",
         "legendgroup": "Saskatchewan",
         "line": {
          "color": "#fdca26",
          "dash": "solid"
         },
         "marker": {
          "symbol": "circle"
         },
         "mode": "lines",
         "name": "Saskatchewan",
         "r": {
          "bdata": "GQAoAKsETAkZLcgAIwDnCQ4uGQA=",
          "dtype": "i2"
         },
         "showlegend": true,
         "subplot": "polar",
         "theta": [
          "Commissioned police officers and related occupations in public protection services",
          "Fire chiefs and senior firefighting officers",
          "Firefighters",
          "Licensed practical nurses",
          "Nurse aides, orderlies and patient service associates",
          "Nurse practitioners",
          "Police investigators and other investigative occupations",
          "Police officers (except commissioned)",
          "Registered nurses and registered psychiatric nurses",
          "Commissioned police officers and related occupations in public protection services"
         ],
         "type": "scatterpolar"
        },
        {
         "hovertemplate": "GEO=Yukon<br>COUNT=%{r}<br>OCCUPATION_C=%{theta}<extra></extra>",
         "legendgroup": "Yukon",
         "line": {
          "color": "#fb9f3a",
          "dash": "solid"
         },
         "marker": {
          "symbol": "circle"
         },
         "mode": "lines",
         "name": "Yukon",
         "r": {
          "bdata": "CgAjAEsArwCMAG0BCgA=",
          "dtype": "i2"
         },
         "showlegend": true,
         "subplot": "polar",
         "theta": [
          "Fire chiefs and senior firefighting officers",
          "Firefighters",
          "Licensed practical nurses",
          "Nurse aides, orderlies and patient service associates",
          "Police officers (except commissioned)",
          "Registered nurses and registered psychiatric nurses",
          "Fire chiefs and senior firefighting officers"
         ],
         "type": "scatterpolar"
        }
       ],
       "layout": {
        "height": 600,
        "legend": {
         "title": {
          "text": "GEO"
         },
         "tracegroupgap": 0
        },
        "margin": {
         "t": 60
        },
        "polar": {
         "angularaxis": {
          "direction": "clockwise",
          "rotation": 90
         },
         "domain": {
          "x": [
           0,
           1
          ],
          "y": [
           0,
           1
          ]
         },
         "radialaxis": {
          "type": "log"
         }
        },
        "template": {
         "data": {
          "bar": [
           {
            "error_x": {
             "color": "#2a3f5f"
            },
            "error_y": {
             "color": "#2a3f5f"
            },
            "marker": {
             "line": {
              "color": "#E5ECF6",
              "width": 0.5
             },
             "pattern": {
              "fillmode": "overlay",
              "size": 10,
              "solidity": 0.2
             }
            },
            "type": "bar"
           }
          ],
          "barpolar": [
           {
            "marker": {
             "line": {
              "color": "#E5ECF6",
              "width": 0.5
             },
             "pattern": {
              "fillmode": "overlay",
              "size": 10,
              "solidity": 0.2
             }
            },
            "type": "barpolar"
           }
          ],
          "carpet": [
           {
            "aaxis": {
             "endlinecolor": "#2a3f5f",
             "gridcolor": "white",
             "linecolor": "white",
             "minorgridcolor": "white",
             "startlinecolor": "#2a3f5f"
            },
            "baxis": {
             "endlinecolor": "#2a3f5f",
             "gridcolor": "white",
             "linecolor": "white",
             "minorgridcolor": "white",
             "startlinecolor": "#2a3f5f"
            },
            "type": "carpet"
           }
          ],
          "choropleth": [
           {
            "colorbar": {
             "outlinewidth": 0,
             "ticks": ""
            },
            "type": "choropleth"
           }
          ],
          "contour": [
           {
            "colorbar": {
             "outlinewidth": 0,
             "ticks": ""
            },
            "colorscale": [
             [
              0,
              "#0d0887"
             ],
             [
              0.1111111111111111,
              "#46039f"
             ],
             [
              0.2222222222222222,
              "#7201a8"
             ],
             [
              0.3333333333333333,
              "#9c179e"
             ],
             [
              0.4444444444444444,
              "#bd3786"
             ],
             [
              0.5555555555555556,
              "#d8576b"
             ],
             [
              0.6666666666666666,
              "#ed7953"
             ],
             [
              0.7777777777777778,
              "#fb9f3a"
             ],
             [
              0.8888888888888888,
              "#fdca26"
             ],
             [
              1,
              "#f0f921"
             ]
            ],
            "type": "contour"
           }
          ],
          "contourcarpet": [
           {
            "colorbar": {
             "outlinewidth": 0,
             "ticks": ""
            },
            "type": "contourcarpet"
           }
          ],
          "heatmap": [
           {
            "colorbar": {
             "outlinewidth": 0,
             "ticks": ""
            },
            "colorscale": [
             [
              0,
              "#0d0887"
             ],
             [
              0.1111111111111111,
              "#46039f"
             ],
             [
              0.2222222222222222,
              "#7201a8"
             ],
             [
              0.3333333333333333,
              "#9c179e"
             ],
             [
              0.4444444444444444,
              "#bd3786"
             ],
             [
              0.5555555555555556,
              "#d8576b"
             ],
             [
              0.6666666666666666,
              "#ed7953"
             ],
             [
              0.7777777777777778,
              "#fb9f3a"
             ],
             [
              0.8888888888888888,
              "#fdca26"
             ],
             [
              1,
              "#f0f921"
             ]
            ],
            "type": "heatmap"
           }
          ],
          "histogram": [
           {
            "marker": {
             "pattern": {
              "fillmode": "overlay",
              "size": 10,
              "solidity": 0.2
             }
            },
            "type": "histogram"
           }
          ],
          "histogram2d": [
           {
            "colorbar": {
             "outlinewidth": 0,
             "ticks": ""
            },
            "colorscale": [
             [
              0,
              "#0d0887"
             ],
             [
              0.1111111111111111,
              "#46039f"
             ],
             [
              0.2222222222222222,
              "#7201a8"
             ],
             [
              0.3333333333333333,
              "#9c179e"
             ],
             [
              0.4444444444444444,
              "#bd3786"
             ],
             [
              0.5555555555555556,
              "#d8576b"
             ],
             [
              0.6666666666666666,
              "#ed7953"
             ],
             [
              0.7777777777777778,
              "#fb9f3a"
             ],
             [
              0.8888888888888888,
              "#fdca26"
             ],
             [
              1,
              "#f0f921"
             ]
            ],
            "type": "histogram2d"
           }
          ],
          "histogram2dcontour": [
           {
            "colorbar": {
             "outlinewidth": 0,
             "ticks": ""
            },
            "colorscale": [
             [
              0,
              "#0d0887"
             ],
             [
              0.1111111111111111,
              "#46039f"
             ],
             [
              0.2222222222222222,
              "#7201a8"
             ],
             [
              0.3333333333333333,
              "#9c179e"
             ],
             [
              0.4444444444444444,
              "#bd3786"
             ],
             [
              0.5555555555555556,
              "#d8576b"
             ],
             [
              0.6666666666666666,
              "#ed7953"
             ],
             [
              0.7777777777777778,
              "#fb9f3a"
             ],
             [
              0.8888888888888888,
              "#fdca26"
             ],
             [
              1,
              "#f0f921"
             ]
            ],
            "type": "histogram2dcontour"
           }
          ],
          "mesh3d": [
           {
            "colorbar": {
             "outlinewidth": 0,
             "ticks": ""
            },
            "type": "mesh3d"
           }
          ],
          "parcoords": [
           {
            "line": {
             "colorbar": {
              "outlinewidth": 0,
              "ticks": ""
             }
            },
            "type": "parcoords"
           }
          ],
          "pie": [
           {
            "automargin": true,
            "type": "pie"
           }
          ],
          "scatter": [
           {
            "fillpattern": {
             "fillmode": "overlay",
             "size": 10,
             "solidity": 0.2
            },
            "type": "scatter"
           }
          ],
          "scatter3d": [
           {
            "line": {
             "colorbar": {
              "outlinewidth": 0,
              "ticks": ""
             }
            },
            "marker": {
             "colorbar": {
              "outlinewidth": 0,
              "ticks": ""
             }
            },
            "type": "scatter3d"
           }
          ],
          "scattercarpet": [
           {
            "marker": {
             "colorbar": {
              "outlinewidth": 0,
              "ticks": ""
             }
            },
            "type": "scattercarpet"
           }
          ],
          "scattergeo": [
           {
            "marker": {
             "colorbar": {
              "outlinewidth": 0,
              "ticks": ""
             }
            },
            "type": "scattergeo"
           }
          ],
          "scattergl": [
           {
            "marker": {
             "colorbar": {
              "outlinewidth": 0,
              "ticks": ""
             }
            },
            "type": "scattergl"
           }
          ],
          "scattermap": [
           {
            "marker": {
             "colorbar": {
              "outlinewidth": 0,
              "ticks": ""
             }
            },
            "type": "scattermap"
           }
          ],
          "scattermapbox": [
           {
            "marker": {
             "colorbar": {
              "outlinewidth": 0,
              "ticks": ""
             }
            },
            "type": "scattermapbox"
           }
          ],
          "scatterpolar": [
           {
            "marker": {
             "colorbar": {
              "outlinewidth": 0,
              "ticks": ""
             }
            },
            "type": "scatterpolar"
           }
          ],
          "scatterpolargl": [
           {
            "marker": {
             "colorbar": {
              "outlinewidth": 0,
              "ticks": ""
             }
            },
            "type": "scatterpolargl"
           }
          ],
          "scatterternary": [
           {
            "marker": {
             "colorbar": {
              "outlinewidth": 0,
              "ticks": ""
             }
            },
            "type": "scatterternary"
           }
          ],
          "surface": [
           {
            "colorbar": {
             "outlinewidth": 0,
             "ticks": ""
            },
            "colorscale": [
             [
              0,
              "#0d0887"
             ],
             [
              0.1111111111111111,
              "#46039f"
             ],
             [
              0.2222222222222222,
              "#7201a8"
             ],
             [
              0.3333333333333333,
              "#9c179e"
             ],
             [
              0.4444444444444444,
              "#bd3786"
             ],
             [
              0.5555555555555556,
              "#d8576b"
             ],
             [
              0.6666666666666666,
              "#ed7953"
             ],
             [
              0.7777777777777778,
              "#fb9f3a"
             ],
             [
              0.8888888888888888,
              "#fdca26"
             ],
             [
              1,
              "#f0f921"
             ]
            ],
            "type": "surface"
           }
          ],
          "table": [
           {
            "cells": {
             "fill": {
              "color": "#EBF0F8"
             },
             "line": {
              "color": "white"
             }
            },
            "header": {
             "fill": {
              "color": "#C8D4E3"
             },
             "line": {
              "color": "white"
             }
            },
            "type": "table"
           }
          ]
         },
         "layout": {
          "annotationdefaults": {
           "arrowcolor": "#2a3f5f",
           "arrowhead": 0,
           "arrowwidth": 1
          },
          "autotypenumbers": "strict",
          "coloraxis": {
           "colorbar": {
            "outlinewidth": 0,
            "ticks": ""
           }
          },
          "colorscale": {
           "diverging": [
            [
             0,
             "#8e0152"
            ],
            [
             0.1,
             "#c51b7d"
            ],
            [
             0.2,
             "#de77ae"
            ],
            [
             0.3,
             "#f1b6da"
            ],
            [
             0.4,
             "#fde0ef"
            ],
            [
             0.5,
             "#f7f7f7"
            ],
            [
             0.6,
             "#e6f5d0"
            ],
            [
             0.7,
             "#b8e186"
            ],
            [
             0.8,
             "#7fbc41"
            ],
            [
             0.9,
             "#4d9221"
            ],
            [
             1,
             "#276419"
            ]
           ],
           "sequential": [
            [
             0,
             "#0d0887"
            ],
            [
             0.1111111111111111,
             "#46039f"
            ],
            [
             0.2222222222222222,
             "#7201a8"
            ],
            [
             0.3333333333333333,
             "#9c179e"
            ],
            [
             0.4444444444444444,
             "#bd3786"
            ],
            [
             0.5555555555555556,
             "#d8576b"
            ],
            [
             0.6666666666666666,
             "#ed7953"
            ],
            [
             0.7777777777777778,
             "#fb9f3a"
            ],
            [
             0.8888888888888888,
             "#fdca26"
            ],
            [
             1,
             "#f0f921"
            ]
           ],
           "sequentialminus": [
            [
             0,
             "#0d0887"
            ],
            [
             0.1111111111111111,
             "#46039f"
            ],
            [
             0.2222222222222222,
             "#7201a8"
            ],
            [
             0.3333333333333333,
             "#9c179e"
            ],
            [
             0.4444444444444444,
             "#bd3786"
            ],
            [
             0.5555555555555556,
             "#d8576b"
            ],
            [
             0.6666666666666666,
             "#ed7953"
            ],
            [
             0.7777777777777778,
             "#fb9f3a"
            ],
            [
             0.8888888888888888,
             "#fdca26"
            ],
            [
             1,
             "#f0f921"
            ]
           ]
          },
          "colorway": [
           "#636efa",
           "#EF553B",
           "#00cc96",
           "#ab63fa",
           "#FFA15A",
           "#19d3f3",
           "#FF6692",
           "#B6E880",
           "#FF97FF",
           "#FECB52"
          ],
          "font": {
           "color": "#2a3f5f"
          },
          "geo": {
           "bgcolor": "white",
           "lakecolor": "white",
           "landcolor": "#E5ECF6",
           "showlakes": true,
           "showland": true,
           "subunitcolor": "white"
          },
          "hoverlabel": {
           "align": "left"
          },
          "hovermode": "closest",
          "mapbox": {
           "style": "light"
          },
          "paper_bgcolor": "white",
          "plot_bgcolor": "#E5ECF6",
          "polar": {
           "angularaxis": {
            "gridcolor": "white",
            "linecolor": "white",
            "ticks": ""
           },
           "bgcolor": "#E5ECF6",
           "radialaxis": {
            "gridcolor": "white",
            "linecolor": "white",
            "ticks": ""
           }
          },
          "scene": {
           "xaxis": {
            "backgroundcolor": "#E5ECF6",
            "gridcolor": "white",
            "gridwidth": 2,
            "linecolor": "white",
            "showbackground": true,
            "ticks": "",
            "zerolinecolor": "white"
           },
           "yaxis": {
            "backgroundcolor": "#E5ECF6",
            "gridcolor": "white",
            "gridwidth": 2,
            "linecolor": "white",
            "showbackground": true,
            "ticks": "",
            "zerolinecolor": "white"
           },
           "zaxis": {
            "backgroundcolor": "#E5ECF6",
            "gridcolor": "white",
            "gridwidth": 2,
            "linecolor": "white",
            "showbackground": true,
            "ticks": "",
            "zerolinecolor": "white"
           }
          },
          "shapedefaults": {
           "line": {
            "color": "#2a3f5f"
           }
          },
          "ternary": {
           "aaxis": {
            "gridcolor": "white",
            "linecolor": "white",
            "ticks": ""
           },
           "baxis": {
            "gridcolor": "white",
            "linecolor": "white",
            "ticks": ""
           },
           "bgcolor": "#E5ECF6",
           "caxis": {
            "gridcolor": "white",
            "linecolor": "white",
            "ticks": ""
           }
          },
          "title": {
           "x": 0.05
          },
          "xaxis": {
           "automargin": true,
           "gridcolor": "white",
           "linecolor": "white",
           "ticks": "",
           "title": {
            "standoff": 15
           },
           "zerolinecolor": "white",
           "zerolinewidth": 2
          },
          "yaxis": {
           "automargin": true,
           "gridcolor": "white",
           "linecolor": "white",
           "ticks": "",
           "title": {
            "standoff": 15
           },
           "zerolinecolor": "white",
           "zerolinewidth": 2
          }
         }
        },
        "title": {
         "font": {
          "color": "#2a4978",
          "family": "Arial",
          "size": 20
         },
         "text": "<b>Gender Composition of  Aerospace Engineering Departments Across Canada</b>"
        }
       }
      }
     },
     "metadata": {},
     "output_type": "display_data"
    }
   ],
   "source": [
    "fig = px.line_polar(\n",
    "    essential_df,\n",
    "    r=\"COUNT\",\n",
    "    theta=\"OCCUPATION_C\",\n",
    "    color=\"GEO\",\n",
    "    line_close=True,\n",
    "    color_discrete_sequence=px.colors.sequential.Plasma_r,\n",
    "    log_r=True,\n",
    "    height=600\n",
    ")\n",
    "# update Tile\n",
    "fig.update_layout(\n",
    "    title=dict(\n",
    "        text=\"<b>Gender Composition of  Aerospace Engineering Departments Across Canada</b>\",\n",
    "        font=dict(size=20, family=\"Arial\", color=\"#2a4978\"),\n",
    "    )\n",
    ")\n",
    "\n",
    "\n",
    "fig"
   ]
  },
  {
   "cell_type": "code",
   "execution_count": 317,
   "metadata": {},
   "outputs": [
    {
     "data": {
      "application/vnd.plotly.v1+json": {
       "config": {
        "plotlyServerURL": "https://plot.ly"
       },
       "data": [
        {
         "customdata": {
          "bdata": "WgAAADEBAACYEgAAdCIAAKWCAAArAgAAXgEAAPkkAADJmgAAWgAAAA==",
          "dtype": "i4",
          "shape": "10, 1"
         },
         "hovertemplate": "<b>%{hovertext}</b><br><br>GEO=Alberta<br>Count (log)=%{customdata[0]:.2f}<br>Occupation Category=%{theta}<extra></extra>",
         "hovertext": [
          "Alberta",
          "Alberta",
          "Alberta",
          "Alberta",
          "Alberta",
          "Alberta",
          "Alberta",
          "Alberta",
          "Alberta",
          "Alberta"
         ],
         "legendgroup": "Alberta",
         "line": {
          "color": "rgb(204,204,204)",
          "dash": "solid"
         },
         "marker": {
          "symbol": "circle"
         },
         "mode": "lines",
         "name": "Alberta",
         "r": {
          "bdata": "WgAAADEBAACYEgAAdCIAAKWCAAArAgAAXgEAAPkkAADJmgAAWgAAAA==",
          "dtype": "i4"
         },
         "showlegend": true,
         "subplot": "polar",
         "theta": [
          "Commissioned police officers and related occupations in public protection services",
          "Fire chiefs and senior firefighting officers",
          "Firefighters",
          "Licensed practical nurses",
          "Nurse aides, orderlies and patient service associates",
          "Nurse practitioners",
          "Police investigators and other investigative occupations",
          "Police officers (except commissioned)",
          "Registered nurses and registered psychiatric nurses",
          "Commissioned police officers and related occupations in public protection services"
         ],
         "type": "scatterpolar"
        },
        {
         "customdata": {
          "bdata": "wwAAAPQBAAA5EgAAqx0AAOWSAACZAgAA6gEAACMoAABbqQAAwwAAAA==",
          "dtype": "i4",
          "shape": "10, 1"
         },
         "hovertemplate": "<b>%{hovertext}</b><br><br>GEO=British Columbia<br>Count (log)=%{customdata[0]:.2f}<br>Occupation Category=%{theta}<extra></extra>",
         "hovertext": [
          "British Columbia",
          "British Columbia",
          "British Columbia",
          "British Columbia",
          "British Columbia",
          "British Columbia",
          "British Columbia",
          "British Columbia",
          "British Columbia",
          "British Columbia"
         ],
         "legendgroup": "British Columbia",
         "line": {
          "color": "rgb(241,226,204)",
          "dash": "solid"
         },
         "marker": {
          "symbol": "circle"
         },
         "mode": "lines",
         "name": "British Columbia",
         "r": {
          "bdata": "wwAAAPQBAAA5EgAAqx0AAOWSAACZAgAA6gEAACMoAABbqQAAwwAAAA==",
          "dtype": "i4"
         },
         "showlegend": true,
         "subplot": "polar",
         "theta": [
          "Commissioned police officers and related occupations in public protection services",
          "Fire chiefs and senior firefighting officers",
          "Firefighters",
          "Licensed practical nurses",
          "Nurse aides, orderlies and patient service associates",
          "Nurse practitioners",
          "Police investigators and other investigative occupations",
          "Police officers (except commissioned)",
          "Registered nurses and registered psychiatric nurses",
          "Commissioned police officers and related occupations in public protection services"
         ],
         "type": "scatterpolar"
        },
        {
         "customdata": {
          "bdata": "HgBVACQEZgjqOPAAcwD7CSwzHgA=",
          "dtype": "i2",
          "shape": "10, 1"
         },
         "hovertemplate": "<b>%{hovertext}</b><br><br>GEO=Manitoba<br>Count (log)=%{customdata[0]:.2f}<br>Occupation Category=%{theta}<extra></extra>",
         "hovertext": [
          "Manitoba",
          "Manitoba",
          "Manitoba",
          "Manitoba",
          "Manitoba",
          "Manitoba",
          "Manitoba",
          "Manitoba",
          "Manitoba",
          "Manitoba"
         ],
         "legendgroup": "Manitoba",
         "line": {
          "color": "rgb(255,242,174)",
          "dash": "solid"
         },
         "marker": {
          "symbol": "circle"
         },
         "mode": "lines",
         "name": "Manitoba",
         "r": {
          "bdata": "HgBVACQEZgjqOPAAcwD7CSwzHgA=",
          "dtype": "i2"
         },
         "showlegend": true,
         "subplot": "polar",
         "theta": [
          "Commissioned police officers and related occupations in public protection services",
          "Fire chiefs and senior firefighting officers",
          "Firefighters",
          "Licensed practical nurses",
          "Nurse aides, orderlies and patient service associates",
          "Nurse practitioners",
          "Police investigators and other investigative occupations",
          "Police officers (except commissioned)",
          "Registered nurses and registered psychiatric nurses",
          "Commissioned police officers and related occupations in public protection services"
         ],
         "type": "scatterpolar"
        },
        {
         "customdata": {
          "bdata": "IwAZAGwCAAqCHq8AFACgBYMdIwA=",
          "dtype": "i2",
          "shape": "10, 1"
         },
         "hovertemplate": "<b>%{hovertext}</b><br><br>GEO=New Brunswick<br>Count (log)=%{customdata[0]:.2f}<br>Occupation Category=%{theta}<extra></extra>",
         "hovertext": [
          "New Brunswick",
          "New Brunswick",
          "New Brunswick",
          "New Brunswick",
          "New Brunswick",
          "New Brunswick",
          "New Brunswick",
          "New Brunswick",
          "New Brunswick",
          "New Brunswick"
         ],
         "legendgroup": "New Brunswick",
         "line": {
          "color": "rgb(230,245,201)",
          "dash": "solid"
         },
         "marker": {
          "symbol": "circle"
         },
         "mode": "lines",
         "name": "New Brunswick",
         "r": {
          "bdata": "IwAZAGwCAAqCHq8AFACgBYMdIwA=",
          "dtype": "i2"
         },
         "showlegend": true,
         "subplot": "polar",
         "theta": [
          "Commissioned police officers and related occupations in public protection services",
          "Fire chiefs and senior firefighting officers",
          "Firefighters",
          "Licensed practical nurses",
          "Nurse aides, orderlies and patient service associates",
          "Nurse practitioners",
          "Police investigators and other investigative occupations",
          "Police officers (except commissioned)",
          "Registered nurses and registered psychiatric nurses",
          "Commissioned police officers and related occupations in public protection services"
         ],
         "type": "scatterpolar"
        },
        {
         "customdata": {
          "bdata": "CgBKAXwGihGWAGsDkBUKAA==",
          "dtype": "i2",
          "shape": "8, 1"
         },
         "hovertemplate": "<b>%{hovertext}</b><br><br>GEO=Newfoundland and Labrador<br>Count (log)=%{customdata[0]:.2f}<br>Occupation Category=%{theta}<extra></extra>",
         "hovertext": [
          "Newfoundland and Labrador",
          "Newfoundland and Labrador",
          "Newfoundland and Labrador",
          "Newfoundland and Labrador",
          "Newfoundland and Labrador",
          "Newfoundland and Labrador",
          "Newfoundland and Labrador",
          "Newfoundland and Labrador"
         ],
         "legendgroup": "Newfoundland and Labrador",
         "line": {
          "color": "rgb(244,202,228)",
          "dash": "solid"
         },
         "marker": {
          "symbol": "circle"
         },
         "mode": "lines",
         "name": "Newfoundland and Labrador",
         "r": {
          "bdata": "CgBKAXwGihGWAGsDkBUKAA==",
          "dtype": "i2"
         },
         "showlegend": true,
         "subplot": "polar",
         "theta": [
          "Fire chiefs and senior firefighting officers",
          "Firefighters",
          "Licensed practical nurses",
          "Nurse aides, orderlies and patient service associates",
          "Nurse practitioners",
          "Police officers (except commissioned)",
          "Registered nurses and registered psychiatric nurses",
          "Fire chiefs and senior firefighting officers"
         ],
         "type": "scatterpolar"
        },
        {
         "customdata": {
          "bdata": "CgAyACMA3AAPAA8AuQB8AQoA",
          "dtype": "i2",
          "shape": "9, 1"
         },
         "hovertemplate": "<b>%{hovertext}</b><br><br>GEO=Northwest Territories<br>Count (log)=%{customdata[0]:.2f}<br>Occupation Category=%{theta}<extra></extra>",
         "hovertext": [
          "Northwest Territories",
          "Northwest Territories",
          "Northwest Territories",
          "Northwest Territories",
          "Northwest Territories",
          "Northwest Territories",
          "Northwest Territories",
          "Northwest Territories",
          "Northwest Territories"
         ],
         "legendgroup": "Northwest Territories",
         "line": {
          "color": "rgb(203,213,232)",
          "dash": "solid"
         },
         "marker": {
          "symbol": "circle"
         },
         "mode": "lines",
         "name": "Northwest Territories",
         "r": {
          "bdata": "CgAyACMA3AAPAA8AuQB8AQoA",
          "dtype": "i2"
         },
         "showlegend": true,
         "subplot": "polar",
         "theta": [
          "Fire chiefs and senior firefighting officers",
          "Firefighters",
          "Licensed practical nurses",
          "Nurse aides, orderlies and patient service associates",
          "Nurse practitioners",
          "Police investigators and other investigative occupations",
          "Police officers (except commissioned)",
          "Registered nurses and registered psychiatric nurses",
          "Fire chiefs and senior firefighting officers"
         ],
         "type": "scatterpolar"
        },
        {
         "customdata": {
          "bdata": "GQAtADQD+gruJeYAFADBB88mGQA=",
          "dtype": "i2",
          "shape": "10, 1"
         },
         "hovertemplate": "<b>%{hovertext}</b><br><br>GEO=Nova Scotia<br>Count (log)=%{customdata[0]:.2f}<br>Occupation Category=%{theta}<extra></extra>",
         "hovertext": [
          "Nova Scotia",
          "Nova Scotia",
          "Nova Scotia",
          "Nova Scotia",
          "Nova Scotia",
          "Nova Scotia",
          "Nova Scotia",
          "Nova Scotia",
          "Nova Scotia",
          "Nova Scotia"
         ],
         "legendgroup": "Nova Scotia",
         "line": {
          "color": "rgb(253,205,172)",
          "dash": "solid"
         },
         "marker": {
          "symbol": "circle"
         },
         "mode": "lines",
         "name": "Nova Scotia",
         "r": {
          "bdata": "GQAtADQD+gruJeYAFADBB88mGQA=",
          "dtype": "i2"
         },
         "showlegend": true,
         "subplot": "polar",
         "theta": [
          "Commissioned police officers and related occupations in public protection services",
          "Fire chiefs and senior firefighting officers",
          "Firefighters",
          "Licensed practical nurses",
          "Nurse aides, orderlies and patient service associates",
          "Nurse practitioners",
          "Police investigators and other investigative occupations",
          "Police officers (except commissioned)",
          "Registered nurses and registered psychiatric nurses",
          "Commissioned police officers and related occupations in public protection services"
         ],
         "type": "scatterpolar"
        },
        {
         "customdata": {
          "bdata": "CgAKAKUAbgCbAAoA",
          "dtype": "i2",
          "shape": "6, 1"
         },
         "hovertemplate": "<b>%{hovertext}</b><br><br>GEO=Nunavut<br>Count (log)=%{customdata[0]:.2f}<br>Occupation Category=%{theta}<extra></extra>",
         "hovertext": [
          "Nunavut",
          "Nunavut",
          "Nunavut",
          "Nunavut",
          "Nunavut",
          "Nunavut"
         ],
         "legendgroup": "Nunavut",
         "line": {
          "color": "rgb(179,226,205)",
          "dash": "solid"
         },
         "marker": {
          "symbol": "circle"
         },
         "mode": "lines",
         "name": "Nunavut",
         "r": {
          "bdata": "CgAKAKUAbgCbAAoA",
          "dtype": "i2"
         },
         "showlegend": true,
         "subplot": "polar",
         "theta": [
          "Firefighters",
          "Licensed practical nurses",
          "Nurse aides, orderlies and patient service associates",
          "Police officers (except commissioned)",
          "Registered nurses and registered psychiatric nurses",
          "Firefighters"
         ],
         "type": "scatterpolar"
        },
        {
         "customdata": {
          "bdata": "ngIAAGYDAADTMQAAdFQAAJu4AQB/DQAA4AYAAOBlAAB2qwEAngIAAA==",
          "dtype": "i4",
          "shape": "10, 1"
         },
         "hovertemplate": "<b>%{hovertext}</b><br><br>GEO=Ontario<br>Count (log)=%{customdata[0]:.2f}<br>Occupation Category=%{theta}<extra></extra>",
         "hovertext": [
          "Ontario",
          "Ontario",
          "Ontario",
          "Ontario",
          "Ontario",
          "Ontario",
          "Ontario",
          "Ontario",
          "Ontario",
          "Ontario"
         ],
         "legendgroup": "Ontario",
         "line": {
          "color": "rgb(204,204,204)",
          "dash": "solid"
         },
         "marker": {
          "symbol": "circle"
         },
         "mode": "lines",
         "name": "Ontario",
         "r": {
          "bdata": "ngIAAGYDAADTMQAAdFQAAJu4AQB/DQAA4AYAAOBlAAB2qwEAngIAAA==",
          "dtype": "i4"
         },
         "showlegend": true,
         "subplot": "polar",
         "theta": [
          "Commissioned police officers and related occupations in public protection services",
          "Fire chiefs and senior firefighting officers",
          "Firefighters",
          "Licensed practical nurses",
          "Nurse aides, orderlies and patient service associates",
          "Nurse practitioners",
          "Police investigators and other investigative occupations",
          "Police officers (except commissioned)",
          "Registered nurses and registered psychiatric nurses",
          "Commissioned police officers and related occupations in public protection services"
         ],
         "type": "scatterpolar"
        },
        {
         "customdata": {
          "bdata": "fAG0BS0AwwD1BXwB",
          "dtype": "i2",
          "shape": "6, 1"
         },
         "hovertemplate": "<b>%{hovertext}</b><br><br>GEO=Prince Edward Island<br>Count (log)=%{customdata[0]:.2f}<br>Occupation Category=%{theta}<extra></extra>",
         "hovertext": [
          "Prince Edward Island",
          "Prince Edward Island",
          "Prince Edward Island",
          "Prince Edward Island",
          "Prince Edward Island",
          "Prince Edward Island"
         ],
         "legendgroup": "Prince Edward Island",
         "line": {
          "color": "rgb(241,226,204)",
          "dash": "solid"
         },
         "marker": {
          "symbol": "circle"
         },
         "mode": "lines",
         "name": "Prince Edward Island",
         "r": {
          "bdata": "fAG0BS0AwwD1BXwB",
          "dtype": "i2"
         },
         "showlegend": true,
         "subplot": "polar",
         "theta": [
          "Licensed practical nurses",
          "Nurse aides, orderlies and patient service associates",
          "Nurse practitioners",
          "Police officers (except commissioned)",
          "Registered nurses and registered psychiatric nurses",
          "Licensed practical nurses"
         ],
         "type": "scatterpolar"
        },
        {
         "customdata": {
          "bdata": "6AMAAPkBAADYGAAAnVMAADA4AQDuAgAAAwIAAGM9AADxCAEA6AMAAA==",
          "dtype": "i4",
          "shape": "10, 1"
         },
         "hovertemplate": "<b>%{hovertext}</b><br><br>GEO=Quebec<br>Count (log)=%{customdata[0]:.2f}<br>Occupation Category=%{theta}<extra></extra>",
         "hovertext": [
          "Quebec",
          "Quebec",
          "Quebec",
          "Quebec",
          "Quebec",
          "Quebec",
          "Quebec",
          "Quebec",
          "Quebec",
          "Quebec"
         ],
         "legendgroup": "Quebec",
         "line": {
          "color": "rgb(255,242,174)",
          "dash": "solid"
         },
         "marker": {
          "symbol": "circle"
         },
         "mode": "lines",
         "name": "Quebec",
         "r": {
          "bdata": "6AMAAPkBAADYGAAAnVMAADA4AQDuAgAAAwIAAGM9AADxCAEA6AMAAA==",
          "dtype": "i4"
         },
         "showlegend": true,
         "subplot": "polar",
         "theta": [
          "Commissioned police officers and related occupations in public protection services",
          "Fire chiefs and senior firefighting officers",
          "Firefighters",
          "Licensed practical nurses",
          "Nurse aides, orderlies and patient service associates",
          "Nurse practitioners",
          "Police investigators and other investigative occupations",
          "Police officers (except commissioned)",
          "Registered nurses and registered psychiatric nurses",
          "Commissioned police officers and related occupations in public protection services"
         ],
         "type": "scatterpolar"
        },
        {
         "customdata": {
          "bdata": "GQAoAKsETAkZLcgAIwDnCQ4uGQA=",
          "dtype": "i2",
          "shape": "10, 1"
         },
         "hovertemplate": "<b>%{hovertext}</b><br><br>GEO=Saskatchewan<br>Count (log)=%{customdata[0]:.2f}<br>Occupation Category=%{theta}<extra></extra>",
         "hovertext": [
          "Saskatchewan",
          "Saskatchewan",
          "Saskatchewan",
          "Saskatchewan",
          "Saskatchewan",
          "Saskatchewan",
          "Saskatchewan",
          "Saskatchewan",
          "Saskatchewan",
          "Saskatchewan"
         ],
         "legendgroup": "Saskatchewan",
         "line": {
          "color": "rgb(230,245,201)",
          "dash": "solid"
         },
         "marker": {
          "symbol": "circle"
         },
         "mode": "lines",
         "name": "Saskatchewan",
         "r": {
          "bdata": "GQAoAKsETAkZLcgAIwDnCQ4uGQA=",
          "dtype": "i2"
         },
         "showlegend": true,
         "subplot": "polar",
         "theta": [
          "Commissioned police officers and related occupations in public protection services",
          "Fire chiefs and senior firefighting officers",
          "Firefighters",
          "Licensed practical nurses",
          "Nurse aides, orderlies and patient service associates",
          "Nurse practitioners",
          "Police investigators and other investigative occupations",
          "Police officers (except commissioned)",
          "Registered nurses and registered psychiatric nurses",
          "Commissioned police officers and related occupations in public protection services"
         ],
         "type": "scatterpolar"
        },
        {
         "customdata": {
          "bdata": "CgAjAEsArwCMAG0BCgA=",
          "dtype": "i2",
          "shape": "7, 1"
         },
         "hovertemplate": "<b>%{hovertext}</b><br><br>GEO=Yukon<br>Count (log)=%{customdata[0]:.2f}<br>Occupation Category=%{theta}<extra></extra>",
         "hovertext": [
          "Yukon",
          "Yukon",
          "Yukon",
          "Yukon",
          "Yukon",
          "Yukon",
          "Yukon"
         ],
         "legendgroup": "Yukon",
         "line": {
          "color": "rgb(244,202,228)",
          "dash": "solid"
         },
         "marker": {
          "symbol": "circle"
         },
         "mode": "lines",
         "name": "Yukon",
         "r": {
          "bdata": "CgAjAEsArwCMAG0BCgA=",
          "dtype": "i2"
         },
         "showlegend": true,
         "subplot": "polar",
         "theta": [
          "Fire chiefs and senior firefighting officers",
          "Firefighters",
          "Licensed practical nurses",
          "Nurse aides, orderlies and patient service associates",
          "Police officers (except commissioned)",
          "Registered nurses and registered psychiatric nurses",
          "Fire chiefs and senior firefighting officers"
         ],
         "type": "scatterpolar"
        }
       ],
       "layout": {
        "font": {
         "family": "Arial",
         "size": 12
        },
        "height": 800,
        "legend": {
         "bordercolor": "black",
         "borderwidth": 1,
         "orientation": "h",
         "title": {},
         "tracegroupgap": 0,
         "x": 1,
         "xanchor": "right",
         "y": -0.2,
         "yanchor": "bottom"
        },
        "margin": {
         "b": 20,
         "l": 100,
         "r": 100,
         "t": 80
        },
        "polar": {
         "angularaxis": {
          "direction": "clockwise",
          "gridcolor": "rgba(10,10,10,0.2)",
          "linewidth": 2,
          "rotation": 30
         },
         "domain": {
          "x": [
           0,
           1
          ],
          "y": [
           0,
           1
          ]
         },
         "radialaxis": {
          "angle": 45,
          "gridcolor": "rgba(10,10,10,0.2)",
          "linewidth": 2,
          "showline": true,
          "type": "log"
         }
        },
        "template": {
         "data": {
          "bar": [
           {
            "error_x": {
             "color": "#2a3f5f"
            },
            "error_y": {
             "color": "#2a3f5f"
            },
            "marker": {
             "line": {
              "color": "white",
              "width": 0.5
             },
             "pattern": {
              "fillmode": "overlay",
              "size": 10,
              "solidity": 0.2
             }
            },
            "type": "bar"
           }
          ],
          "barpolar": [
           {
            "marker": {
             "line": {
              "color": "white",
              "width": 0.5
             },
             "pattern": {
              "fillmode": "overlay",
              "size": 10,
              "solidity": 0.2
             }
            },
            "type": "barpolar"
           }
          ],
          "carpet": [
           {
            "aaxis": {
             "endlinecolor": "#2a3f5f",
             "gridcolor": "#C8D4E3",
             "linecolor": "#C8D4E3",
             "minorgridcolor": "#C8D4E3",
             "startlinecolor": "#2a3f5f"
            },
            "baxis": {
             "endlinecolor": "#2a3f5f",
             "gridcolor": "#C8D4E3",
             "linecolor": "#C8D4E3",
             "minorgridcolor": "#C8D4E3",
             "startlinecolor": "#2a3f5f"
            },
            "type": "carpet"
           }
          ],
          "choropleth": [
           {
            "colorbar": {
             "outlinewidth": 0,
             "ticks": ""
            },
            "type": "choropleth"
           }
          ],
          "contour": [
           {
            "colorbar": {
             "outlinewidth": 0,
             "ticks": ""
            },
            "colorscale": [
             [
              0,
              "#0d0887"
             ],
             [
              0.1111111111111111,
              "#46039f"
             ],
             [
              0.2222222222222222,
              "#7201a8"
             ],
             [
              0.3333333333333333,
              "#9c179e"
             ],
             [
              0.4444444444444444,
              "#bd3786"
             ],
             [
              0.5555555555555556,
              "#d8576b"
             ],
             [
              0.6666666666666666,
              "#ed7953"
             ],
             [
              0.7777777777777778,
              "#fb9f3a"
             ],
             [
              0.8888888888888888,
              "#fdca26"
             ],
             [
              1,
              "#f0f921"
             ]
            ],
            "type": "contour"
           }
          ],
          "contourcarpet": [
           {
            "colorbar": {
             "outlinewidth": 0,
             "ticks": ""
            },
            "type": "contourcarpet"
           }
          ],
          "heatmap": [
           {
            "colorbar": {
             "outlinewidth": 0,
             "ticks": ""
            },
            "colorscale": [
             [
              0,
              "#0d0887"
             ],
             [
              0.1111111111111111,
              "#46039f"
             ],
             [
              0.2222222222222222,
              "#7201a8"
             ],
             [
              0.3333333333333333,
              "#9c179e"
             ],
             [
              0.4444444444444444,
              "#bd3786"
             ],
             [
              0.5555555555555556,
              "#d8576b"
             ],
             [
              0.6666666666666666,
              "#ed7953"
             ],
             [
              0.7777777777777778,
              "#fb9f3a"
             ],
             [
              0.8888888888888888,
              "#fdca26"
             ],
             [
              1,
              "#f0f921"
             ]
            ],
            "type": "heatmap"
           }
          ],
          "histogram": [
           {
            "marker": {
             "pattern": {
              "fillmode": "overlay",
              "size": 10,
              "solidity": 0.2
             }
            },
            "type": "histogram"
           }
          ],
          "histogram2d": [
           {
            "colorbar": {
             "outlinewidth": 0,
             "ticks": ""
            },
            "colorscale": [
             [
              0,
              "#0d0887"
             ],
             [
              0.1111111111111111,
              "#46039f"
             ],
             [
              0.2222222222222222,
              "#7201a8"
             ],
             [
              0.3333333333333333,
              "#9c179e"
             ],
             [
              0.4444444444444444,
              "#bd3786"
             ],
             [
              0.5555555555555556,
              "#d8576b"
             ],
             [
              0.6666666666666666,
              "#ed7953"
             ],
             [
              0.7777777777777778,
              "#fb9f3a"
             ],
             [
              0.8888888888888888,
              "#fdca26"
             ],
             [
              1,
              "#f0f921"
             ]
            ],
            "type": "histogram2d"
           }
          ],
          "histogram2dcontour": [
           {
            "colorbar": {
             "outlinewidth": 0,
             "ticks": ""
            },
            "colorscale": [
             [
              0,
              "#0d0887"
             ],
             [
              0.1111111111111111,
              "#46039f"
             ],
             [
              0.2222222222222222,
              "#7201a8"
             ],
             [
              0.3333333333333333,
              "#9c179e"
             ],
             [
              0.4444444444444444,
              "#bd3786"
             ],
             [
              0.5555555555555556,
              "#d8576b"
             ],
             [
              0.6666666666666666,
              "#ed7953"
             ],
             [
              0.7777777777777778,
              "#fb9f3a"
             ],
             [
              0.8888888888888888,
              "#fdca26"
             ],
             [
              1,
              "#f0f921"
             ]
            ],
            "type": "histogram2dcontour"
           }
          ],
          "mesh3d": [
           {
            "colorbar": {
             "outlinewidth": 0,
             "ticks": ""
            },
            "type": "mesh3d"
           }
          ],
          "parcoords": [
           {
            "line": {
             "colorbar": {
              "outlinewidth": 0,
              "ticks": ""
             }
            },
            "type": "parcoords"
           }
          ],
          "pie": [
           {
            "automargin": true,
            "type": "pie"
           }
          ],
          "scatter": [
           {
            "fillpattern": {
             "fillmode": "overlay",
             "size": 10,
             "solidity": 0.2
            },
            "type": "scatter"
           }
          ],
          "scatter3d": [
           {
            "line": {
             "colorbar": {
              "outlinewidth": 0,
              "ticks": ""
             }
            },
            "marker": {
             "colorbar": {
              "outlinewidth": 0,
              "ticks": ""
             }
            },
            "type": "scatter3d"
           }
          ],
          "scattercarpet": [
           {
            "marker": {
             "colorbar": {
              "outlinewidth": 0,
              "ticks": ""
             }
            },
            "type": "scattercarpet"
           }
          ],
          "scattergeo": [
           {
            "marker": {
             "colorbar": {
              "outlinewidth": 0,
              "ticks": ""
             }
            },
            "type": "scattergeo"
           }
          ],
          "scattergl": [
           {
            "marker": {
             "colorbar": {
              "outlinewidth": 0,
              "ticks": ""
             }
            },
            "type": "scattergl"
           }
          ],
          "scattermap": [
           {
            "marker": {
             "colorbar": {
              "outlinewidth": 0,
              "ticks": ""
             }
            },
            "type": "scattermap"
           }
          ],
          "scattermapbox": [
           {
            "marker": {
             "colorbar": {
              "outlinewidth": 0,
              "ticks": ""
             }
            },
            "type": "scattermapbox"
           }
          ],
          "scatterpolar": [
           {
            "marker": {
             "colorbar": {
              "outlinewidth": 0,
              "ticks": ""
             }
            },
            "type": "scatterpolar"
           }
          ],
          "scatterpolargl": [
           {
            "marker": {
             "colorbar": {
              "outlinewidth": 0,
              "ticks": ""
             }
            },
            "type": "scatterpolargl"
           }
          ],
          "scatterternary": [
           {
            "marker": {
             "colorbar": {
              "outlinewidth": 0,
              "ticks": ""
             }
            },
            "type": "scatterternary"
           }
          ],
          "surface": [
           {
            "colorbar": {
             "outlinewidth": 0,
             "ticks": ""
            },
            "colorscale": [
             [
              0,
              "#0d0887"
             ],
             [
              0.1111111111111111,
              "#46039f"
             ],
             [
              0.2222222222222222,
              "#7201a8"
             ],
             [
              0.3333333333333333,
              "#9c179e"
             ],
             [
              0.4444444444444444,
              "#bd3786"
             ],
             [
              0.5555555555555556,
              "#d8576b"
             ],
             [
              0.6666666666666666,
              "#ed7953"
             ],
             [
              0.7777777777777778,
              "#fb9f3a"
             ],
             [
              0.8888888888888888,
              "#fdca26"
             ],
             [
              1,
              "#f0f921"
             ]
            ],
            "type": "surface"
           }
          ],
          "table": [
           {
            "cells": {
             "fill": {
              "color": "#EBF0F8"
             },
             "line": {
              "color": "white"
             }
            },
            "header": {
             "fill": {
              "color": "#C8D4E3"
             },
             "line": {
              "color": "white"
             }
            },
            "type": "table"
           }
          ]
         },
         "layout": {
          "annotationdefaults": {
           "arrowcolor": "#2a3f5f",
           "arrowhead": 0,
           "arrowwidth": 1
          },
          "autotypenumbers": "strict",
          "coloraxis": {
           "colorbar": {
            "outlinewidth": 0,
            "ticks": ""
           }
          },
          "colorscale": {
           "diverging": [
            [
             0,
             "#8e0152"
            ],
            [
             0.1,
             "#c51b7d"
            ],
            [
             0.2,
             "#de77ae"
            ],
            [
             0.3,
             "#f1b6da"
            ],
            [
             0.4,
             "#fde0ef"
            ],
            [
             0.5,
             "#f7f7f7"
            ],
            [
             0.6,
             "#e6f5d0"
            ],
            [
             0.7,
             "#b8e186"
            ],
            [
             0.8,
             "#7fbc41"
            ],
            [
             0.9,
             "#4d9221"
            ],
            [
             1,
             "#276419"
            ]
           ],
           "sequential": [
            [
             0,
             "#0d0887"
            ],
            [
             0.1111111111111111,
             "#46039f"
            ],
            [
             0.2222222222222222,
             "#7201a8"
            ],
            [
             0.3333333333333333,
             "#9c179e"
            ],
            [
             0.4444444444444444,
             "#bd3786"
            ],
            [
             0.5555555555555556,
             "#d8576b"
            ],
            [
             0.6666666666666666,
             "#ed7953"
            ],
            [
             0.7777777777777778,
             "#fb9f3a"
            ],
            [
             0.8888888888888888,
             "#fdca26"
            ],
            [
             1,
             "#f0f921"
            ]
           ],
           "sequentialminus": [
            [
             0,
             "#0d0887"
            ],
            [
             0.1111111111111111,
             "#46039f"
            ],
            [
             0.2222222222222222,
             "#7201a8"
            ],
            [
             0.3333333333333333,
             "#9c179e"
            ],
            [
             0.4444444444444444,
             "#bd3786"
            ],
            [
             0.5555555555555556,
             "#d8576b"
            ],
            [
             0.6666666666666666,
             "#ed7953"
            ],
            [
             0.7777777777777778,
             "#fb9f3a"
            ],
            [
             0.8888888888888888,
             "#fdca26"
            ],
            [
             1,
             "#f0f921"
            ]
           ]
          },
          "colorway": [
           "#636efa",
           "#EF553B",
           "#00cc96",
           "#ab63fa",
           "#FFA15A",
           "#19d3f3",
           "#FF6692",
           "#B6E880",
           "#FF97FF",
           "#FECB52"
          ],
          "font": {
           "color": "#2a3f5f"
          },
          "geo": {
           "bgcolor": "white",
           "lakecolor": "white",
           "landcolor": "white",
           "showlakes": true,
           "showland": true,
           "subunitcolor": "#C8D4E3"
          },
          "hoverlabel": {
           "align": "left"
          },
          "hovermode": "closest",
          "mapbox": {
           "style": "light"
          },
          "paper_bgcolor": "white",
          "plot_bgcolor": "white",
          "polar": {
           "angularaxis": {
            "gridcolor": "#EBF0F8",
            "linecolor": "#EBF0F8",
            "ticks": ""
           },
           "bgcolor": "white",
           "radialaxis": {
            "gridcolor": "#EBF0F8",
            "linecolor": "#EBF0F8",
            "ticks": ""
           }
          },
          "scene": {
           "xaxis": {
            "backgroundcolor": "white",
            "gridcolor": "#DFE8F3",
            "gridwidth": 2,
            "linecolor": "#EBF0F8",
            "showbackground": true,
            "ticks": "",
            "zerolinecolor": "#EBF0F8"
           },
           "yaxis": {
            "backgroundcolor": "white",
            "gridcolor": "#DFE8F3",
            "gridwidth": 2,
            "linecolor": "#EBF0F8",
            "showbackground": true,
            "ticks": "",
            "zerolinecolor": "#EBF0F8"
           },
           "zaxis": {
            "backgroundcolor": "white",
            "gridcolor": "#DFE8F3",
            "gridwidth": 2,
            "linecolor": "#EBF0F8",
            "showbackground": true,
            "ticks": "",
            "zerolinecolor": "#EBF0F8"
           }
          },
          "shapedefaults": {
           "line": {
            "color": "#2a3f5f"
           }
          },
          "ternary": {
           "aaxis": {
            "gridcolor": "#DFE8F3",
            "linecolor": "#A2B1C6",
            "ticks": ""
           },
           "baxis": {
            "gridcolor": "#DFE8F3",
            "linecolor": "#A2B1C6",
            "ticks": ""
           },
           "bgcolor": "white",
           "caxis": {
            "gridcolor": "#DFE8F3",
            "linecolor": "#A2B1C6",
            "ticks": ""
           }
          },
          "title": {
           "x": 0.05
          },
          "xaxis": {
           "automargin": true,
           "gridcolor": "#EBF0F8",
           "linecolor": "#EBF0F8",
           "ticks": "",
           "title": {
            "standoff": 15
           },
           "zerolinecolor": "#EBF0F8",
           "zerolinewidth": 2
          },
          "yaxis": {
           "automargin": true,
           "gridcolor": "#EBF0F8",
           "linecolor": "#EBF0F8",
           "ticks": "",
           "title": {
            "standoff": 15
           },
           "zerolinecolor": "#EBF0F8",
           "zerolinewidth": 2
          }
         }
        },
        "title": {
         "font": {
          "color": "#2a4978",
          "family": "Arial",
          "size": 20
         },
         "text": "<b>Gender Composition of  Aerospace Engineering Departments Across Canada</b>"
        }
       }
      }
     },
     "metadata": {},
     "output_type": "display_data"
    }
   ],
   "source": [
    "fig = px.line_polar(\n",
    "    essential_df,\n",
    "    r=\"COUNT\",\n",
    "    theta=\"OCCUPATION_C\",\n",
    "    color=\"GEO\",\n",
    "    color_discrete_sequence=px.colors.qualitative.Pastel2_r,\n",
    "    template=\"plotly_white\",\n",
    "    labels={\"COUNT\": \"Count (log)\", \"OCCUPATION_C\": \"Occupation Category\"},\n",
    "    hover_name=\"GEO\",\n",
    "    hover_data={\"COUNT\": \":.2f\"},\n",
    "    log_r=True,\n",
    "    start_angle=30,\n",
    "    line_close=True,\n",
    ")\n",
    "\n",
    "# update Tile\n",
    "fig.update_layout(\n",
    "    title=dict(\n",
    "        text=\"<b>Gender Composition of  Aerospace Engineering Departments Across Canada</b>\",\n",
    "        font=dict(size=20, family=\"Arial\", color=\"#2a4978\"),\n",
    "    )\n",
    ")\n",
    "\n",
    "# Additional styling\n",
    "fig.update_layout(\n",
    "    font=dict(family=\"Arial\", size=12),\n",
    "    polar=dict(\n",
    "        radialaxis=dict(\n",
    "            angle=45, showline=True, linewidth=2, gridcolor=\"rgba(10,10,10,0.2)\"\n",
    "        ),\n",
    "        angularaxis=dict(linewidth=2, gridcolor=\"rgba(10,10,10,0.2)\"),\n",
    "    ),\n",
    "    height=800,\n",
    "    margin=dict(l=100, r=100, t=80, b=20),\n",
    ")\n",
    "fig.update_layout(\n",
    "    legend=dict(\n",
    "        orientation=\"h\",\n",
    "        title=None,\n",
    "        y=-.2,\n",
    "        x=1,\n",
    "        xanchor=\"right\",\n",
    "        yanchor=\"bottom\",\n",
    "    ),\n",
    "    legend_bordercolor=\"black\",\n",
    "    legend_borderwidth=1,\n",
    ")\n",
    "\n",
    "fig"
   ]
  },
  {
   "cell_type": "code",
   "execution_count": 318,
   "metadata": {},
   "outputs": [
    {
     "data": {
      "application/vnd.plotly.v1+json": {
       "config": {
        "plotlyServerURL": "https://plot.ly"
       },
       "data": [
        {
         "customdata": {
          "bdata": "WgAAADEBAACYEgAAdCIAAKWCAAArAgAAXgEAAPkkAADJmgAAWgAAAA==",
          "dtype": "i4",
          "shape": "10, 1"
         },
         "hovertemplate": "<b>%{hovertext}</b><br><br>GEO=Alberta<br>Count (log)=%{customdata[0]:.2f}<br>Occupation Category=%{theta}<extra></extra>",
         "hovertext": [
          "Alberta",
          "Alberta",
          "Alberta",
          "Alberta",
          "Alberta",
          "Alberta",
          "Alberta",
          "Alberta",
          "Alberta",
          "Alberta"
         ],
         "legendgroup": "Alberta",
         "line": {
          "color": "rgb(204,204,204)",
          "dash": "solid",
          "shape": "spline"
         },
         "marker": {
          "symbol": "circle"
         },
         "mode": "lines",
         "name": "Alberta",
         "r": {
          "bdata": "WgAAADEBAACYEgAAdCIAAKWCAAArAgAAXgEAAPkkAADJmgAAWgAAAA==",
          "dtype": "i4"
         },
         "showlegend": true,
         "subplot": "polar",
         "theta": [
          "Commissioned police officers and related occupations in public protection services",
          "Fire chiefs and senior firefighting officers",
          "Firefighters",
          "Licensed practical nurses",
          "Nurse aides, orderlies and patient service associates",
          "Nurse practitioners",
          "Police investigators and other investigative occupations",
          "Police officers (except commissioned)",
          "Registered nurses and registered psychiatric nurses",
          "Commissioned police officers and related occupations in public protection services"
         ],
         "type": "scatterpolar"
        },
        {
         "customdata": {
          "bdata": "wwAAAPQBAAA5EgAAqx0AAOWSAACZAgAA6gEAACMoAABbqQAAwwAAAA==",
          "dtype": "i4",
          "shape": "10, 1"
         },
         "hovertemplate": "<b>%{hovertext}</b><br><br>GEO=British Columbia<br>Count (log)=%{customdata[0]:.2f}<br>Occupation Category=%{theta}<extra></extra>",
         "hovertext": [
          "British Columbia",
          "British Columbia",
          "British Columbia",
          "British Columbia",
          "British Columbia",
          "British Columbia",
          "British Columbia",
          "British Columbia",
          "British Columbia",
          "British Columbia"
         ],
         "legendgroup": "British Columbia",
         "line": {
          "color": "rgb(241,226,204)",
          "dash": "solid",
          "shape": "spline"
         },
         "marker": {
          "symbol": "circle"
         },
         "mode": "lines",
         "name": "British Columbia",
         "r": {
          "bdata": "wwAAAPQBAAA5EgAAqx0AAOWSAACZAgAA6gEAACMoAABbqQAAwwAAAA==",
          "dtype": "i4"
         },
         "showlegend": true,
         "subplot": "polar",
         "theta": [
          "Commissioned police officers and related occupations in public protection services",
          "Fire chiefs and senior firefighting officers",
          "Firefighters",
          "Licensed practical nurses",
          "Nurse aides, orderlies and patient service associates",
          "Nurse practitioners",
          "Police investigators and other investigative occupations",
          "Police officers (except commissioned)",
          "Registered nurses and registered psychiatric nurses",
          "Commissioned police officers and related occupations in public protection services"
         ],
         "type": "scatterpolar"
        },
        {
         "customdata": {
          "bdata": "HgBVACQEZgjqOPAAcwD7CSwzHgA=",
          "dtype": "i2",
          "shape": "10, 1"
         },
         "hovertemplate": "<b>%{hovertext}</b><br><br>GEO=Manitoba<br>Count (log)=%{customdata[0]:.2f}<br>Occupation Category=%{theta}<extra></extra>",
         "hovertext": [
          "Manitoba",
          "Manitoba",
          "Manitoba",
          "Manitoba",
          "Manitoba",
          "Manitoba",
          "Manitoba",
          "Manitoba",
          "Manitoba",
          "Manitoba"
         ],
         "legendgroup": "Manitoba",
         "line": {
          "color": "rgb(255,242,174)",
          "dash": "solid",
          "shape": "spline"
         },
         "marker": {
          "symbol": "circle"
         },
         "mode": "lines",
         "name": "Manitoba",
         "r": {
          "bdata": "HgBVACQEZgjqOPAAcwD7CSwzHgA=",
          "dtype": "i2"
         },
         "showlegend": true,
         "subplot": "polar",
         "theta": [
          "Commissioned police officers and related occupations in public protection services",
          "Fire chiefs and senior firefighting officers",
          "Firefighters",
          "Licensed practical nurses",
          "Nurse aides, orderlies and patient service associates",
          "Nurse practitioners",
          "Police investigators and other investigative occupations",
          "Police officers (except commissioned)",
          "Registered nurses and registered psychiatric nurses",
          "Commissioned police officers and related occupations in public protection services"
         ],
         "type": "scatterpolar"
        },
        {
         "customdata": {
          "bdata": "IwAZAGwCAAqCHq8AFACgBYMdIwA=",
          "dtype": "i2",
          "shape": "10, 1"
         },
         "hovertemplate": "<b>%{hovertext}</b><br><br>GEO=New Brunswick<br>Count (log)=%{customdata[0]:.2f}<br>Occupation Category=%{theta}<extra></extra>",
         "hovertext": [
          "New Brunswick",
          "New Brunswick",
          "New Brunswick",
          "New Brunswick",
          "New Brunswick",
          "New Brunswick",
          "New Brunswick",
          "New Brunswick",
          "New Brunswick",
          "New Brunswick"
         ],
         "legendgroup": "New Brunswick",
         "line": {
          "color": "rgb(230,245,201)",
          "dash": "solid",
          "shape": "spline"
         },
         "marker": {
          "symbol": "circle"
         },
         "mode": "lines",
         "name": "New Brunswick",
         "r": {
          "bdata": "IwAZAGwCAAqCHq8AFACgBYMdIwA=",
          "dtype": "i2"
         },
         "showlegend": true,
         "subplot": "polar",
         "theta": [
          "Commissioned police officers and related occupations in public protection services",
          "Fire chiefs and senior firefighting officers",
          "Firefighters",
          "Licensed practical nurses",
          "Nurse aides, orderlies and patient service associates",
          "Nurse practitioners",
          "Police investigators and other investigative occupations",
          "Police officers (except commissioned)",
          "Registered nurses and registered psychiatric nurses",
          "Commissioned police officers and related occupations in public protection services"
         ],
         "type": "scatterpolar"
        },
        {
         "customdata": {
          "bdata": "CgBKAXwGihGWAGsDkBUKAA==",
          "dtype": "i2",
          "shape": "8, 1"
         },
         "hovertemplate": "<b>%{hovertext}</b><br><br>GEO=Newfoundland and Labrador<br>Count (log)=%{customdata[0]:.2f}<br>Occupation Category=%{theta}<extra></extra>",
         "hovertext": [
          "Newfoundland and Labrador",
          "Newfoundland and Labrador",
          "Newfoundland and Labrador",
          "Newfoundland and Labrador",
          "Newfoundland and Labrador",
          "Newfoundland and Labrador",
          "Newfoundland and Labrador",
          "Newfoundland and Labrador"
         ],
         "legendgroup": "Newfoundland and Labrador",
         "line": {
          "color": "rgb(244,202,228)",
          "dash": "solid",
          "shape": "spline"
         },
         "marker": {
          "symbol": "circle"
         },
         "mode": "lines",
         "name": "Newfoundland and Labrador",
         "r": {
          "bdata": "CgBKAXwGihGWAGsDkBUKAA==",
          "dtype": "i2"
         },
         "showlegend": true,
         "subplot": "polar",
         "theta": [
          "Fire chiefs and senior firefighting officers",
          "Firefighters",
          "Licensed practical nurses",
          "Nurse aides, orderlies and patient service associates",
          "Nurse practitioners",
          "Police officers (except commissioned)",
          "Registered nurses and registered psychiatric nurses",
          "Fire chiefs and senior firefighting officers"
         ],
         "type": "scatterpolar"
        },
        {
         "customdata": {
          "bdata": "CgAyACMA3AAPAA8AuQB8AQoA",
          "dtype": "i2",
          "shape": "9, 1"
         },
         "hovertemplate": "<b>%{hovertext}</b><br><br>GEO=Northwest Territories<br>Count (log)=%{customdata[0]:.2f}<br>Occupation Category=%{theta}<extra></extra>",
         "hovertext": [
          "Northwest Territories",
          "Northwest Territories",
          "Northwest Territories",
          "Northwest Territories",
          "Northwest Territories",
          "Northwest Territories",
          "Northwest Territories",
          "Northwest Territories",
          "Northwest Territories"
         ],
         "legendgroup": "Northwest Territories",
         "line": {
          "color": "rgb(203,213,232)",
          "dash": "solid",
          "shape": "spline"
         },
         "marker": {
          "symbol": "circle"
         },
         "mode": "lines",
         "name": "Northwest Territories",
         "r": {
          "bdata": "CgAyACMA3AAPAA8AuQB8AQoA",
          "dtype": "i2"
         },
         "showlegend": true,
         "subplot": "polar",
         "theta": [
          "Fire chiefs and senior firefighting officers",
          "Firefighters",
          "Licensed practical nurses",
          "Nurse aides, orderlies and patient service associates",
          "Nurse practitioners",
          "Police investigators and other investigative occupations",
          "Police officers (except commissioned)",
          "Registered nurses and registered psychiatric nurses",
          "Fire chiefs and senior firefighting officers"
         ],
         "type": "scatterpolar"
        },
        {
         "customdata": {
          "bdata": "GQAtADQD+gruJeYAFADBB88mGQA=",
          "dtype": "i2",
          "shape": "10, 1"
         },
         "hovertemplate": "<b>%{hovertext}</b><br><br>GEO=Nova Scotia<br>Count (log)=%{customdata[0]:.2f}<br>Occupation Category=%{theta}<extra></extra>",
         "hovertext": [
          "Nova Scotia",
          "Nova Scotia",
          "Nova Scotia",
          "Nova Scotia",
          "Nova Scotia",
          "Nova Scotia",
          "Nova Scotia",
          "Nova Scotia",
          "Nova Scotia",
          "Nova Scotia"
         ],
         "legendgroup": "Nova Scotia",
         "line": {
          "color": "rgb(253,205,172)",
          "dash": "solid",
          "shape": "spline"
         },
         "marker": {
          "symbol": "circle"
         },
         "mode": "lines",
         "name": "Nova Scotia",
         "r": {
          "bdata": "GQAtADQD+gruJeYAFADBB88mGQA=",
          "dtype": "i2"
         },
         "showlegend": true,
         "subplot": "polar",
         "theta": [
          "Commissioned police officers and related occupations in public protection services",
          "Fire chiefs and senior firefighting officers",
          "Firefighters",
          "Licensed practical nurses",
          "Nurse aides, orderlies and patient service associates",
          "Nurse practitioners",
          "Police investigators and other investigative occupations",
          "Police officers (except commissioned)",
          "Registered nurses and registered psychiatric nurses",
          "Commissioned police officers and related occupations in public protection services"
         ],
         "type": "scatterpolar"
        },
        {
         "customdata": {
          "bdata": "CgAKAKUAbgCbAAoA",
          "dtype": "i2",
          "shape": "6, 1"
         },
         "hovertemplate": "<b>%{hovertext}</b><br><br>GEO=Nunavut<br>Count (log)=%{customdata[0]:.2f}<br>Occupation Category=%{theta}<extra></extra>",
         "hovertext": [
          "Nunavut",
          "Nunavut",
          "Nunavut",
          "Nunavut",
          "Nunavut",
          "Nunavut"
         ],
         "legendgroup": "Nunavut",
         "line": {
          "color": "rgb(179,226,205)",
          "dash": "solid",
          "shape": "spline"
         },
         "marker": {
          "symbol": "circle"
         },
         "mode": "lines",
         "name": "Nunavut",
         "r": {
          "bdata": "CgAKAKUAbgCbAAoA",
          "dtype": "i2"
         },
         "showlegend": true,
         "subplot": "polar",
         "theta": [
          "Firefighters",
          "Licensed practical nurses",
          "Nurse aides, orderlies and patient service associates",
          "Police officers (except commissioned)",
          "Registered nurses and registered psychiatric nurses",
          "Firefighters"
         ],
         "type": "scatterpolar"
        },
        {
         "customdata": {
          "bdata": "ngIAAGYDAADTMQAAdFQAAJu4AQB/DQAA4AYAAOBlAAB2qwEAngIAAA==",
          "dtype": "i4",
          "shape": "10, 1"
         },
         "hovertemplate": "<b>%{hovertext}</b><br><br>GEO=Ontario<br>Count (log)=%{customdata[0]:.2f}<br>Occupation Category=%{theta}<extra></extra>",
         "hovertext": [
          "Ontario",
          "Ontario",
          "Ontario",
          "Ontario",
          "Ontario",
          "Ontario",
          "Ontario",
          "Ontario",
          "Ontario",
          "Ontario"
         ],
         "legendgroup": "Ontario",
         "line": {
          "color": "rgb(204,204,204)",
          "dash": "solid",
          "shape": "spline"
         },
         "marker": {
          "symbol": "circle"
         },
         "mode": "lines",
         "name": "Ontario",
         "r": {
          "bdata": "ngIAAGYDAADTMQAAdFQAAJu4AQB/DQAA4AYAAOBlAAB2qwEAngIAAA==",
          "dtype": "i4"
         },
         "showlegend": true,
         "subplot": "polar",
         "theta": [
          "Commissioned police officers and related occupations in public protection services",
          "Fire chiefs and senior firefighting officers",
          "Firefighters",
          "Licensed practical nurses",
          "Nurse aides, orderlies and patient service associates",
          "Nurse practitioners",
          "Police investigators and other investigative occupations",
          "Police officers (except commissioned)",
          "Registered nurses and registered psychiatric nurses",
          "Commissioned police officers and related occupations in public protection services"
         ],
         "type": "scatterpolar"
        },
        {
         "customdata": {
          "bdata": "fAG0BS0AwwD1BXwB",
          "dtype": "i2",
          "shape": "6, 1"
         },
         "hovertemplate": "<b>%{hovertext}</b><br><br>GEO=Prince Edward Island<br>Count (log)=%{customdata[0]:.2f}<br>Occupation Category=%{theta}<extra></extra>",
         "hovertext": [
          "Prince Edward Island",
          "Prince Edward Island",
          "Prince Edward Island",
          "Prince Edward Island",
          "Prince Edward Island",
          "Prince Edward Island"
         ],
         "legendgroup": "Prince Edward Island",
         "line": {
          "color": "rgb(241,226,204)",
          "dash": "solid",
          "shape": "spline"
         },
         "marker": {
          "symbol": "circle"
         },
         "mode": "lines",
         "name": "Prince Edward Island",
         "r": {
          "bdata": "fAG0BS0AwwD1BXwB",
          "dtype": "i2"
         },
         "showlegend": true,
         "subplot": "polar",
         "theta": [
          "Licensed practical nurses",
          "Nurse aides, orderlies and patient service associates",
          "Nurse practitioners",
          "Police officers (except commissioned)",
          "Registered nurses and registered psychiatric nurses",
          "Licensed practical nurses"
         ],
         "type": "scatterpolar"
        },
        {
         "customdata": {
          "bdata": "6AMAAPkBAADYGAAAnVMAADA4AQDuAgAAAwIAAGM9AADxCAEA6AMAAA==",
          "dtype": "i4",
          "shape": "10, 1"
         },
         "hovertemplate": "<b>%{hovertext}</b><br><br>GEO=Quebec<br>Count (log)=%{customdata[0]:.2f}<br>Occupation Category=%{theta}<extra></extra>",
         "hovertext": [
          "Quebec",
          "Quebec",
          "Quebec",
          "Quebec",
          "Quebec",
          "Quebec",
          "Quebec",
          "Quebec",
          "Quebec",
          "Quebec"
         ],
         "legendgroup": "Quebec",
         "line": {
          "color": "rgb(255,242,174)",
          "dash": "solid",
          "shape": "spline"
         },
         "marker": {
          "symbol": "circle"
         },
         "mode": "lines",
         "name": "Quebec",
         "r": {
          "bdata": "6AMAAPkBAADYGAAAnVMAADA4AQDuAgAAAwIAAGM9AADxCAEA6AMAAA==",
          "dtype": "i4"
         },
         "showlegend": true,
         "subplot": "polar",
         "theta": [
          "Commissioned police officers and related occupations in public protection services",
          "Fire chiefs and senior firefighting officers",
          "Firefighters",
          "Licensed practical nurses",
          "Nurse aides, orderlies and patient service associates",
          "Nurse practitioners",
          "Police investigators and other investigative occupations",
          "Police officers (except commissioned)",
          "Registered nurses and registered psychiatric nurses",
          "Commissioned police officers and related occupations in public protection services"
         ],
         "type": "scatterpolar"
        },
        {
         "customdata": {
          "bdata": "GQAoAKsETAkZLcgAIwDnCQ4uGQA=",
          "dtype": "i2",
          "shape": "10, 1"
         },
         "hovertemplate": "<b>%{hovertext}</b><br><br>GEO=Saskatchewan<br>Count (log)=%{customdata[0]:.2f}<br>Occupation Category=%{theta}<extra></extra>",
         "hovertext": [
          "Saskatchewan",
          "Saskatchewan",
          "Saskatchewan",
          "Saskatchewan",
          "Saskatchewan",
          "Saskatchewan",
          "Saskatchewan",
          "Saskatchewan",
          "Saskatchewan",
          "Saskatchewan"
         ],
         "legendgroup": "Saskatchewan",
         "line": {
          "color": "rgb(230,245,201)",
          "dash": "solid",
          "shape": "spline"
         },
         "marker": {
          "symbol": "circle"
         },
         "mode": "lines",
         "name": "Saskatchewan",
         "r": {
          "bdata": "GQAoAKsETAkZLcgAIwDnCQ4uGQA=",
          "dtype": "i2"
         },
         "showlegend": true,
         "subplot": "polar",
         "theta": [
          "Commissioned police officers and related occupations in public protection services",
          "Fire chiefs and senior firefighting officers",
          "Firefighters",
          "Licensed practical nurses",
          "Nurse aides, orderlies and patient service associates",
          "Nurse practitioners",
          "Police investigators and other investigative occupations",
          "Police officers (except commissioned)",
          "Registered nurses and registered psychiatric nurses",
          "Commissioned police officers and related occupations in public protection services"
         ],
         "type": "scatterpolar"
        },
        {
         "customdata": {
          "bdata": "CgAjAEsArwCMAG0BCgA=",
          "dtype": "i2",
          "shape": "7, 1"
         },
         "hovertemplate": "<b>%{hovertext}</b><br><br>GEO=Yukon<br>Count (log)=%{customdata[0]:.2f}<br>Occupation Category=%{theta}<extra></extra>",
         "hovertext": [
          "Yukon",
          "Yukon",
          "Yukon",
          "Yukon",
          "Yukon",
          "Yukon",
          "Yukon"
         ],
         "legendgroup": "Yukon",
         "line": {
          "color": "rgb(244,202,228)",
          "dash": "solid",
          "shape": "spline"
         },
         "marker": {
          "symbol": "circle"
         },
         "mode": "lines",
         "name": "Yukon",
         "r": {
          "bdata": "CgAjAEsArwCMAG0BCgA=",
          "dtype": "i2"
         },
         "showlegend": true,
         "subplot": "polar",
         "theta": [
          "Fire chiefs and senior firefighting officers",
          "Firefighters",
          "Licensed practical nurses",
          "Nurse aides, orderlies and patient service associates",
          "Police officers (except commissioned)",
          "Registered nurses and registered psychiatric nurses",
          "Fire chiefs and senior firefighting officers"
         ],
         "type": "scatterpolar"
        }
       ],
       "layout": {
        "font": {
         "color": "#333",
         "family": "Arial",
         "size": 13
        },
        "height": 600,
        "legend": {
         "bordercolor": "black",
         "borderwidth": 1,
         "font": {
          "size": 12
         },
         "orientation": "h",
         "title": {},
         "tracegroupgap": 0,
         "x": 0.5,
         "xanchor": "center",
         "y": -0.15,
         "yanchor": "bottom"
        },
        "margin": {
         "b": 50,
         "l": 80,
         "r": 80,
         "t": 90
        },
        "polar": {
         "angularaxis": {
          "direction": "clockwise",
          "gridcolor": "rgba(10,10,10,0.2)",
          "linewidth": 2,
          "rotation": 30,
          "tickfont": {
           "size": 12
          }
         },
         "domain": {
          "x": [
           0,
           1
          ],
          "y": [
           0,
           1
          ]
         },
         "radialaxis": {
          "angle": 45,
          "gridcolor": "rgba(10,10,10,0.2)",
          "linewidth": 2,
          "showline": true,
          "tickangle": 0,
          "type": "log"
         }
        },
        "template": {
         "data": {
          "bar": [
           {
            "error_x": {
             "color": "#2a3f5f"
            },
            "error_y": {
             "color": "#2a3f5f"
            },
            "marker": {
             "line": {
              "color": "white",
              "width": 0.5
             },
             "pattern": {
              "fillmode": "overlay",
              "size": 10,
              "solidity": 0.2
             }
            },
            "type": "bar"
           }
          ],
          "barpolar": [
           {
            "marker": {
             "line": {
              "color": "white",
              "width": 0.5
             },
             "pattern": {
              "fillmode": "overlay",
              "size": 10,
              "solidity": 0.2
             }
            },
            "type": "barpolar"
           }
          ],
          "carpet": [
           {
            "aaxis": {
             "endlinecolor": "#2a3f5f",
             "gridcolor": "#C8D4E3",
             "linecolor": "#C8D4E3",
             "minorgridcolor": "#C8D4E3",
             "startlinecolor": "#2a3f5f"
            },
            "baxis": {
             "endlinecolor": "#2a3f5f",
             "gridcolor": "#C8D4E3",
             "linecolor": "#C8D4E3",
             "minorgridcolor": "#C8D4E3",
             "startlinecolor": "#2a3f5f"
            },
            "type": "carpet"
           }
          ],
          "choropleth": [
           {
            "colorbar": {
             "outlinewidth": 0,
             "ticks": ""
            },
            "type": "choropleth"
           }
          ],
          "contour": [
           {
            "colorbar": {
             "outlinewidth": 0,
             "ticks": ""
            },
            "colorscale": [
             [
              0,
              "#0d0887"
             ],
             [
              0.1111111111111111,
              "#46039f"
             ],
             [
              0.2222222222222222,
              "#7201a8"
             ],
             [
              0.3333333333333333,
              "#9c179e"
             ],
             [
              0.4444444444444444,
              "#bd3786"
             ],
             [
              0.5555555555555556,
              "#d8576b"
             ],
             [
              0.6666666666666666,
              "#ed7953"
             ],
             [
              0.7777777777777778,
              "#fb9f3a"
             ],
             [
              0.8888888888888888,
              "#fdca26"
             ],
             [
              1,
              "#f0f921"
             ]
            ],
            "type": "contour"
           }
          ],
          "contourcarpet": [
           {
            "colorbar": {
             "outlinewidth": 0,
             "ticks": ""
            },
            "type": "contourcarpet"
           }
          ],
          "heatmap": [
           {
            "colorbar": {
             "outlinewidth": 0,
             "ticks": ""
            },
            "colorscale": [
             [
              0,
              "#0d0887"
             ],
             [
              0.1111111111111111,
              "#46039f"
             ],
             [
              0.2222222222222222,
              "#7201a8"
             ],
             [
              0.3333333333333333,
              "#9c179e"
             ],
             [
              0.4444444444444444,
              "#bd3786"
             ],
             [
              0.5555555555555556,
              "#d8576b"
             ],
             [
              0.6666666666666666,
              "#ed7953"
             ],
             [
              0.7777777777777778,
              "#fb9f3a"
             ],
             [
              0.8888888888888888,
              "#fdca26"
             ],
             [
              1,
              "#f0f921"
             ]
            ],
            "type": "heatmap"
           }
          ],
          "histogram": [
           {
            "marker": {
             "pattern": {
              "fillmode": "overlay",
              "size": 10,
              "solidity": 0.2
             }
            },
            "type": "histogram"
           }
          ],
          "histogram2d": [
           {
            "colorbar": {
             "outlinewidth": 0,
             "ticks": ""
            },
            "colorscale": [
             [
              0,
              "#0d0887"
             ],
             [
              0.1111111111111111,
              "#46039f"
             ],
             [
              0.2222222222222222,
              "#7201a8"
             ],
             [
              0.3333333333333333,
              "#9c179e"
             ],
             [
              0.4444444444444444,
              "#bd3786"
             ],
             [
              0.5555555555555556,
              "#d8576b"
             ],
             [
              0.6666666666666666,
              "#ed7953"
             ],
             [
              0.7777777777777778,
              "#fb9f3a"
             ],
             [
              0.8888888888888888,
              "#fdca26"
             ],
             [
              1,
              "#f0f921"
             ]
            ],
            "type": "histogram2d"
           }
          ],
          "histogram2dcontour": [
           {
            "colorbar": {
             "outlinewidth": 0,
             "ticks": ""
            },
            "colorscale": [
             [
              0,
              "#0d0887"
             ],
             [
              0.1111111111111111,
              "#46039f"
             ],
             [
              0.2222222222222222,
              "#7201a8"
             ],
             [
              0.3333333333333333,
              "#9c179e"
             ],
             [
              0.4444444444444444,
              "#bd3786"
             ],
             [
              0.5555555555555556,
              "#d8576b"
             ],
             [
              0.6666666666666666,
              "#ed7953"
             ],
             [
              0.7777777777777778,
              "#fb9f3a"
             ],
             [
              0.8888888888888888,
              "#fdca26"
             ],
             [
              1,
              "#f0f921"
             ]
            ],
            "type": "histogram2dcontour"
           }
          ],
          "mesh3d": [
           {
            "colorbar": {
             "outlinewidth": 0,
             "ticks": ""
            },
            "type": "mesh3d"
           }
          ],
          "parcoords": [
           {
            "line": {
             "colorbar": {
              "outlinewidth": 0,
              "ticks": ""
             }
            },
            "type": "parcoords"
           }
          ],
          "pie": [
           {
            "automargin": true,
            "type": "pie"
           }
          ],
          "scatter": [
           {
            "fillpattern": {
             "fillmode": "overlay",
             "size": 10,
             "solidity": 0.2
            },
            "type": "scatter"
           }
          ],
          "scatter3d": [
           {
            "line": {
             "colorbar": {
              "outlinewidth": 0,
              "ticks": ""
             }
            },
            "marker": {
             "colorbar": {
              "outlinewidth": 0,
              "ticks": ""
             }
            },
            "type": "scatter3d"
           }
          ],
          "scattercarpet": [
           {
            "marker": {
             "colorbar": {
              "outlinewidth": 0,
              "ticks": ""
             }
            },
            "type": "scattercarpet"
           }
          ],
          "scattergeo": [
           {
            "marker": {
             "colorbar": {
              "outlinewidth": 0,
              "ticks": ""
             }
            },
            "type": "scattergeo"
           }
          ],
          "scattergl": [
           {
            "marker": {
             "colorbar": {
              "outlinewidth": 0,
              "ticks": ""
             }
            },
            "type": "scattergl"
           }
          ],
          "scattermap": [
           {
            "marker": {
             "colorbar": {
              "outlinewidth": 0,
              "ticks": ""
             }
            },
            "type": "scattermap"
           }
          ],
          "scattermapbox": [
           {
            "marker": {
             "colorbar": {
              "outlinewidth": 0,
              "ticks": ""
             }
            },
            "type": "scattermapbox"
           }
          ],
          "scatterpolar": [
           {
            "marker": {
             "colorbar": {
              "outlinewidth": 0,
              "ticks": ""
             }
            },
            "type": "scatterpolar"
           }
          ],
          "scatterpolargl": [
           {
            "marker": {
             "colorbar": {
              "outlinewidth": 0,
              "ticks": ""
             }
            },
            "type": "scatterpolargl"
           }
          ],
          "scatterternary": [
           {
            "marker": {
             "colorbar": {
              "outlinewidth": 0,
              "ticks": ""
             }
            },
            "type": "scatterternary"
           }
          ],
          "surface": [
           {
            "colorbar": {
             "outlinewidth": 0,
             "ticks": ""
            },
            "colorscale": [
             [
              0,
              "#0d0887"
             ],
             [
              0.1111111111111111,
              "#46039f"
             ],
             [
              0.2222222222222222,
              "#7201a8"
             ],
             [
              0.3333333333333333,
              "#9c179e"
             ],
             [
              0.4444444444444444,
              "#bd3786"
             ],
             [
              0.5555555555555556,
              "#d8576b"
             ],
             [
              0.6666666666666666,
              "#ed7953"
             ],
             [
              0.7777777777777778,
              "#fb9f3a"
             ],
             [
              0.8888888888888888,
              "#fdca26"
             ],
             [
              1,
              "#f0f921"
             ]
            ],
            "type": "surface"
           }
          ],
          "table": [
           {
            "cells": {
             "fill": {
              "color": "#EBF0F8"
             },
             "line": {
              "color": "white"
             }
            },
            "header": {
             "fill": {
              "color": "#C8D4E3"
             },
             "line": {
              "color": "white"
             }
            },
            "type": "table"
           }
          ]
         },
         "layout": {
          "annotationdefaults": {
           "arrowcolor": "#2a3f5f",
           "arrowhead": 0,
           "arrowwidth": 1
          },
          "autotypenumbers": "strict",
          "coloraxis": {
           "colorbar": {
            "outlinewidth": 0,
            "ticks": ""
           }
          },
          "colorscale": {
           "diverging": [
            [
             0,
             "#8e0152"
            ],
            [
             0.1,
             "#c51b7d"
            ],
            [
             0.2,
             "#de77ae"
            ],
            [
             0.3,
             "#f1b6da"
            ],
            [
             0.4,
             "#fde0ef"
            ],
            [
             0.5,
             "#f7f7f7"
            ],
            [
             0.6,
             "#e6f5d0"
            ],
            [
             0.7,
             "#b8e186"
            ],
            [
             0.8,
             "#7fbc41"
            ],
            [
             0.9,
             "#4d9221"
            ],
            [
             1,
             "#276419"
            ]
           ],
           "sequential": [
            [
             0,
             "#0d0887"
            ],
            [
             0.1111111111111111,
             "#46039f"
            ],
            [
             0.2222222222222222,
             "#7201a8"
            ],
            [
             0.3333333333333333,
             "#9c179e"
            ],
            [
             0.4444444444444444,
             "#bd3786"
            ],
            [
             0.5555555555555556,
             "#d8576b"
            ],
            [
             0.6666666666666666,
             "#ed7953"
            ],
            [
             0.7777777777777778,
             "#fb9f3a"
            ],
            [
             0.8888888888888888,
             "#fdca26"
            ],
            [
             1,
             "#f0f921"
            ]
           ],
           "sequentialminus": [
            [
             0,
             "#0d0887"
            ],
            [
             0.1111111111111111,
             "#46039f"
            ],
            [
             0.2222222222222222,
             "#7201a8"
            ],
            [
             0.3333333333333333,
             "#9c179e"
            ],
            [
             0.4444444444444444,
             "#bd3786"
            ],
            [
             0.5555555555555556,
             "#d8576b"
            ],
            [
             0.6666666666666666,
             "#ed7953"
            ],
            [
             0.7777777777777778,
             "#fb9f3a"
            ],
            [
             0.8888888888888888,
             "#fdca26"
            ],
            [
             1,
             "#f0f921"
            ]
           ]
          },
          "colorway": [
           "#636efa",
           "#EF553B",
           "#00cc96",
           "#ab63fa",
           "#FFA15A",
           "#19d3f3",
           "#FF6692",
           "#B6E880",
           "#FF97FF",
           "#FECB52"
          ],
          "font": {
           "color": "#2a3f5f"
          },
          "geo": {
           "bgcolor": "white",
           "lakecolor": "white",
           "landcolor": "white",
           "showlakes": true,
           "showland": true,
           "subunitcolor": "#C8D4E3"
          },
          "hoverlabel": {
           "align": "left"
          },
          "hovermode": "closest",
          "mapbox": {
           "style": "light"
          },
          "paper_bgcolor": "white",
          "plot_bgcolor": "white",
          "polar": {
           "angularaxis": {
            "gridcolor": "#EBF0F8",
            "linecolor": "#EBF0F8",
            "ticks": ""
           },
           "bgcolor": "white",
           "radialaxis": {
            "gridcolor": "#EBF0F8",
            "linecolor": "#EBF0F8",
            "ticks": ""
           }
          },
          "scene": {
           "xaxis": {
            "backgroundcolor": "white",
            "gridcolor": "#DFE8F3",
            "gridwidth": 2,
            "linecolor": "#EBF0F8",
            "showbackground": true,
            "ticks": "",
            "zerolinecolor": "#EBF0F8"
           },
           "yaxis": {
            "backgroundcolor": "white",
            "gridcolor": "#DFE8F3",
            "gridwidth": 2,
            "linecolor": "#EBF0F8",
            "showbackground": true,
            "ticks": "",
            "zerolinecolor": "#EBF0F8"
           },
           "zaxis": {
            "backgroundcolor": "white",
            "gridcolor": "#DFE8F3",
            "gridwidth": 2,
            "linecolor": "#EBF0F8",
            "showbackground": true,
            "ticks": "",
            "zerolinecolor": "#EBF0F8"
           }
          },
          "shapedefaults": {
           "line": {
            "color": "#2a3f5f"
           }
          },
          "ternary": {
           "aaxis": {
            "gridcolor": "#DFE8F3",
            "linecolor": "#A2B1C6",
            "ticks": ""
           },
           "baxis": {
            "gridcolor": "#DFE8F3",
            "linecolor": "#A2B1C6",
            "ticks": ""
           },
           "bgcolor": "white",
           "caxis": {
            "gridcolor": "#DFE8F3",
            "linecolor": "#A2B1C6",
            "ticks": ""
           }
          },
          "title": {
           "x": 0.05
          },
          "xaxis": {
           "automargin": true,
           "gridcolor": "#EBF0F8",
           "linecolor": "#EBF0F8",
           "ticks": "",
           "title": {
            "standoff": 15
           },
           "zerolinecolor": "#EBF0F8",
           "zerolinewidth": 2
          },
          "yaxis": {
           "automargin": true,
           "gridcolor": "#EBF0F8",
           "linecolor": "#EBF0F8",
           "ticks": "",
           "title": {
            "standoff": 15
           },
           "zerolinecolor": "#EBF0F8",
           "zerolinewidth": 2
          }
         }
        },
        "title": {
         "font": {
          "color": "#2a4978",
          "family": "Arial",
          "size": 22
         },
         "text": "<b>Gender Composition of Aerospace Engineering Departments Across Canada</b>",
         "x": 0.5,
         "xanchor": "center"
        }
       }
      }
     },
     "metadata": {},
     "output_type": "display_data"
    }
   ],
   "source": [
    "import plotly.express as px\n",
    "\n",
    "# Create the polar line chart\n",
    "fig = px.line_polar(\n",
    "    essential_df,\n",
    "    r=\"COUNT\",\n",
    "    theta=\"OCCUPATION_C\",\n",
    "    color=\"GEO\",\n",
    "    color_discrete_sequence=px.colors.qualitative.Pastel2_r,\n",
    "    template=\"plotly_white\",\n",
    "    labels={\"COUNT\": \"Count (log)\", \"OCCUPATION_C\": \"Occupation Category\"},\n",
    "    hover_name=\"GEO\",\n",
    "    hover_data={\"COUNT\": \":.2f\"},\n",
    "    log_r=True,\n",
    "    start_angle=30,\n",
    "    line_close=True,\n",
    "    line_shape=\"spline\",\n",
    ")\n",
    "\n",
    "\n",
    "fig.update_layout(\n",
    "    title=dict(\n",
    "        text=\"<b>Gender Composition of Aerospace Engineering Departments Across Canada</b>\",\n",
    "        font=dict(size=22, family=\"Arial\", color=\"#2a4978\"),\n",
    "        x=0.5, \n",
    "        xanchor=\"center\",\n",
    "    ),\n",
    "    font=dict(family=\"Arial\", size=13, color=\"#333\"),\n",
    "    polar=dict(\n",
    "        radialaxis=dict(\n",
    "            angle=45,\n",
    "            showline=True,\n",
    "            linewidth=2,\n",
    "            gridcolor=\"rgba(10,10,10,0.2)\",\n",
    "            tickangle=0,\n",
    "        ),\n",
    "        angularaxis=dict(\n",
    "            linewidth=2,\n",
    "            gridcolor=\"rgba(10,10,10,0.2)\",\n",
    "            tickfont=dict(size=12),\n",
    "        ),\n",
    "    ),\n",
    "    legend=dict(\n",
    "        orientation=\"h\",\n",
    "        title=None,\n",
    "        y=-0.15,  # Adjust position to avoid overlap\n",
    "        x=0.5,\n",
    "        xanchor=\"center\",\n",
    "        yanchor=\"bottom\",\n",
    "        bordercolor=\"black\",\n",
    "        borderwidth=1,\n",
    "        font=dict(size=12),\n",
    "    ),\n",
    "    height=600,\n",
    "    margin=dict(l=80, r=80, t=90, b=50),  # Adjusted margins for balance\n",
    ")\n",
    "\n",
    "fig"
   ]
  },
  {
   "cell_type": "code",
   "execution_count": 319,
   "metadata": {},
   "outputs": [
    {
     "data": {
      "text/html": [
       "<div>\n",
       "<style scoped>\n",
       "    .dataframe tbody tr th:only-of-type {\n",
       "        vertical-align: middle;\n",
       "    }\n",
       "\n",
       "    .dataframe tbody tr th {\n",
       "        vertical-align: top;\n",
       "    }\n",
       "\n",
       "    .dataframe thead th {\n",
       "        text-align: right;\n",
       "    }\n",
       "</style>\n",
       "<table border=\"1\" class=\"dataframe\">\n",
       "  <thead>\n",
       "    <tr style=\"text-align: right;\">\n",
       "      <th></th>\n",
       "      <th>GEO</th>\n",
       "      <th>OCCUPATION_C</th>\n",
       "      <th>COUNT</th>\n",
       "    </tr>\n",
       "  </thead>\n",
       "  <tbody>\n",
       "    <tr>\n",
       "      <th>79</th>\n",
       "      <td>Alberta</td>\n",
       "      <td>Commissioned police officers and related occup...</td>\n",
       "      <td>90</td>\n",
       "    </tr>\n",
       "    <tr>\n",
       "      <th>162</th>\n",
       "      <td>Alberta</td>\n",
       "      <td>Fire chiefs and senior firefighting officers</td>\n",
       "      <td>305</td>\n",
       "    </tr>\n",
       "    <tr>\n",
       "      <th>163</th>\n",
       "      <td>Alberta</td>\n",
       "      <td>Firefighters</td>\n",
       "      <td>4760</td>\n",
       "    </tr>\n",
       "    <tr>\n",
       "      <th>252</th>\n",
       "      <td>Alberta</td>\n",
       "      <td>Licensed practical nurses</td>\n",
       "      <td>8820</td>\n",
       "    </tr>\n",
       "    <tr>\n",
       "      <th>300</th>\n",
       "      <td>Alberta</td>\n",
       "      <td>Nurse aides, orderlies and patient service ass...</td>\n",
       "      <td>33445</td>\n",
       "    </tr>\n",
       "    <tr>\n",
       "      <th>...</th>\n",
       "      <td>...</td>\n",
       "      <td>...</td>\n",
       "      <td>...</td>\n",
       "    </tr>\n",
       "    <tr>\n",
       "      <th>5463</th>\n",
       "      <td>Yukon</td>\n",
       "      <td>Firefighters</td>\n",
       "      <td>35</td>\n",
       "    </tr>\n",
       "    <tr>\n",
       "      <th>5507</th>\n",
       "      <td>Yukon</td>\n",
       "      <td>Licensed practical nurses</td>\n",
       "      <td>75</td>\n",
       "    </tr>\n",
       "    <tr>\n",
       "      <th>5529</th>\n",
       "      <td>Yukon</td>\n",
       "      <td>Nurse aides, orderlies and patient service ass...</td>\n",
       "      <td>175</td>\n",
       "    </tr>\n",
       "    <tr>\n",
       "      <th>5556</th>\n",
       "      <td>Yukon</td>\n",
       "      <td>Police officers (except commissioned)</td>\n",
       "      <td>140</td>\n",
       "    </tr>\n",
       "    <tr>\n",
       "      <th>5577</th>\n",
       "      <td>Yukon</td>\n",
       "      <td>Registered nurses and registered psychiatric n...</td>\n",
       "      <td>365</td>\n",
       "    </tr>\n",
       "  </tbody>\n",
       "</table>\n",
       "<p>103 rows × 3 columns</p>\n",
       "</div>"
      ],
      "text/plain": [
       "          GEO                                       OCCUPATION_C  COUNT\n",
       "79    Alberta  Commissioned police officers and related occup...     90\n",
       "162   Alberta       Fire chiefs and senior firefighting officers    305\n",
       "163   Alberta                                       Firefighters   4760\n",
       "252   Alberta                          Licensed practical nurses   8820\n",
       "300   Alberta  Nurse aides, orderlies and patient service ass...  33445\n",
       "...       ...                                                ...    ...\n",
       "5463    Yukon                                       Firefighters     35\n",
       "5507    Yukon                          Licensed practical nurses     75\n",
       "5529    Yukon  Nurse aides, orderlies and patient service ass...    175\n",
       "5556    Yukon              Police officers (except commissioned)    140\n",
       "5577    Yukon  Registered nurses and registered psychiatric n...    365\n",
       "\n",
       "[103 rows x 3 columns]"
      ]
     },
     "execution_count": 319,
     "metadata": {},
     "output_type": "execute_result"
    }
   ],
   "source": [
    "essential_df"
   ]
  },
  {
   "cell_type": "code",
   "execution_count": 320,
   "metadata": {},
   "outputs": [
    {
     "data": {
      "text/html": [
       "<div>\n",
       "<style scoped>\n",
       "    .dataframe tbody tr th:only-of-type {\n",
       "        vertical-align: middle;\n",
       "    }\n",
       "\n",
       "    .dataframe tbody tr th {\n",
       "        vertical-align: top;\n",
       "    }\n",
       "\n",
       "    .dataframe thead th {\n",
       "        text-align: right;\n",
       "    }\n",
       "</style>\n",
       "<table border=\"1\" class=\"dataframe\">\n",
       "  <thead>\n",
       "    <tr style=\"text-align: right;\">\n",
       "      <th></th>\n",
       "      <th>GEO</th>\n",
       "      <th>OCCUPATION_C</th>\n",
       "      <th>COUNT</th>\n",
       "    </tr>\n",
       "  </thead>\n",
       "  <tbody>\n",
       "    <tr>\n",
       "      <th>163</th>\n",
       "      <td>Alberta</td>\n",
       "      <td>Firefighters</td>\n",
       "      <td>4760</td>\n",
       "    </tr>\n",
       "    <tr>\n",
       "      <th>673</th>\n",
       "      <td>British Columbia</td>\n",
       "      <td>Firefighters</td>\n",
       "      <td>4665</td>\n",
       "    </tr>\n",
       "    <tr>\n",
       "      <th>1182</th>\n",
       "      <td>Manitoba</td>\n",
       "      <td>Firefighters</td>\n",
       "      <td>1060</td>\n",
       "    </tr>\n",
       "    <tr>\n",
       "      <th>1681</th>\n",
       "      <td>New Brunswick</td>\n",
       "      <td>Firefighters</td>\n",
       "      <td>620</td>\n",
       "    </tr>\n",
       "    <tr>\n",
       "      <th>2158</th>\n",
       "      <td>Newfoundland and Labrador</td>\n",
       "      <td>Firefighters</td>\n",
       "      <td>330</td>\n",
       "    </tr>\n",
       "    <tr>\n",
       "      <th>2568</th>\n",
       "      <td>Northwest Territories</td>\n",
       "      <td>Firefighters</td>\n",
       "      <td>50</td>\n",
       "    </tr>\n",
       "    <tr>\n",
       "      <th>2911</th>\n",
       "      <td>Nova Scotia</td>\n",
       "      <td>Firefighters</td>\n",
       "      <td>820</td>\n",
       "    </tr>\n",
       "    <tr>\n",
       "      <th>3324</th>\n",
       "      <td>Nunavut</td>\n",
       "      <td>Firefighters</td>\n",
       "      <td>10</td>\n",
       "    </tr>\n",
       "    <tr>\n",
       "      <th>3626</th>\n",
       "      <td>Ontario</td>\n",
       "      <td>Firefighters</td>\n",
       "      <td>12755</td>\n",
       "    </tr>\n",
       "    <tr>\n",
       "      <th>4525</th>\n",
       "      <td>Quebec</td>\n",
       "      <td>Firefighters</td>\n",
       "      <td>6360</td>\n",
       "    </tr>\n",
       "    <tr>\n",
       "      <th>5035</th>\n",
       "      <td>Saskatchewan</td>\n",
       "      <td>Firefighters</td>\n",
       "      <td>1195</td>\n",
       "    </tr>\n",
       "    <tr>\n",
       "      <th>5463</th>\n",
       "      <td>Yukon</td>\n",
       "      <td>Firefighters</td>\n",
       "      <td>35</td>\n",
       "    </tr>\n",
       "  </tbody>\n",
       "</table>\n",
       "</div>"
      ],
      "text/plain": [
       "                            GEO  OCCUPATION_C  COUNT\n",
       "163                     Alberta  Firefighters   4760\n",
       "673            British Columbia  Firefighters   4665\n",
       "1182                   Manitoba  Firefighters   1060\n",
       "1681              New Brunswick  Firefighters    620\n",
       "2158  Newfoundland and Labrador  Firefighters    330\n",
       "2568      Northwest Territories  Firefighters     50\n",
       "2911                Nova Scotia  Firefighters    820\n",
       "3324                    Nunavut  Firefighters     10\n",
       "3626                    Ontario  Firefighters  12755\n",
       "4525                     Quebec  Firefighters   6360\n",
       "5035               Saskatchewan  Firefighters   1195\n",
       "5463                      Yukon  Firefighters     35"
      ]
     },
     "execution_count": 320,
     "metadata": {},
     "output_type": "execute_result"
    }
   ],
   "source": [
    "essential_df_opc = essential_df[essential_df.OCCUPATION_C == \"Firefighters\"]\n",
    "essential_df_opc"
   ]
  },
  {
   "cell_type": "code",
   "execution_count": 321,
   "metadata": {},
   "outputs": [
    {
     "data": {
      "application/vnd.plotly.v1+json": {
       "config": {
        "plotlyServerURL": "https://plot.ly"
       },
       "data": [
        {
         "domain": {
          "x": [
           0,
           1
          ],
          "y": [
           0,
           1
          ]
         },
         "hole": 0.3,
         "hovertemplate": "<b>%{label}</b><br>Count: %{value}<br>Percentage: %{percent}<extra></extra>",
         "insidetextfont": {
          "color": "black",
          "family": "Arial",
          "size": 14
         },
         "labels": [
          "Alberta",
          "British Columbia",
          "Manitoba",
          "New Brunswick",
          "Newfoundland and Labrador",
          "Northwest Territories",
          "Nova Scotia",
          "Nunavut",
          "Ontario",
          "Quebec",
          "Saskatchewan",
          "Yukon"
         ],
         "legendgroup": "",
         "marker": {
          "line": {
           "color": "white",
           "width": 2
          }
         },
         "name": "",
         "pull": [
          0.02,
          0.02,
          0.02,
          0.02,
          0.02,
          0.02,
          0.02,
          0.02,
          0.02,
          0.02,
          0.02,
          0.02
         ],
         "showlegend": true,
         "textinfo": "percent+label",
         "textposition": "inside",
         "type": "pie",
         "values": {
          "bdata": "mBI5EiQEbAJKATIANAMKANMx2BirBCMA",
          "dtype": "i2"
         }
        }
       ],
       "layout": {
        "font": {
         "family": "Helvetica Neue"
        },
        "height": 600,
        "legend": {
         "bordercolor": "black",
         "borderwidth": 1,
         "font": {
          "size": 12
         },
         "orientation": "v",
         "title": {
          "font": {
           "size": 14
          },
          "text": "Regions"
         },
         "tracegroupgap": 0
        },
        "margin": {
         "b": 10,
         "l": 10,
         "r": 10,
         "t": 50
        },
        "piecolorway": [
         "rgb(204,204,204)",
         "rgb(241,226,204)",
         "rgb(255,242,174)",
         "rgb(230,245,201)",
         "rgb(244,202,228)",
         "rgb(203,213,232)",
         "rgb(253,205,172)",
         "rgb(179,226,205)"
        ],
        "showlegend": true,
        "template": {
         "data": {
          "bar": [
           {
            "error_x": {
             "color": "#2a3f5f"
            },
            "error_y": {
             "color": "#2a3f5f"
            },
            "marker": {
             "line": {
              "color": "white",
              "width": 0.5
             },
             "pattern": {
              "fillmode": "overlay",
              "size": 10,
              "solidity": 0.2
             }
            },
            "type": "bar"
           }
          ],
          "barpolar": [
           {
            "marker": {
             "line": {
              "color": "white",
              "width": 0.5
             },
             "pattern": {
              "fillmode": "overlay",
              "size": 10,
              "solidity": 0.2
             }
            },
            "type": "barpolar"
           }
          ],
          "carpet": [
           {
            "aaxis": {
             "endlinecolor": "#2a3f5f",
             "gridcolor": "#C8D4E3",
             "linecolor": "#C8D4E3",
             "minorgridcolor": "#C8D4E3",
             "startlinecolor": "#2a3f5f"
            },
            "baxis": {
             "endlinecolor": "#2a3f5f",
             "gridcolor": "#C8D4E3",
             "linecolor": "#C8D4E3",
             "minorgridcolor": "#C8D4E3",
             "startlinecolor": "#2a3f5f"
            },
            "type": "carpet"
           }
          ],
          "choropleth": [
           {
            "colorbar": {
             "outlinewidth": 0,
             "ticks": ""
            },
            "type": "choropleth"
           }
          ],
          "contour": [
           {
            "colorbar": {
             "outlinewidth": 0,
             "ticks": ""
            },
            "colorscale": [
             [
              0,
              "#0d0887"
             ],
             [
              0.1111111111111111,
              "#46039f"
             ],
             [
              0.2222222222222222,
              "#7201a8"
             ],
             [
              0.3333333333333333,
              "#9c179e"
             ],
             [
              0.4444444444444444,
              "#bd3786"
             ],
             [
              0.5555555555555556,
              "#d8576b"
             ],
             [
              0.6666666666666666,
              "#ed7953"
             ],
             [
              0.7777777777777778,
              "#fb9f3a"
             ],
             [
              0.8888888888888888,
              "#fdca26"
             ],
             [
              1,
              "#f0f921"
             ]
            ],
            "type": "contour"
           }
          ],
          "contourcarpet": [
           {
            "colorbar": {
             "outlinewidth": 0,
             "ticks": ""
            },
            "type": "contourcarpet"
           }
          ],
          "heatmap": [
           {
            "colorbar": {
             "outlinewidth": 0,
             "ticks": ""
            },
            "colorscale": [
             [
              0,
              "#0d0887"
             ],
             [
              0.1111111111111111,
              "#46039f"
             ],
             [
              0.2222222222222222,
              "#7201a8"
             ],
             [
              0.3333333333333333,
              "#9c179e"
             ],
             [
              0.4444444444444444,
              "#bd3786"
             ],
             [
              0.5555555555555556,
              "#d8576b"
             ],
             [
              0.6666666666666666,
              "#ed7953"
             ],
             [
              0.7777777777777778,
              "#fb9f3a"
             ],
             [
              0.8888888888888888,
              "#fdca26"
             ],
             [
              1,
              "#f0f921"
             ]
            ],
            "type": "heatmap"
           }
          ],
          "histogram": [
           {
            "marker": {
             "pattern": {
              "fillmode": "overlay",
              "size": 10,
              "solidity": 0.2
             }
            },
            "type": "histogram"
           }
          ],
          "histogram2d": [
           {
            "colorbar": {
             "outlinewidth": 0,
             "ticks": ""
            },
            "colorscale": [
             [
              0,
              "#0d0887"
             ],
             [
              0.1111111111111111,
              "#46039f"
             ],
             [
              0.2222222222222222,
              "#7201a8"
             ],
             [
              0.3333333333333333,
              "#9c179e"
             ],
             [
              0.4444444444444444,
              "#bd3786"
             ],
             [
              0.5555555555555556,
              "#d8576b"
             ],
             [
              0.6666666666666666,
              "#ed7953"
             ],
             [
              0.7777777777777778,
              "#fb9f3a"
             ],
             [
              0.8888888888888888,
              "#fdca26"
             ],
             [
              1,
              "#f0f921"
             ]
            ],
            "type": "histogram2d"
           }
          ],
          "histogram2dcontour": [
           {
            "colorbar": {
             "outlinewidth": 0,
             "ticks": ""
            },
            "colorscale": [
             [
              0,
              "#0d0887"
             ],
             [
              0.1111111111111111,
              "#46039f"
             ],
             [
              0.2222222222222222,
              "#7201a8"
             ],
             [
              0.3333333333333333,
              "#9c179e"
             ],
             [
              0.4444444444444444,
              "#bd3786"
             ],
             [
              0.5555555555555556,
              "#d8576b"
             ],
             [
              0.6666666666666666,
              "#ed7953"
             ],
             [
              0.7777777777777778,
              "#fb9f3a"
             ],
             [
              0.8888888888888888,
              "#fdca26"
             ],
             [
              1,
              "#f0f921"
             ]
            ],
            "type": "histogram2dcontour"
           }
          ],
          "mesh3d": [
           {
            "colorbar": {
             "outlinewidth": 0,
             "ticks": ""
            },
            "type": "mesh3d"
           }
          ],
          "parcoords": [
           {
            "line": {
             "colorbar": {
              "outlinewidth": 0,
              "ticks": ""
             }
            },
            "type": "parcoords"
           }
          ],
          "pie": [
           {
            "automargin": true,
            "type": "pie"
           }
          ],
          "scatter": [
           {
            "fillpattern": {
             "fillmode": "overlay",
             "size": 10,
             "solidity": 0.2
            },
            "type": "scatter"
           }
          ],
          "scatter3d": [
           {
            "line": {
             "colorbar": {
              "outlinewidth": 0,
              "ticks": ""
             }
            },
            "marker": {
             "colorbar": {
              "outlinewidth": 0,
              "ticks": ""
             }
            },
            "type": "scatter3d"
           }
          ],
          "scattercarpet": [
           {
            "marker": {
             "colorbar": {
              "outlinewidth": 0,
              "ticks": ""
             }
            },
            "type": "scattercarpet"
           }
          ],
          "scattergeo": [
           {
            "marker": {
             "colorbar": {
              "outlinewidth": 0,
              "ticks": ""
             }
            },
            "type": "scattergeo"
           }
          ],
          "scattergl": [
           {
            "marker": {
             "colorbar": {
              "outlinewidth": 0,
              "ticks": ""
             }
            },
            "type": "scattergl"
           }
          ],
          "scattermap": [
           {
            "marker": {
             "colorbar": {
              "outlinewidth": 0,
              "ticks": ""
             }
            },
            "type": "scattermap"
           }
          ],
          "scattermapbox": [
           {
            "marker": {
             "colorbar": {
              "outlinewidth": 0,
              "ticks": ""
             }
            },
            "type": "scattermapbox"
           }
          ],
          "scatterpolar": [
           {
            "marker": {
             "colorbar": {
              "outlinewidth": 0,
              "ticks": ""
             }
            },
            "type": "scatterpolar"
           }
          ],
          "scatterpolargl": [
           {
            "marker": {
             "colorbar": {
              "outlinewidth": 0,
              "ticks": ""
             }
            },
            "type": "scatterpolargl"
           }
          ],
          "scatterternary": [
           {
            "marker": {
             "colorbar": {
              "outlinewidth": 0,
              "ticks": ""
             }
            },
            "type": "scatterternary"
           }
          ],
          "surface": [
           {
            "colorbar": {
             "outlinewidth": 0,
             "ticks": ""
            },
            "colorscale": [
             [
              0,
              "#0d0887"
             ],
             [
              0.1111111111111111,
              "#46039f"
             ],
             [
              0.2222222222222222,
              "#7201a8"
             ],
             [
              0.3333333333333333,
              "#9c179e"
             ],
             [
              0.4444444444444444,
              "#bd3786"
             ],
             [
              0.5555555555555556,
              "#d8576b"
             ],
             [
              0.6666666666666666,
              "#ed7953"
             ],
             [
              0.7777777777777778,
              "#fb9f3a"
             ],
             [
              0.8888888888888888,
              "#fdca26"
             ],
             [
              1,
              "#f0f921"
             ]
            ],
            "type": "surface"
           }
          ],
          "table": [
           {
            "cells": {
             "fill": {
              "color": "#EBF0F8"
             },
             "line": {
              "color": "white"
             }
            },
            "header": {
             "fill": {
              "color": "#C8D4E3"
             },
             "line": {
              "color": "white"
             }
            },
            "type": "table"
           }
          ]
         },
         "layout": {
          "annotationdefaults": {
           "arrowcolor": "#2a3f5f",
           "arrowhead": 0,
           "arrowwidth": 1
          },
          "autotypenumbers": "strict",
          "coloraxis": {
           "colorbar": {
            "outlinewidth": 0,
            "ticks": ""
           }
          },
          "colorscale": {
           "diverging": [
            [
             0,
             "#8e0152"
            ],
            [
             0.1,
             "#c51b7d"
            ],
            [
             0.2,
             "#de77ae"
            ],
            [
             0.3,
             "#f1b6da"
            ],
            [
             0.4,
             "#fde0ef"
            ],
            [
             0.5,
             "#f7f7f7"
            ],
            [
             0.6,
             "#e6f5d0"
            ],
            [
             0.7,
             "#b8e186"
            ],
            [
             0.8,
             "#7fbc41"
            ],
            [
             0.9,
             "#4d9221"
            ],
            [
             1,
             "#276419"
            ]
           ],
           "sequential": [
            [
             0,
             "#0d0887"
            ],
            [
             0.1111111111111111,
             "#46039f"
            ],
            [
             0.2222222222222222,
             "#7201a8"
            ],
            [
             0.3333333333333333,
             "#9c179e"
            ],
            [
             0.4444444444444444,
             "#bd3786"
            ],
            [
             0.5555555555555556,
             "#d8576b"
            ],
            [
             0.6666666666666666,
             "#ed7953"
            ],
            [
             0.7777777777777778,
             "#fb9f3a"
            ],
            [
             0.8888888888888888,
             "#fdca26"
            ],
            [
             1,
             "#f0f921"
            ]
           ],
           "sequentialminus": [
            [
             0,
             "#0d0887"
            ],
            [
             0.1111111111111111,
             "#46039f"
            ],
            [
             0.2222222222222222,
             "#7201a8"
            ],
            [
             0.3333333333333333,
             "#9c179e"
            ],
            [
             0.4444444444444444,
             "#bd3786"
            ],
            [
             0.5555555555555556,
             "#d8576b"
            ],
            [
             0.6666666666666666,
             "#ed7953"
            ],
            [
             0.7777777777777778,
             "#fb9f3a"
            ],
            [
             0.8888888888888888,
             "#fdca26"
            ],
            [
             1,
             "#f0f921"
            ]
           ]
          },
          "colorway": [
           "#636efa",
           "#EF553B",
           "#00cc96",
           "#ab63fa",
           "#FFA15A",
           "#19d3f3",
           "#FF6692",
           "#B6E880",
           "#FF97FF",
           "#FECB52"
          ],
          "font": {
           "color": "#2a3f5f"
          },
          "geo": {
           "bgcolor": "white",
           "lakecolor": "white",
           "landcolor": "white",
           "showlakes": true,
           "showland": true,
           "subunitcolor": "#C8D4E3"
          },
          "hoverlabel": {
           "align": "left"
          },
          "hovermode": "closest",
          "mapbox": {
           "style": "light"
          },
          "paper_bgcolor": "white",
          "plot_bgcolor": "white",
          "polar": {
           "angularaxis": {
            "gridcolor": "#EBF0F8",
            "linecolor": "#EBF0F8",
            "ticks": ""
           },
           "bgcolor": "white",
           "radialaxis": {
            "gridcolor": "#EBF0F8",
            "linecolor": "#EBF0F8",
            "ticks": ""
           }
          },
          "scene": {
           "xaxis": {
            "backgroundcolor": "white",
            "gridcolor": "#DFE8F3",
            "gridwidth": 2,
            "linecolor": "#EBF0F8",
            "showbackground": true,
            "ticks": "",
            "zerolinecolor": "#EBF0F8"
           },
           "yaxis": {
            "backgroundcolor": "white",
            "gridcolor": "#DFE8F3",
            "gridwidth": 2,
            "linecolor": "#EBF0F8",
            "showbackground": true,
            "ticks": "",
            "zerolinecolor": "#EBF0F8"
           },
           "zaxis": {
            "backgroundcolor": "white",
            "gridcolor": "#DFE8F3",
            "gridwidth": 2,
            "linecolor": "#EBF0F8",
            "showbackground": true,
            "ticks": "",
            "zerolinecolor": "#EBF0F8"
           }
          },
          "shapedefaults": {
           "line": {
            "color": "#2a3f5f"
           }
          },
          "ternary": {
           "aaxis": {
            "gridcolor": "#DFE8F3",
            "linecolor": "#A2B1C6",
            "ticks": ""
           },
           "baxis": {
            "gridcolor": "#DFE8F3",
            "linecolor": "#A2B1C6",
            "ticks": ""
           },
           "bgcolor": "white",
           "caxis": {
            "gridcolor": "#DFE8F3",
            "linecolor": "#A2B1C6",
            "ticks": ""
           }
          },
          "title": {
           "x": 0.05
          },
          "xaxis": {
           "automargin": true,
           "gridcolor": "#EBF0F8",
           "linecolor": "#EBF0F8",
           "ticks": "",
           "title": {
            "standoff": 15
           },
           "zerolinecolor": "#EBF0F8",
           "zerolinewidth": 2
          },
          "yaxis": {
           "automargin": true,
           "gridcolor": "#EBF0F8",
           "linecolor": "#EBF0F8",
           "ticks": "",
           "title": {
            "standoff": 15
           },
           "zerolinecolor": "#EBF0F8",
           "zerolinewidth": 2
          }
         }
        },
        "title": {
         "font": {
          "size": 26
         },
         "text": "Geographical Distribution"
        },
        "width": 800
       }
      }
     },
     "metadata": {},
     "output_type": "display_data"
    }
   ],
   "source": [
    "import plotly.express as px\n",
    "\n",
    "fig = px.pie(\n",
    "    essential_df_opc,\n",
    "    values=\"COUNT\",\n",
    "    names=\"GEO\",\n",
    "    title=\"Geographical Distribution\",\n",
    "    color_discrete_sequence=px.colors.qualitative.Pastel2_r,\n",
    "    hole=0.3,\n",
    "    labels={\"COUNT\": \"Count\"},\n",
    "    template=\"plotly_white\",\n",
    ")\n",
    "\n",
    "fig.update_layout(\n",
    "    font_family=\"Helvetica Neue\", \n",
    "    title_font_size=26,\n",
    "    margin=dict(t=50, b=10, l=10, r=10),\n",
    "    showlegend=True,\n",
    "    legend_title_text=\"Regions\",\n",
    "    legend_font_size=12,\n",
    "    legend_title_font_size=14,\n",
    "    height = 600,\n",
    "    width=800\n",
    ")\n",
    "\n",
    "fig.update_layout(\n",
    "    legend=dict(\n",
    "        orientation=\"v\",\n",
    "        bordercolor=\"black\",\n",
    "        borderwidth=1,\n",
    "        font=dict(size=12),\n",
    "    ),\n",
    ")\n",
    "\n",
    "fig.update_traces(\n",
    "    textposition=\"inside\",\n",
    "    textinfo=\"percent+label\",\n",
    "    insidetextfont=dict(color=\"black\", size=14, family=\"Arial\"),\n",
    "    marker=dict(line=dict(color=\"white\", width=2)),  # More distinct slice separation\n",
    "    hovertemplate=\"<b>%{label}</b><br>Count: %{value}<br>Percentage: %{percent}<extra></extra>\",\n",
    "    pull=[\n",
    "        0.1 if i == essential_df_opc[\"COUNT\"].idxmax() else 0.02\n",
    "        for i in range(len(essential_df_opc))\n",
    "    ],  # Highlight largest slice\n",
    ")\n",
    "\n",
    "fig.show()"
   ]
  },
  {
   "cell_type": "code",
   "execution_count": 322,
   "metadata": {},
   "outputs": [
    {
     "data": {
      "text/plain": [
       "['Computer engineers (except software engineers and designers)',\n",
       " 'Electrical and electronics engineers',\n",
       " 'Mechanical engineers']"
      ]
     },
     "execution_count": 322,
     "metadata": {},
     "output_type": "execute_result"
    }
   ],
   "source": [
    "ENGINEERING_OCCUPATIONS = {\n",
    "    \"electrical and electronics engineers\",\n",
    "    \"mechanical engineers\",\n",
    "    \"computer engineers\",\n",
    "}\n",
    "\n",
    "\n",
    "def get_engineering_occupations(occupations):\n",
    "    essentail_cols = []\n",
    "    for occupation in occupations:\n",
    "        lower_occupation = occupation.lower()\n",
    "        if (any(eng in lower_occupation for eng in ENGINEERING_OCCUPATIONS)):\n",
    "            essentail_cols.append(occupation)\n",
    "    return essentail_cols\n",
    "\n",
    "\n",
    "engineering_occupations = get_engineering_occupations(cat_5_df.OCCUPATION_C.unique())\n",
    "engineering_occupations"
   ]
  },
  {
   "cell_type": "code",
   "execution_count": 323,
   "metadata": {},
   "outputs": [
    {
     "data": {
      "text/html": [
       "<div>\n",
       "<style scoped>\n",
       "    .dataframe tbody tr th:only-of-type {\n",
       "        vertical-align: middle;\n",
       "    }\n",
       "\n",
       "    .dataframe tbody tr th {\n",
       "        vertical-align: top;\n",
       "    }\n",
       "\n",
       "    .dataframe thead th {\n",
       "        text-align: right;\n",
       "    }\n",
       "</style>\n",
       "<table border=\"1\" class=\"dataframe\">\n",
       "  <thead>\n",
       "    <tr style=\"text-align: right;\">\n",
       "      <th></th>\n",
       "      <th>GEO</th>\n",
       "      <th>EDUCATION</th>\n",
       "      <th>MAJOR</th>\n",
       "      <th>OCCUPATION</th>\n",
       "      <th>GENDER</th>\n",
       "      <th>COUNT</th>\n",
       "      <th>NOC</th>\n",
       "      <th>Hierarchy</th>\n",
       "      <th>OCCUPATION_C</th>\n",
       "    </tr>\n",
       "  </thead>\n",
       "  <tbody>\n",
       "    <tr>\n",
       "      <th>3654</th>\n",
       "      <td>Newfoundland and Labrador</td>\n",
       "      <td>Postsecondary certificate, diploma or degree</td>\n",
       "      <td>Business, management and public administration</td>\n",
       "      <td>21301 Mechanical engineers</td>\n",
       "      <td>Men</td>\n",
       "      <td>25</td>\n",
       "      <td>21301</td>\n",
       "      <td>5</td>\n",
       "      <td>Mechanical engineers</td>\n",
       "    </tr>\n",
       "    <tr>\n",
       "      <th>3656</th>\n",
       "      <td>Newfoundland and Labrador</td>\n",
       "      <td>Postsecondary certificate, diploma or degree</td>\n",
       "      <td>Business, management and public administration</td>\n",
       "      <td>21310 Electrical and electronics engineers</td>\n",
       "      <td>Men</td>\n",
       "      <td>15</td>\n",
       "      <td>21310</td>\n",
       "      <td>5</td>\n",
       "      <td>Electrical and electronics engineers</td>\n",
       "    </tr>\n",
       "    <tr>\n",
       "      <th>3657</th>\n",
       "      <td>Newfoundland and Labrador</td>\n",
       "      <td>Postsecondary certificate, diploma or degree</td>\n",
       "      <td>Business, management and public administration</td>\n",
       "      <td>21311 Computer engineers (except software engi...</td>\n",
       "      <td>Men</td>\n",
       "      <td>10</td>\n",
       "      <td>21311</td>\n",
       "      <td>5</td>\n",
       "      <td>Computer engineers (except software engineers ...</td>\n",
       "    </tr>\n",
       "    <tr>\n",
       "      <th>4419</th>\n",
       "      <td>Newfoundland and Labrador</td>\n",
       "      <td>Postsecondary certificate, diploma or degree</td>\n",
       "      <td>Physical and life sciences and technologies</td>\n",
       "      <td>21301 Mechanical engineers</td>\n",
       "      <td>Men</td>\n",
       "      <td>10</td>\n",
       "      <td>21301</td>\n",
       "      <td>5</td>\n",
       "      <td>Mechanical engineers</td>\n",
       "    </tr>\n",
       "    <tr>\n",
       "      <th>4421</th>\n",
       "      <td>Newfoundland and Labrador</td>\n",
       "      <td>Postsecondary certificate, diploma or degree</td>\n",
       "      <td>Physical and life sciences and technologies</td>\n",
       "      <td>21310 Electrical and electronics engineers</td>\n",
       "      <td>Men</td>\n",
       "      <td>10</td>\n",
       "      <td>21310</td>\n",
       "      <td>5</td>\n",
       "      <td>Electrical and electronics engineers</td>\n",
       "    </tr>\n",
       "    <tr>\n",
       "      <th>...</th>\n",
       "      <td>...</td>\n",
       "      <td>...</td>\n",
       "      <td>...</td>\n",
       "      <td>...</td>\n",
       "      <td>...</td>\n",
       "      <td>...</td>\n",
       "      <td>...</td>\n",
       "      <td>...</td>\n",
       "      <td>...</td>\n",
       "    </tr>\n",
       "    <tr>\n",
       "      <th>124942</th>\n",
       "      <td>Yukon</td>\n",
       "      <td>Postsecondary certificate, diploma or degree</td>\n",
       "      <td>Architecture, engineering, and related trades</td>\n",
       "      <td>21301 Mechanical engineers</td>\n",
       "      <td>Men</td>\n",
       "      <td>10</td>\n",
       "      <td>21301</td>\n",
       "      <td>5</td>\n",
       "      <td>Mechanical engineers</td>\n",
       "    </tr>\n",
       "    <tr>\n",
       "      <th>124944</th>\n",
       "      <td>Yukon</td>\n",
       "      <td>Postsecondary certificate, diploma or degree</td>\n",
       "      <td>Architecture, engineering, and related trades</td>\n",
       "      <td>21310 Electrical and electronics engineers</td>\n",
       "      <td>Men</td>\n",
       "      <td>10</td>\n",
       "      <td>21310</td>\n",
       "      <td>5</td>\n",
       "      <td>Electrical and electronics engineers</td>\n",
       "    </tr>\n",
       "    <tr>\n",
       "      <th>127837</th>\n",
       "      <td>Northwest Territories</td>\n",
       "      <td>Postsecondary certificate, diploma or degree</td>\n",
       "      <td>Architecture, engineering, and related trades</td>\n",
       "      <td>21301 Mechanical engineers</td>\n",
       "      <td>Men</td>\n",
       "      <td>40</td>\n",
       "      <td>21301</td>\n",
       "      <td>5</td>\n",
       "      <td>Mechanical engineers</td>\n",
       "    </tr>\n",
       "    <tr>\n",
       "      <th>127839</th>\n",
       "      <td>Northwest Territories</td>\n",
       "      <td>Postsecondary certificate, diploma or degree</td>\n",
       "      <td>Architecture, engineering, and related trades</td>\n",
       "      <td>21310 Electrical and electronics engineers</td>\n",
       "      <td>Men</td>\n",
       "      <td>15</td>\n",
       "      <td>21310</td>\n",
       "      <td>5</td>\n",
       "      <td>Electrical and electronics engineers</td>\n",
       "    </tr>\n",
       "    <tr>\n",
       "      <th>130317</th>\n",
       "      <td>Nunavut</td>\n",
       "      <td>Postsecondary certificate, diploma or degree</td>\n",
       "      <td>Architecture, engineering, and related trades</td>\n",
       "      <td>21301 Mechanical engineers</td>\n",
       "      <td>Men</td>\n",
       "      <td>10</td>\n",
       "      <td>21301</td>\n",
       "      <td>5</td>\n",
       "      <td>Mechanical engineers</td>\n",
       "    </tr>\n",
       "  </tbody>\n",
       "</table>\n",
       "<p>307 rows × 9 columns</p>\n",
       "</div>"
      ],
      "text/plain": [
       "                              GEO  \\\n",
       "3654    Newfoundland and Labrador   \n",
       "3656    Newfoundland and Labrador   \n",
       "3657    Newfoundland and Labrador   \n",
       "4419    Newfoundland and Labrador   \n",
       "4421    Newfoundland and Labrador   \n",
       "...                           ...   \n",
       "124942                      Yukon   \n",
       "124944                      Yukon   \n",
       "127837      Northwest Territories   \n",
       "127839      Northwest Territories   \n",
       "130317                    Nunavut   \n",
       "\n",
       "                                           EDUCATION  \\\n",
       "3654    Postsecondary certificate, diploma or degree   \n",
       "3656    Postsecondary certificate, diploma or degree   \n",
       "3657    Postsecondary certificate, diploma or degree   \n",
       "4419    Postsecondary certificate, diploma or degree   \n",
       "4421    Postsecondary certificate, diploma or degree   \n",
       "...                                              ...   \n",
       "124942  Postsecondary certificate, diploma or degree   \n",
       "124944  Postsecondary certificate, diploma or degree   \n",
       "127837  Postsecondary certificate, diploma or degree   \n",
       "127839  Postsecondary certificate, diploma or degree   \n",
       "130317  Postsecondary certificate, diploma or degree   \n",
       "\n",
       "                                                 MAJOR  \\\n",
       "3654    Business, management and public administration   \n",
       "3656    Business, management and public administration   \n",
       "3657    Business, management and public administration   \n",
       "4419       Physical and life sciences and technologies   \n",
       "4421       Physical and life sciences and technologies   \n",
       "...                                                ...   \n",
       "124942   Architecture, engineering, and related trades   \n",
       "124944   Architecture, engineering, and related trades   \n",
       "127837   Architecture, engineering, and related trades   \n",
       "127839   Architecture, engineering, and related trades   \n",
       "130317   Architecture, engineering, and related trades   \n",
       "\n",
       "                                               OCCUPATION GENDER  COUNT  \\\n",
       "3654                           21301 Mechanical engineers    Men     25   \n",
       "3656           21310 Electrical and electronics engineers    Men     15   \n",
       "3657    21311 Computer engineers (except software engi...    Men     10   \n",
       "4419                           21301 Mechanical engineers    Men     10   \n",
       "4421           21310 Electrical and electronics engineers    Men     10   \n",
       "...                                                   ...    ...    ...   \n",
       "124942                         21301 Mechanical engineers    Men     10   \n",
       "124944         21310 Electrical and electronics engineers    Men     10   \n",
       "127837                         21301 Mechanical engineers    Men     40   \n",
       "127839         21310 Electrical and electronics engineers    Men     15   \n",
       "130317                         21301 Mechanical engineers    Men     10   \n",
       "\n",
       "          NOC  Hierarchy                                       OCCUPATION_C  \n",
       "3654    21301          5                               Mechanical engineers  \n",
       "3656    21310          5               Electrical and electronics engineers  \n",
       "3657    21311          5  Computer engineers (except software engineers ...  \n",
       "4419    21301          5                               Mechanical engineers  \n",
       "4421    21310          5               Electrical and electronics engineers  \n",
       "...       ...        ...                                                ...  \n",
       "124942  21301          5                               Mechanical engineers  \n",
       "124944  21310          5               Electrical and electronics engineers  \n",
       "127837  21301          5                               Mechanical engineers  \n",
       "127839  21310          5               Electrical and electronics engineers  \n",
       "130317  21301          5                               Mechanical engineers  \n",
       "\n",
       "[307 rows x 9 columns]"
      ]
     },
     "execution_count": 323,
     "metadata": {},
     "output_type": "execute_result"
    }
   ],
   "source": [
    "eng_df= master_df[master_df.OCCUPATION_C.isin(engineering_occupations)]\n",
    "eng_df"
   ]
  },
  {
   "cell_type": "code",
   "execution_count": null,
   "metadata": {},
   "outputs": [
    {
     "name": "stderr",
     "output_type": "stream",
     "text": [
      "/var/folders/pl/0r4mcs9s32l3wwcm1j4_s7nm0000gn/T/ipykernel_39665/83796719.py:6: SettingWithCopyWarning:\n",
      "\n",
      "\n",
      "A value is trying to be set on a copy of a slice from a DataFrame.\n",
      "Try using .loc[row_indexer,col_indexer] = value instead\n",
      "\n",
      "See the caveats in the documentation: https://pandas.pydata.org/pandas-docs/stable/user_guide/indexing.html#returning-a-view-versus-a-copy\n",
      "\n"
     ]
    }
   ],
   "source": [
    "def update_education(value):\n",
    "    if value == \"Postsecondary certificate, diploma or degree\":\n",
    "        return \"With Postsecondary Education\"\n",
    "    return \"Without Postsecondary Education\"\n",
    "\n",
    "eng_df[\"EDUCATION\"] = eng_df[\"EDUCATION\"].apply(update_education)"
   ]
  },
  {
   "cell_type": "code",
   "execution_count": 325,
   "metadata": {},
   "outputs": [
    {
     "data": {
      "application/vnd.plotly.v1+json": {
       "config": {
        "plotlyServerURL": "https://plot.ly"
       },
       "data": [
        {
         "branchvalues": "total",
         "customdata": [
          [
           "Alberta"
          ],
          [
           "Alberta"
          ],
          [
           "Alberta"
          ],
          [
           "Alberta"
          ],
          [
           "Alberta"
          ],
          [
           "Alberta"
          ],
          [
           "Alberta"
          ],
          [
           "Alberta"
          ],
          [
           "Alberta"
          ],
          [
           "Alberta"
          ],
          [
           "Alberta"
          ],
          [
           "Alberta"
          ],
          [
           "Alberta"
          ],
          [
           "Alberta"
          ],
          [
           "Alberta"
          ],
          [
           "Alberta"
          ],
          [
           "Alberta"
          ],
          [
           "Alberta"
          ],
          [
           "Alberta"
          ],
          [
           "Alberta"
          ],
          [
           "Alberta"
          ],
          [
           "Alberta"
          ],
          [
           "Alberta"
          ],
          [
           "Alberta"
          ],
          [
           "Alberta"
          ],
          [
           "Alberta"
          ],
          [
           "Alberta"
          ],
          [
           "Alberta"
          ],
          [
           "Alberta"
          ],
          [
           "Alberta"
          ],
          [
           "Alberta"
          ],
          [
           "Alberta"
          ],
          [
           "Alberta"
          ],
          [
           "Alberta"
          ],
          [
           "Alberta"
          ],
          [
           "Alberta"
          ],
          [
           "Alberta"
          ],
          [
           "Alberta"
          ],
          [
           "Alberta"
          ],
          [
           "British Columbia"
          ],
          [
           "British Columbia"
          ],
          [
           "British Columbia"
          ],
          [
           "British Columbia"
          ],
          [
           "British Columbia"
          ],
          [
           "British Columbia"
          ],
          [
           "British Columbia"
          ],
          [
           "British Columbia"
          ],
          [
           "British Columbia"
          ],
          [
           "British Columbia"
          ],
          [
           "British Columbia"
          ],
          [
           "British Columbia"
          ],
          [
           "British Columbia"
          ],
          [
           "British Columbia"
          ],
          [
           "British Columbia"
          ],
          [
           "British Columbia"
          ],
          [
           "British Columbia"
          ],
          [
           "British Columbia"
          ],
          [
           "British Columbia"
          ],
          [
           "British Columbia"
          ],
          [
           "British Columbia"
          ],
          [
           "British Columbia"
          ],
          [
           "British Columbia"
          ],
          [
           "British Columbia"
          ],
          [
           "British Columbia"
          ],
          [
           "British Columbia"
          ],
          [
           "British Columbia"
          ],
          [
           "British Columbia"
          ],
          [
           "British Columbia"
          ],
          [
           "British Columbia"
          ],
          [
           "British Columbia"
          ],
          [
           "British Columbia"
          ],
          [
           "British Columbia"
          ],
          [
           "British Columbia"
          ],
          [
           "British Columbia"
          ],
          [
           "British Columbia"
          ],
          [
           "British Columbia"
          ],
          [
           "British Columbia"
          ],
          [
           "British Columbia"
          ],
          [
           "Manitoba"
          ],
          [
           "Manitoba"
          ],
          [
           "Manitoba"
          ],
          [
           "Manitoba"
          ],
          [
           "Manitoba"
          ],
          [
           "Manitoba"
          ],
          [
           "Manitoba"
          ],
          [
           "Manitoba"
          ],
          [
           "Manitoba"
          ],
          [
           "Manitoba"
          ],
          [
           "Manitoba"
          ],
          [
           "Manitoba"
          ],
          [
           "Manitoba"
          ],
          [
           "Manitoba"
          ],
          [
           "Manitoba"
          ],
          [
           "Manitoba"
          ],
          [
           "Manitoba"
          ],
          [
           "Manitoba"
          ],
          [
           "Manitoba"
          ],
          [
           "Manitoba"
          ],
          [
           "Manitoba"
          ],
          [
           "Manitoba"
          ],
          [
           "Manitoba"
          ],
          [
           "Manitoba"
          ],
          [
           "Manitoba"
          ],
          [
           "New Brunswick"
          ],
          [
           "New Brunswick"
          ],
          [
           "New Brunswick"
          ],
          [
           "New Brunswick"
          ],
          [
           "New Brunswick"
          ],
          [
           "New Brunswick"
          ],
          [
           "New Brunswick"
          ],
          [
           "New Brunswick"
          ],
          [
           "New Brunswick"
          ],
          [
           "New Brunswick"
          ],
          [
           "New Brunswick"
          ],
          [
           "New Brunswick"
          ],
          [
           "New Brunswick"
          ],
          [
           "New Brunswick"
          ],
          [
           "New Brunswick"
          ],
          [
           "New Brunswick"
          ],
          [
           "New Brunswick"
          ],
          [
           "New Brunswick"
          ],
          [
           "New Brunswick"
          ],
          [
           "New Brunswick"
          ],
          [
           "New Brunswick"
          ],
          [
           "New Brunswick"
          ],
          [
           "New Brunswick"
          ],
          [
           "Newfoundland and Labrador"
          ],
          [
           "Newfoundland and Labrador"
          ],
          [
           "Newfoundland and Labrador"
          ],
          [
           "Newfoundland and Labrador"
          ],
          [
           "Newfoundland and Labrador"
          ],
          [
           "Newfoundland and Labrador"
          ],
          [
           "Newfoundland and Labrador"
          ],
          [
           "Newfoundland and Labrador"
          ],
          [
           "Newfoundland and Labrador"
          ],
          [
           "Newfoundland and Labrador"
          ],
          [
           "Newfoundland and Labrador"
          ],
          [
           "Newfoundland and Labrador"
          ],
          [
           "Newfoundland and Labrador"
          ],
          [
           "Newfoundland and Labrador"
          ],
          [
           "Newfoundland and Labrador"
          ],
          [
           "Newfoundland and Labrador"
          ],
          [
           "Northwest Territories"
          ],
          [
           "Northwest Territories"
          ],
          [
           "Northwest Territories"
          ],
          [
           "Northwest Territories"
          ],
          [
           "Northwest Territories"
          ],
          [
           "Northwest Territories"
          ],
          [
           "Northwest Territories"
          ],
          [
           "Nova Scotia"
          ],
          [
           "Nova Scotia"
          ],
          [
           "Nova Scotia"
          ],
          [
           "Nova Scotia"
          ],
          [
           "Nova Scotia"
          ],
          [
           "Nova Scotia"
          ],
          [
           "Nova Scotia"
          ],
          [
           "Nova Scotia"
          ],
          [
           "Nova Scotia"
          ],
          [
           "Nova Scotia"
          ],
          [
           "Nova Scotia"
          ],
          [
           "Nova Scotia"
          ],
          [
           "Nova Scotia"
          ],
          [
           "Nova Scotia"
          ],
          [
           "Nova Scotia"
          ],
          [
           "Nova Scotia"
          ],
          [
           "Nova Scotia"
          ],
          [
           "Nova Scotia"
          ],
          [
           "Nova Scotia"
          ],
          [
           "Nova Scotia"
          ],
          [
           "Nova Scotia"
          ],
          [
           "Nova Scotia"
          ],
          [
           "Nova Scotia"
          ],
          [
           "Nova Scotia"
          ],
          [
           "Nova Scotia"
          ],
          [
           "Nunavut"
          ],
          [
           "Nunavut"
          ],
          [
           "Nunavut"
          ],
          [
           "Nunavut"
          ],
          [
           "Ontario"
          ],
          [
           "Ontario"
          ],
          [
           "Ontario"
          ],
          [
           "Ontario"
          ],
          [
           "Ontario"
          ],
          [
           "Ontario"
          ],
          [
           "Ontario"
          ],
          [
           "Ontario"
          ],
          [
           "Ontario"
          ],
          [
           "Ontario"
          ],
          [
           "Ontario"
          ],
          [
           "Ontario"
          ],
          [
           "Ontario"
          ],
          [
           "Ontario"
          ],
          [
           "Ontario"
          ],
          [
           "Ontario"
          ],
          [
           "Ontario"
          ],
          [
           "Ontario"
          ],
          [
           "Ontario"
          ],
          [
           "Ontario"
          ],
          [
           "Ontario"
          ],
          [
           "Ontario"
          ],
          [
           "Ontario"
          ],
          [
           "Ontario"
          ],
          [
           "Ontario"
          ],
          [
           "Ontario"
          ],
          [
           "Ontario"
          ],
          [
           "Ontario"
          ],
          [
           "Ontario"
          ],
          [
           "Ontario"
          ],
          [
           "Ontario"
          ],
          [
           "Ontario"
          ],
          [
           "Ontario"
          ],
          [
           "Ontario"
          ],
          [
           "Ontario"
          ],
          [
           "Ontario"
          ],
          [
           "Ontario"
          ],
          [
           "Ontario"
          ],
          [
           "Ontario"
          ],
          [
           "Ontario"
          ],
          [
           "Ontario"
          ],
          [
           "Ontario"
          ],
          [
           "Ontario"
          ],
          [
           "Ontario"
          ],
          [
           "Prince Edward Island"
          ],
          [
           "Prince Edward Island"
          ],
          [
           "Prince Edward Island"
          ],
          [
           "Prince Edward Island"
          ],
          [
           "Prince Edward Island"
          ],
          [
           "Prince Edward Island"
          ],
          [
           "Prince Edward Island"
          ],
          [
           "Prince Edward Island"
          ],
          [
           "Prince Edward Island"
          ],
          [
           "Prince Edward Island"
          ],
          [
           "Prince Edward Island"
          ],
          [
           "Quebec"
          ],
          [
           "Quebec"
          ],
          [
           "Quebec"
          ],
          [
           "Quebec"
          ],
          [
           "Quebec"
          ],
          [
           "Quebec"
          ],
          [
           "Quebec"
          ],
          [
           "Quebec"
          ],
          [
           "Quebec"
          ],
          [
           "Quebec"
          ],
          [
           "Quebec"
          ],
          [
           "Quebec"
          ],
          [
           "Quebec"
          ],
          [
           "Quebec"
          ],
          [
           "Quebec"
          ],
          [
           "Quebec"
          ],
          [
           "Quebec"
          ],
          [
           "Quebec"
          ],
          [
           "Quebec"
          ],
          [
           "Quebec"
          ],
          [
           "Quebec"
          ],
          [
           "Quebec"
          ],
          [
           "Quebec"
          ],
          [
           "Quebec"
          ],
          [
           "Quebec"
          ],
          [
           "Quebec"
          ],
          [
           "Quebec"
          ],
          [
           "Quebec"
          ],
          [
           "Quebec"
          ],
          [
           "Quebec"
          ],
          [
           "Quebec"
          ],
          [
           "Quebec"
          ],
          [
           "Quebec"
          ],
          [
           "Quebec"
          ],
          [
           "Quebec"
          ],
          [
           "Quebec"
          ],
          [
           "Quebec"
          ],
          [
           "Quebec"
          ],
          [
           "Quebec"
          ],
          [
           "Quebec"
          ],
          [
           "Quebec"
          ],
          [
           "Quebec"
          ],
          [
           "Quebec"
          ],
          [
           "Quebec"
          ],
          [
           "Quebec"
          ],
          [
           "Quebec"
          ],
          [
           "Saskatchewan"
          ],
          [
           "Saskatchewan"
          ],
          [
           "Saskatchewan"
          ],
          [
           "Saskatchewan"
          ],
          [
           "Saskatchewan"
          ],
          [
           "Saskatchewan"
          ],
          [
           "Saskatchewan"
          ],
          [
           "Saskatchewan"
          ],
          [
           "Saskatchewan"
          ],
          [
           "Saskatchewan"
          ],
          [
           "Saskatchewan"
          ],
          [
           "Saskatchewan"
          ],
          [
           "Saskatchewan"
          ],
          [
           "Saskatchewan"
          ],
          [
           "Saskatchewan"
          ],
          [
           "Saskatchewan"
          ],
          [
           "Saskatchewan"
          ],
          [
           "Saskatchewan"
          ],
          [
           "Saskatchewan"
          ],
          [
           "Saskatchewan"
          ],
          [
           "Saskatchewan"
          ],
          [
           "Saskatchewan"
          ],
          [
           "Yukon"
          ],
          [
           "Yukon"
          ],
          [
           "Yukon"
          ],
          [
           "Yukon"
          ],
          [
           "Yukon"
          ],
          [
           "Yukon"
          ],
          [
           "Yukon"
          ]
         ],
         "domain": {
          "x": [
           0,
           1
          ],
          "y": [
           0,
           1
          ]
         },
         "hovertemplate": "labels=%{label}<br>COUNT=%{value}<br>parent=%{parent}<br>id=%{id}<br>GEO=%{customdata[0]}<extra></extra>",
         "ids": [
          "Alberta/Computer engineers (except software engineers and designers)/With Postsecondary Education/Business, management and public administration",
          "Alberta/Electrical and electronics engineers/Without Postsecondary Education",
          "Alberta/Mechanical engineers/Without Postsecondary Education",
          "Alberta/Electrical and electronics engineers/Without Postsecondary Education/No postsecondary certificate, diploma or degree",
          "Alberta/Computer engineers (except software engineers and designers)/With Postsecondary Education/Personal, protective and transportation services",
          "Alberta/Mechanical engineers/With Postsecondary Education/Personal, protective and transportation services",
          "Alberta/Computer engineers (except software engineers and designers)/With Postsecondary Education/Health and related fields",
          "Alberta/Mechanical engineers/With Postsecondary Education/Health and related fields",
          "Alberta/Computer engineers (except software engineers and designers)/With Postsecondary Education/Agriculture, natural resources and conservation",
          "Alberta/Mechanical engineers/With Postsecondary Education/Agriculture, natural resources and conservation",
          "Alberta/Computer engineers (except software engineers and designers)/With Postsecondary Education/Architecture, engineering, and related trades",
          "Alberta/Electrical and electronics engineers/With Postsecondary Education/Architecture, engineering, and related trades",
          "Alberta/Mechanical engineers/With Postsecondary Education/Architecture, engineering, and related trades",
          "Alberta/Computer engineers (except software engineers and designers)/With Postsecondary Education/Mathematics, computer and information sciences",
          "Alberta/Electrical and electronics engineers/With Postsecondary Education/Mathematics, computer and information sciences",
          "Alberta/Mechanical engineers/With Postsecondary Education/Mathematics, computer and information sciences",
          "Alberta/Computer engineers (except software engineers and designers)/With Postsecondary Education/Physical and life sciences and technologies",
          "Alberta/Electrical and electronics engineers/With Postsecondary Education/Physical and life sciences and technologies",
          "Alberta/Mechanical engineers/With Postsecondary Education/Physical and life sciences and technologies",
          "Alberta/Electrical and electronics engineers/With Postsecondary Education/Business, management and public administration",
          "Alberta/Mechanical engineers/With Postsecondary Education/Business, management and public administration",
          "Alberta/Computer engineers (except software engineers and designers)/With Postsecondary Education/Social and behavioural sciences and law",
          "Alberta/Electrical and electronics engineers/With Postsecondary Education/Social and behavioural sciences and law",
          "Alberta/Mechanical engineers/With Postsecondary Education/Social and behavioural sciences and law",
          "Alberta/Computer engineers (except software engineers and designers)/With Postsecondary Education/Humanities",
          "Alberta/Electrical and electronics engineers/With Postsecondary Education/Humanities",
          "Alberta/Mechanical engineers/With Postsecondary Education/Humanities",
          "Alberta/Electrical and electronics engineers/With Postsecondary Education/Visual and performing arts, and communications technologies",
          "Alberta/Mechanical engineers/With Postsecondary Education/Visual and performing arts, and communications technologies",
          "Alberta/Computer engineers (except software engineers and designers)/Without Postsecondary Education/No postsecondary certificate, diploma or degree",
          "Alberta/Computer engineers (except software engineers and designers)/Without Postsecondary Education",
          "Alberta/Mechanical engineers/With Postsecondary Education",
          "Alberta/Mechanical engineers/Without Postsecondary Education/No postsecondary certificate, diploma or degree",
          "Alberta/Computer engineers (except software engineers and designers)/With Postsecondary Education",
          "Alberta",
          "Alberta/Computer engineers (except software engineers and designers)",
          "Alberta/Electrical and electronics engineers",
          "Alberta/Mechanical engineers",
          "Alberta/Electrical and electronics engineers/With Postsecondary Education",
          "British Columbia/Electrical and electronics engineers/With Postsecondary Education/Humanities",
          "British Columbia/Mechanical engineers/With Postsecondary Education/Humanities",
          "British Columbia/Computer engineers (except software engineers and designers)/With Postsecondary Education/Humanities",
          "British Columbia/Mechanical engineers/With Postsecondary Education/Social and behavioural sciences and law",
          "British Columbia/Electrical and electronics engineers/With Postsecondary Education/Social and behavioural sciences and law",
          "British Columbia/Computer engineers (except software engineers and designers)/With Postsecondary Education/Social and behavioural sciences and law",
          "British Columbia/Computer engineers (except software engineers and designers)/With Postsecondary Education/Business, management and public administration",
          "British Columbia/Electrical and electronics engineers/With Postsecondary Education/Business, management and public administration",
          "British Columbia/Computer engineers (except software engineers and designers)/With Postsecondary Education/Visual and performing arts, and communications technologies",
          "British Columbia/Mechanical engineers/With Postsecondary Education/Physical and life sciences and technologies",
          "British Columbia/Electrical and electronics engineers/With Postsecondary Education/Physical and life sciences and technologies",
          "British Columbia/Computer engineers (except software engineers and designers)/With Postsecondary Education/Physical and life sciences and technologies",
          "British Columbia/Mechanical engineers/With Postsecondary Education/Business, management and public administration",
          "British Columbia/Electrical and electronics engineers/With Postsecondary Education/Visual and performing arts, and communications technologies",
          "British Columbia/Electrical and electronics engineers/Without Postsecondary Education/No postsecondary certificate, diploma or degree",
          "British Columbia/Computer engineers (except software engineers and designers)/Without Postsecondary Education/No postsecondary certificate, diploma or degree",
          "British Columbia/Mechanical engineers/With Postsecondary Education/Mathematics, computer and information sciences",
          "British Columbia/Mechanical engineers/Without Postsecondary Education/No postsecondary certificate, diploma or degree",
          "British Columbia/Mechanical engineers/Without Postsecondary Education",
          "British Columbia/Electrical and electronics engineers/Without Postsecondary Education",
          "British Columbia/Computer engineers (except software engineers and designers)/Without Postsecondary Education",
          "British Columbia/Mechanical engineers/With Postsecondary Education",
          "British Columbia/Electrical and electronics engineers/With Postsecondary Education",
          "British Columbia/Computer engineers (except software engineers and designers)/With Postsecondary Education",
          "British Columbia/Mechanical engineers",
          "British Columbia/Electrical and electronics engineers",
          "British Columbia/Computer engineers (except software engineers and designers)",
          "British Columbia",
          "British Columbia/Mechanical engineers/With Postsecondary Education/Visual and performing arts, and communications technologies",
          "British Columbia/Electrical and electronics engineers/With Postsecondary Education/Mathematics, computer and information sciences",
          "British Columbia/Computer engineers (except software engineers and designers)/With Postsecondary Education/Architecture, engineering, and related trades",
          "British Columbia/Mechanical engineers/With Postsecondary Education/Architecture, engineering, and related trades",
          "British Columbia/Computer engineers (except software engineers and designers)/With Postsecondary Education/Personal, protective and transportation services",
          "British Columbia/Electrical and electronics engineers/With Postsecondary Education/Personal, protective and transportation services",
          "British Columbia/Mechanical engineers/With Postsecondary Education/Personal, protective and transportation services",
          "British Columbia/Computer engineers (except software engineers and designers)/With Postsecondary Education/Mathematics, computer and information sciences",
          "British Columbia/Mechanical engineers/With Postsecondary Education/Agriculture, natural resources and conservation",
          "British Columbia/Electrical and electronics engineers/With Postsecondary Education/Architecture, engineering, and related trades",
          "British Columbia/Mechanical engineers/With Postsecondary Education/Health and related fields",
          "Manitoba/Computer engineers (except software engineers and designers)",
          "Manitoba/Electrical and electronics engineers",
          "Manitoba/Mechanical engineers",
          "Manitoba/Electrical and electronics engineers/With Postsecondary Education/Physical and life sciences and technologies",
          "Manitoba/Mechanical engineers/Without Postsecondary Education/No postsecondary certificate, diploma or degree",
          "Manitoba/Electrical and electronics engineers/Without Postsecondary Education/No postsecondary certificate, diploma or degree",
          "Manitoba/Computer engineers (except software engineers and designers)/Without Postsecondary Education/No postsecondary certificate, diploma or degree",
          "Manitoba/Computer engineers (except software engineers and designers)/With Postsecondary Education/Education",
          "Manitoba/Mechanical engineers/With Postsecondary Education/Business, management and public administration",
          "Manitoba/Electrical and electronics engineers/With Postsecondary Education/Business, management and public administration",
          "Manitoba/Computer engineers (except software engineers and designers)/With Postsecondary Education/Business, management and public administration",
          "Manitoba/Mechanical engineers/With Postsecondary Education/Physical and life sciences and technologies",
          "Manitoba/Electrical and electronics engineers/With Postsecondary Education",
          "Manitoba/Computer engineers (except software engineers and designers)/Without Postsecondary Education",
          "Manitoba/Computer engineers (except software engineers and designers)/With Postsecondary Education",
          "Manitoba/Electrical and electronics engineers/Without Postsecondary Education",
          "Manitoba/Mechanical engineers/Without Postsecondary Education",
          "Manitoba/Computer engineers (except software engineers and designers)/With Postsecondary Education/Physical and life sciences and technologies",
          "Manitoba/Electrical and electronics engineers/With Postsecondary Education/Mathematics, computer and information sciences",
          "Manitoba/Computer engineers (except software engineers and designers)/With Postsecondary Education/Mathematics, computer and information sciences",
          "Manitoba/Mechanical engineers/With Postsecondary Education/Architecture, engineering, and related trades",
          "Manitoba/Electrical and electronics engineers/With Postsecondary Education/Architecture, engineering, and related trades",
          "Manitoba/Computer engineers (except software engineers and designers)/With Postsecondary Education/Architecture, engineering, and related trades",
          "Manitoba",
          "Manitoba/Mechanical engineers/With Postsecondary Education",
          "New Brunswick/Electrical and electronics engineers/With Postsecondary Education/Physical and life sciences and technologies",
          "New Brunswick/Mechanical engineers/With Postsecondary Education/Physical and life sciences and technologies",
          "New Brunswick/Computer engineers (except software engineers and designers)/With Postsecondary Education/Business, management and public administration",
          "New Brunswick",
          "New Brunswick/Electrical and electronics engineers/With Postsecondary Education/Mathematics, computer and information sciences",
          "New Brunswick/Electrical and electronics engineers",
          "New Brunswick/Mechanical engineers/With Postsecondary Education/Architecture, engineering, and related trades",
          "New Brunswick/Mechanical engineers/Without Postsecondary Education",
          "New Brunswick/Computer engineers (except software engineers and designers)/Without Postsecondary Education",
          "New Brunswick/Mechanical engineers/With Postsecondary Education/Business, management and public administration",
          "New Brunswick/Computer engineers (except software engineers and designers)/With Postsecondary Education",
          "New Brunswick/Mechanical engineers/With Postsecondary Education",
          "New Brunswick/Electrical and electronics engineers/With Postsecondary Education",
          "New Brunswick/Mechanical engineers/Without Postsecondary Education/No postsecondary certificate, diploma or degree",
          "New Brunswick/Computer engineers (except software engineers and designers)/With Postsecondary Education/Mathematics, computer and information sciences",
          "New Brunswick/Computer engineers (except software engineers and designers)/With Postsecondary Education/Social and behavioural sciences and law",
          "New Brunswick/Computer engineers (except software engineers and designers)/Without Postsecondary Education/No postsecondary certificate, diploma or degree",
          "New Brunswick/Mechanical engineers",
          "New Brunswick/Computer engineers (except software engineers and designers)",
          "New Brunswick/Computer engineers (except software engineers and designers)/With Postsecondary Education/Architecture, engineering, and related trades",
          "New Brunswick/Electrical and electronics engineers/With Postsecondary Education/Architecture, engineering, and related trades",
          "New Brunswick/Computer engineers (except software engineers and designers)/With Postsecondary Education/Health and related fields",
          "New Brunswick/Electrical and electronics engineers/With Postsecondary Education/Business, management and public administration",
          "Newfoundland and Labrador/Mechanical engineers",
          "Newfoundland and Labrador/Electrical and electronics engineers",
          "Newfoundland and Labrador/Computer engineers (except software engineers and designers)",
          "Newfoundland and Labrador",
          "Newfoundland and Labrador/Computer engineers (except software engineers and designers)/With Postsecondary Education",
          "Newfoundland and Labrador/Electrical and electronics engineers/With Postsecondary Education",
          "Newfoundland and Labrador/Mechanical engineers/With Postsecondary Education",
          "Newfoundland and Labrador/Mechanical engineers/With Postsecondary Education/Business, management and public administration",
          "Newfoundland and Labrador/Electrical and electronics engineers/With Postsecondary Education/Business, management and public administration",
          "Newfoundland and Labrador/Computer engineers (except software engineers and designers)/With Postsecondary Education/Business, management and public administration",
          "Newfoundland and Labrador/Mechanical engineers/With Postsecondary Education/Physical and life sciences and technologies",
          "Newfoundland and Labrador/Mechanical engineers/With Postsecondary Education/Architecture, engineering, and related trades",
          "Newfoundland and Labrador/Electrical and electronics engineers/With Postsecondary Education/Physical and life sciences and technologies",
          "Newfoundland and Labrador/Electrical and electronics engineers/With Postsecondary Education/Architecture, engineering, and related trades",
          "Newfoundland and Labrador/Computer engineers (except software engineers and designers)/With Postsecondary Education/Architecture, engineering, and related trades",
          "Newfoundland and Labrador/Computer engineers (except software engineers and designers)/With Postsecondary Education/Mathematics, computer and information sciences",
          "Northwest Territories/Electrical and electronics engineers/With Postsecondary Education",
          "Northwest Territories/Electrical and electronics engineers",
          "Northwest Territories",
          "Northwest Territories/Mechanical engineers/With Postsecondary Education",
          "Northwest Territories/Electrical and electronics engineers/With Postsecondary Education/Architecture, engineering, and related trades",
          "Northwest Territories/Mechanical engineers",
          "Northwest Territories/Mechanical engineers/With Postsecondary Education/Architecture, engineering, and related trades",
          "Nova Scotia/Electrical and electronics engineers/With Postsecondary Education/Mathematics, computer and information sciences",
          "Nova Scotia/Mechanical engineers/With Postsecondary Education/Mathematics, computer and information sciences",
          "Nova Scotia/Mechanical engineers/Without Postsecondary Education/No postsecondary certificate, diploma or degree",
          "Nova Scotia/Computer engineers (except software engineers and designers)/Without Postsecondary Education/No postsecondary certificate, diploma or degree",
          "Nova Scotia/Computer engineers (except software engineers and designers)/With Postsecondary Education/Humanities",
          "Nova Scotia/Mechanical engineers/With Postsecondary Education/Social and behavioural sciences and law",
          "Nova Scotia/Mechanical engineers/With Postsecondary Education/Architecture, engineering, and related trades",
          "Nova Scotia/Electrical and electronics engineers/With Postsecondary Education/Social and behavioural sciences and law",
          "Nova Scotia/Computer engineers (except software engineers and designers)/With Postsecondary Education/Mathematics, computer and information sciences",
          "Nova Scotia/Mechanical engineers/Without Postsecondary Education",
          "Nova Scotia/Electrical and electronics engineers",
          "Nova Scotia/Electrical and electronics engineers/With Postsecondary Education/Business, management and public administration",
          "Nova Scotia/Computer engineers (except software engineers and designers)/With Postsecondary Education/Architecture, engineering, and related trades",
          "Nova Scotia",
          "Nova Scotia/Electrical and electronics engineers/With Postsecondary Education/Architecture, engineering, and related trades",
          "Nova Scotia/Mechanical engineers/With Postsecondary Education/Business, management and public administration",
          "Nova Scotia/Computer engineers (except software engineers and designers)/With Postsecondary Education/Social and behavioural sciences and law",
          "Nova Scotia/Computer engineers (except software engineers and designers)/With Postsecondary Education/Business, management and public administration",
          "Nova Scotia/Electrical and electronics engineers/With Postsecondary Education",
          "Nova Scotia/Mechanical engineers/With Postsecondary Education",
          "Nova Scotia/Computer engineers (except software engineers and designers)/With Postsecondary Education",
          "Nova Scotia/Computer engineers (except software engineers and designers)/Without Postsecondary Education",
          "Nova Scotia/Mechanical engineers",
          "Nova Scotia/Computer engineers (except software engineers and designers)",
          "Nova Scotia/Electrical and electronics engineers/With Postsecondary Education/Physical and life sciences and technologies",
          "Nunavut/Mechanical engineers/With Postsecondary Education/Architecture, engineering, and related trades",
          "Nunavut/Mechanical engineers/With Postsecondary Education",
          "Nunavut",
          "Nunavut/Mechanical engineers",
          "Ontario/Computer engineers (except software engineers and designers)/With Postsecondary Education/Education",
          "Ontario/Mechanical engineers/With Postsecondary Education/Mathematics, computer and information sciences",
          "Ontario/Electrical and electronics engineers/With Postsecondary Education/Mathematics, computer and information sciences",
          "Ontario/Computer engineers (except software engineers and designers)/With Postsecondary Education/Mathematics, computer and information sciences",
          "Ontario/Mechanical engineers/With Postsecondary Education/Architecture, engineering, and related trades",
          "Ontario/Electrical and electronics engineers/With Postsecondary Education/Architecture, engineering, and related trades",
          "Ontario/Computer engineers (except software engineers and designers)/Without Postsecondary Education",
          "Ontario/Electrical and electronics engineers/Without Postsecondary Education",
          "Ontario/Mechanical engineers/Without Postsecondary Education",
          "Ontario/Computer engineers (except software engineers and designers)/With Postsecondary Education/Architecture, engineering, and related trades",
          "Ontario/Mechanical engineers/With Postsecondary Education/Agriculture, natural resources and conservation",
          "Ontario/Computer engineers (except software engineers and designers)/With Postsecondary Education/Agriculture, natural resources and conservation",
          "Ontario/Mechanical engineers/With Postsecondary Education/Health and related fields",
          "Ontario/Electrical and electronics engineers/With Postsecondary Education/Health and related fields",
          "Ontario/Computer engineers (except software engineers and designers)/With Postsecondary Education/Health and related fields",
          "Ontario/Mechanical engineers/With Postsecondary Education/Personal, protective and transportation services",
          "Ontario/Electrical and electronics engineers/With Postsecondary Education/Personal, protective and transportation services",
          "Ontario/Computer engineers (except software engineers and designers)/With Postsecondary Education/Personal, protective and transportation services",
          "Ontario",
          "Ontario/Computer engineers (except software engineers and designers)/With Postsecondary Education/Physical and life sciences and technologies",
          "Ontario/Mechanical engineers/With Postsecondary Education/Education",
          "Ontario/Electrical and electronics engineers/With Postsecondary Education/Physical and life sciences and technologies",
          "Ontario/Computer engineers (except software engineers and designers)/With Postsecondary Education/Business, management and public administration",
          "Ontario/Electrical and electronics engineers/Without Postsecondary Education/No postsecondary certificate, diploma or degree",
          "Ontario/Mechanical engineers/Without Postsecondary Education/No postsecondary certificate, diploma or degree",
          "Ontario/Mechanical engineers/With Postsecondary Education/Visual and performing arts, and communications technologies",
          "Ontario/Electrical and electronics engineers/With Postsecondary Education/Visual and performing arts, and communications technologies",
          "Ontario/Computer engineers (except software engineers and designers)/With Postsecondary Education/Visual and performing arts, and communications technologies",
          "Ontario/Mechanical engineers/With Postsecondary Education/Humanities",
          "Ontario/Electrical and electronics engineers/With Postsecondary Education/Humanities",
          "Ontario/Computer engineers (except software engineers and designers)/With Postsecondary Education/Humanities",
          "Ontario/Mechanical engineers/With Postsecondary Education/Social and behavioural sciences and law",
          "Ontario/Electrical and electronics engineers/With Postsecondary Education/Social and behavioural sciences and law",
          "Ontario/Computer engineers (except software engineers and designers)/With Postsecondary Education/Social and behavioural sciences and law",
          "Ontario/Mechanical engineers/With Postsecondary Education/Business, management and public administration",
          "Ontario/Electrical and electronics engineers/With Postsecondary Education/Business, management and public administration",
          "Ontario/Computer engineers (except software engineers and designers)",
          "Ontario/Electrical and electronics engineers",
          "Ontario/Mechanical engineers",
          "Ontario/Electrical and electronics engineers/With Postsecondary Education",
          "Ontario/Computer engineers (except software engineers and designers)/With Postsecondary Education",
          "Ontario/Mechanical engineers/With Postsecondary Education",
          "Ontario/Mechanical engineers/With Postsecondary Education/Physical and life sciences and technologies",
          "Ontario/Computer engineers (except software engineers and designers)/Without Postsecondary Education/No postsecondary certificate, diploma or degree",
          "Prince Edward Island/Electrical and electronics engineers/With Postsecondary Education/Architecture, engineering, and related trades",
          "Prince Edward Island/Mechanical engineers",
          "Prince Edward Island",
          "Prince Edward Island/Computer engineers (except software engineers and designers)/With Postsecondary Education/Mathematics, computer and information sciences",
          "Prince Edward Island/Mechanical engineers/With Postsecondary Education/Architecture, engineering, and related trades",
          "Prince Edward Island/Computer engineers (except software engineers and designers)",
          "Prince Edward Island/Computer engineers (except software engineers and designers)/With Postsecondary Education/Architecture, engineering, and related trades",
          "Prince Edward Island/Computer engineers (except software engineers and designers)/With Postsecondary Education",
          "Prince Edward Island/Mechanical engineers/With Postsecondary Education",
          "Prince Edward Island/Electrical and electronics engineers/With Postsecondary Education",
          "Prince Edward Island/Electrical and electronics engineers",
          "Quebec/Electrical and electronics engineers",
          "Quebec/Computer engineers (except software engineers and designers)",
          "Quebec/Computer engineers (except software engineers and designers)/Without Postsecondary Education/No postsecondary certificate, diploma or degree",
          "Quebec",
          "Quebec/Mechanical engineers/Without Postsecondary Education/No postsecondary certificate, diploma or degree",
          "Quebec/Electrical and electronics engineers/Without Postsecondary Education/No postsecondary certificate, diploma or degree",
          "Quebec/Mechanical engineers",
          "Quebec/Mechanical engineers/With Postsecondary Education/Education",
          "Quebec/Electrical and electronics engineers/Without Postsecondary Education",
          "Quebec/Mechanical engineers/With Postsecondary Education/Mathematics, computer and information sciences",
          "Quebec/Mechanical engineers/With Postsecondary Education/Business, management and public administration",
          "Quebec/Electrical and electronics engineers/With Postsecondary Education/Business, management and public administration",
          "Quebec/Computer engineers (except software engineers and designers)/With Postsecondary Education/Business, management and public administration",
          "Quebec/Mechanical engineers/With Postsecondary Education/Physical and life sciences and technologies",
          "Quebec/Electrical and electronics engineers/With Postsecondary Education/Physical and life sciences and technologies",
          "Quebec/Computer engineers (except software engineers and designers)/With Postsecondary Education/Physical and life sciences and technologies",
          "Quebec/Electrical and electronics engineers/With Postsecondary Education/Mathematics, computer and information sciences",
          "Quebec/Computer engineers (except software engineers and designers)/With Postsecondary Education/Mathematics, computer and information sciences",
          "Quebec/Computer engineers (except software engineers and designers)/With Postsecondary Education/Health and related fields",
          "Quebec/Mechanical engineers/With Postsecondary Education/Architecture, engineering, and related trades",
          "Quebec/Computer engineers (except software engineers and designers)/With Postsecondary Education/Architecture, engineering, and related trades",
          "Quebec/Mechanical engineers/With Postsecondary Education/Agriculture, natural resources and conservation",
          "Quebec/Computer engineers (except software engineers and designers)/With Postsecondary Education/Personal, protective and transportation services",
          "Quebec/Electrical and electronics engineers/With Postsecondary Education/Personal, protective and transportation services",
          "Quebec/Electrical and electronics engineers/With Postsecondary Education/Agriculture, natural resources and conservation",
          "Quebec/Computer engineers (except software engineers and designers)/With Postsecondary Education/Agriculture, natural resources and conservation",
          "Quebec/Mechanical engineers/With Postsecondary Education/Health and related fields",
          "Quebec/Electrical and electronics engineers/With Postsecondary Education/Health and related fields",
          "Quebec/Electrical and electronics engineers/With Postsecondary Education/Architecture, engineering, and related trades",
          "Quebec/Electrical and electronics engineers/With Postsecondary Education/Social and behavioural sciences and law",
          "Quebec/Computer engineers (except software engineers and designers)/With Postsecondary Education/Social and behavioural sciences and law",
          "Quebec/Computer engineers (except software engineers and designers)/With Postsecondary Education/Humanities",
          "Quebec/Electrical and electronics engineers/With Postsecondary Education/Education",
          "Quebec/Computer engineers (except software engineers and designers)/With Postsecondary Education/Education",
          "Quebec/Mechanical engineers/With Postsecondary Education/Visual and performing arts, and communications technologies",
          "Quebec/Electrical and electronics engineers/With Postsecondary Education/Visual and performing arts, and communications technologies",
          "Quebec/Computer engineers (except software engineers and designers)/With Postsecondary Education/Visual and performing arts, and communications technologies",
          "Quebec/Mechanical engineers/With Postsecondary Education/Humanities",
          "Quebec/Mechanical engineers/With Postsecondary Education/Social and behavioural sciences and law",
          "Quebec/Electrical and electronics engineers/With Postsecondary Education",
          "Quebec/Computer engineers (except software engineers and designers)/With Postsecondary Education",
          "Quebec/Mechanical engineers/With Postsecondary Education",
          "Quebec/Computer engineers (except software engineers and designers)/Without Postsecondary Education",
          "Quebec/Mechanical engineers/Without Postsecondary Education",
          "Quebec/Electrical and electronics engineers/With Postsecondary Education/Humanities",
          "Quebec/Mechanical engineers/With Postsecondary Education/Personal, protective and transportation services",
          "Saskatchewan/Electrical and electronics engineers/Without Postsecondary Education/No postsecondary certificate, diploma or degree",
          "Saskatchewan/Computer engineers (except software engineers and designers)/With Postsecondary Education/Architecture, engineering, and related trades",
          "Saskatchewan/Computer engineers (except software engineers and designers)/Without Postsecondary Education/No postsecondary certificate, diploma or degree",
          "Saskatchewan/Mechanical engineers/With Postsecondary Education/Humanities",
          "Saskatchewan/Electrical and electronics engineers/With Postsecondary Education/Social and behavioural sciences and law",
          "Saskatchewan/Mechanical engineers/Without Postsecondary Education/No postsecondary certificate, diploma or degree",
          "Saskatchewan/Mechanical engineers/With Postsecondary Education/Architecture, engineering, and related trades",
          "Saskatchewan",
          "Saskatchewan/Computer engineers (except software engineers and designers)/With Postsecondary Education/Mathematics, computer and information sciences",
          "Saskatchewan/Electrical and electronics engineers/With Postsecondary Education/Physical and life sciences and technologies",
          "Saskatchewan/Electrical and electronics engineers/With Postsecondary Education/Architecture, engineering, and related trades",
          "Saskatchewan/Computer engineers (except software engineers and designers)/With Postsecondary Education",
          "Saskatchewan/Electrical and electronics engineers/With Postsecondary Education/Business, management and public administration",
          "Saskatchewan/Computer engineers (except software engineers and designers)",
          "Saskatchewan/Electrical and electronics engineers",
          "Saskatchewan/Mechanical engineers",
          "Saskatchewan/Electrical and electronics engineers/With Postsecondary Education",
          "Saskatchewan/Mechanical engineers/With Postsecondary Education",
          "Saskatchewan/Mechanical engineers/With Postsecondary Education/Business, management and public administration",
          "Saskatchewan/Computer engineers (except software engineers and designers)/Without Postsecondary Education",
          "Saskatchewan/Electrical and electronics engineers/Without Postsecondary Education",
          "Saskatchewan/Mechanical engineers/Without Postsecondary Education",
          "Yukon",
          "Yukon/Electrical and electronics engineers",
          "Yukon/Mechanical engineers",
          "Yukon/Electrical and electronics engineers/With Postsecondary Education/Architecture, engineering, and related trades",
          "Yukon/Mechanical engineers/With Postsecondary Education/Architecture, engineering, and related trades",
          "Yukon/Mechanical engineers/With Postsecondary Education",
          "Yukon/Electrical and electronics engineers/With Postsecondary Education"
         ],
         "labels": [
          "Business, management and public administration",
          "Without Postsecondary Education",
          "Without Postsecondary Education",
          "No postsecondary certificate, diploma or degree",
          "Personal, protective and transportation services",
          "Personal, protective and transportation services",
          "Health and related fields",
          "Health and related fields",
          "Agriculture, natural resources and conservation",
          "Agriculture, natural resources and conservation",
          "Architecture, engineering, and related trades",
          "Architecture, engineering, and related trades",
          "Architecture, engineering, and related trades",
          "Mathematics, computer and information sciences",
          "Mathematics, computer and information sciences",
          "Mathematics, computer and information sciences",
          "Physical and life sciences and technologies",
          "Physical and life sciences and technologies",
          "Physical and life sciences and technologies",
          "Business, management and public administration",
          "Business, management and public administration",
          "Social and behavioural sciences and law",
          "Social and behavioural sciences and law",
          "Social and behavioural sciences and law",
          "Humanities",
          "Humanities",
          "Humanities",
          "Visual and performing arts, and communications technologies",
          "Visual and performing arts, and communications technologies",
          "No postsecondary certificate, diploma or degree",
          "Without Postsecondary Education",
          "With Postsecondary Education",
          "No postsecondary certificate, diploma or degree",
          "With Postsecondary Education",
          "Alberta",
          "Computer engineers (except software engineers and designers)",
          "Electrical and electronics engineers",
          "Mechanical engineers",
          "With Postsecondary Education",
          "Humanities",
          "Humanities",
          "Humanities",
          "Social and behavioural sciences and law",
          "Social and behavioural sciences and law",
          "Social and behavioural sciences and law",
          "Business, management and public administration",
          "Business, management and public administration",
          "Visual and performing arts, and communications technologies",
          "Physical and life sciences and technologies",
          "Physical and life sciences and technologies",
          "Physical and life sciences and technologies",
          "Business, management and public administration",
          "Visual and performing arts, and communications technologies",
          "No postsecondary certificate, diploma or degree",
          "No postsecondary certificate, diploma or degree",
          "Mathematics, computer and information sciences",
          "No postsecondary certificate, diploma or degree",
          "Without Postsecondary Education",
          "Without Postsecondary Education",
          "Without Postsecondary Education",
          "With Postsecondary Education",
          "With Postsecondary Education",
          "With Postsecondary Education",
          "Mechanical engineers",
          "Electrical and electronics engineers",
          "Computer engineers (except software engineers and designers)",
          "British Columbia",
          "Visual and performing arts, and communications technologies",
          "Mathematics, computer and information sciences",
          "Architecture, engineering, and related trades",
          "Architecture, engineering, and related trades",
          "Personal, protective and transportation services",
          "Personal, protective and transportation services",
          "Personal, protective and transportation services",
          "Mathematics, computer and information sciences",
          "Agriculture, natural resources and conservation",
          "Architecture, engineering, and related trades",
          "Health and related fields",
          "Computer engineers (except software engineers and designers)",
          "Electrical and electronics engineers",
          "Mechanical engineers",
          "Physical and life sciences and technologies",
          "No postsecondary certificate, diploma or degree",
          "No postsecondary certificate, diploma or degree",
          "No postsecondary certificate, diploma or degree",
          "Education",
          "Business, management and public administration",
          "Business, management and public administration",
          "Business, management and public administration",
          "Physical and life sciences and technologies",
          "With Postsecondary Education",
          "Without Postsecondary Education",
          "With Postsecondary Education",
          "Without Postsecondary Education",
          "Without Postsecondary Education",
          "Physical and life sciences and technologies",
          "Mathematics, computer and information sciences",
          "Mathematics, computer and information sciences",
          "Architecture, engineering, and related trades",
          "Architecture, engineering, and related trades",
          "Architecture, engineering, and related trades",
          "Manitoba",
          "With Postsecondary Education",
          "Physical and life sciences and technologies",
          "Physical and life sciences and technologies",
          "Business, management and public administration",
          "New Brunswick",
          "Mathematics, computer and information sciences",
          "Electrical and electronics engineers",
          "Architecture, engineering, and related trades",
          "Without Postsecondary Education",
          "Without Postsecondary Education",
          "Business, management and public administration",
          "With Postsecondary Education",
          "With Postsecondary Education",
          "With Postsecondary Education",
          "No postsecondary certificate, diploma or degree",
          "Mathematics, computer and information sciences",
          "Social and behavioural sciences and law",
          "No postsecondary certificate, diploma or degree",
          "Mechanical engineers",
          "Computer engineers (except software engineers and designers)",
          "Architecture, engineering, and related trades",
          "Architecture, engineering, and related trades",
          "Health and related fields",
          "Business, management and public administration",
          "Mechanical engineers",
          "Electrical and electronics engineers",
          "Computer engineers (except software engineers and designers)",
          "Newfoundland and Labrador",
          "With Postsecondary Education",
          "With Postsecondary Education",
          "With Postsecondary Education",
          "Business, management and public administration",
          "Business, management and public administration",
          "Business, management and public administration",
          "Physical and life sciences and technologies",
          "Architecture, engineering, and related trades",
          "Physical and life sciences and technologies",
          "Architecture, engineering, and related trades",
          "Architecture, engineering, and related trades",
          "Mathematics, computer and information sciences",
          "With Postsecondary Education",
          "Electrical and electronics engineers",
          "Northwest Territories",
          "With Postsecondary Education",
          "Architecture, engineering, and related trades",
          "Mechanical engineers",
          "Architecture, engineering, and related trades",
          "Mathematics, computer and information sciences",
          "Mathematics, computer and information sciences",
          "No postsecondary certificate, diploma or degree",
          "No postsecondary certificate, diploma or degree",
          "Humanities",
          "Social and behavioural sciences and law",
          "Architecture, engineering, and related trades",
          "Social and behavioural sciences and law",
          "Mathematics, computer and information sciences",
          "Without Postsecondary Education",
          "Electrical and electronics engineers",
          "Business, management and public administration",
          "Architecture, engineering, and related trades",
          "Nova Scotia",
          "Architecture, engineering, and related trades",
          "Business, management and public administration",
          "Social and behavioural sciences and law",
          "Business, management and public administration",
          "With Postsecondary Education",
          "With Postsecondary Education",
          "With Postsecondary Education",
          "Without Postsecondary Education",
          "Mechanical engineers",
          "Computer engineers (except software engineers and designers)",
          "Physical and life sciences and technologies",
          "Architecture, engineering, and related trades",
          "With Postsecondary Education",
          "Nunavut",
          "Mechanical engineers",
          "Education",
          "Mathematics, computer and information sciences",
          "Mathematics, computer and information sciences",
          "Mathematics, computer and information sciences",
          "Architecture, engineering, and related trades",
          "Architecture, engineering, and related trades",
          "Without Postsecondary Education",
          "Without Postsecondary Education",
          "Without Postsecondary Education",
          "Architecture, engineering, and related trades",
          "Agriculture, natural resources and conservation",
          "Agriculture, natural resources and conservation",
          "Health and related fields",
          "Health and related fields",
          "Health and related fields",
          "Personal, protective and transportation services",
          "Personal, protective and transportation services",
          "Personal, protective and transportation services",
          "Ontario",
          "Physical and life sciences and technologies",
          "Education",
          "Physical and life sciences and technologies",
          "Business, management and public administration",
          "No postsecondary certificate, diploma or degree",
          "No postsecondary certificate, diploma or degree",
          "Visual and performing arts, and communications technologies",
          "Visual and performing arts, and communications technologies",
          "Visual and performing arts, and communications technologies",
          "Humanities",
          "Humanities",
          "Humanities",
          "Social and behavioural sciences and law",
          "Social and behavioural sciences and law",
          "Social and behavioural sciences and law",
          "Business, management and public administration",
          "Business, management and public administration",
          "Computer engineers (except software engineers and designers)",
          "Electrical and electronics engineers",
          "Mechanical engineers",
          "With Postsecondary Education",
          "With Postsecondary Education",
          "With Postsecondary Education",
          "Physical and life sciences and technologies",
          "No postsecondary certificate, diploma or degree",
          "Architecture, engineering, and related trades",
          "Mechanical engineers",
          "Prince Edward Island",
          "Mathematics, computer and information sciences",
          "Architecture, engineering, and related trades",
          "Computer engineers (except software engineers and designers)",
          "Architecture, engineering, and related trades",
          "With Postsecondary Education",
          "With Postsecondary Education",
          "With Postsecondary Education",
          "Electrical and electronics engineers",
          "Electrical and electronics engineers",
          "Computer engineers (except software engineers and designers)",
          "No postsecondary certificate, diploma or degree",
          "Quebec",
          "No postsecondary certificate, diploma or degree",
          "No postsecondary certificate, diploma or degree",
          "Mechanical engineers",
          "Education",
          "Without Postsecondary Education",
          "Mathematics, computer and information sciences",
          "Business, management and public administration",
          "Business, management and public administration",
          "Business, management and public administration",
          "Physical and life sciences and technologies",
          "Physical and life sciences and technologies",
          "Physical and life sciences and technologies",
          "Mathematics, computer and information sciences",
          "Mathematics, computer and information sciences",
          "Health and related fields",
          "Architecture, engineering, and related trades",
          "Architecture, engineering, and related trades",
          "Agriculture, natural resources and conservation",
          "Personal, protective and transportation services",
          "Personal, protective and transportation services",
          "Agriculture, natural resources and conservation",
          "Agriculture, natural resources and conservation",
          "Health and related fields",
          "Health and related fields",
          "Architecture, engineering, and related trades",
          "Social and behavioural sciences and law",
          "Social and behavioural sciences and law",
          "Humanities",
          "Education",
          "Education",
          "Visual and performing arts, and communications technologies",
          "Visual and performing arts, and communications technologies",
          "Visual and performing arts, and communications technologies",
          "Humanities",
          "Social and behavioural sciences and law",
          "With Postsecondary Education",
          "With Postsecondary Education",
          "With Postsecondary Education",
          "Without Postsecondary Education",
          "Without Postsecondary Education",
          "Humanities",
          "Personal, protective and transportation services",
          "No postsecondary certificate, diploma or degree",
          "Architecture, engineering, and related trades",
          "No postsecondary certificate, diploma or degree",
          "Humanities",
          "Social and behavioural sciences and law",
          "No postsecondary certificate, diploma or degree",
          "Architecture, engineering, and related trades",
          "Saskatchewan",
          "Mathematics, computer and information sciences",
          "Physical and life sciences and technologies",
          "Architecture, engineering, and related trades",
          "With Postsecondary Education",
          "Business, management and public administration",
          "Computer engineers (except software engineers and designers)",
          "Electrical and electronics engineers",
          "Mechanical engineers",
          "With Postsecondary Education",
          "With Postsecondary Education",
          "Business, management and public administration",
          "Without Postsecondary Education",
          "Without Postsecondary Education",
          "Without Postsecondary Education",
          "Yukon",
          "Electrical and electronics engineers",
          "Mechanical engineers",
          "Architecture, engineering, and related trades",
          "Architecture, engineering, and related trades",
          "With Postsecondary Education",
          "With Postsecondary Education"
         ],
         "marker": {
          "colors": [
           "rgb(204,204,204)",
           "rgb(204,204,204)",
           "rgb(204,204,204)",
           "rgb(204,204,204)",
           "rgb(204,204,204)",
           "rgb(204,204,204)",
           "rgb(204,204,204)",
           "rgb(204,204,204)",
           "rgb(204,204,204)",
           "rgb(204,204,204)",
           "rgb(204,204,204)",
           "rgb(204,204,204)",
           "rgb(204,204,204)",
           "rgb(204,204,204)",
           "rgb(204,204,204)",
           "rgb(204,204,204)",
           "rgb(204,204,204)",
           "rgb(204,204,204)",
           "rgb(204,204,204)",
           "rgb(204,204,204)",
           "rgb(204,204,204)",
           "rgb(204,204,204)",
           "rgb(204,204,204)",
           "rgb(204,204,204)",
           "rgb(204,204,204)",
           "rgb(204,204,204)",
           "rgb(204,204,204)",
           "rgb(204,204,204)",
           "rgb(204,204,204)",
           "rgb(204,204,204)",
           "rgb(204,204,204)",
           "rgb(204,204,204)",
           "rgb(204,204,204)",
           "rgb(204,204,204)",
           "rgb(204,204,204)",
           "rgb(204,204,204)",
           "rgb(204,204,204)",
           "rgb(204,204,204)",
           "rgb(204,204,204)",
           "rgb(241,226,204)",
           "rgb(241,226,204)",
           "rgb(241,226,204)",
           "rgb(241,226,204)",
           "rgb(241,226,204)",
           "rgb(241,226,204)",
           "rgb(241,226,204)",
           "rgb(241,226,204)",
           "rgb(241,226,204)",
           "rgb(241,226,204)",
           "rgb(241,226,204)",
           "rgb(241,226,204)",
           "rgb(241,226,204)",
           "rgb(241,226,204)",
           "rgb(241,226,204)",
           "rgb(241,226,204)",
           "rgb(241,226,204)",
           "rgb(241,226,204)",
           "rgb(241,226,204)",
           "rgb(241,226,204)",
           "rgb(241,226,204)",
           "rgb(241,226,204)",
           "rgb(241,226,204)",
           "rgb(241,226,204)",
           "rgb(241,226,204)",
           "rgb(241,226,204)",
           "rgb(241,226,204)",
           "rgb(241,226,204)",
           "rgb(241,226,204)",
           "rgb(241,226,204)",
           "rgb(241,226,204)",
           "rgb(241,226,204)",
           "rgb(241,226,204)",
           "rgb(241,226,204)",
           "rgb(241,226,204)",
           "rgb(241,226,204)",
           "rgb(241,226,204)",
           "rgb(241,226,204)",
           "rgb(241,226,204)",
           "rgb(255,242,174)",
           "rgb(255,242,174)",
           "rgb(255,242,174)",
           "rgb(255,242,174)",
           "rgb(255,242,174)",
           "rgb(255,242,174)",
           "rgb(255,242,174)",
           "rgb(255,242,174)",
           "rgb(255,242,174)",
           "rgb(255,242,174)",
           "rgb(255,242,174)",
           "rgb(255,242,174)",
           "rgb(255,242,174)",
           "rgb(255,242,174)",
           "rgb(255,242,174)",
           "rgb(255,242,174)",
           "rgb(255,242,174)",
           "rgb(255,242,174)",
           "rgb(255,242,174)",
           "rgb(255,242,174)",
           "rgb(255,242,174)",
           "rgb(255,242,174)",
           "rgb(255,242,174)",
           "rgb(255,242,174)",
           "rgb(255,242,174)",
           "rgb(230,245,201)",
           "rgb(230,245,201)",
           "rgb(230,245,201)",
           "rgb(230,245,201)",
           "rgb(230,245,201)",
           "rgb(230,245,201)",
           "rgb(230,245,201)",
           "rgb(230,245,201)",
           "rgb(230,245,201)",
           "rgb(230,245,201)",
           "rgb(230,245,201)",
           "rgb(230,245,201)",
           "rgb(230,245,201)",
           "rgb(230,245,201)",
           "rgb(230,245,201)",
           "rgb(230,245,201)",
           "rgb(230,245,201)",
           "rgb(230,245,201)",
           "rgb(230,245,201)",
           "rgb(230,245,201)",
           "rgb(230,245,201)",
           "rgb(230,245,201)",
           "rgb(230,245,201)",
           "rgb(244,202,228)",
           "rgb(244,202,228)",
           "rgb(244,202,228)",
           "rgb(244,202,228)",
           "rgb(244,202,228)",
           "rgb(244,202,228)",
           "rgb(244,202,228)",
           "rgb(244,202,228)",
           "rgb(244,202,228)",
           "rgb(244,202,228)",
           "rgb(244,202,228)",
           "rgb(244,202,228)",
           "rgb(244,202,228)",
           "rgb(244,202,228)",
           "rgb(244,202,228)",
           "rgb(244,202,228)",
           "rgb(203,213,232)",
           "rgb(203,213,232)",
           "rgb(203,213,232)",
           "rgb(203,213,232)",
           "rgb(203,213,232)",
           "rgb(203,213,232)",
           "rgb(203,213,232)",
           "rgb(253,205,172)",
           "rgb(253,205,172)",
           "rgb(253,205,172)",
           "rgb(253,205,172)",
           "rgb(253,205,172)",
           "rgb(253,205,172)",
           "rgb(253,205,172)",
           "rgb(253,205,172)",
           "rgb(253,205,172)",
           "rgb(253,205,172)",
           "rgb(253,205,172)",
           "rgb(253,205,172)",
           "rgb(253,205,172)",
           "rgb(253,205,172)",
           "rgb(253,205,172)",
           "rgb(253,205,172)",
           "rgb(253,205,172)",
           "rgb(253,205,172)",
           "rgb(253,205,172)",
           "rgb(253,205,172)",
           "rgb(253,205,172)",
           "rgb(253,205,172)",
           "rgb(253,205,172)",
           "rgb(253,205,172)",
           "rgb(253,205,172)",
           "rgb(179,226,205)",
           "rgb(179,226,205)",
           "rgb(179,226,205)",
           "rgb(179,226,205)",
           "rgb(204,204,204)",
           "rgb(204,204,204)",
           "rgb(204,204,204)",
           "rgb(204,204,204)",
           "rgb(204,204,204)",
           "rgb(204,204,204)",
           "rgb(204,204,204)",
           "rgb(204,204,204)",
           "rgb(204,204,204)",
           "rgb(204,204,204)",
           "rgb(204,204,204)",
           "rgb(204,204,204)",
           "rgb(204,204,204)",
           "rgb(204,204,204)",
           "rgb(204,204,204)",
           "rgb(204,204,204)",
           "rgb(204,204,204)",
           "rgb(204,204,204)",
           "rgb(204,204,204)",
           "rgb(204,204,204)",
           "rgb(204,204,204)",
           "rgb(204,204,204)",
           "rgb(204,204,204)",
           "rgb(204,204,204)",
           "rgb(204,204,204)",
           "rgb(204,204,204)",
           "rgb(204,204,204)",
           "rgb(204,204,204)",
           "rgb(204,204,204)",
           "rgb(204,204,204)",
           "rgb(204,204,204)",
           "rgb(204,204,204)",
           "rgb(204,204,204)",
           "rgb(204,204,204)",
           "rgb(204,204,204)",
           "rgb(204,204,204)",
           "rgb(204,204,204)",
           "rgb(204,204,204)",
           "rgb(204,204,204)",
           "rgb(204,204,204)",
           "rgb(204,204,204)",
           "rgb(204,204,204)",
           "rgb(204,204,204)",
           "rgb(204,204,204)",
           "rgb(241,226,204)",
           "rgb(241,226,204)",
           "rgb(241,226,204)",
           "rgb(241,226,204)",
           "rgb(241,226,204)",
           "rgb(241,226,204)",
           "rgb(241,226,204)",
           "rgb(241,226,204)",
           "rgb(241,226,204)",
           "rgb(241,226,204)",
           "rgb(241,226,204)",
           "rgb(255,242,174)",
           "rgb(255,242,174)",
           "rgb(255,242,174)",
           "rgb(255,242,174)",
           "rgb(255,242,174)",
           "rgb(255,242,174)",
           "rgb(255,242,174)",
           "rgb(255,242,174)",
           "rgb(255,242,174)",
           "rgb(255,242,174)",
           "rgb(255,242,174)",
           "rgb(255,242,174)",
           "rgb(255,242,174)",
           "rgb(255,242,174)",
           "rgb(255,242,174)",
           "rgb(255,242,174)",
           "rgb(255,242,174)",
           "rgb(255,242,174)",
           "rgb(255,242,174)",
           "rgb(255,242,174)",
           "rgb(255,242,174)",
           "rgb(255,242,174)",
           "rgb(255,242,174)",
           "rgb(255,242,174)",
           "rgb(255,242,174)",
           "rgb(255,242,174)",
           "rgb(255,242,174)",
           "rgb(255,242,174)",
           "rgb(255,242,174)",
           "rgb(255,242,174)",
           "rgb(255,242,174)",
           "rgb(255,242,174)",
           "rgb(255,242,174)",
           "rgb(255,242,174)",
           "rgb(255,242,174)",
           "rgb(255,242,174)",
           "rgb(255,242,174)",
           "rgb(255,242,174)",
           "rgb(255,242,174)",
           "rgb(255,242,174)",
           "rgb(255,242,174)",
           "rgb(255,242,174)",
           "rgb(255,242,174)",
           "rgb(255,242,174)",
           "rgb(255,242,174)",
           "rgb(255,242,174)",
           "rgb(230,245,201)",
           "rgb(230,245,201)",
           "rgb(230,245,201)",
           "rgb(230,245,201)",
           "rgb(230,245,201)",
           "rgb(230,245,201)",
           "rgb(230,245,201)",
           "rgb(230,245,201)",
           "rgb(230,245,201)",
           "rgb(230,245,201)",
           "rgb(230,245,201)",
           "rgb(230,245,201)",
           "rgb(230,245,201)",
           "rgb(230,245,201)",
           "rgb(230,245,201)",
           "rgb(230,245,201)",
           "rgb(230,245,201)",
           "rgb(230,245,201)",
           "rgb(230,245,201)",
           "rgb(230,245,201)",
           "rgb(230,245,201)",
           "rgb(230,245,201)",
           "rgb(244,202,228)",
           "rgb(244,202,228)",
           "rgb(244,202,228)",
           "rgb(244,202,228)",
           "rgb(244,202,228)",
           "rgb(244,202,228)",
           "rgb(244,202,228)"
          ]
         },
         "name": "",
         "parents": [
          "Alberta/Computer engineers (except software engineers and designers)/With Postsecondary Education",
          "Alberta/Electrical and electronics engineers",
          "Alberta/Mechanical engineers",
          "Alberta/Electrical and electronics engineers/Without Postsecondary Education",
          "Alberta/Computer engineers (except software engineers and designers)/With Postsecondary Education",
          "Alberta/Mechanical engineers/With Postsecondary Education",
          "Alberta/Computer engineers (except software engineers and designers)/With Postsecondary Education",
          "Alberta/Mechanical engineers/With Postsecondary Education",
          "Alberta/Computer engineers (except software engineers and designers)/With Postsecondary Education",
          "Alberta/Mechanical engineers/With Postsecondary Education",
          "Alberta/Computer engineers (except software engineers and designers)/With Postsecondary Education",
          "Alberta/Electrical and electronics engineers/With Postsecondary Education",
          "Alberta/Mechanical engineers/With Postsecondary Education",
          "Alberta/Computer engineers (except software engineers and designers)/With Postsecondary Education",
          "Alberta/Electrical and electronics engineers/With Postsecondary Education",
          "Alberta/Mechanical engineers/With Postsecondary Education",
          "Alberta/Computer engineers (except software engineers and designers)/With Postsecondary Education",
          "Alberta/Electrical and electronics engineers/With Postsecondary Education",
          "Alberta/Mechanical engineers/With Postsecondary Education",
          "Alberta/Electrical and electronics engineers/With Postsecondary Education",
          "Alberta/Mechanical engineers/With Postsecondary Education",
          "Alberta/Computer engineers (except software engineers and designers)/With Postsecondary Education",
          "Alberta/Electrical and electronics engineers/With Postsecondary Education",
          "Alberta/Mechanical engineers/With Postsecondary Education",
          "Alberta/Computer engineers (except software engineers and designers)/With Postsecondary Education",
          "Alberta/Electrical and electronics engineers/With Postsecondary Education",
          "Alberta/Mechanical engineers/With Postsecondary Education",
          "Alberta/Electrical and electronics engineers/With Postsecondary Education",
          "Alberta/Mechanical engineers/With Postsecondary Education",
          "Alberta/Computer engineers (except software engineers and designers)/Without Postsecondary Education",
          "Alberta/Computer engineers (except software engineers and designers)",
          "Alberta/Mechanical engineers",
          "Alberta/Mechanical engineers/Without Postsecondary Education",
          "Alberta/Computer engineers (except software engineers and designers)",
          "",
          "Alberta",
          "Alberta",
          "Alberta",
          "Alberta/Electrical and electronics engineers",
          "British Columbia/Electrical and electronics engineers/With Postsecondary Education",
          "British Columbia/Mechanical engineers/With Postsecondary Education",
          "British Columbia/Computer engineers (except software engineers and designers)/With Postsecondary Education",
          "British Columbia/Mechanical engineers/With Postsecondary Education",
          "British Columbia/Electrical and electronics engineers/With Postsecondary Education",
          "British Columbia/Computer engineers (except software engineers and designers)/With Postsecondary Education",
          "British Columbia/Computer engineers (except software engineers and designers)/With Postsecondary Education",
          "British Columbia/Electrical and electronics engineers/With Postsecondary Education",
          "British Columbia/Computer engineers (except software engineers and designers)/With Postsecondary Education",
          "British Columbia/Mechanical engineers/With Postsecondary Education",
          "British Columbia/Electrical and electronics engineers/With Postsecondary Education",
          "British Columbia/Computer engineers (except software engineers and designers)/With Postsecondary Education",
          "British Columbia/Mechanical engineers/With Postsecondary Education",
          "British Columbia/Electrical and electronics engineers/With Postsecondary Education",
          "British Columbia/Electrical and electronics engineers/Without Postsecondary Education",
          "British Columbia/Computer engineers (except software engineers and designers)/Without Postsecondary Education",
          "British Columbia/Mechanical engineers/With Postsecondary Education",
          "British Columbia/Mechanical engineers/Without Postsecondary Education",
          "British Columbia/Mechanical engineers",
          "British Columbia/Electrical and electronics engineers",
          "British Columbia/Computer engineers (except software engineers and designers)",
          "British Columbia/Mechanical engineers",
          "British Columbia/Electrical and electronics engineers",
          "British Columbia/Computer engineers (except software engineers and designers)",
          "British Columbia",
          "British Columbia",
          "British Columbia",
          "",
          "British Columbia/Mechanical engineers/With Postsecondary Education",
          "British Columbia/Electrical and electronics engineers/With Postsecondary Education",
          "British Columbia/Computer engineers (except software engineers and designers)/With Postsecondary Education",
          "British Columbia/Mechanical engineers/With Postsecondary Education",
          "British Columbia/Computer engineers (except software engineers and designers)/With Postsecondary Education",
          "British Columbia/Electrical and electronics engineers/With Postsecondary Education",
          "British Columbia/Mechanical engineers/With Postsecondary Education",
          "British Columbia/Computer engineers (except software engineers and designers)/With Postsecondary Education",
          "British Columbia/Mechanical engineers/With Postsecondary Education",
          "British Columbia/Electrical and electronics engineers/With Postsecondary Education",
          "British Columbia/Mechanical engineers/With Postsecondary Education",
          "Manitoba",
          "Manitoba",
          "Manitoba",
          "Manitoba/Electrical and electronics engineers/With Postsecondary Education",
          "Manitoba/Mechanical engineers/Without Postsecondary Education",
          "Manitoba/Electrical and electronics engineers/Without Postsecondary Education",
          "Manitoba/Computer engineers (except software engineers and designers)/Without Postsecondary Education",
          "Manitoba/Computer engineers (except software engineers and designers)/With Postsecondary Education",
          "Manitoba/Mechanical engineers/With Postsecondary Education",
          "Manitoba/Electrical and electronics engineers/With Postsecondary Education",
          "Manitoba/Computer engineers (except software engineers and designers)/With Postsecondary Education",
          "Manitoba/Mechanical engineers/With Postsecondary Education",
          "Manitoba/Electrical and electronics engineers",
          "Manitoba/Computer engineers (except software engineers and designers)",
          "Manitoba/Computer engineers (except software engineers and designers)",
          "Manitoba/Electrical and electronics engineers",
          "Manitoba/Mechanical engineers",
          "Manitoba/Computer engineers (except software engineers and designers)/With Postsecondary Education",
          "Manitoba/Electrical and electronics engineers/With Postsecondary Education",
          "Manitoba/Computer engineers (except software engineers and designers)/With Postsecondary Education",
          "Manitoba/Mechanical engineers/With Postsecondary Education",
          "Manitoba/Electrical and electronics engineers/With Postsecondary Education",
          "Manitoba/Computer engineers (except software engineers and designers)/With Postsecondary Education",
          "",
          "Manitoba/Mechanical engineers",
          "New Brunswick/Electrical and electronics engineers/With Postsecondary Education",
          "New Brunswick/Mechanical engineers/With Postsecondary Education",
          "New Brunswick/Computer engineers (except software engineers and designers)/With Postsecondary Education",
          "",
          "New Brunswick/Electrical and electronics engineers/With Postsecondary Education",
          "New Brunswick",
          "New Brunswick/Mechanical engineers/With Postsecondary Education",
          "New Brunswick/Mechanical engineers",
          "New Brunswick/Computer engineers (except software engineers and designers)",
          "New Brunswick/Mechanical engineers/With Postsecondary Education",
          "New Brunswick/Computer engineers (except software engineers and designers)",
          "New Brunswick/Mechanical engineers",
          "New Brunswick/Electrical and electronics engineers",
          "New Brunswick/Mechanical engineers/Without Postsecondary Education",
          "New Brunswick/Computer engineers (except software engineers and designers)/With Postsecondary Education",
          "New Brunswick/Computer engineers (except software engineers and designers)/With Postsecondary Education",
          "New Brunswick/Computer engineers (except software engineers and designers)/Without Postsecondary Education",
          "New Brunswick",
          "New Brunswick",
          "New Brunswick/Computer engineers (except software engineers and designers)/With Postsecondary Education",
          "New Brunswick/Electrical and electronics engineers/With Postsecondary Education",
          "New Brunswick/Computer engineers (except software engineers and designers)/With Postsecondary Education",
          "New Brunswick/Electrical and electronics engineers/With Postsecondary Education",
          "Newfoundland and Labrador",
          "Newfoundland and Labrador",
          "Newfoundland and Labrador",
          "",
          "Newfoundland and Labrador/Computer engineers (except software engineers and designers)",
          "Newfoundland and Labrador/Electrical and electronics engineers",
          "Newfoundland and Labrador/Mechanical engineers",
          "Newfoundland and Labrador/Mechanical engineers/With Postsecondary Education",
          "Newfoundland and Labrador/Electrical and electronics engineers/With Postsecondary Education",
          "Newfoundland and Labrador/Computer engineers (except software engineers and designers)/With Postsecondary Education",
          "Newfoundland and Labrador/Mechanical engineers/With Postsecondary Education",
          "Newfoundland and Labrador/Mechanical engineers/With Postsecondary Education",
          "Newfoundland and Labrador/Electrical and electronics engineers/With Postsecondary Education",
          "Newfoundland and Labrador/Electrical and electronics engineers/With Postsecondary Education",
          "Newfoundland and Labrador/Computer engineers (except software engineers and designers)/With Postsecondary Education",
          "Newfoundland and Labrador/Computer engineers (except software engineers and designers)/With Postsecondary Education",
          "Northwest Territories/Electrical and electronics engineers",
          "Northwest Territories",
          "",
          "Northwest Territories/Mechanical engineers",
          "Northwest Territories/Electrical and electronics engineers/With Postsecondary Education",
          "Northwest Territories",
          "Northwest Territories/Mechanical engineers/With Postsecondary Education",
          "Nova Scotia/Electrical and electronics engineers/With Postsecondary Education",
          "Nova Scotia/Mechanical engineers/With Postsecondary Education",
          "Nova Scotia/Mechanical engineers/Without Postsecondary Education",
          "Nova Scotia/Computer engineers (except software engineers and designers)/Without Postsecondary Education",
          "Nova Scotia/Computer engineers (except software engineers and designers)/With Postsecondary Education",
          "Nova Scotia/Mechanical engineers/With Postsecondary Education",
          "Nova Scotia/Mechanical engineers/With Postsecondary Education",
          "Nova Scotia/Electrical and electronics engineers/With Postsecondary Education",
          "Nova Scotia/Computer engineers (except software engineers and designers)/With Postsecondary Education",
          "Nova Scotia/Mechanical engineers",
          "Nova Scotia",
          "Nova Scotia/Electrical and electronics engineers/With Postsecondary Education",
          "Nova Scotia/Computer engineers (except software engineers and designers)/With Postsecondary Education",
          "",
          "Nova Scotia/Electrical and electronics engineers/With Postsecondary Education",
          "Nova Scotia/Mechanical engineers/With Postsecondary Education",
          "Nova Scotia/Computer engineers (except software engineers and designers)/With Postsecondary Education",
          "Nova Scotia/Computer engineers (except software engineers and designers)/With Postsecondary Education",
          "Nova Scotia/Electrical and electronics engineers",
          "Nova Scotia/Mechanical engineers",
          "Nova Scotia/Computer engineers (except software engineers and designers)",
          "Nova Scotia/Computer engineers (except software engineers and designers)",
          "Nova Scotia",
          "Nova Scotia",
          "Nova Scotia/Electrical and electronics engineers/With Postsecondary Education",
          "Nunavut/Mechanical engineers/With Postsecondary Education",
          "Nunavut/Mechanical engineers",
          "",
          "Nunavut",
          "Ontario/Computer engineers (except software engineers and designers)/With Postsecondary Education",
          "Ontario/Mechanical engineers/With Postsecondary Education",
          "Ontario/Electrical and electronics engineers/With Postsecondary Education",
          "Ontario/Computer engineers (except software engineers and designers)/With Postsecondary Education",
          "Ontario/Mechanical engineers/With Postsecondary Education",
          "Ontario/Electrical and electronics engineers/With Postsecondary Education",
          "Ontario/Computer engineers (except software engineers and designers)",
          "Ontario/Electrical and electronics engineers",
          "Ontario/Mechanical engineers",
          "Ontario/Computer engineers (except software engineers and designers)/With Postsecondary Education",
          "Ontario/Mechanical engineers/With Postsecondary Education",
          "Ontario/Computer engineers (except software engineers and designers)/With Postsecondary Education",
          "Ontario/Mechanical engineers/With Postsecondary Education",
          "Ontario/Electrical and electronics engineers/With Postsecondary Education",
          "Ontario/Computer engineers (except software engineers and designers)/With Postsecondary Education",
          "Ontario/Mechanical engineers/With Postsecondary Education",
          "Ontario/Electrical and electronics engineers/With Postsecondary Education",
          "Ontario/Computer engineers (except software engineers and designers)/With Postsecondary Education",
          "",
          "Ontario/Computer engineers (except software engineers and designers)/With Postsecondary Education",
          "Ontario/Mechanical engineers/With Postsecondary Education",
          "Ontario/Electrical and electronics engineers/With Postsecondary Education",
          "Ontario/Computer engineers (except software engineers and designers)/With Postsecondary Education",
          "Ontario/Electrical and electronics engineers/Without Postsecondary Education",
          "Ontario/Mechanical engineers/Without Postsecondary Education",
          "Ontario/Mechanical engineers/With Postsecondary Education",
          "Ontario/Electrical and electronics engineers/With Postsecondary Education",
          "Ontario/Computer engineers (except software engineers and designers)/With Postsecondary Education",
          "Ontario/Mechanical engineers/With Postsecondary Education",
          "Ontario/Electrical and electronics engineers/With Postsecondary Education",
          "Ontario/Computer engineers (except software engineers and designers)/With Postsecondary Education",
          "Ontario/Mechanical engineers/With Postsecondary Education",
          "Ontario/Electrical and electronics engineers/With Postsecondary Education",
          "Ontario/Computer engineers (except software engineers and designers)/With Postsecondary Education",
          "Ontario/Mechanical engineers/With Postsecondary Education",
          "Ontario/Electrical and electronics engineers/With Postsecondary Education",
          "Ontario",
          "Ontario",
          "Ontario",
          "Ontario/Electrical and electronics engineers",
          "Ontario/Computer engineers (except software engineers and designers)",
          "Ontario/Mechanical engineers",
          "Ontario/Mechanical engineers/With Postsecondary Education",
          "Ontario/Computer engineers (except software engineers and designers)/Without Postsecondary Education",
          "Prince Edward Island/Electrical and electronics engineers/With Postsecondary Education",
          "Prince Edward Island",
          "",
          "Prince Edward Island/Computer engineers (except software engineers and designers)/With Postsecondary Education",
          "Prince Edward Island/Mechanical engineers/With Postsecondary Education",
          "Prince Edward Island",
          "Prince Edward Island/Computer engineers (except software engineers and designers)/With Postsecondary Education",
          "Prince Edward Island/Computer engineers (except software engineers and designers)",
          "Prince Edward Island/Mechanical engineers",
          "Prince Edward Island/Electrical and electronics engineers",
          "Prince Edward Island",
          "Quebec",
          "Quebec",
          "Quebec/Computer engineers (except software engineers and designers)/Without Postsecondary Education",
          "",
          "Quebec/Mechanical engineers/Without Postsecondary Education",
          "Quebec/Electrical and electronics engineers/Without Postsecondary Education",
          "Quebec",
          "Quebec/Mechanical engineers/With Postsecondary Education",
          "Quebec/Electrical and electronics engineers",
          "Quebec/Mechanical engineers/With Postsecondary Education",
          "Quebec/Mechanical engineers/With Postsecondary Education",
          "Quebec/Electrical and electronics engineers/With Postsecondary Education",
          "Quebec/Computer engineers (except software engineers and designers)/With Postsecondary Education",
          "Quebec/Mechanical engineers/With Postsecondary Education",
          "Quebec/Electrical and electronics engineers/With Postsecondary Education",
          "Quebec/Computer engineers (except software engineers and designers)/With Postsecondary Education",
          "Quebec/Electrical and electronics engineers/With Postsecondary Education",
          "Quebec/Computer engineers (except software engineers and designers)/With Postsecondary Education",
          "Quebec/Computer engineers (except software engineers and designers)/With Postsecondary Education",
          "Quebec/Mechanical engineers/With Postsecondary Education",
          "Quebec/Computer engineers (except software engineers and designers)/With Postsecondary Education",
          "Quebec/Mechanical engineers/With Postsecondary Education",
          "Quebec/Computer engineers (except software engineers and designers)/With Postsecondary Education",
          "Quebec/Electrical and electronics engineers/With Postsecondary Education",
          "Quebec/Electrical and electronics engineers/With Postsecondary Education",
          "Quebec/Computer engineers (except software engineers and designers)/With Postsecondary Education",
          "Quebec/Mechanical engineers/With Postsecondary Education",
          "Quebec/Electrical and electronics engineers/With Postsecondary Education",
          "Quebec/Electrical and electronics engineers/With Postsecondary Education",
          "Quebec/Electrical and electronics engineers/With Postsecondary Education",
          "Quebec/Computer engineers (except software engineers and designers)/With Postsecondary Education",
          "Quebec/Computer engineers (except software engineers and designers)/With Postsecondary Education",
          "Quebec/Electrical and electronics engineers/With Postsecondary Education",
          "Quebec/Computer engineers (except software engineers and designers)/With Postsecondary Education",
          "Quebec/Mechanical engineers/With Postsecondary Education",
          "Quebec/Electrical and electronics engineers/With Postsecondary Education",
          "Quebec/Computer engineers (except software engineers and designers)/With Postsecondary Education",
          "Quebec/Mechanical engineers/With Postsecondary Education",
          "Quebec/Mechanical engineers/With Postsecondary Education",
          "Quebec/Electrical and electronics engineers",
          "Quebec/Computer engineers (except software engineers and designers)",
          "Quebec/Mechanical engineers",
          "Quebec/Computer engineers (except software engineers and designers)",
          "Quebec/Mechanical engineers",
          "Quebec/Electrical and electronics engineers/With Postsecondary Education",
          "Quebec/Mechanical engineers/With Postsecondary Education",
          "Saskatchewan/Electrical and electronics engineers/Without Postsecondary Education",
          "Saskatchewan/Computer engineers (except software engineers and designers)/With Postsecondary Education",
          "Saskatchewan/Computer engineers (except software engineers and designers)/Without Postsecondary Education",
          "Saskatchewan/Mechanical engineers/With Postsecondary Education",
          "Saskatchewan/Electrical and electronics engineers/With Postsecondary Education",
          "Saskatchewan/Mechanical engineers/Without Postsecondary Education",
          "Saskatchewan/Mechanical engineers/With Postsecondary Education",
          "",
          "Saskatchewan/Computer engineers (except software engineers and designers)/With Postsecondary Education",
          "Saskatchewan/Electrical and electronics engineers/With Postsecondary Education",
          "Saskatchewan/Electrical and electronics engineers/With Postsecondary Education",
          "Saskatchewan/Computer engineers (except software engineers and designers)",
          "Saskatchewan/Electrical and electronics engineers/With Postsecondary Education",
          "Saskatchewan",
          "Saskatchewan",
          "Saskatchewan",
          "Saskatchewan/Electrical and electronics engineers",
          "Saskatchewan/Mechanical engineers",
          "Saskatchewan/Mechanical engineers/With Postsecondary Education",
          "Saskatchewan/Computer engineers (except software engineers and designers)",
          "Saskatchewan/Electrical and electronics engineers",
          "Saskatchewan/Mechanical engineers",
          "",
          "Yukon",
          "Yukon",
          "Yukon/Electrical and electronics engineers/With Postsecondary Education",
          "Yukon/Mechanical engineers/With Postsecondary Education",
          "Yukon/Mechanical engineers",
          "Yukon/Electrical and electronics engineers"
         ],
         "type": "treemap",
         "values": {
          "bdata": "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",
          "dtype": "f8"
         }
        }
       ],
       "layout": {
        "legend": {
         "tracegroupgap": 0
        },
        "margin": {
         "t": 60
        },
        "template": {
         "data": {
          "bar": [
           {
            "error_x": {
             "color": "#2a3f5f"
            },
            "error_y": {
             "color": "#2a3f5f"
            },
            "marker": {
             "line": {
              "color": "#E5ECF6",
              "width": 0.5
             },
             "pattern": {
              "fillmode": "overlay",
              "size": 10,
              "solidity": 0.2
             }
            },
            "type": "bar"
           }
          ],
          "barpolar": [
           {
            "marker": {
             "line": {
              "color": "#E5ECF6",
              "width": 0.5
             },
             "pattern": {
              "fillmode": "overlay",
              "size": 10,
              "solidity": 0.2
             }
            },
            "type": "barpolar"
           }
          ],
          "carpet": [
           {
            "aaxis": {
             "endlinecolor": "#2a3f5f",
             "gridcolor": "white",
             "linecolor": "white",
             "minorgridcolor": "white",
             "startlinecolor": "#2a3f5f"
            },
            "baxis": {
             "endlinecolor": "#2a3f5f",
             "gridcolor": "white",
             "linecolor": "white",
             "minorgridcolor": "white",
             "startlinecolor": "#2a3f5f"
            },
            "type": "carpet"
           }
          ],
          "choropleth": [
           {
            "colorbar": {
             "outlinewidth": 0,
             "ticks": ""
            },
            "type": "choropleth"
           }
          ],
          "contour": [
           {
            "colorbar": {
             "outlinewidth": 0,
             "ticks": ""
            },
            "colorscale": [
             [
              0,
              "#0d0887"
             ],
             [
              0.1111111111111111,
              "#46039f"
             ],
             [
              0.2222222222222222,
              "#7201a8"
             ],
             [
              0.3333333333333333,
              "#9c179e"
             ],
             [
              0.4444444444444444,
              "#bd3786"
             ],
             [
              0.5555555555555556,
              "#d8576b"
             ],
             [
              0.6666666666666666,
              "#ed7953"
             ],
             [
              0.7777777777777778,
              "#fb9f3a"
             ],
             [
              0.8888888888888888,
              "#fdca26"
             ],
             [
              1,
              "#f0f921"
             ]
            ],
            "type": "contour"
           }
          ],
          "contourcarpet": [
           {
            "colorbar": {
             "outlinewidth": 0,
             "ticks": ""
            },
            "type": "contourcarpet"
           }
          ],
          "heatmap": [
           {
            "colorbar": {
             "outlinewidth": 0,
             "ticks": ""
            },
            "colorscale": [
             [
              0,
              "#0d0887"
             ],
             [
              0.1111111111111111,
              "#46039f"
             ],
             [
              0.2222222222222222,
              "#7201a8"
             ],
             [
              0.3333333333333333,
              "#9c179e"
             ],
             [
              0.4444444444444444,
              "#bd3786"
             ],
             [
              0.5555555555555556,
              "#d8576b"
             ],
             [
              0.6666666666666666,
              "#ed7953"
             ],
             [
              0.7777777777777778,
              "#fb9f3a"
             ],
             [
              0.8888888888888888,
              "#fdca26"
             ],
             [
              1,
              "#f0f921"
             ]
            ],
            "type": "heatmap"
           }
          ],
          "histogram": [
           {
            "marker": {
             "pattern": {
              "fillmode": "overlay",
              "size": 10,
              "solidity": 0.2
             }
            },
            "type": "histogram"
           }
          ],
          "histogram2d": [
           {
            "colorbar": {
             "outlinewidth": 0,
             "ticks": ""
            },
            "colorscale": [
             [
              0,
              "#0d0887"
             ],
             [
              0.1111111111111111,
              "#46039f"
             ],
             [
              0.2222222222222222,
              "#7201a8"
             ],
             [
              0.3333333333333333,
              "#9c179e"
             ],
             [
              0.4444444444444444,
              "#bd3786"
             ],
             [
              0.5555555555555556,
              "#d8576b"
             ],
             [
              0.6666666666666666,
              "#ed7953"
             ],
             [
              0.7777777777777778,
              "#fb9f3a"
             ],
             [
              0.8888888888888888,
              "#fdca26"
             ],
             [
              1,
              "#f0f921"
             ]
            ],
            "type": "histogram2d"
           }
          ],
          "histogram2dcontour": [
           {
            "colorbar": {
             "outlinewidth": 0,
             "ticks": ""
            },
            "colorscale": [
             [
              0,
              "#0d0887"
             ],
             [
              0.1111111111111111,
              "#46039f"
             ],
             [
              0.2222222222222222,
              "#7201a8"
             ],
             [
              0.3333333333333333,
              "#9c179e"
             ],
             [
              0.4444444444444444,
              "#bd3786"
             ],
             [
              0.5555555555555556,
              "#d8576b"
             ],
             [
              0.6666666666666666,
              "#ed7953"
             ],
             [
              0.7777777777777778,
              "#fb9f3a"
             ],
             [
              0.8888888888888888,
              "#fdca26"
             ],
             [
              1,
              "#f0f921"
             ]
            ],
            "type": "histogram2dcontour"
           }
          ],
          "mesh3d": [
           {
            "colorbar": {
             "outlinewidth": 0,
             "ticks": ""
            },
            "type": "mesh3d"
           }
          ],
          "parcoords": [
           {
            "line": {
             "colorbar": {
              "outlinewidth": 0,
              "ticks": ""
             }
            },
            "type": "parcoords"
           }
          ],
          "pie": [
           {
            "automargin": true,
            "type": "pie"
           }
          ],
          "scatter": [
           {
            "fillpattern": {
             "fillmode": "overlay",
             "size": 10,
             "solidity": 0.2
            },
            "type": "scatter"
           }
          ],
          "scatter3d": [
           {
            "line": {
             "colorbar": {
              "outlinewidth": 0,
              "ticks": ""
             }
            },
            "marker": {
             "colorbar": {
              "outlinewidth": 0,
              "ticks": ""
             }
            },
            "type": "scatter3d"
           }
          ],
          "scattercarpet": [
           {
            "marker": {
             "colorbar": {
              "outlinewidth": 0,
              "ticks": ""
             }
            },
            "type": "scattercarpet"
           }
          ],
          "scattergeo": [
           {
            "marker": {
             "colorbar": {
              "outlinewidth": 0,
              "ticks": ""
             }
            },
            "type": "scattergeo"
           }
          ],
          "scattergl": [
           {
            "marker": {
             "colorbar": {
              "outlinewidth": 0,
              "ticks": ""
             }
            },
            "type": "scattergl"
           }
          ],
          "scattermap": [
           {
            "marker": {
             "colorbar": {
              "outlinewidth": 0,
              "ticks": ""
             }
            },
            "type": "scattermap"
           }
          ],
          "scattermapbox": [
           {
            "marker": {
             "colorbar": {
              "outlinewidth": 0,
              "ticks": ""
             }
            },
            "type": "scattermapbox"
           }
          ],
          "scatterpolar": [
           {
            "marker": {
             "colorbar": {
              "outlinewidth": 0,
              "ticks": ""
             }
            },
            "type": "scatterpolar"
           }
          ],
          "scatterpolargl": [
           {
            "marker": {
             "colorbar": {
              "outlinewidth": 0,
              "ticks": ""
             }
            },
            "type": "scatterpolargl"
           }
          ],
          "scatterternary": [
           {
            "marker": {
             "colorbar": {
              "outlinewidth": 0,
              "ticks": ""
             }
            },
            "type": "scatterternary"
           }
          ],
          "surface": [
           {
            "colorbar": {
             "outlinewidth": 0,
             "ticks": ""
            },
            "colorscale": [
             [
              0,
              "#0d0887"
             ],
             [
              0.1111111111111111,
              "#46039f"
             ],
             [
              0.2222222222222222,
              "#7201a8"
             ],
             [
              0.3333333333333333,
              "#9c179e"
             ],
             [
              0.4444444444444444,
              "#bd3786"
             ],
             [
              0.5555555555555556,
              "#d8576b"
             ],
             [
              0.6666666666666666,
              "#ed7953"
             ],
             [
              0.7777777777777778,
              "#fb9f3a"
             ],
             [
              0.8888888888888888,
              "#fdca26"
             ],
             [
              1,
              "#f0f921"
             ]
            ],
            "type": "surface"
           }
          ],
          "table": [
           {
            "cells": {
             "fill": {
              "color": "#EBF0F8"
             },
             "line": {
              "color": "white"
             }
            },
            "header": {
             "fill": {
              "color": "#C8D4E3"
             },
             "line": {
              "color": "white"
             }
            },
            "type": "table"
           }
          ]
         },
         "layout": {
          "annotationdefaults": {
           "arrowcolor": "#2a3f5f",
           "arrowhead": 0,
           "arrowwidth": 1
          },
          "autotypenumbers": "strict",
          "coloraxis": {
           "colorbar": {
            "outlinewidth": 0,
            "ticks": ""
           }
          },
          "colorscale": {
           "diverging": [
            [
             0,
             "#8e0152"
            ],
            [
             0.1,
             "#c51b7d"
            ],
            [
             0.2,
             "#de77ae"
            ],
            [
             0.3,
             "#f1b6da"
            ],
            [
             0.4,
             "#fde0ef"
            ],
            [
             0.5,
             "#f7f7f7"
            ],
            [
             0.6,
             "#e6f5d0"
            ],
            [
             0.7,
             "#b8e186"
            ],
            [
             0.8,
             "#7fbc41"
            ],
            [
             0.9,
             "#4d9221"
            ],
            [
             1,
             "#276419"
            ]
           ],
           "sequential": [
            [
             0,
             "#0d0887"
            ],
            [
             0.1111111111111111,
             "#46039f"
            ],
            [
             0.2222222222222222,
             "#7201a8"
            ],
            [
             0.3333333333333333,
             "#9c179e"
            ],
            [
             0.4444444444444444,
             "#bd3786"
            ],
            [
             0.5555555555555556,
             "#d8576b"
            ],
            [
             0.6666666666666666,
             "#ed7953"
            ],
            [
             0.7777777777777778,
             "#fb9f3a"
            ],
            [
             0.8888888888888888,
             "#fdca26"
            ],
            [
             1,
             "#f0f921"
            ]
           ],
           "sequentialminus": [
            [
             0,
             "#0d0887"
            ],
            [
             0.1111111111111111,
             "#46039f"
            ],
            [
             0.2222222222222222,
             "#7201a8"
            ],
            [
             0.3333333333333333,
             "#9c179e"
            ],
            [
             0.4444444444444444,
             "#bd3786"
            ],
            [
             0.5555555555555556,
             "#d8576b"
            ],
            [
             0.6666666666666666,
             "#ed7953"
            ],
            [
             0.7777777777777778,
             "#fb9f3a"
            ],
            [
             0.8888888888888888,
             "#fdca26"
            ],
            [
             1,
             "#f0f921"
            ]
           ]
          },
          "colorway": [
           "#636efa",
           "#EF553B",
           "#00cc96",
           "#ab63fa",
           "#FFA15A",
           "#19d3f3",
           "#FF6692",
           "#B6E880",
           "#FF97FF",
           "#FECB52"
          ],
          "font": {
           "color": "#2a3f5f"
          },
          "geo": {
           "bgcolor": "white",
           "lakecolor": "white",
           "landcolor": "#E5ECF6",
           "showlakes": true,
           "showland": true,
           "subunitcolor": "white"
          },
          "hoverlabel": {
           "align": "left"
          },
          "hovermode": "closest",
          "mapbox": {
           "style": "light"
          },
          "paper_bgcolor": "white",
          "plot_bgcolor": "#E5ECF6",
          "polar": {
           "angularaxis": {
            "gridcolor": "white",
            "linecolor": "white",
            "ticks": ""
           },
           "bgcolor": "#E5ECF6",
           "radialaxis": {
            "gridcolor": "white",
            "linecolor": "white",
            "ticks": ""
           }
          },
          "scene": {
           "xaxis": {
            "backgroundcolor": "#E5ECF6",
            "gridcolor": "white",
            "gridwidth": 2,
            "linecolor": "white",
            "showbackground": true,
            "ticks": "",
            "zerolinecolor": "white"
           },
           "yaxis": {
            "backgroundcolor": "#E5ECF6",
            "gridcolor": "white",
            "gridwidth": 2,
            "linecolor": "white",
            "showbackground": true,
            "ticks": "",
            "zerolinecolor": "white"
           },
           "zaxis": {
            "backgroundcolor": "#E5ECF6",
            "gridcolor": "white",
            "gridwidth": 2,
            "linecolor": "white",
            "showbackground": true,
            "ticks": "",
            "zerolinecolor": "white"
           }
          },
          "shapedefaults": {
           "line": {
            "color": "#2a3f5f"
           }
          },
          "ternary": {
           "aaxis": {
            "gridcolor": "white",
            "linecolor": "white",
            "ticks": ""
           },
           "baxis": {
            "gridcolor": "white",
            "linecolor": "white",
            "ticks": ""
           },
           "bgcolor": "#E5ECF6",
           "caxis": {
            "gridcolor": "white",
            "linecolor": "white",
            "ticks": ""
           }
          },
          "title": {
           "x": 0.05
          },
          "xaxis": {
           "automargin": true,
           "gridcolor": "white",
           "linecolor": "white",
           "ticks": "",
           "title": {
            "standoff": 15
           },
           "zerolinecolor": "white",
           "zerolinewidth": 2
          },
          "yaxis": {
           "automargin": true,
           "gridcolor": "white",
           "linecolor": "white",
           "ticks": "",
           "title": {
            "standoff": 15
           },
           "zerolinecolor": "white",
           "zerolinewidth": 2
          }
         }
        },
        "treemapcolorway": [
         "rgb(204,204,204)",
         "rgb(241,226,204)",
         "rgb(255,242,174)",
         "rgb(230,245,201)",
         "rgb(244,202,228)",
         "rgb(203,213,232)",
         "rgb(253,205,172)",
         "rgb(179,226,205)"
        ]
       }
      }
     },
     "metadata": {},
     "output_type": "display_data"
    }
   ],
   "source": [
    "px.treemap(\n",
    "    eng_df,\n",
    "    values=\"COUNT\",\n",
    "    color=\"GEO\",\n",
    "    path=[\"GEO\", \"OCCUPATION_C\", \"EDUCATION\", \"MAJOR\"],\n",
    "    color_discrete_sequence=px.colors.qualitative.Pastel2_r,\n",
    ")"
   ]
  },
  {
   "cell_type": "code",
   "execution_count": null,
   "metadata": {},
   "outputs": [
    {
     "data": {
      "application/vnd.plotly.v1+json": {
       "config": {
        "plotlyServerURL": "https://plot.ly"
       },
       "data": [
        {
         "branchvalues": "total",
         "customdata": [
          [
           "(?)"
          ],
          [
           "(?)"
          ],
          [
           "(?)"
          ],
          [
           "(?)"
          ],
          [
           "(?)"
          ],
          [
           "(?)"
          ],
          [
           "(?)"
          ],
          [
           "(?)"
          ],
          [
           "(?)"
          ],
          [
           "(?)"
          ],
          [
           "(?)"
          ],
          [
           "(?)"
          ],
          [
           "(?)"
          ],
          [
           "Computer engineers (except software engineers and designers)"
          ],
          [
           "Computer engineers (except software engineers and designers)"
          ],
          [
           "Computer engineers (except software engineers and designers)"
          ],
          [
           "Computer engineers (except software engineers and designers)"
          ],
          [
           "Computer engineers (except software engineers and designers)"
          ],
          [
           "Computer engineers (except software engineers and designers)"
          ],
          [
           "Computer engineers (except software engineers and designers)"
          ],
          [
           "Computer engineers (except software engineers and designers)"
          ],
          [
           "Computer engineers (except software engineers and designers)"
          ],
          [
           "Computer engineers (except software engineers and designers)"
          ],
          [
           "Computer engineers (except software engineers and designers)"
          ],
          [
           "Computer engineers (except software engineers and designers)"
          ],
          [
           "Computer engineers (except software engineers and designers)"
          ],
          [
           "Computer engineers (except software engineers and designers)"
          ],
          [
           "Computer engineers (except software engineers and designers)"
          ],
          [
           "Computer engineers (except software engineers and designers)"
          ],
          [
           "Computer engineers (except software engineers and designers)"
          ],
          [
           "Computer engineers (except software engineers and designers)"
          ],
          [
           "Computer engineers (except software engineers and designers)"
          ],
          [
           "Computer engineers (except software engineers and designers)"
          ],
          [
           "Computer engineers (except software engineers and designers)"
          ],
          [
           "Computer engineers (except software engineers and designers)"
          ],
          [
           "Computer engineers (except software engineers and designers)"
          ],
          [
           "Computer engineers (except software engineers and designers)"
          ],
          [
           "Computer engineers (except software engineers and designers)"
          ],
          [
           "Computer engineers (except software engineers and designers)"
          ],
          [
           "Computer engineers (except software engineers and designers)"
          ],
          [
           "Computer engineers (except software engineers and designers)"
          ],
          [
           "Electrical and electronics engineers"
          ],
          [
           "Electrical and electronics engineers"
          ],
          [
           "Electrical and electronics engineers"
          ],
          [
           "Electrical and electronics engineers"
          ],
          [
           "Electrical and electronics engineers"
          ],
          [
           "Electrical and electronics engineers"
          ],
          [
           "Electrical and electronics engineers"
          ],
          [
           "Electrical and electronics engineers"
          ],
          [
           "Electrical and electronics engineers"
          ],
          [
           "Electrical and electronics engineers"
          ],
          [
           "Electrical and electronics engineers"
          ],
          [
           "Electrical and electronics engineers"
          ],
          [
           "Electrical and electronics engineers"
          ],
          [
           "Electrical and electronics engineers"
          ],
          [
           "Electrical and electronics engineers"
          ],
          [
           "Electrical and electronics engineers"
          ],
          [
           "Electrical and electronics engineers"
          ],
          [
           "Electrical and electronics engineers"
          ],
          [
           "Electrical and electronics engineers"
          ],
          [
           "Electrical and electronics engineers"
          ],
          [
           "Electrical and electronics engineers"
          ],
          [
           "Electrical and electronics engineers"
          ],
          [
           "Electrical and electronics engineers"
          ],
          [
           "Electrical and electronics engineers"
          ],
          [
           "Electrical and electronics engineers"
          ],
          [
           "Electrical and electronics engineers"
          ],
          [
           "Electrical and electronics engineers"
          ],
          [
           "Electrical and electronics engineers"
          ],
          [
           "Electrical and electronics engineers"
          ],
          [
           "Electrical and electronics engineers"
          ],
          [
           "Mechanical engineers"
          ],
          [
           "Mechanical engineers"
          ],
          [
           "Mechanical engineers"
          ],
          [
           "Mechanical engineers"
          ],
          [
           "Mechanical engineers"
          ],
          [
           "Mechanical engineers"
          ],
          [
           "Mechanical engineers"
          ],
          [
           "Mechanical engineers"
          ],
          [
           "Mechanical engineers"
          ],
          [
           "Mechanical engineers"
          ],
          [
           "Mechanical engineers"
          ],
          [
           "Mechanical engineers"
          ],
          [
           "Mechanical engineers"
          ],
          [
           "Mechanical engineers"
          ],
          [
           "Mechanical engineers"
          ],
          [
           "Mechanical engineers"
          ],
          [
           "Mechanical engineers"
          ],
          [
           "Mechanical engineers"
          ],
          [
           "Mechanical engineers"
          ],
          [
           "Mechanical engineers"
          ],
          [
           "Mechanical engineers"
          ],
          [
           "Mechanical engineers"
          ],
          [
           "Mechanical engineers"
          ],
          [
           "Mechanical engineers"
          ],
          [
           "Mechanical engineers"
          ],
          [
           "Mechanical engineers"
          ],
          [
           "Mechanical engineers"
          ],
          [
           "Mechanical engineers"
          ],
          [
           "Mechanical engineers"
          ],
          [
           "Mechanical engineers"
          ],
          [
           "Mechanical engineers"
          ],
          [
           "Mechanical engineers"
          ],
          [
           "Mechanical engineers"
          ],
          [
           "Mechanical engineers"
          ],
          [
           "Mechanical engineers"
          ]
         ],
         "domain": {
          "x": [
           0,
           1
          ],
          "y": [
           0,
           1
          ]
         },
         "hovertemplate": "<b>%{label}</b><br>Count: %{value:,}<br>%{percentParent:.1%} of parent<extra></extra>",
         "ids": [
          "Canada",
          "Canada/Newfoundland and Labrador",
          "Canada/Prince Edward Island",
          "Canada/Nova Scotia",
          "Canada/Quebec",
          "Canada/Ontario",
          "Canada/Manitoba",
          "Canada/Saskatchewan",
          "Canada/Alberta",
          "Canada/New Brunswick",
          "Canada/Northwest Territories",
          "Canada/Yukon",
          "Canada/British Columbia",
          "Canada/Quebec/Computer engineers (except software engineers and designers)",
          "Canada/Manitoba/Computer engineers (except software engineers and designers)/With Postsecondary Education",
          "Canada/Newfoundland and Labrador/Computer engineers (except software engineers and designers)/With Postsecondary Education",
          "Canada/Nova Scotia/Computer engineers (except software engineers and designers)",
          "Canada/Ontario/Computer engineers (except software engineers and designers)",
          "Canada/Saskatchewan/Computer engineers (except software engineers and designers)/Without Postsecondary Education",
          "Canada/Saskatchewan/Computer engineers (except software engineers and designers)/With Postsecondary Education",
          "Canada/Prince Edward Island/Computer engineers (except software engineers and designers)",
          "Canada/Newfoundland and Labrador/Computer engineers (except software engineers and designers)",
          "Canada/Alberta/Computer engineers (except software engineers and designers)/Without Postsecondary Education",
          "Canada/Alberta/Computer engineers (except software engineers and designers)",
          "Canada/Alberta/Computer engineers (except software engineers and designers)/With Postsecondary Education",
          "Canada/British Columbia/Computer engineers (except software engineers and designers)/Without Postsecondary Education",
          "Canada/Manitoba/Computer engineers (except software engineers and designers)",
          "Canada/Prince Edward Island/Computer engineers (except software engineers and designers)/With Postsecondary Education",
          "Canada/Manitoba/Computer engineers (except software engineers and designers)/Without Postsecondary Education",
          "Canada/British Columbia/Computer engineers (except software engineers and designers)/With Postsecondary Education",
          "Canada/Ontario/Computer engineers (except software engineers and designers)/With Postsecondary Education",
          "Canada/British Columbia/Computer engineers (except software engineers and designers)",
          "Canada/Ontario/Computer engineers (except software engineers and designers)/Without Postsecondary Education",
          "Canada/New Brunswick/Computer engineers (except software engineers and designers)",
          "Canada/Quebec/Computer engineers (except software engineers and designers)/With Postsecondary Education",
          "Canada/Nova Scotia/Computer engineers (except software engineers and designers)/With Postsecondary Education",
          "Canada/Quebec/Computer engineers (except software engineers and designers)/Without Postsecondary Education",
          "Canada/Saskatchewan/Computer engineers (except software engineers and designers)",
          "Canada/New Brunswick/Computer engineers (except software engineers and designers)/Without Postsecondary Education",
          "Canada/Nova Scotia/Computer engineers (except software engineers and designers)/Without Postsecondary Education",
          "Canada/New Brunswick/Computer engineers (except software engineers and designers)/With Postsecondary Education",
          "Canada/Yukon/Electrical and electronics engineers/With Postsecondary Education",
          "Canada/British Columbia/Electrical and electronics engineers",
          "Canada/Northwest Territories/Electrical and electronics engineers/With Postsecondary Education",
          "Canada/Nova Scotia/Electrical and electronics engineers",
          "Canada/Quebec/Electrical and electronics engineers",
          "Canada/Ontario/Electrical and electronics engineers",
          "Canada/Alberta/Electrical and electronics engineers",
          "Canada/New Brunswick/Electrical and electronics engineers",
          "Canada/Prince Edward Island/Electrical and electronics engineers",
          "Canada/Newfoundland and Labrador/Electrical and electronics engineers",
          "Canada/Saskatchewan/Electrical and electronics engineers",
          "Canada/Saskatchewan/Electrical and electronics engineers/With Postsecondary Education",
          "Canada/Manitoba/Electrical and electronics engineers/With Postsecondary Education",
          "Canada/Newfoundland and Labrador/Electrical and electronics engineers/With Postsecondary Education",
          "Canada/Prince Edward Island/Electrical and electronics engineers/With Postsecondary Education",
          "Canada/Nova Scotia/Electrical and electronics engineers/With Postsecondary Education",
          "Canada/New Brunswick/Electrical and electronics engineers/With Postsecondary Education",
          "Canada/Quebec/Electrical and electronics engineers/Without Postsecondary Education",
          "Canada/Quebec/Electrical and electronics engineers/With Postsecondary Education",
          "Canada/Ontario/Electrical and electronics engineers/Without Postsecondary Education",
          "Canada/Ontario/Electrical and electronics engineers/With Postsecondary Education",
          "Canada/Manitoba/Electrical and electronics engineers/Without Postsecondary Education",
          "Canada/British Columbia/Electrical and electronics engineers/With Postsecondary Education",
          "Canada/Manitoba/Electrical and electronics engineers",
          "Canada/Saskatchewan/Electrical and electronics engineers/Without Postsecondary Education",
          "Canada/Northwest Territories/Electrical and electronics engineers",
          "Canada/Alberta/Electrical and electronics engineers/Without Postsecondary Education",
          "Canada/Alberta/Electrical and electronics engineers/With Postsecondary Education",
          "Canada/Yukon/Electrical and electronics engineers",
          "Canada/British Columbia/Electrical and electronics engineers/Without Postsecondary Education",
          "Canada/Nunavut/Mechanical engineers",
          "Canada/Northwest Territories/Mechanical engineers",
          "Canada/British Columbia/Mechanical engineers",
          "Canada/Saskatchewan/Mechanical engineers",
          "Canada/Alberta/Mechanical engineers",
          "Canada/Yukon/Mechanical engineers",
          "Canada/Newfoundland and Labrador/Mechanical engineers/With Postsecondary Education",
          "Canada/Ontario/Mechanical engineers",
          "Canada/Prince Edward Island/Mechanical engineers/With Postsecondary Education",
          "Canada/Nova Scotia/Mechanical engineers/Without Postsecondary Education",
          "Canada/Nova Scotia/Mechanical engineers/With Postsecondary Education",
          "Canada/New Brunswick/Mechanical engineers/Without Postsecondary Education",
          "Canada/New Brunswick/Mechanical engineers/With Postsecondary Education",
          "Canada/Quebec/Mechanical engineers/Without Postsecondary Education",
          "Canada/Quebec/Mechanical engineers/With Postsecondary Education",
          "Canada/Ontario/Mechanical engineers/Without Postsecondary Education",
          "Canada/Ontario/Mechanical engineers/With Postsecondary Education",
          "Canada/Manitoba/Mechanical engineers/Without Postsecondary Education",
          "Canada/Manitoba/Mechanical engineers/With Postsecondary Education",
          "Canada/Saskatchewan/Mechanical engineers/Without Postsecondary Education",
          "Canada/Saskatchewan/Mechanical engineers/With Postsecondary Education",
          "Canada/Alberta/Mechanical engineers/Without Postsecondary Education",
          "Canada/Alberta/Mechanical engineers/With Postsecondary Education",
          "Canada/British Columbia/Mechanical engineers/Without Postsecondary Education",
          "Canada/British Columbia/Mechanical engineers/With Postsecondary Education",
          "Canada/Nunavut",
          "Canada/Northwest Territories/Mechanical engineers/With Postsecondary Education",
          "Canada/Nunavut/Mechanical engineers/With Postsecondary Education",
          "Canada/Newfoundland and Labrador/Mechanical engineers",
          "Canada/Prince Edward Island/Mechanical engineers",
          "Canada/Nova Scotia/Mechanical engineers",
          "Canada/New Brunswick/Mechanical engineers",
          "Canada/Quebec/Mechanical engineers",
          "Canada/Manitoba/Mechanical engineers",
          "Canada/Yukon/Mechanical engineers/With Postsecondary Education"
         ],
         "labels": [
          "Canada",
          "Newfoundland and Labrador",
          "Prince Edward Island",
          "Nova Scotia",
          "Quebec",
          "Ontario",
          "Manitoba",
          "Saskatchewan",
          "Alberta",
          "New Brunswick",
          "Northwest Territories",
          "Yukon",
          "British Columbia",
          "Computer engineers (except software engineers and designers)",
          "With Postsecondary Education",
          "With Postsecondary Education",
          "Computer engineers (except software engineers and designers)",
          "Computer engineers (except software engineers and designers)",
          "Without Postsecondary Education",
          "With Postsecondary Education",
          "Computer engineers (except software engineers and designers)",
          "Computer engineers (except software engineers and designers)",
          "Without Postsecondary Education",
          "Computer engineers (except software engineers and designers)",
          "With Postsecondary Education",
          "Without Postsecondary Education",
          "Computer engineers (except software engineers and designers)",
          "With Postsecondary Education",
          "Without Postsecondary Education",
          "With Postsecondary Education",
          "With Postsecondary Education",
          "Computer engineers (except software engineers and designers)",
          "Without Postsecondary Education",
          "Computer engineers (except software engineers and designers)",
          "With Postsecondary Education",
          "With Postsecondary Education",
          "Without Postsecondary Education",
          "Computer engineers (except software engineers and designers)",
          "Without Postsecondary Education",
          "Without Postsecondary Education",
          "With Postsecondary Education",
          "With Postsecondary Education",
          "Electrical and electronics engineers",
          "With Postsecondary Education",
          "Electrical and electronics engineers",
          "Electrical and electronics engineers",
          "Electrical and electronics engineers",
          "Electrical and electronics engineers",
          "Electrical and electronics engineers",
          "Electrical and electronics engineers",
          "Electrical and electronics engineers",
          "Electrical and electronics engineers",
          "With Postsecondary Education",
          "With Postsecondary Education",
          "With Postsecondary Education",
          "With Postsecondary Education",
          "With Postsecondary Education",
          "With Postsecondary Education",
          "Without Postsecondary Education",
          "With Postsecondary Education",
          "Without Postsecondary Education",
          "With Postsecondary Education",
          "Without Postsecondary Education",
          "With Postsecondary Education",
          "Electrical and electronics engineers",
          "Without Postsecondary Education",
          "Electrical and electronics engineers",
          "Without Postsecondary Education",
          "With Postsecondary Education",
          "Electrical and electronics engineers",
          "Without Postsecondary Education",
          "Mechanical engineers",
          "Mechanical engineers",
          "Mechanical engineers",
          "Mechanical engineers",
          "Mechanical engineers",
          "Mechanical engineers",
          "With Postsecondary Education",
          "Mechanical engineers",
          "With Postsecondary Education",
          "Without Postsecondary Education",
          "With Postsecondary Education",
          "Without Postsecondary Education",
          "With Postsecondary Education",
          "Without Postsecondary Education",
          "With Postsecondary Education",
          "Without Postsecondary Education",
          "With Postsecondary Education",
          "Without Postsecondary Education",
          "With Postsecondary Education",
          "Without Postsecondary Education",
          "With Postsecondary Education",
          "Without Postsecondary Education",
          "With Postsecondary Education",
          "Without Postsecondary Education",
          "With Postsecondary Education",
          "Nunavut",
          "With Postsecondary Education",
          "With Postsecondary Education",
          "Mechanical engineers",
          "Mechanical engineers",
          "Mechanical engineers",
          "Mechanical engineers",
          "Mechanical engineers",
          "Mechanical engineers",
          "With Postsecondary Education"
         ],
         "marker": {
          "colors": [
           "rgb(204,204,204)",
           "rgb(204,204,204)",
           "rgb(204,204,204)",
           "rgb(204,204,204)",
           "rgb(204,204,204)",
           "rgb(204,204,204)",
           "rgb(204,204,204)",
           "rgb(204,204,204)",
           "rgb(204,204,204)",
           "rgb(204,204,204)",
           "rgb(204,204,204)",
           "rgb(204,204,204)",
           "rgb(204,204,204)",
           "rgb(241,226,204)",
           "rgb(241,226,204)",
           "rgb(241,226,204)",
           "rgb(241,226,204)",
           "rgb(241,226,204)",
           "rgb(241,226,204)",
           "rgb(241,226,204)",
           "rgb(241,226,204)",
           "rgb(241,226,204)",
           "rgb(241,226,204)",
           "rgb(241,226,204)",
           "rgb(241,226,204)",
           "rgb(241,226,204)",
           "rgb(241,226,204)",
           "rgb(241,226,204)",
           "rgb(241,226,204)",
           "rgb(241,226,204)",
           "rgb(241,226,204)",
           "rgb(241,226,204)",
           "rgb(241,226,204)",
           "rgb(241,226,204)",
           "rgb(241,226,204)",
           "rgb(241,226,204)",
           "rgb(241,226,204)",
           "rgb(241,226,204)",
           "rgb(241,226,204)",
           "rgb(241,226,204)",
           "rgb(241,226,204)",
           "rgb(255,242,174)",
           "rgb(255,242,174)",
           "rgb(255,242,174)",
           "rgb(255,242,174)",
           "rgb(255,242,174)",
           "rgb(255,242,174)",
           "rgb(255,242,174)",
           "rgb(255,242,174)",
           "rgb(255,242,174)",
           "rgb(255,242,174)",
           "rgb(255,242,174)",
           "rgb(255,242,174)",
           "rgb(255,242,174)",
           "rgb(255,242,174)",
           "rgb(255,242,174)",
           "rgb(255,242,174)",
           "rgb(255,242,174)",
           "rgb(255,242,174)",
           "rgb(255,242,174)",
           "rgb(255,242,174)",
           "rgb(255,242,174)",
           "rgb(255,242,174)",
           "rgb(255,242,174)",
           "rgb(255,242,174)",
           "rgb(255,242,174)",
           "rgb(255,242,174)",
           "rgb(255,242,174)",
           "rgb(255,242,174)",
           "rgb(255,242,174)",
           "rgb(255,242,174)",
           "rgb(230,245,201)",
           "rgb(230,245,201)",
           "rgb(230,245,201)",
           "rgb(230,245,201)",
           "rgb(230,245,201)",
           "rgb(230,245,201)",
           "rgb(230,245,201)",
           "rgb(230,245,201)",
           "rgb(230,245,201)",
           "rgb(230,245,201)",
           "rgb(230,245,201)",
           "rgb(230,245,201)",
           "rgb(230,245,201)",
           "rgb(230,245,201)",
           "rgb(230,245,201)",
           "rgb(230,245,201)",
           "rgb(230,245,201)",
           "rgb(230,245,201)",
           "rgb(230,245,201)",
           "rgb(230,245,201)",
           "rgb(230,245,201)",
           "rgb(230,245,201)",
           "rgb(230,245,201)",
           "rgb(230,245,201)",
           "rgb(230,245,201)",
           "rgb(230,245,201)",
           "rgb(230,245,201)",
           "rgb(230,245,201)",
           "rgb(230,245,201)",
           "rgb(230,245,201)",
           "rgb(230,245,201)",
           "rgb(230,245,201)",
           "rgb(230,245,201)",
           "rgb(230,245,201)",
           "rgb(230,245,201)"
          ],
          "line": {
           "color": "black",
           "width": 0.5
          }
         },
         "name": "",
         "parents": [
          "",
          "Canada",
          "Canada",
          "Canada",
          "Canada",
          "Canada",
          "Canada",
          "Canada",
          "Canada",
          "Canada",
          "Canada",
          "Canada",
          "Canada",
          "Canada/Quebec",
          "Canada/Manitoba/Computer engineers (except software engineers and designers)",
          "Canada/Newfoundland and Labrador/Computer engineers (except software engineers and designers)",
          "Canada/Nova Scotia",
          "Canada/Ontario",
          "Canada/Saskatchewan/Computer engineers (except software engineers and designers)",
          "Canada/Saskatchewan/Computer engineers (except software engineers and designers)",
          "Canada/Prince Edward Island",
          "Canada/Newfoundland and Labrador",
          "Canada/Alberta/Computer engineers (except software engineers and designers)",
          "Canada/Alberta",
          "Canada/Alberta/Computer engineers (except software engineers and designers)",
          "Canada/British Columbia/Computer engineers (except software engineers and designers)",
          "Canada/Manitoba",
          "Canada/Prince Edward Island/Computer engineers (except software engineers and designers)",
          "Canada/Manitoba/Computer engineers (except software engineers and designers)",
          "Canada/British Columbia/Computer engineers (except software engineers and designers)",
          "Canada/Ontario/Computer engineers (except software engineers and designers)",
          "Canada/British Columbia",
          "Canada/Ontario/Computer engineers (except software engineers and designers)",
          "Canada/New Brunswick",
          "Canada/Quebec/Computer engineers (except software engineers and designers)",
          "Canada/Nova Scotia/Computer engineers (except software engineers and designers)",
          "Canada/Quebec/Computer engineers (except software engineers and designers)",
          "Canada/Saskatchewan",
          "Canada/New Brunswick/Computer engineers (except software engineers and designers)",
          "Canada/Nova Scotia/Computer engineers (except software engineers and designers)",
          "Canada/New Brunswick/Computer engineers (except software engineers and designers)",
          "Canada/Yukon/Electrical and electronics engineers",
          "Canada/British Columbia",
          "Canada/Northwest Territories/Electrical and electronics engineers",
          "Canada/Nova Scotia",
          "Canada/Quebec",
          "Canada/Ontario",
          "Canada/Alberta",
          "Canada/New Brunswick",
          "Canada/Prince Edward Island",
          "Canada/Newfoundland and Labrador",
          "Canada/Saskatchewan",
          "Canada/Saskatchewan/Electrical and electronics engineers",
          "Canada/Manitoba/Electrical and electronics engineers",
          "Canada/Newfoundland and Labrador/Electrical and electronics engineers",
          "Canada/Prince Edward Island/Electrical and electronics engineers",
          "Canada/Nova Scotia/Electrical and electronics engineers",
          "Canada/New Brunswick/Electrical and electronics engineers",
          "Canada/Quebec/Electrical and electronics engineers",
          "Canada/Quebec/Electrical and electronics engineers",
          "Canada/Ontario/Electrical and electronics engineers",
          "Canada/Ontario/Electrical and electronics engineers",
          "Canada/Manitoba/Electrical and electronics engineers",
          "Canada/British Columbia/Electrical and electronics engineers",
          "Canada/Manitoba",
          "Canada/Saskatchewan/Electrical and electronics engineers",
          "Canada/Northwest Territories",
          "Canada/Alberta/Electrical and electronics engineers",
          "Canada/Alberta/Electrical and electronics engineers",
          "Canada/Yukon",
          "Canada/British Columbia/Electrical and electronics engineers",
          "Canada/Nunavut",
          "Canada/Northwest Territories",
          "Canada/British Columbia",
          "Canada/Saskatchewan",
          "Canada/Alberta",
          "Canada/Yukon",
          "Canada/Newfoundland and Labrador/Mechanical engineers",
          "Canada/Ontario",
          "Canada/Prince Edward Island/Mechanical engineers",
          "Canada/Nova Scotia/Mechanical engineers",
          "Canada/Nova Scotia/Mechanical engineers",
          "Canada/New Brunswick/Mechanical engineers",
          "Canada/New Brunswick/Mechanical engineers",
          "Canada/Quebec/Mechanical engineers",
          "Canada/Quebec/Mechanical engineers",
          "Canada/Ontario/Mechanical engineers",
          "Canada/Ontario/Mechanical engineers",
          "Canada/Manitoba/Mechanical engineers",
          "Canada/Manitoba/Mechanical engineers",
          "Canada/Saskatchewan/Mechanical engineers",
          "Canada/Saskatchewan/Mechanical engineers",
          "Canada/Alberta/Mechanical engineers",
          "Canada/Alberta/Mechanical engineers",
          "Canada/British Columbia/Mechanical engineers",
          "Canada/British Columbia/Mechanical engineers",
          "Canada",
          "Canada/Northwest Territories/Mechanical engineers",
          "Canada/Nunavut/Mechanical engineers",
          "Canada/Newfoundland and Labrador",
          "Canada/Prince Edward Island",
          "Canada/Nova Scotia",
          "Canada/New Brunswick",
          "Canada/Quebec",
          "Canada/Manitoba",
          "Canada/Yukon/Mechanical engineers"
         ],
         "root": {
          "color": "lightgrey"
         },
         "textfont": {
          "size": 15
         },
         "textinfo": "label+value+percent parent",
         "textposition": "middle left",
         "texttemplate": "<b>%{label}</b><br>(%{percentParent:.1%})",
         "type": "treemap",
         "values": {
          "bdata": "AAAAADCK/UAAAAAAAIiNQAAAAAAAgGZAAAAAAACwnUAAAAAAwAHbQAAAAACgO+pAAAAAAACCpEAAAAAAANyeQAAAAAAA789AAAAAAACQlUAAAAAAAIBLQAAAAAAAADRAAAAAAICvy0AAAAAAAIS3QAAAAAAAcHdAAAAAAAAATkAAAAAAAGB4QAAAAACAH8pAAAAAAAAAJEAAAAAAAOBqQAAAAAAAgEFAAAAAAAAATkAAAAAAACBiQAAAAAAABJ9AAAAAAADAnEAAAAAAAEBfQAAAAAAAsHhAAAAAAACAQUAAAAAAAAA0QAAAAAAASKJAAAAAAADOyEAAAAAAAEKjQAAAAAAAGIVAAAAAAAAgbEAAAAAAAI+2QAAAAAAAIHdAAAAAAACgbkAAAAAAACBsQAAAAAAAAC5AAAAAAAAANEAAAAAAAEBqQAAAAAAAACRAAAAAAABct0AAAAAAAAAuQAAAAAAA2IhAAAAAAIAPwUAAAAAAgMPRQAAAAAAAS7lAAAAAAADgf0AAAAAAAIBLQAAAAAAAsHhAAAAAAAAAiUAAAAAAALCIQAAAAAAAoI5AAAAAAACweEAAAAAAAIBLQAAAAAAA2IhAAAAAAADgf0AAAAAAAEBQQAAAAAAA78BAAAAAAABgbUAAAAAAwIjRQAAAAAAAAC5AAAAAAADptkAAAAAAABiPQAAAAAAAACRAAAAAAAAALkAAAAAAAIBWQAAAAAAA8bhAAAAAAAAAJEAAAAAAAMBcQAAAAAAAACRAAAAAAAAAREAAAAAAAGK2QAAAAAAAsI1AAAAAAADSvkAAAAAAAAAkQAAAAAAAoH5AAAAAAACk1UAAAAAAAIBWQAAAAAAAADRAAAAAAAC4hUAAAAAAAAA0QAAAAAAAiINAAAAAAADAYkAAAAAAAOfIQAAAAAAAmIJAAAAAAEAP1UAAAAAAAIBBQAAAAAAAwJJAAAAAAAAANEAAAAAAABCNQAAAAAAAAFRAAAAAAACCvkAAAAAAAGBjQAAAAAAAx7VAAAAAAAAAJEAAAAAAAABEQAAAAAAAACRAAAAAAACgfkAAAAAAAIBWQAAAAAAAWIZAAAAAAAAohEAAAAAAADLJQAAAAAAATJNAAAAAAAAAJEA=",
          "dtype": "f8"
         }
        }
       ],
       "layout": {
        "height": 850,
        "hoverlabel": {
         "bgcolor": "white",
         "font": {
          "family": "Helvetica",
          "size": 14
         }
        },
        "legend": {
         "tracegroupgap": 0
        },
        "margin": {
         "b": 0,
         "l": 0,
         "r": 0,
         "t": 0
        },
        "template": {
         "data": {
          "bar": [
           {
            "error_x": {
             "color": "#2a3f5f"
            },
            "error_y": {
             "color": "#2a3f5f"
            },
            "marker": {
             "line": {
              "color": "white",
              "width": 0.5
             },
             "pattern": {
              "fillmode": "overlay",
              "size": 10,
              "solidity": 0.2
             }
            },
            "type": "bar"
           }
          ],
          "barpolar": [
           {
            "marker": {
             "line": {
              "color": "white",
              "width": 0.5
             },
             "pattern": {
              "fillmode": "overlay",
              "size": 10,
              "solidity": 0.2
             }
            },
            "type": "barpolar"
           }
          ],
          "carpet": [
           {
            "aaxis": {
             "endlinecolor": "#2a3f5f",
             "gridcolor": "#C8D4E3",
             "linecolor": "#C8D4E3",
             "minorgridcolor": "#C8D4E3",
             "startlinecolor": "#2a3f5f"
            },
            "baxis": {
             "endlinecolor": "#2a3f5f",
             "gridcolor": "#C8D4E3",
             "linecolor": "#C8D4E3",
             "minorgridcolor": "#C8D4E3",
             "startlinecolor": "#2a3f5f"
            },
            "type": "carpet"
           }
          ],
          "choropleth": [
           {
            "colorbar": {
             "outlinewidth": 0,
             "ticks": ""
            },
            "type": "choropleth"
           }
          ],
          "contour": [
           {
            "colorbar": {
             "outlinewidth": 0,
             "ticks": ""
            },
            "colorscale": [
             [
              0,
              "#0d0887"
             ],
             [
              0.1111111111111111,
              "#46039f"
             ],
             [
              0.2222222222222222,
              "#7201a8"
             ],
             [
              0.3333333333333333,
              "#9c179e"
             ],
             [
              0.4444444444444444,
              "#bd3786"
             ],
             [
              0.5555555555555556,
              "#d8576b"
             ],
             [
              0.6666666666666666,
              "#ed7953"
             ],
             [
              0.7777777777777778,
              "#fb9f3a"
             ],
             [
              0.8888888888888888,
              "#fdca26"
             ],
             [
              1,
              "#f0f921"
             ]
            ],
            "type": "contour"
           }
          ],
          "contourcarpet": [
           {
            "colorbar": {
             "outlinewidth": 0,
             "ticks": ""
            },
            "type": "contourcarpet"
           }
          ],
          "heatmap": [
           {
            "colorbar": {
             "outlinewidth": 0,
             "ticks": ""
            },
            "colorscale": [
             [
              0,
              "#0d0887"
             ],
             [
              0.1111111111111111,
              "#46039f"
             ],
             [
              0.2222222222222222,
              "#7201a8"
             ],
             [
              0.3333333333333333,
              "#9c179e"
             ],
             [
              0.4444444444444444,
              "#bd3786"
             ],
             [
              0.5555555555555556,
              "#d8576b"
             ],
             [
              0.6666666666666666,
              "#ed7953"
             ],
             [
              0.7777777777777778,
              "#fb9f3a"
             ],
             [
              0.8888888888888888,
              "#fdca26"
             ],
             [
              1,
              "#f0f921"
             ]
            ],
            "type": "heatmap"
           }
          ],
          "histogram": [
           {
            "marker": {
             "pattern": {
              "fillmode": "overlay",
              "size": 10,
              "solidity": 0.2
             }
            },
            "type": "histogram"
           }
          ],
          "histogram2d": [
           {
            "colorbar": {
             "outlinewidth": 0,
             "ticks": ""
            },
            "colorscale": [
             [
              0,
              "#0d0887"
             ],
             [
              0.1111111111111111,
              "#46039f"
             ],
             [
              0.2222222222222222,
              "#7201a8"
             ],
             [
              0.3333333333333333,
              "#9c179e"
             ],
             [
              0.4444444444444444,
              "#bd3786"
             ],
             [
              0.5555555555555556,
              "#d8576b"
             ],
             [
              0.6666666666666666,
              "#ed7953"
             ],
             [
              0.7777777777777778,
              "#fb9f3a"
             ],
             [
              0.8888888888888888,
              "#fdca26"
             ],
             [
              1,
              "#f0f921"
             ]
            ],
            "type": "histogram2d"
           }
          ],
          "histogram2dcontour": [
           {
            "colorbar": {
             "outlinewidth": 0,
             "ticks": ""
            },
            "colorscale": [
             [
              0,
              "#0d0887"
             ],
             [
              0.1111111111111111,
              "#46039f"
             ],
             [
              0.2222222222222222,
              "#7201a8"
             ],
             [
              0.3333333333333333,
              "#9c179e"
             ],
             [
              0.4444444444444444,
              "#bd3786"
             ],
             [
              0.5555555555555556,
              "#d8576b"
             ],
             [
              0.6666666666666666,
              "#ed7953"
             ],
             [
              0.7777777777777778,
              "#fb9f3a"
             ],
             [
              0.8888888888888888,
              "#fdca26"
             ],
             [
              1,
              "#f0f921"
             ]
            ],
            "type": "histogram2dcontour"
           }
          ],
          "mesh3d": [
           {
            "colorbar": {
             "outlinewidth": 0,
             "ticks": ""
            },
            "type": "mesh3d"
           }
          ],
          "parcoords": [
           {
            "line": {
             "colorbar": {
              "outlinewidth": 0,
              "ticks": ""
             }
            },
            "type": "parcoords"
           }
          ],
          "pie": [
           {
            "automargin": true,
            "type": "pie"
           }
          ],
          "scatter": [
           {
            "fillpattern": {
             "fillmode": "overlay",
             "size": 10,
             "solidity": 0.2
            },
            "type": "scatter"
           }
          ],
          "scatter3d": [
           {
            "line": {
             "colorbar": {
              "outlinewidth": 0,
              "ticks": ""
             }
            },
            "marker": {
             "colorbar": {
              "outlinewidth": 0,
              "ticks": ""
             }
            },
            "type": "scatter3d"
           }
          ],
          "scattercarpet": [
           {
            "marker": {
             "colorbar": {
              "outlinewidth": 0,
              "ticks": ""
             }
            },
            "type": "scattercarpet"
           }
          ],
          "scattergeo": [
           {
            "marker": {
             "colorbar": {
              "outlinewidth": 0,
              "ticks": ""
             }
            },
            "type": "scattergeo"
           }
          ],
          "scattergl": [
           {
            "marker": {
             "colorbar": {
              "outlinewidth": 0,
              "ticks": ""
             }
            },
            "type": "scattergl"
           }
          ],
          "scattermap": [
           {
            "marker": {
             "colorbar": {
              "outlinewidth": 0,
              "ticks": ""
             }
            },
            "type": "scattermap"
           }
          ],
          "scattermapbox": [
           {
            "marker": {
             "colorbar": {
              "outlinewidth": 0,
              "ticks": ""
             }
            },
            "type": "scattermapbox"
           }
          ],
          "scatterpolar": [
           {
            "marker": {
             "colorbar": {
              "outlinewidth": 0,
              "ticks": ""
             }
            },
            "type": "scatterpolar"
           }
          ],
          "scatterpolargl": [
           {
            "marker": {
             "colorbar": {
              "outlinewidth": 0,
              "ticks": ""
             }
            },
            "type": "scatterpolargl"
           }
          ],
          "scatterternary": [
           {
            "marker": {
             "colorbar": {
              "outlinewidth": 0,
              "ticks": ""
             }
            },
            "type": "scatterternary"
           }
          ],
          "surface": [
           {
            "colorbar": {
             "outlinewidth": 0,
             "ticks": ""
            },
            "colorscale": [
             [
              0,
              "#0d0887"
             ],
             [
              0.1111111111111111,
              "#46039f"
             ],
             [
              0.2222222222222222,
              "#7201a8"
             ],
             [
              0.3333333333333333,
              "#9c179e"
             ],
             [
              0.4444444444444444,
              "#bd3786"
             ],
             [
              0.5555555555555556,
              "#d8576b"
             ],
             [
              0.6666666666666666,
              "#ed7953"
             ],
             [
              0.7777777777777778,
              "#fb9f3a"
             ],
             [
              0.8888888888888888,
              "#fdca26"
             ],
             [
              1,
              "#f0f921"
             ]
            ],
            "type": "surface"
           }
          ],
          "table": [
           {
            "cells": {
             "fill": {
              "color": "#EBF0F8"
             },
             "line": {
              "color": "white"
             }
            },
            "header": {
             "fill": {
              "color": "#C8D4E3"
             },
             "line": {
              "color": "white"
             }
            },
            "type": "table"
           }
          ]
         },
         "layout": {
          "annotationdefaults": {
           "arrowcolor": "#2a3f5f",
           "arrowhead": 0,
           "arrowwidth": 1
          },
          "autotypenumbers": "strict",
          "coloraxis": {
           "colorbar": {
            "outlinewidth": 0,
            "ticks": ""
           }
          },
          "colorscale": {
           "diverging": [
            [
             0,
             "#8e0152"
            ],
            [
             0.1,
             "#c51b7d"
            ],
            [
             0.2,
             "#de77ae"
            ],
            [
             0.3,
             "#f1b6da"
            ],
            [
             0.4,
             "#fde0ef"
            ],
            [
             0.5,
             "#f7f7f7"
            ],
            [
             0.6,
             "#e6f5d0"
            ],
            [
             0.7,
             "#b8e186"
            ],
            [
             0.8,
             "#7fbc41"
            ],
            [
             0.9,
             "#4d9221"
            ],
            [
             1,
             "#276419"
            ]
           ],
           "sequential": [
            [
             0,
             "#0d0887"
            ],
            [
             0.1111111111111111,
             "#46039f"
            ],
            [
             0.2222222222222222,
             "#7201a8"
            ],
            [
             0.3333333333333333,
             "#9c179e"
            ],
            [
             0.4444444444444444,
             "#bd3786"
            ],
            [
             0.5555555555555556,
             "#d8576b"
            ],
            [
             0.6666666666666666,
             "#ed7953"
            ],
            [
             0.7777777777777778,
             "#fb9f3a"
            ],
            [
             0.8888888888888888,
             "#fdca26"
            ],
            [
             1,
             "#f0f921"
            ]
           ],
           "sequentialminus": [
            [
             0,
             "#0d0887"
            ],
            [
             0.1111111111111111,
             "#46039f"
            ],
            [
             0.2222222222222222,
             "#7201a8"
            ],
            [
             0.3333333333333333,
             "#9c179e"
            ],
            [
             0.4444444444444444,
             "#bd3786"
            ],
            [
             0.5555555555555556,
             "#d8576b"
            ],
            [
             0.6666666666666666,
             "#ed7953"
            ],
            [
             0.7777777777777778,
             "#fb9f3a"
            ],
            [
             0.8888888888888888,
             "#fdca26"
            ],
            [
             1,
             "#f0f921"
            ]
           ]
          },
          "colorway": [
           "#636efa",
           "#EF553B",
           "#00cc96",
           "#ab63fa",
           "#FFA15A",
           "#19d3f3",
           "#FF6692",
           "#B6E880",
           "#FF97FF",
           "#FECB52"
          ],
          "font": {
           "color": "#2a3f5f"
          },
          "geo": {
           "bgcolor": "white",
           "lakecolor": "white",
           "landcolor": "white",
           "showlakes": true,
           "showland": true,
           "subunitcolor": "#C8D4E3"
          },
          "hoverlabel": {
           "align": "left"
          },
          "hovermode": "closest",
          "mapbox": {
           "style": "light"
          },
          "paper_bgcolor": "white",
          "plot_bgcolor": "white",
          "polar": {
           "angularaxis": {
            "gridcolor": "#EBF0F8",
            "linecolor": "#EBF0F8",
            "ticks": ""
           },
           "bgcolor": "white",
           "radialaxis": {
            "gridcolor": "#EBF0F8",
            "linecolor": "#EBF0F8",
            "ticks": ""
           }
          },
          "scene": {
           "xaxis": {
            "backgroundcolor": "white",
            "gridcolor": "#DFE8F3",
            "gridwidth": 2,
            "linecolor": "#EBF0F8",
            "showbackground": true,
            "ticks": "",
            "zerolinecolor": "#EBF0F8"
           },
           "yaxis": {
            "backgroundcolor": "white",
            "gridcolor": "#DFE8F3",
            "gridwidth": 2,
            "linecolor": "#EBF0F8",
            "showbackground": true,
            "ticks": "",
            "zerolinecolor": "#EBF0F8"
           },
           "zaxis": {
            "backgroundcolor": "white",
            "gridcolor": "#DFE8F3",
            "gridwidth": 2,
            "linecolor": "#EBF0F8",
            "showbackground": true,
            "ticks": "",
            "zerolinecolor": "#EBF0F8"
           }
          },
          "shapedefaults": {
           "line": {
            "color": "#2a3f5f"
           }
          },
          "ternary": {
           "aaxis": {
            "gridcolor": "#DFE8F3",
            "linecolor": "#A2B1C6",
            "ticks": ""
           },
           "baxis": {
            "gridcolor": "#DFE8F3",
            "linecolor": "#A2B1C6",
            "ticks": ""
           },
           "bgcolor": "white",
           "caxis": {
            "gridcolor": "#DFE8F3",
            "linecolor": "#A2B1C6",
            "ticks": ""
           }
          },
          "title": {
           "x": 0.05
          },
          "xaxis": {
           "automargin": true,
           "gridcolor": "#EBF0F8",
           "linecolor": "#EBF0F8",
           "ticks": "",
           "title": {
            "standoff": 15
           },
           "zerolinecolor": "#EBF0F8",
           "zerolinewidth": 2
          },
          "yaxis": {
           "automargin": true,
           "gridcolor": "#EBF0F8",
           "linecolor": "#EBF0F8",
           "ticks": "",
           "title": {
            "standoff": 15
           },
           "zerolinecolor": "#EBF0F8",
           "zerolinewidth": 2
          }
         }
        },
        "treemapcolorway": [
         "rgb(204,204,204)",
         "rgb(241,226,204)",
         "rgb(255,242,174)",
         "rgb(230,245,201)",
         "rgb(244,202,228)",
         "rgb(203,213,232)",
         "rgb(253,205,172)",
         "rgb(179,226,205)"
        ],
        "uniformtext": {
         "minsize": 10,
         "mode": "hide"
        }
       }
      }
     },
     "metadata": {},
     "output_type": "display_data"
    }
   ],
   "source": [
    "import plotly.express as px\n",
    "import numpy as np\n",
    "\n",
    "# Compute midpoint dynamically for balanced color scale\n",
    "midpoint = np.median(eng_df[\"COUNT\"])\n",
    "\n",
    "# Create treemap with refined styling\n",
    "fig = px.treemap(\n",
    "    eng_df,\n",
    "    path=[px.Constant(\"Canada\"), \"GEO\", \"OCCUPATION_C\", \"EDUCATION\"],\n",
    "    values=\"COUNT\",\n",
    "    color=\"OCCUPATION_C\",\n",
    "    color_discrete_sequence=px.colors.qualitative.Pastel2_r,\n",
    "    color_continuous_midpoint=midpoint,\n",
    "    height=850,\n",
    "    template=\"plotly_white\",\n",
    ")\n",
    "\n",
    "# Update layout for a high-end professional presentation\n",
    "fig.update_layout(\n",
    "    margin=dict(t=0, l=0, r=0, b=0),\n",
    "    hoverlabel=dict(bgcolor=\"white\", font_size=14, font_family=\"Helvetica\"),\n",
    "    uniformtext=dict(minsize=10,mode=\"hide\"),\n",
    ")\n",
    "\n",
    "\n",
    "fig.update_traces(\n",
    "    root_color=\"lightgrey\",\n",
    "    textinfo=\"label+value+percent parent\",\n",
    "    texttemplate=\"<b>%{label}</b><br>(%{percentParent:.1%})\",\n",
    "    textposition=\"middle left\",\n",
    "    marker=dict(line=dict(width=.5, color=\"black\")), \n",
    "    hovertemplate=\"<b>%{label}</b><br>Count: %{value:,}<br>%{percentParent:.1%} of parent<extra></extra>\",\n",
    "    textfont_size=15, \n",
    ")\n",
    "\n",
    "fig.show()"
   ]
  },
  {
   "cell_type": "code",
   "execution_count": 327,
   "metadata": {},
   "outputs": [
    {
     "data": {
      "text/html": [
       "<div>\n",
       "<style scoped>\n",
       "    .dataframe tbody tr th:only-of-type {\n",
       "        vertical-align: middle;\n",
       "    }\n",
       "\n",
       "    .dataframe tbody tr th {\n",
       "        vertical-align: top;\n",
       "    }\n",
       "\n",
       "    .dataframe thead th {\n",
       "        text-align: right;\n",
       "    }\n",
       "</style>\n",
       "<table border=\"1\" class=\"dataframe\">\n",
       "  <thead>\n",
       "    <tr style=\"text-align: right;\">\n",
       "      <th></th>\n",
       "      <th>GEO</th>\n",
       "      <th>EDUCATION</th>\n",
       "      <th>MAJOR</th>\n",
       "      <th>OCCUPATION</th>\n",
       "      <th>GENDER</th>\n",
       "      <th>COUNT</th>\n",
       "      <th>NOC</th>\n",
       "      <th>Hierarchy</th>\n",
       "      <th>OCCUPATION_C</th>\n",
       "    </tr>\n",
       "  </thead>\n",
       "  <tbody>\n",
       "    <tr>\n",
       "      <th>0</th>\n",
       "      <td>Newfoundland and Labrador</td>\n",
       "      <td>No certificate, diploma or degree</td>\n",
       "      <td>No postsecondary certificate, diploma or degree</td>\n",
       "      <td>All occupations</td>\n",
       "      <td>Men</td>\n",
       "      <td>12025</td>\n",
       "      <td>NaN</td>\n",
       "      <td>0</td>\n",
       "      <td>occupations</td>\n",
       "    </tr>\n",
       "    <tr>\n",
       "      <th>1</th>\n",
       "      <td>Newfoundland and Labrador</td>\n",
       "      <td>No certificate, diploma or degree</td>\n",
       "      <td>No postsecondary certificate, diploma or degree</td>\n",
       "      <td>All occupations</td>\n",
       "      <td>Women</td>\n",
       "      <td>7755</td>\n",
       "      <td>NaN</td>\n",
       "      <td>0</td>\n",
       "      <td>occupations</td>\n",
       "    </tr>\n",
       "    <tr>\n",
       "      <th>2</th>\n",
       "      <td>Newfoundland and Labrador</td>\n",
       "      <td>No certificate, diploma or degree</td>\n",
       "      <td>No postsecondary certificate, diploma or degree</td>\n",
       "      <td>0 Legislative and senior management occupations</td>\n",
       "      <td>Women</td>\n",
       "      <td>10</td>\n",
       "      <td>0</td>\n",
       "      <td>1</td>\n",
       "      <td>Legislative and senior management occupations</td>\n",
       "    </tr>\n",
       "    <tr>\n",
       "      <th>3</th>\n",
       "      <td>Newfoundland and Labrador</td>\n",
       "      <td>No certificate, diploma or degree</td>\n",
       "      <td>No postsecondary certificate, diploma or degree</td>\n",
       "      <td>00 Legislative and senior managers</td>\n",
       "      <td>Women</td>\n",
       "      <td>10</td>\n",
       "      <td>00</td>\n",
       "      <td>2</td>\n",
       "      <td>Legislative and senior managers</td>\n",
       "    </tr>\n",
       "    <tr>\n",
       "      <th>4</th>\n",
       "      <td>Newfoundland and Labrador</td>\n",
       "      <td>No certificate, diploma or degree</td>\n",
       "      <td>No postsecondary certificate, diploma or degree</td>\n",
       "      <td>000 Legislative and senior managers</td>\n",
       "      <td>Women</td>\n",
       "      <td>10</td>\n",
       "      <td>000</td>\n",
       "      <td>3</td>\n",
       "      <td>Legislative and senior managers</td>\n",
       "    </tr>\n",
       "    <tr>\n",
       "      <th>...</th>\n",
       "      <td>...</td>\n",
       "      <td>...</td>\n",
       "      <td>...</td>\n",
       "      <td>...</td>\n",
       "      <td>...</td>\n",
       "      <td>...</td>\n",
       "      <td>...</td>\n",
       "      <td>...</td>\n",
       "      <td>...</td>\n",
       "    </tr>\n",
       "    <tr>\n",
       "      <th>130827</th>\n",
       "      <td>Nunavut</td>\n",
       "      <td>Postsecondary certificate, diploma or degree</td>\n",
       "      <td>Personal, protective and transportation services</td>\n",
       "      <td>9 Occupations in manufacturing and utilities</td>\n",
       "      <td>Men</td>\n",
       "      <td>10</td>\n",
       "      <td>9</td>\n",
       "      <td>1</td>\n",
       "      <td>Occupations in manufacturing and utilities</td>\n",
       "    </tr>\n",
       "    <tr>\n",
       "      <th>130828</th>\n",
       "      <td>Nunavut</td>\n",
       "      <td>Postsecondary certificate, diploma or degree</td>\n",
       "      <td>Personal, protective and transportation services</td>\n",
       "      <td>90 Middle management occupations in manufactur...</td>\n",
       "      <td>Men</td>\n",
       "      <td>10</td>\n",
       "      <td>90</td>\n",
       "      <td>2</td>\n",
       "      <td>Middle management occupations in manufacturing...</td>\n",
       "    </tr>\n",
       "    <tr>\n",
       "      <th>130829</th>\n",
       "      <td>Nunavut</td>\n",
       "      <td>Postsecondary certificate, diploma or degree</td>\n",
       "      <td>Personal, protective and transportation services</td>\n",
       "      <td>900 Middle management occupations in manufactu...</td>\n",
       "      <td>Men</td>\n",
       "      <td>10</td>\n",
       "      <td>900</td>\n",
       "      <td>3</td>\n",
       "      <td>Middle management occupations in manufacturing...</td>\n",
       "    </tr>\n",
       "    <tr>\n",
       "      <th>130830</th>\n",
       "      <td>Nunavut</td>\n",
       "      <td>Postsecondary certificate, diploma or degree</td>\n",
       "      <td>Personal, protective and transportation services</td>\n",
       "      <td>9001 Managers in manufacturing and utilities</td>\n",
       "      <td>Men</td>\n",
       "      <td>10</td>\n",
       "      <td>9001</td>\n",
       "      <td>4</td>\n",
       "      <td>Managers in manufacturing and utilities</td>\n",
       "    </tr>\n",
       "    <tr>\n",
       "      <th>130831</th>\n",
       "      <td>Nunavut</td>\n",
       "      <td>Postsecondary certificate, diploma or degree</td>\n",
       "      <td>Personal, protective and transportation services</td>\n",
       "      <td>90011 Utilities managers</td>\n",
       "      <td>Men</td>\n",
       "      <td>10</td>\n",
       "      <td>90011</td>\n",
       "      <td>5</td>\n",
       "      <td>Utilities managers</td>\n",
       "    </tr>\n",
       "  </tbody>\n",
       "</table>\n",
       "<p>130832 rows × 9 columns</p>\n",
       "</div>"
      ],
      "text/plain": [
       "                              GEO  \\\n",
       "0       Newfoundland and Labrador   \n",
       "1       Newfoundland and Labrador   \n",
       "2       Newfoundland and Labrador   \n",
       "3       Newfoundland and Labrador   \n",
       "4       Newfoundland and Labrador   \n",
       "...                           ...   \n",
       "130827                    Nunavut   \n",
       "130828                    Nunavut   \n",
       "130829                    Nunavut   \n",
       "130830                    Nunavut   \n",
       "130831                    Nunavut   \n",
       "\n",
       "                                           EDUCATION  \\\n",
       "0                  No certificate, diploma or degree   \n",
       "1                  No certificate, diploma or degree   \n",
       "2                  No certificate, diploma or degree   \n",
       "3                  No certificate, diploma or degree   \n",
       "4                  No certificate, diploma or degree   \n",
       "...                                              ...   \n",
       "130827  Postsecondary certificate, diploma or degree   \n",
       "130828  Postsecondary certificate, diploma or degree   \n",
       "130829  Postsecondary certificate, diploma or degree   \n",
       "130830  Postsecondary certificate, diploma or degree   \n",
       "130831  Postsecondary certificate, diploma or degree   \n",
       "\n",
       "                                                   MAJOR  \\\n",
       "0        No postsecondary certificate, diploma or degree   \n",
       "1        No postsecondary certificate, diploma or degree   \n",
       "2        No postsecondary certificate, diploma or degree   \n",
       "3        No postsecondary certificate, diploma or degree   \n",
       "4        No postsecondary certificate, diploma or degree   \n",
       "...                                                  ...   \n",
       "130827  Personal, protective and transportation services   \n",
       "130828  Personal, protective and transportation services   \n",
       "130829  Personal, protective and transportation services   \n",
       "130830  Personal, protective and transportation services   \n",
       "130831  Personal, protective and transportation services   \n",
       "\n",
       "                                               OCCUPATION GENDER  COUNT  \\\n",
       "0                                         All occupations    Men  12025   \n",
       "1                                         All occupations  Women   7755   \n",
       "2         0 Legislative and senior management occupations  Women     10   \n",
       "3                      00 Legislative and senior managers  Women     10   \n",
       "4                     000 Legislative and senior managers  Women     10   \n",
       "...                                                   ...    ...    ...   \n",
       "130827       9 Occupations in manufacturing and utilities    Men     10   \n",
       "130828  90 Middle management occupations in manufactur...    Men     10   \n",
       "130829  900 Middle management occupations in manufactu...    Men     10   \n",
       "130830       9001 Managers in manufacturing and utilities    Men     10   \n",
       "130831                           90011 Utilities managers    Men     10   \n",
       "\n",
       "          NOC  Hierarchy                                       OCCUPATION_C  \n",
       "0         NaN          0                                        occupations  \n",
       "1         NaN          0                                        occupations  \n",
       "2           0          1      Legislative and senior management occupations  \n",
       "3          00          2                    Legislative and senior managers  \n",
       "4         000          3                    Legislative and senior managers  \n",
       "...       ...        ...                                                ...  \n",
       "130827      9          1         Occupations in manufacturing and utilities  \n",
       "130828     90          2  Middle management occupations in manufacturing...  \n",
       "130829    900          3  Middle management occupations in manufacturing...  \n",
       "130830   9001          4            Managers in manufacturing and utilities  \n",
       "130831  90011          5                                 Utilities managers  \n",
       "\n",
       "[130832 rows x 9 columns]"
      ]
     },
     "execution_count": 327,
     "metadata": {},
     "output_type": "execute_result"
    }
   ],
   "source": [
    "master_df"
   ]
  },
  {
   "cell_type": "code",
   "execution_count": 332,
   "metadata": {},
   "outputs": [
    {
     "data": {
      "text/html": [
       "<div>\n",
       "<style scoped>\n",
       "    .dataframe tbody tr th:only-of-type {\n",
       "        vertical-align: middle;\n",
       "    }\n",
       "\n",
       "    .dataframe tbody tr th {\n",
       "        vertical-align: top;\n",
       "    }\n",
       "\n",
       "    .dataframe thead th {\n",
       "        text-align: right;\n",
       "    }\n",
       "</style>\n",
       "<table border=\"1\" class=\"dataframe\">\n",
       "  <thead>\n",
       "    <tr style=\"text-align: right;\">\n",
       "      <th></th>\n",
       "      <th>MAJOR</th>\n",
       "      <th>COUNT</th>\n",
       "    </tr>\n",
       "  </thead>\n",
       "  <tbody>\n",
       "    <tr>\n",
       "      <th>0</th>\n",
       "      <td>Agriculture, natural resources and conservation</td>\n",
       "      <td>1696505</td>\n",
       "    </tr>\n",
       "    <tr>\n",
       "      <th>1</th>\n",
       "      <td>Architecture, engineering, and related trades</td>\n",
       "      <td>14156625</td>\n",
       "    </tr>\n",
       "    <tr>\n",
       "      <th>2</th>\n",
       "      <td>Business, management and public administration</td>\n",
       "      <td>15592435</td>\n",
       "    </tr>\n",
       "    <tr>\n",
       "      <th>3</th>\n",
       "      <td>Education</td>\n",
       "      <td>3942630</td>\n",
       "    </tr>\n",
       "    <tr>\n",
       "      <th>4</th>\n",
       "      <td>Health and related fields</td>\n",
       "      <td>9702475</td>\n",
       "    </tr>\n",
       "    <tr>\n",
       "      <th>5</th>\n",
       "      <td>Humanities</td>\n",
       "      <td>3330980</td>\n",
       "    </tr>\n",
       "    <tr>\n",
       "      <th>6</th>\n",
       "      <td>Mathematics, computer and information sciences</td>\n",
       "      <td>3561390</td>\n",
       "    </tr>\n",
       "    <tr>\n",
       "      <th>7</th>\n",
       "      <td>No postsecondary certificate, diploma or degree</td>\n",
       "      <td>28591650</td>\n",
       "    </tr>\n",
       "    <tr>\n",
       "      <th>8</th>\n",
       "      <td>Other</td>\n",
       "      <td>16855</td>\n",
       "    </tr>\n",
       "    <tr>\n",
       "      <th>9</th>\n",
       "      <td>Personal, protective and transportation services</td>\n",
       "      <td>3992715</td>\n",
       "    </tr>\n",
       "    <tr>\n",
       "      <th>10</th>\n",
       "      <td>Physical and life sciences and technologies</td>\n",
       "      <td>2710505</td>\n",
       "    </tr>\n",
       "    <tr>\n",
       "      <th>11</th>\n",
       "      <td>Social and behavioural sciences and law</td>\n",
       "      <td>8444755</td>\n",
       "    </tr>\n",
       "    <tr>\n",
       "      <th>12</th>\n",
       "      <td>Visual and performing arts, and communications...</td>\n",
       "      <td>2588650</td>\n",
       "    </tr>\n",
       "  </tbody>\n",
       "</table>\n",
       "</div>"
      ],
      "text/plain": [
       "                                                MAJOR     COUNT\n",
       "0     Agriculture, natural resources and conservation   1696505\n",
       "1       Architecture, engineering, and related trades  14156625\n",
       "2      Business, management and public administration  15592435\n",
       "3                                           Education   3942630\n",
       "4                           Health and related fields   9702475\n",
       "5                                          Humanities   3330980\n",
       "6      Mathematics, computer and information sciences   3561390\n",
       "7     No postsecondary certificate, diploma or degree  28591650\n",
       "8                                               Other     16855\n",
       "9    Personal, protective and transportation services   3992715\n",
       "10        Physical and life sciences and technologies   2710505\n",
       "11            Social and behavioural sciences and law   8444755\n",
       "12  Visual and performing arts, and communications...   2588650"
      ]
     },
     "execution_count": 332,
     "metadata": {},
     "output_type": "execute_result"
    }
   ],
   "source": [
    "major_df = master_df.groupby([\"MAJOR\"],as_index=False).COUNT.sum()\n",
    "major_df"
   ]
  },
  {
   "cell_type": "code",
   "execution_count": null,
   "metadata": {},
   "outputs": [
    {
     "data": {
      "application/vnd.plotly.v1+json": {
       "config": {
        "plotlyServerURL": "https://plot.ly"
       },
       "data": [
        {
         "hovertemplate": "MAJOR=%{x}<br>COUNT=%{y}<extra></extra>",
         "legendgroup": "",
         "marker": {
          "color": "#636efa",
          "pattern": {
           "shape": ""
          }
         },
         "name": "",
         "orientation": "v",
         "showlegend": false,
         "textposition": "auto",
         "type": "bar",
         "x": [
          "Agriculture, natural resources and conservation",
          "Architecture, engineering, and related trades",
          "Business, management and public administration",
          "Education",
          "Health and related fields",
          "Humanities",
          "Mathematics, computer and information sciences",
          "No postsecondary certificate, diploma or degree",
          "Other",
          "Personal, protective and transportation services",
          "Physical and life sciences and technologies",
          "Social and behavioural sciences and law",
          "Visual and performing arts, and communications technologies"
         ],
         "xaxis": "x",
         "y": {
          "bdata": "+eIZAFED2ADz6+0A5ig8AEsMlACk0zIArlc2ACJGtAHXQQAAi+w8AOlbKQBT24AA6n8nAA==",
          "dtype": "i4"
         },
         "yaxis": "y"
        }
       ],
       "layout": {
        "barmode": "relative",
        "legend": {
         "tracegroupgap": 0
        },
        "margin": {
         "t": 60
        },
        "template": {
         "data": {
          "bar": [
           {
            "error_x": {
             "color": "#2a3f5f"
            },
            "error_y": {
             "color": "#2a3f5f"
            },
            "marker": {
             "line": {
              "color": "#E5ECF6",
              "width": 0.5
             },
             "pattern": {
              "fillmode": "overlay",
              "size": 10,
              "solidity": 0.2
             }
            },
            "type": "bar"
           }
          ],
          "barpolar": [
           {
            "marker": {
             "line": {
              "color": "#E5ECF6",
              "width": 0.5
             },
             "pattern": {
              "fillmode": "overlay",
              "size": 10,
              "solidity": 0.2
             }
            },
            "type": "barpolar"
           }
          ],
          "carpet": [
           {
            "aaxis": {
             "endlinecolor": "#2a3f5f",
             "gridcolor": "white",
             "linecolor": "white",
             "minorgridcolor": "white",
             "startlinecolor": "#2a3f5f"
            },
            "baxis": {
             "endlinecolor": "#2a3f5f",
             "gridcolor": "white",
             "linecolor": "white",
             "minorgridcolor": "white",
             "startlinecolor": "#2a3f5f"
            },
            "type": "carpet"
           }
          ],
          "choropleth": [
           {
            "colorbar": {
             "outlinewidth": 0,
             "ticks": ""
            },
            "type": "choropleth"
           }
          ],
          "contour": [
           {
            "colorbar": {
             "outlinewidth": 0,
             "ticks": ""
            },
            "colorscale": [
             [
              0,
              "#0d0887"
             ],
             [
              0.1111111111111111,
              "#46039f"
             ],
             [
              0.2222222222222222,
              "#7201a8"
             ],
             [
              0.3333333333333333,
              "#9c179e"
             ],
             [
              0.4444444444444444,
              "#bd3786"
             ],
             [
              0.5555555555555556,
              "#d8576b"
             ],
             [
              0.6666666666666666,
              "#ed7953"
             ],
             [
              0.7777777777777778,
              "#fb9f3a"
             ],
             [
              0.8888888888888888,
              "#fdca26"
             ],
             [
              1,
              "#f0f921"
             ]
            ],
            "type": "contour"
           }
          ],
          "contourcarpet": [
           {
            "colorbar": {
             "outlinewidth": 0,
             "ticks": ""
            },
            "type": "contourcarpet"
           }
          ],
          "heatmap": [
           {
            "colorbar": {
             "outlinewidth": 0,
             "ticks": ""
            },
            "colorscale": [
             [
              0,
              "#0d0887"
             ],
             [
              0.1111111111111111,
              "#46039f"
             ],
             [
              0.2222222222222222,
              "#7201a8"
             ],
             [
              0.3333333333333333,
              "#9c179e"
             ],
             [
              0.4444444444444444,
              "#bd3786"
             ],
             [
              0.5555555555555556,
              "#d8576b"
             ],
             [
              0.6666666666666666,
              "#ed7953"
             ],
             [
              0.7777777777777778,
              "#fb9f3a"
             ],
             [
              0.8888888888888888,
              "#fdca26"
             ],
             [
              1,
              "#f0f921"
             ]
            ],
            "type": "heatmap"
           }
          ],
          "histogram": [
           {
            "marker": {
             "pattern": {
              "fillmode": "overlay",
              "size": 10,
              "solidity": 0.2
             }
            },
            "type": "histogram"
           }
          ],
          "histogram2d": [
           {
            "colorbar": {
             "outlinewidth": 0,
             "ticks": ""
            },
            "colorscale": [
             [
              0,
              "#0d0887"
             ],
             [
              0.1111111111111111,
              "#46039f"
             ],
             [
              0.2222222222222222,
              "#7201a8"
             ],
             [
              0.3333333333333333,
              "#9c179e"
             ],
             [
              0.4444444444444444,
              "#bd3786"
             ],
             [
              0.5555555555555556,
              "#d8576b"
             ],
             [
              0.6666666666666666,
              "#ed7953"
             ],
             [
              0.7777777777777778,
              "#fb9f3a"
             ],
             [
              0.8888888888888888,
              "#fdca26"
             ],
             [
              1,
              "#f0f921"
             ]
            ],
            "type": "histogram2d"
           }
          ],
          "histogram2dcontour": [
           {
            "colorbar": {
             "outlinewidth": 0,
             "ticks": ""
            },
            "colorscale": [
             [
              0,
              "#0d0887"
             ],
             [
              0.1111111111111111,
              "#46039f"
             ],
             [
              0.2222222222222222,
              "#7201a8"
             ],
             [
              0.3333333333333333,
              "#9c179e"
             ],
             [
              0.4444444444444444,
              "#bd3786"
             ],
             [
              0.5555555555555556,
              "#d8576b"
             ],
             [
              0.6666666666666666,
              "#ed7953"
             ],
             [
              0.7777777777777778,
              "#fb9f3a"
             ],
             [
              0.8888888888888888,
              "#fdca26"
             ],
             [
              1,
              "#f0f921"
             ]
            ],
            "type": "histogram2dcontour"
           }
          ],
          "mesh3d": [
           {
            "colorbar": {
             "outlinewidth": 0,
             "ticks": ""
            },
            "type": "mesh3d"
           }
          ],
          "parcoords": [
           {
            "line": {
             "colorbar": {
              "outlinewidth": 0,
              "ticks": ""
             }
            },
            "type": "parcoords"
           }
          ],
          "pie": [
           {
            "automargin": true,
            "type": "pie"
           }
          ],
          "scatter": [
           {
            "fillpattern": {
             "fillmode": "overlay",
             "size": 10,
             "solidity": 0.2
            },
            "type": "scatter"
           }
          ],
          "scatter3d": [
           {
            "line": {
             "colorbar": {
              "outlinewidth": 0,
              "ticks": ""
             }
            },
            "marker": {
             "colorbar": {
              "outlinewidth": 0,
              "ticks": ""
             }
            },
            "type": "scatter3d"
           }
          ],
          "scattercarpet": [
           {
            "marker": {
             "colorbar": {
              "outlinewidth": 0,
              "ticks": ""
             }
            },
            "type": "scattercarpet"
           }
          ],
          "scattergeo": [
           {
            "marker": {
             "colorbar": {
              "outlinewidth": 0,
              "ticks": ""
             }
            },
            "type": "scattergeo"
           }
          ],
          "scattergl": [
           {
            "marker": {
             "colorbar": {
              "outlinewidth": 0,
              "ticks": ""
             }
            },
            "type": "scattergl"
           }
          ],
          "scattermap": [
           {
            "marker": {
             "colorbar": {
              "outlinewidth": 0,
              "ticks": ""
             }
            },
            "type": "scattermap"
           }
          ],
          "scattermapbox": [
           {
            "marker": {
             "colorbar": {
              "outlinewidth": 0,
              "ticks": ""
             }
            },
            "type": "scattermapbox"
           }
          ],
          "scatterpolar": [
           {
            "marker": {
             "colorbar": {
              "outlinewidth": 0,
              "ticks": ""
             }
            },
            "type": "scatterpolar"
           }
          ],
          "scatterpolargl": [
           {
            "marker": {
             "colorbar": {
              "outlinewidth": 0,
              "ticks": ""
             }
            },
            "type": "scatterpolargl"
           }
          ],
          "scatterternary": [
           {
            "marker": {
             "colorbar": {
              "outlinewidth": 0,
              "ticks": ""
             }
            },
            "type": "scatterternary"
           }
          ],
          "surface": [
           {
            "colorbar": {
             "outlinewidth": 0,
             "ticks": ""
            },
            "colorscale": [
             [
              0,
              "#0d0887"
             ],
             [
              0.1111111111111111,
              "#46039f"
             ],
             [
              0.2222222222222222,
              "#7201a8"
             ],
             [
              0.3333333333333333,
              "#9c179e"
             ],
             [
              0.4444444444444444,
              "#bd3786"
             ],
             [
              0.5555555555555556,
              "#d8576b"
             ],
             [
              0.6666666666666666,
              "#ed7953"
             ],
             [
              0.7777777777777778,
              "#fb9f3a"
             ],
             [
              0.8888888888888888,
              "#fdca26"
             ],
             [
              1,
              "#f0f921"
             ]
            ],
            "type": "surface"
           }
          ],
          "table": [
           {
            "cells": {
             "fill": {
              "color": "#EBF0F8"
             },
             "line": {
              "color": "white"
             }
            },
            "header": {
             "fill": {
              "color": "#C8D4E3"
             },
             "line": {
              "color": "white"
             }
            },
            "type": "table"
           }
          ]
         },
         "layout": {
          "annotationdefaults": {
           "arrowcolor": "#2a3f5f",
           "arrowhead": 0,
           "arrowwidth": 1
          },
          "autotypenumbers": "strict",
          "coloraxis": {
           "colorbar": {
            "outlinewidth": 0,
            "ticks": ""
           }
          },
          "colorscale": {
           "diverging": [
            [
             0,
             "#8e0152"
            ],
            [
             0.1,
             "#c51b7d"
            ],
            [
             0.2,
             "#de77ae"
            ],
            [
             0.3,
             "#f1b6da"
            ],
            [
             0.4,
             "#fde0ef"
            ],
            [
             0.5,
             "#f7f7f7"
            ],
            [
             0.6,
             "#e6f5d0"
            ],
            [
             0.7,
             "#b8e186"
            ],
            [
             0.8,
             "#7fbc41"
            ],
            [
             0.9,
             "#4d9221"
            ],
            [
             1,
             "#276419"
            ]
           ],
           "sequential": [
            [
             0,
             "#0d0887"
            ],
            [
             0.1111111111111111,
             "#46039f"
            ],
            [
             0.2222222222222222,
             "#7201a8"
            ],
            [
             0.3333333333333333,
             "#9c179e"
            ],
            [
             0.4444444444444444,
             "#bd3786"
            ],
            [
             0.5555555555555556,
             "#d8576b"
            ],
            [
             0.6666666666666666,
             "#ed7953"
            ],
            [
             0.7777777777777778,
             "#fb9f3a"
            ],
            [
             0.8888888888888888,
             "#fdca26"
            ],
            [
             1,
             "#f0f921"
            ]
           ],
           "sequentialminus": [
            [
             0,
             "#0d0887"
            ],
            [
             0.1111111111111111,
             "#46039f"
            ],
            [
             0.2222222222222222,
             "#7201a8"
            ],
            [
             0.3333333333333333,
             "#9c179e"
            ],
            [
             0.4444444444444444,
             "#bd3786"
            ],
            [
             0.5555555555555556,
             "#d8576b"
            ],
            [
             0.6666666666666666,
             "#ed7953"
            ],
            [
             0.7777777777777778,
             "#fb9f3a"
            ],
            [
             0.8888888888888888,
             "#fdca26"
            ],
            [
             1,
             "#f0f921"
            ]
           ]
          },
          "colorway": [
           "#636efa",
           "#EF553B",
           "#00cc96",
           "#ab63fa",
           "#FFA15A",
           "#19d3f3",
           "#FF6692",
           "#B6E880",
           "#FF97FF",
           "#FECB52"
          ],
          "font": {
           "color": "#2a3f5f"
          },
          "geo": {
           "bgcolor": "white",
           "lakecolor": "white",
           "landcolor": "#E5ECF6",
           "showlakes": true,
           "showland": true,
           "subunitcolor": "white"
          },
          "hoverlabel": {
           "align": "left"
          },
          "hovermode": "closest",
          "mapbox": {
           "style": "light"
          },
          "paper_bgcolor": "white",
          "plot_bgcolor": "#E5ECF6",
          "polar": {
           "angularaxis": {
            "gridcolor": "white",
            "linecolor": "white",
            "ticks": ""
           },
           "bgcolor": "#E5ECF6",
           "radialaxis": {
            "gridcolor": "white",
            "linecolor": "white",
            "ticks": ""
           }
          },
          "scene": {
           "xaxis": {
            "backgroundcolor": "#E5ECF6",
            "gridcolor": "white",
            "gridwidth": 2,
            "linecolor": "white",
            "showbackground": true,
            "ticks": "",
            "zerolinecolor": "white"
           },
           "yaxis": {
            "backgroundcolor": "#E5ECF6",
            "gridcolor": "white",
            "gridwidth": 2,
            "linecolor": "white",
            "showbackground": true,
            "ticks": "",
            "zerolinecolor": "white"
           },
           "zaxis": {
            "backgroundcolor": "#E5ECF6",
            "gridcolor": "white",
            "gridwidth": 2,
            "linecolor": "white",
            "showbackground": true,
            "ticks": "",
            "zerolinecolor": "white"
           }
          },
          "shapedefaults": {
           "line": {
            "color": "#2a3f5f"
           }
          },
          "ternary": {
           "aaxis": {
            "gridcolor": "white",
            "linecolor": "white",
            "ticks": ""
           },
           "baxis": {
            "gridcolor": "white",
            "linecolor": "white",
            "ticks": ""
           },
           "bgcolor": "#E5ECF6",
           "caxis": {
            "gridcolor": "white",
            "linecolor": "white",
            "ticks": ""
           }
          },
          "title": {
           "x": 0.05
          },
          "xaxis": {
           "automargin": true,
           "gridcolor": "white",
           "linecolor": "white",
           "ticks": "",
           "title": {
            "standoff": 15
           },
           "zerolinecolor": "white",
           "zerolinewidth": 2
          },
          "yaxis": {
           "automargin": true,
           "gridcolor": "white",
           "linecolor": "white",
           "ticks": "",
           "title": {
            "standoff": 15
           },
           "zerolinecolor": "white",
           "zerolinewidth": 2
          }
         }
        },
        "xaxis": {
         "anchor": "y",
         "domain": [
          0,
          1
         ],
         "title": {
          "text": "MAJOR"
         }
        },
        "yaxis": {
         "anchor": "x",
         "domain": [
          0,
          1
         ],
         "title": {
          "text": "COUNT"
         }
        }
       }
      }
     },
     "metadata": {},
     "output_type": "display_data"
    }
   ],
   "source": [
    "fig = px.bar(major_df,x=\"MAJOR\",y=\"COUNT\")\n",
    "fig.show()"
   ]
  },
  {
   "cell_type": "code",
   "execution_count": 370,
   "metadata": {},
   "outputs": [
    {
     "data": {
      "application/vnd.plotly.v1+json": {
       "config": {
        "plotlyServerURL": "https://plot.ly"
       },
       "data": [
        {
         "customdata": {
          "bdata": "+eIZAFED2ADz6+0A5ig8AEsMlACk0zIArlc2ACJGtAHXQQAAi+w8AOlbKQBT24AA6n8nAA==",
          "dtype": "i4",
          "shape": "13, 1"
         },
         "hovertemplate": "<b>%{hovertext}</b><br><br>Number of Professionals=%{marker.color:.0f}<br>MAJOR=%{theta}<extra></extra>",
         "hovertext": [
          "Agriculture, natural resources and conservation",
          "Architecture, engineering, and related trades",
          "Business, management and public administration",
          "Education",
          "Health and related fields",
          "Humanities",
          "Mathematics, computer and information sciences",
          "No postsecondary certificate, diploma or degree",
          "Other",
          "Personal, protective and transportation services",
          "Physical and life sciences and technologies",
          "Social and behavioural sciences and law",
          "Visual and performing arts, and communications technologies"
         ],
         "legendgroup": "",
         "marker": {
          "color": {
           "bdata": "+eIZAFED2ADz6+0A5ig8AEsMlACk0zIArlc2ACJGtAHXQQAAi+w8AOlbKQBT24AA6n8nAA==",
           "dtype": "i4"
          },
          "coloraxis": "coloraxis",
          "pattern": {
           "shape": ""
          }
         },
         "name": "",
         "r": {
          "bdata": "+eIZAFED2ADz6+0A5ig8AEsMlACk0zIArlc2ACJGtAHXQQAAi+w8AOlbKQBT24AA6n8nAA==",
          "dtype": "i4"
         },
         "showlegend": false,
         "subplot": "polar",
         "theta": [
          "Agriculture, natural resources and conservation",
          "Architecture, engineering, and related trades",
          "Business, management and public administration",
          "Education",
          "Health and related fields",
          "Humanities",
          "Mathematics, computer and information sciences",
          "No postsecondary certificate, diploma or degree",
          "Other",
          "Personal, protective and transportation services",
          "Physical and life sciences and technologies",
          "Social and behavioural sciences and law",
          "Visual and performing arts, and communications technologies"
         ],
         "type": "barpolar"
        }
       ],
       "layout": {
        "barmode": "relative",
        "coloraxis": {
         "colorbar": {
          "title": {
           "text": "Count"
          }
         },
         "colorscale": [
          [
           0,
           "#0d0887"
          ],
          [
           0.1111111111111111,
           "#46039f"
          ],
          [
           0.2222222222222222,
           "#7201a8"
          ],
          [
           0.3333333333333333,
           "#9c179e"
          ],
          [
           0.4444444444444444,
           "#bd3786"
          ],
          [
           0.5555555555555556,
           "#d8576b"
          ],
          [
           0.6666666666666666,
           "#ed7953"
          ],
          [
           0.7777777777777778,
           "#fb9f3a"
          ],
          [
           0.8888888888888888,
           "#fdca26"
          ],
          [
           1,
           "#f0f921"
          ]
         ]
        },
        "font": {
         "family": "Arial",
         "size": 12
        },
        "legend": {
         "tracegroupgap": 0
        },
        "margin": {
         "b": 50,
         "l": 50,
         "r": 50,
         "t": 50
        },
        "polar": {
         "angularaxis": {
          "direction": "clockwise",
          "rotation": 90,
          "showticklabels": true,
          "tickfont": {
           "size": 12
          }
         },
         "domain": {
          "x": [
           0,
           1
          ],
          "y": [
           0,
           1
          ]
         },
         "radialaxis": {
          "showticklabels": true,
          "type": "log",
          "visible": true
         }
        },
        "template": {
         "data": {
          "bar": [
           {
            "error_x": {
             "color": "#2a3f5f"
            },
            "error_y": {
             "color": "#2a3f5f"
            },
            "marker": {
             "line": {
              "color": "#E5ECF6",
              "width": 0.5
             },
             "pattern": {
              "fillmode": "overlay",
              "size": 10,
              "solidity": 0.2
             }
            },
            "type": "bar"
           }
          ],
          "barpolar": [
           {
            "marker": {
             "line": {
              "color": "#E5ECF6",
              "width": 0.5
             },
             "pattern": {
              "fillmode": "overlay",
              "size": 10,
              "solidity": 0.2
             }
            },
            "type": "barpolar"
           }
          ],
          "carpet": [
           {
            "aaxis": {
             "endlinecolor": "#2a3f5f",
             "gridcolor": "white",
             "linecolor": "white",
             "minorgridcolor": "white",
             "startlinecolor": "#2a3f5f"
            },
            "baxis": {
             "endlinecolor": "#2a3f5f",
             "gridcolor": "white",
             "linecolor": "white",
             "minorgridcolor": "white",
             "startlinecolor": "#2a3f5f"
            },
            "type": "carpet"
           }
          ],
          "choropleth": [
           {
            "colorbar": {
             "outlinewidth": 0,
             "ticks": ""
            },
            "type": "choropleth"
           }
          ],
          "contour": [
           {
            "colorbar": {
             "outlinewidth": 0,
             "ticks": ""
            },
            "colorscale": [
             [
              0,
              "#0d0887"
             ],
             [
              0.1111111111111111,
              "#46039f"
             ],
             [
              0.2222222222222222,
              "#7201a8"
             ],
             [
              0.3333333333333333,
              "#9c179e"
             ],
             [
              0.4444444444444444,
              "#bd3786"
             ],
             [
              0.5555555555555556,
              "#d8576b"
             ],
             [
              0.6666666666666666,
              "#ed7953"
             ],
             [
              0.7777777777777778,
              "#fb9f3a"
             ],
             [
              0.8888888888888888,
              "#fdca26"
             ],
             [
              1,
              "#f0f921"
             ]
            ],
            "type": "contour"
           }
          ],
          "contourcarpet": [
           {
            "colorbar": {
             "outlinewidth": 0,
             "ticks": ""
            },
            "type": "contourcarpet"
           }
          ],
          "heatmap": [
           {
            "colorbar": {
             "outlinewidth": 0,
             "ticks": ""
            },
            "colorscale": [
             [
              0,
              "#0d0887"
             ],
             [
              0.1111111111111111,
              "#46039f"
             ],
             [
              0.2222222222222222,
              "#7201a8"
             ],
             [
              0.3333333333333333,
              "#9c179e"
             ],
             [
              0.4444444444444444,
              "#bd3786"
             ],
             [
              0.5555555555555556,
              "#d8576b"
             ],
             [
              0.6666666666666666,
              "#ed7953"
             ],
             [
              0.7777777777777778,
              "#fb9f3a"
             ],
             [
              0.8888888888888888,
              "#fdca26"
             ],
             [
              1,
              "#f0f921"
             ]
            ],
            "type": "heatmap"
           }
          ],
          "histogram": [
           {
            "marker": {
             "pattern": {
              "fillmode": "overlay",
              "size": 10,
              "solidity": 0.2
             }
            },
            "type": "histogram"
           }
          ],
          "histogram2d": [
           {
            "colorbar": {
             "outlinewidth": 0,
             "ticks": ""
            },
            "colorscale": [
             [
              0,
              "#0d0887"
             ],
             [
              0.1111111111111111,
              "#46039f"
             ],
             [
              0.2222222222222222,
              "#7201a8"
             ],
             [
              0.3333333333333333,
              "#9c179e"
             ],
             [
              0.4444444444444444,
              "#bd3786"
             ],
             [
              0.5555555555555556,
              "#d8576b"
             ],
             [
              0.6666666666666666,
              "#ed7953"
             ],
             [
              0.7777777777777778,
              "#fb9f3a"
             ],
             [
              0.8888888888888888,
              "#fdca26"
             ],
             [
              1,
              "#f0f921"
             ]
            ],
            "type": "histogram2d"
           }
          ],
          "histogram2dcontour": [
           {
            "colorbar": {
             "outlinewidth": 0,
             "ticks": ""
            },
            "colorscale": [
             [
              0,
              "#0d0887"
             ],
             [
              0.1111111111111111,
              "#46039f"
             ],
             [
              0.2222222222222222,
              "#7201a8"
             ],
             [
              0.3333333333333333,
              "#9c179e"
             ],
             [
              0.4444444444444444,
              "#bd3786"
             ],
             [
              0.5555555555555556,
              "#d8576b"
             ],
             [
              0.6666666666666666,
              "#ed7953"
             ],
             [
              0.7777777777777778,
              "#fb9f3a"
             ],
             [
              0.8888888888888888,
              "#fdca26"
             ],
             [
              1,
              "#f0f921"
             ]
            ],
            "type": "histogram2dcontour"
           }
          ],
          "mesh3d": [
           {
            "colorbar": {
             "outlinewidth": 0,
             "ticks": ""
            },
            "type": "mesh3d"
           }
          ],
          "parcoords": [
           {
            "line": {
             "colorbar": {
              "outlinewidth": 0,
              "ticks": ""
             }
            },
            "type": "parcoords"
           }
          ],
          "pie": [
           {
            "automargin": true,
            "type": "pie"
           }
          ],
          "scatter": [
           {
            "fillpattern": {
             "fillmode": "overlay",
             "size": 10,
             "solidity": 0.2
            },
            "type": "scatter"
           }
          ],
          "scatter3d": [
           {
            "line": {
             "colorbar": {
              "outlinewidth": 0,
              "ticks": ""
             }
            },
            "marker": {
             "colorbar": {
              "outlinewidth": 0,
              "ticks": ""
             }
            },
            "type": "scatter3d"
           }
          ],
          "scattercarpet": [
           {
            "marker": {
             "colorbar": {
              "outlinewidth": 0,
              "ticks": ""
             }
            },
            "type": "scattercarpet"
           }
          ],
          "scattergeo": [
           {
            "marker": {
             "colorbar": {
              "outlinewidth": 0,
              "ticks": ""
             }
            },
            "type": "scattergeo"
           }
          ],
          "scattergl": [
           {
            "marker": {
             "colorbar": {
              "outlinewidth": 0,
              "ticks": ""
             }
            },
            "type": "scattergl"
           }
          ],
          "scattermap": [
           {
            "marker": {
             "colorbar": {
              "outlinewidth": 0,
              "ticks": ""
             }
            },
            "type": "scattermap"
           }
          ],
          "scattermapbox": [
           {
            "marker": {
             "colorbar": {
              "outlinewidth": 0,
              "ticks": ""
             }
            },
            "type": "scattermapbox"
           }
          ],
          "scatterpolar": [
           {
            "marker": {
             "colorbar": {
              "outlinewidth": 0,
              "ticks": ""
             }
            },
            "type": "scatterpolar"
           }
          ],
          "scatterpolargl": [
           {
            "marker": {
             "colorbar": {
              "outlinewidth": 0,
              "ticks": ""
             }
            },
            "type": "scatterpolargl"
           }
          ],
          "scatterternary": [
           {
            "marker": {
             "colorbar": {
              "outlinewidth": 0,
              "ticks": ""
             }
            },
            "type": "scatterternary"
           }
          ],
          "surface": [
           {
            "colorbar": {
             "outlinewidth": 0,
             "ticks": ""
            },
            "colorscale": [
             [
              0,
              "#0d0887"
             ],
             [
              0.1111111111111111,
              "#46039f"
             ],
             [
              0.2222222222222222,
              "#7201a8"
             ],
             [
              0.3333333333333333,
              "#9c179e"
             ],
             [
              0.4444444444444444,
              "#bd3786"
             ],
             [
              0.5555555555555556,
              "#d8576b"
             ],
             [
              0.6666666666666666,
              "#ed7953"
             ],
             [
              0.7777777777777778,
              "#fb9f3a"
             ],
             [
              0.8888888888888888,
              "#fdca26"
             ],
             [
              1,
              "#f0f921"
             ]
            ],
            "type": "surface"
           }
          ],
          "table": [
           {
            "cells": {
             "fill": {
              "color": "#EBF0F8"
             },
             "line": {
              "color": "white"
             }
            },
            "header": {
             "fill": {
              "color": "#C8D4E3"
             },
             "line": {
              "color": "white"
             }
            },
            "type": "table"
           }
          ]
         },
         "layout": {
          "annotationdefaults": {
           "arrowcolor": "#2a3f5f",
           "arrowhead": 0,
           "arrowwidth": 1
          },
          "autotypenumbers": "strict",
          "coloraxis": {
           "colorbar": {
            "outlinewidth": 0,
            "ticks": ""
           }
          },
          "colorscale": {
           "diverging": [
            [
             0,
             "#8e0152"
            ],
            [
             0.1,
             "#c51b7d"
            ],
            [
             0.2,
             "#de77ae"
            ],
            [
             0.3,
             "#f1b6da"
            ],
            [
             0.4,
             "#fde0ef"
            ],
            [
             0.5,
             "#f7f7f7"
            ],
            [
             0.6,
             "#e6f5d0"
            ],
            [
             0.7,
             "#b8e186"
            ],
            [
             0.8,
             "#7fbc41"
            ],
            [
             0.9,
             "#4d9221"
            ],
            [
             1,
             "#276419"
            ]
           ],
           "sequential": [
            [
             0,
             "#0d0887"
            ],
            [
             0.1111111111111111,
             "#46039f"
            ],
            [
             0.2222222222222222,
             "#7201a8"
            ],
            [
             0.3333333333333333,
             "#9c179e"
            ],
            [
             0.4444444444444444,
             "#bd3786"
            ],
            [
             0.5555555555555556,
             "#d8576b"
            ],
            [
             0.6666666666666666,
             "#ed7953"
            ],
            [
             0.7777777777777778,
             "#fb9f3a"
            ],
            [
             0.8888888888888888,
             "#fdca26"
            ],
            [
             1,
             "#f0f921"
            ]
           ],
           "sequentialminus": [
            [
             0,
             "#0d0887"
            ],
            [
             0.1111111111111111,
             "#46039f"
            ],
            [
             0.2222222222222222,
             "#7201a8"
            ],
            [
             0.3333333333333333,
             "#9c179e"
            ],
            [
             0.4444444444444444,
             "#bd3786"
            ],
            [
             0.5555555555555556,
             "#d8576b"
            ],
            [
             0.6666666666666666,
             "#ed7953"
            ],
            [
             0.7777777777777778,
             "#fb9f3a"
            ],
            [
             0.8888888888888888,
             "#fdca26"
            ],
            [
             1,
             "#f0f921"
            ]
           ]
          },
          "colorway": [
           "#636efa",
           "#EF553B",
           "#00cc96",
           "#ab63fa",
           "#FFA15A",
           "#19d3f3",
           "#FF6692",
           "#B6E880",
           "#FF97FF",
           "#FECB52"
          ],
          "font": {
           "color": "#2a3f5f"
          },
          "geo": {
           "bgcolor": "white",
           "lakecolor": "white",
           "landcolor": "#E5ECF6",
           "showlakes": true,
           "showland": true,
           "subunitcolor": "white"
          },
          "hoverlabel": {
           "align": "left"
          },
          "hovermode": "closest",
          "mapbox": {
           "style": "light"
          },
          "paper_bgcolor": "white",
          "plot_bgcolor": "#E5ECF6",
          "polar": {
           "angularaxis": {
            "gridcolor": "white",
            "linecolor": "white",
            "ticks": ""
           },
           "bgcolor": "#E5ECF6",
           "radialaxis": {
            "gridcolor": "white",
            "linecolor": "white",
            "ticks": ""
           }
          },
          "scene": {
           "xaxis": {
            "backgroundcolor": "#E5ECF6",
            "gridcolor": "white",
            "gridwidth": 2,
            "linecolor": "white",
            "showbackground": true,
            "ticks": "",
            "zerolinecolor": "white"
           },
           "yaxis": {
            "backgroundcolor": "#E5ECF6",
            "gridcolor": "white",
            "gridwidth": 2,
            "linecolor": "white",
            "showbackground": true,
            "ticks": "",
            "zerolinecolor": "white"
           },
           "zaxis": {
            "backgroundcolor": "#E5ECF6",
            "gridcolor": "white",
            "gridwidth": 2,
            "linecolor": "white",
            "showbackground": true,
            "ticks": "",
            "zerolinecolor": "white"
           }
          },
          "shapedefaults": {
           "line": {
            "color": "#2a3f5f"
           }
          },
          "ternary": {
           "aaxis": {
            "gridcolor": "white",
            "linecolor": "white",
            "ticks": ""
           },
           "baxis": {
            "gridcolor": "white",
            "linecolor": "white",
            "ticks": ""
           },
           "bgcolor": "#E5ECF6",
           "caxis": {
            "gridcolor": "white",
            "linecolor": "white",
            "ticks": ""
           }
          },
          "title": {
           "x": 0.05
          },
          "xaxis": {
           "automargin": true,
           "gridcolor": "white",
           "linecolor": "white",
           "ticks": "",
           "title": {
            "standoff": 15
           },
           "zerolinecolor": "white",
           "zerolinewidth": 2
          },
          "yaxis": {
           "automargin": true,
           "gridcolor": "white",
           "linecolor": "white",
           "ticks": "",
           "title": {
            "standoff": 15
           },
           "zerolinecolor": "white",
           "zerolinewidth": 2
          }
         }
        },
        "title": {
         "font": {
          "size": 20
         }
        },
        "width": 900
       }
      }
     },
     "metadata": {},
     "output_type": "display_data"
    }
   ],
   "source": [
    "import plotly.express as px\n",
    "\n",
    "fig = px.bar_polar(\n",
    "    major_df,\n",
    "    theta=\"MAJOR\",\n",
    "    r=\"COUNT\",\n",
    "    log_r=True,\n",
    "    # Visual enhancements:\n",
    "    color=\"COUNT\",  # Color bars by count\n",
    "    color_discrete_sequence=px.colors.qualitative.Pastel2_r,\n",
    "    hover_name=\"MAJOR\",\n",
    "    hover_data={\"COUNT\": \":.0f\"},  # Format count display\n",
    "    labels={\n",
    "        \"COUNT\": \"Number of Professionals\",\n",
    "    },\n",
    "    width=900,\n",
    "    \n",
    ")\n",
    "\n",
    "# Further customization:\n",
    "fig.update_layout(\n",
    "    polar=dict(\n",
    "        radialaxis=dict(visible=True, showticklabels=True),\n",
    "        angularaxis=dict(showticklabels=True, tickfont=dict(size=12)),\n",
    "    ),\n",
    "    font=dict(family=\"Arial\", size=12),\n",
    "    coloraxis_colorbar=dict(title=\"Count\"),\n",
    "    title_font=dict(size=20),\n",
    "    margin=dict(t=50, b=50, l=50, r=50),\n",
    ")\n",
    "\n",
    "fig.show()"
   ]
  },
  {
   "cell_type": "code",
   "execution_count": null,
   "metadata": {},
   "outputs": [],
   "source": []
  },
  {
   "cell_type": "code",
   "execution_count": 358,
   "metadata": {},
   "outputs": [
    {
     "data": {
      "application/vnd.plotly.v1+json": {
       "config": {
        "plotlyServerURL": "https://plot.ly"
       },
       "data": [
        {
         "cliponaxis": false,
         "hovertemplate": "Number of Professoinal (log scale)=%{marker.color}<br>Major=%{y}<extra></extra>",
         "legendgroup": "",
         "marker": {
          "color": {
           "bdata": "+eIZAFED2ADz6+0A5ig8AEsMlACk0zIArlc2ACJGtAHXQQAAi+w8AOlbKQBT24AA6n8nAA==",
           "dtype": "i4"
          },
          "coloraxis": "coloraxis",
          "pattern": {
           "shape": ""
          }
         },
         "name": "",
         "orientation": "h",
         "showlegend": false,
         "textfont": {
          "size": 12
         },
         "textposition": "outside",
         "texttemplate": "%{x:.2s}",
         "type": "bar",
         "x": {
          "bdata": "+eIZAFED2ADz6+0A5ig8AEsMlACk0zIArlc2ACJGtAHXQQAAi+w8AOlbKQBT24AA6n8nAA==",
          "dtype": "i4"
         },
         "xaxis": "x",
         "y": [
          "Agriculture, natural resources and conservation",
          "Architecture, engineering, and related trades",
          "Business, management and public administration",
          "Education",
          "Health and related fields",
          "Humanities",
          "Mathematics, computer and information sciences",
          "No postsecondary certificate, diploma or degree",
          "Other",
          "Personal, protective and transportation services",
          "Physical and life sciences and technologies",
          "Social and behavioural sciences and law",
          "Visual and performing arts, and communications technologies"
         ],
         "yaxis": "y"
        }
       ],
       "layout": {
        "barmode": "relative",
        "coloraxis": {
         "colorbar": {
          "title": {
           "text": "Count"
          }
         },
         "colorscale": [
          [
           0,
           "#0d0887"
          ],
          [
           0.1111111111111111,
           "#46039f"
          ],
          [
           0.2222222222222222,
           "#7201a8"
          ],
          [
           0.3333333333333333,
           "#9c179e"
          ],
          [
           0.4444444444444444,
           "#bd3786"
          ],
          [
           0.5555555555555556,
           "#d8576b"
          ],
          [
           0.6666666666666666,
           "#ed7953"
          ],
          [
           0.7777777777777778,
           "#fb9f3a"
          ],
          [
           0.8888888888888888,
           "#fdca26"
          ],
          [
           1,
           "#f0f921"
          ]
         ]
        },
        "font": {
         "family": "Arial",
         "size": 12
        },
        "height": 800,
        "legend": {
         "tracegroupgap": 0
        },
        "margin": {
         "b": 0,
         "l": 0,
         "r": 0,
         "t": 0
        },
        "template": {
         "data": {
          "bar": [
           {
            "error_x": {
             "color": "#2a3f5f"
            },
            "error_y": {
             "color": "#2a3f5f"
            },
            "marker": {
             "line": {
              "color": "white",
              "width": 0.5
             },
             "pattern": {
              "fillmode": "overlay",
              "size": 10,
              "solidity": 0.2
             }
            },
            "type": "bar"
           }
          ],
          "barpolar": [
           {
            "marker": {
             "line": {
              "color": "white",
              "width": 0.5
             },
             "pattern": {
              "fillmode": "overlay",
              "size": 10,
              "solidity": 0.2
             }
            },
            "type": "barpolar"
           }
          ],
          "carpet": [
           {
            "aaxis": {
             "endlinecolor": "#2a3f5f",
             "gridcolor": "#C8D4E3",
             "linecolor": "#C8D4E3",
             "minorgridcolor": "#C8D4E3",
             "startlinecolor": "#2a3f5f"
            },
            "baxis": {
             "endlinecolor": "#2a3f5f",
             "gridcolor": "#C8D4E3",
             "linecolor": "#C8D4E3",
             "minorgridcolor": "#C8D4E3",
             "startlinecolor": "#2a3f5f"
            },
            "type": "carpet"
           }
          ],
          "choropleth": [
           {
            "colorbar": {
             "outlinewidth": 0,
             "ticks": ""
            },
            "type": "choropleth"
           }
          ],
          "contour": [
           {
            "colorbar": {
             "outlinewidth": 0,
             "ticks": ""
            },
            "colorscale": [
             [
              0,
              "#0d0887"
             ],
             [
              0.1111111111111111,
              "#46039f"
             ],
             [
              0.2222222222222222,
              "#7201a8"
             ],
             [
              0.3333333333333333,
              "#9c179e"
             ],
             [
              0.4444444444444444,
              "#bd3786"
             ],
             [
              0.5555555555555556,
              "#d8576b"
             ],
             [
              0.6666666666666666,
              "#ed7953"
             ],
             [
              0.7777777777777778,
              "#fb9f3a"
             ],
             [
              0.8888888888888888,
              "#fdca26"
             ],
             [
              1,
              "#f0f921"
             ]
            ],
            "type": "contour"
           }
          ],
          "contourcarpet": [
           {
            "colorbar": {
             "outlinewidth": 0,
             "ticks": ""
            },
            "type": "contourcarpet"
           }
          ],
          "heatmap": [
           {
            "colorbar": {
             "outlinewidth": 0,
             "ticks": ""
            },
            "colorscale": [
             [
              0,
              "#0d0887"
             ],
             [
              0.1111111111111111,
              "#46039f"
             ],
             [
              0.2222222222222222,
              "#7201a8"
             ],
             [
              0.3333333333333333,
              "#9c179e"
             ],
             [
              0.4444444444444444,
              "#bd3786"
             ],
             [
              0.5555555555555556,
              "#d8576b"
             ],
             [
              0.6666666666666666,
              "#ed7953"
             ],
             [
              0.7777777777777778,
              "#fb9f3a"
             ],
             [
              0.8888888888888888,
              "#fdca26"
             ],
             [
              1,
              "#f0f921"
             ]
            ],
            "type": "heatmap"
           }
          ],
          "histogram": [
           {
            "marker": {
             "pattern": {
              "fillmode": "overlay",
              "size": 10,
              "solidity": 0.2
             }
            },
            "type": "histogram"
           }
          ],
          "histogram2d": [
           {
            "colorbar": {
             "outlinewidth": 0,
             "ticks": ""
            },
            "colorscale": [
             [
              0,
              "#0d0887"
             ],
             [
              0.1111111111111111,
              "#46039f"
             ],
             [
              0.2222222222222222,
              "#7201a8"
             ],
             [
              0.3333333333333333,
              "#9c179e"
             ],
             [
              0.4444444444444444,
              "#bd3786"
             ],
             [
              0.5555555555555556,
              "#d8576b"
             ],
             [
              0.6666666666666666,
              "#ed7953"
             ],
             [
              0.7777777777777778,
              "#fb9f3a"
             ],
             [
              0.8888888888888888,
              "#fdca26"
             ],
             [
              1,
              "#f0f921"
             ]
            ],
            "type": "histogram2d"
           }
          ],
          "histogram2dcontour": [
           {
            "colorbar": {
             "outlinewidth": 0,
             "ticks": ""
            },
            "colorscale": [
             [
              0,
              "#0d0887"
             ],
             [
              0.1111111111111111,
              "#46039f"
             ],
             [
              0.2222222222222222,
              "#7201a8"
             ],
             [
              0.3333333333333333,
              "#9c179e"
             ],
             [
              0.4444444444444444,
              "#bd3786"
             ],
             [
              0.5555555555555556,
              "#d8576b"
             ],
             [
              0.6666666666666666,
              "#ed7953"
             ],
             [
              0.7777777777777778,
              "#fb9f3a"
             ],
             [
              0.8888888888888888,
              "#fdca26"
             ],
             [
              1,
              "#f0f921"
             ]
            ],
            "type": "histogram2dcontour"
           }
          ],
          "mesh3d": [
           {
            "colorbar": {
             "outlinewidth": 0,
             "ticks": ""
            },
            "type": "mesh3d"
           }
          ],
          "parcoords": [
           {
            "line": {
             "colorbar": {
              "outlinewidth": 0,
              "ticks": ""
             }
            },
            "type": "parcoords"
           }
          ],
          "pie": [
           {
            "automargin": true,
            "type": "pie"
           }
          ],
          "scatter": [
           {
            "fillpattern": {
             "fillmode": "overlay",
             "size": 10,
             "solidity": 0.2
            },
            "type": "scatter"
           }
          ],
          "scatter3d": [
           {
            "line": {
             "colorbar": {
              "outlinewidth": 0,
              "ticks": ""
             }
            },
            "marker": {
             "colorbar": {
              "outlinewidth": 0,
              "ticks": ""
             }
            },
            "type": "scatter3d"
           }
          ],
          "scattercarpet": [
           {
            "marker": {
             "colorbar": {
              "outlinewidth": 0,
              "ticks": ""
             }
            },
            "type": "scattercarpet"
           }
          ],
          "scattergeo": [
           {
            "marker": {
             "colorbar": {
              "outlinewidth": 0,
              "ticks": ""
             }
            },
            "type": "scattergeo"
           }
          ],
          "scattergl": [
           {
            "marker": {
             "colorbar": {
              "outlinewidth": 0,
              "ticks": ""
             }
            },
            "type": "scattergl"
           }
          ],
          "scattermap": [
           {
            "marker": {
             "colorbar": {
              "outlinewidth": 0,
              "ticks": ""
             }
            },
            "type": "scattermap"
           }
          ],
          "scattermapbox": [
           {
            "marker": {
             "colorbar": {
              "outlinewidth": 0,
              "ticks": ""
             }
            },
            "type": "scattermapbox"
           }
          ],
          "scatterpolar": [
           {
            "marker": {
             "colorbar": {
              "outlinewidth": 0,
              "ticks": ""
             }
            },
            "type": "scatterpolar"
           }
          ],
          "scatterpolargl": [
           {
            "marker": {
             "colorbar": {
              "outlinewidth": 0,
              "ticks": ""
             }
            },
            "type": "scatterpolargl"
           }
          ],
          "scatterternary": [
           {
            "marker": {
             "colorbar": {
              "outlinewidth": 0,
              "ticks": ""
             }
            },
            "type": "scatterternary"
           }
          ],
          "surface": [
           {
            "colorbar": {
             "outlinewidth": 0,
             "ticks": ""
            },
            "colorscale": [
             [
              0,
              "#0d0887"
             ],
             [
              0.1111111111111111,
              "#46039f"
             ],
             [
              0.2222222222222222,
              "#7201a8"
             ],
             [
              0.3333333333333333,
              "#9c179e"
             ],
             [
              0.4444444444444444,
              "#bd3786"
             ],
             [
              0.5555555555555556,
              "#d8576b"
             ],
             [
              0.6666666666666666,
              "#ed7953"
             ],
             [
              0.7777777777777778,
              "#fb9f3a"
             ],
             [
              0.8888888888888888,
              "#fdca26"
             ],
             [
              1,
              "#f0f921"
             ]
            ],
            "type": "surface"
           }
          ],
          "table": [
           {
            "cells": {
             "fill": {
              "color": "#EBF0F8"
             },
             "line": {
              "color": "white"
             }
            },
            "header": {
             "fill": {
              "color": "#C8D4E3"
             },
             "line": {
              "color": "white"
             }
            },
            "type": "table"
           }
          ]
         },
         "layout": {
          "annotationdefaults": {
           "arrowcolor": "#2a3f5f",
           "arrowhead": 0,
           "arrowwidth": 1
          },
          "autotypenumbers": "strict",
          "coloraxis": {
           "colorbar": {
            "outlinewidth": 0,
            "ticks": ""
           }
          },
          "colorscale": {
           "diverging": [
            [
             0,
             "#8e0152"
            ],
            [
             0.1,
             "#c51b7d"
            ],
            [
             0.2,
             "#de77ae"
            ],
            [
             0.3,
             "#f1b6da"
            ],
            [
             0.4,
             "#fde0ef"
            ],
            [
             0.5,
             "#f7f7f7"
            ],
            [
             0.6,
             "#e6f5d0"
            ],
            [
             0.7,
             "#b8e186"
            ],
            [
             0.8,
             "#7fbc41"
            ],
            [
             0.9,
             "#4d9221"
            ],
            [
             1,
             "#276419"
            ]
           ],
           "sequential": [
            [
             0,
             "#0d0887"
            ],
            [
             0.1111111111111111,
             "#46039f"
            ],
            [
             0.2222222222222222,
             "#7201a8"
            ],
            [
             0.3333333333333333,
             "#9c179e"
            ],
            [
             0.4444444444444444,
             "#bd3786"
            ],
            [
             0.5555555555555556,
             "#d8576b"
            ],
            [
             0.6666666666666666,
             "#ed7953"
            ],
            [
             0.7777777777777778,
             "#fb9f3a"
            ],
            [
             0.8888888888888888,
             "#fdca26"
            ],
            [
             1,
             "#f0f921"
            ]
           ],
           "sequentialminus": [
            [
             0,
             "#0d0887"
            ],
            [
             0.1111111111111111,
             "#46039f"
            ],
            [
             0.2222222222222222,
             "#7201a8"
            ],
            [
             0.3333333333333333,
             "#9c179e"
            ],
            [
             0.4444444444444444,
             "#bd3786"
            ],
            [
             0.5555555555555556,
             "#d8576b"
            ],
            [
             0.6666666666666666,
             "#ed7953"
            ],
            [
             0.7777777777777778,
             "#fb9f3a"
            ],
            [
             0.8888888888888888,
             "#fdca26"
            ],
            [
             1,
             "#f0f921"
            ]
           ]
          },
          "colorway": [
           "#636efa",
           "#EF553B",
           "#00cc96",
           "#ab63fa",
           "#FFA15A",
           "#19d3f3",
           "#FF6692",
           "#B6E880",
           "#FF97FF",
           "#FECB52"
          ],
          "font": {
           "color": "#2a3f5f"
          },
          "geo": {
           "bgcolor": "white",
           "lakecolor": "white",
           "landcolor": "white",
           "showlakes": true,
           "showland": true,
           "subunitcolor": "#C8D4E3"
          },
          "hoverlabel": {
           "align": "left"
          },
          "hovermode": "closest",
          "mapbox": {
           "style": "light"
          },
          "paper_bgcolor": "white",
          "plot_bgcolor": "white",
          "polar": {
           "angularaxis": {
            "gridcolor": "#EBF0F8",
            "linecolor": "#EBF0F8",
            "ticks": ""
           },
           "bgcolor": "white",
           "radialaxis": {
            "gridcolor": "#EBF0F8",
            "linecolor": "#EBF0F8",
            "ticks": ""
           }
          },
          "scene": {
           "xaxis": {
            "backgroundcolor": "white",
            "gridcolor": "#DFE8F3",
            "gridwidth": 2,
            "linecolor": "#EBF0F8",
            "showbackground": true,
            "ticks": "",
            "zerolinecolor": "#EBF0F8"
           },
           "yaxis": {
            "backgroundcolor": "white",
            "gridcolor": "#DFE8F3",
            "gridwidth": 2,
            "linecolor": "#EBF0F8",
            "showbackground": true,
            "ticks": "",
            "zerolinecolor": "#EBF0F8"
           },
           "zaxis": {
            "backgroundcolor": "white",
            "gridcolor": "#DFE8F3",
            "gridwidth": 2,
            "linecolor": "#EBF0F8",
            "showbackground": true,
            "ticks": "",
            "zerolinecolor": "#EBF0F8"
           }
          },
          "shapedefaults": {
           "line": {
            "color": "#2a3f5f"
           }
          },
          "ternary": {
           "aaxis": {
            "gridcolor": "#DFE8F3",
            "linecolor": "#A2B1C6",
            "ticks": ""
           },
           "baxis": {
            "gridcolor": "#DFE8F3",
            "linecolor": "#A2B1C6",
            "ticks": ""
           },
           "bgcolor": "white",
           "caxis": {
            "gridcolor": "#DFE8F3",
            "linecolor": "#A2B1C6",
            "ticks": ""
           }
          },
          "title": {
           "x": 0.05
          },
          "xaxis": {
           "automargin": true,
           "gridcolor": "#EBF0F8",
           "linecolor": "#EBF0F8",
           "ticks": "",
           "title": {
            "standoff": 15
           },
           "zerolinecolor": "#EBF0F8",
           "zerolinewidth": 2
          },
          "yaxis": {
           "automargin": true,
           "gridcolor": "#EBF0F8",
           "linecolor": "#EBF0F8",
           "ticks": "",
           "title": {
            "standoff": 15
           },
           "zerolinecolor": "#EBF0F8",
           "zerolinewidth": 2
          }
         }
        },
        "title": {
         "font": {
          "size": 20
         }
        },
        "uniformtext": {
         "minsize": 8
        },
        "xaxis": {
         "anchor": "y",
         "domain": [
          0,
          1
         ],
         "showgrid": true,
         "tickprefix": "10^",
         "title": {
          "text": "Number of Professional In Field (log scale)"
         },
         "type": "log"
        },
        "yaxis": {
         "anchor": "x",
         "categoryorder": "total ascending",
         "domain": [
          0,
          1
         ],
         "tickangle": -30,
         "tickfont": {
          "size": 12
         },
         "title": {}
        }
       }
      }
     },
     "metadata": {},
     "output_type": "display_data"
    }
   ],
   "source": [
    "import plotly.express as px\n",
    "\n",
    "# Create horizontal bar chart\n",
    "fig = px.bar(\n",
    "    major_df,\n",
    "    y=\"MAJOR\",  # Categories on y-axis for horizontal bars\n",
    "    x=\"COUNT\",  # Values on x-axis\n",
    "    orientation=\"h\",  # Make it horizontal\n",
    "    log_x=True,  # Keep the log scale\n",
    "    color=\"COUNT\",\n",
    "    color_discrete_sequence=px.colors.qualitative.Pastel2_r,\n",
    "    text_auto=\".2s\",\n",
    "    labels={\"COUNT\": \"Number of Professoinal (log scale)\", \"MAJOR\": \"Major\"},\n",
    "    height=800,\n",
    ")\n",
    "\n",
    "# Further customization:\n",
    "fig.update_layout(\n",
    "    template=\"plotly_white\",\n",
    "    font=dict(family=\"Arial\", size=12),\n",
    "    yaxis=dict(\n",
    "        title=None,\n",
    "        categoryorder=\"total ascending\",  # Sort bars by value\n",
    "        tickfont=dict(size=12),\n",
    "        tickangle=-30,\n",
    "    ),\n",
    "    xaxis=dict(\n",
    "        title=\"Number of Professional In Field (log scale)\",\n",
    "        tickprefix=\"10^\",  # Indicate log scale\n",
    "        showgrid=True,\n",
    "    ),\n",
    "    coloraxis_colorbar=dict(title=\"Count\"),\n",
    "    title_font=dict(size=20),\n",
    "    uniformtext_minsize=8,  # Minimum size for text labels\n",
    "    margin=dict(l=0, r=0, t=0, b=0),  # Left margin for long major names\n",
    ")\n",
    "\n",
    "# Improve bar text visibility\n",
    "fig.update_traces(\n",
    "    textfont_size=12, textposition=\"outside\", cliponaxis=False  # Prevent text clipping\n",
    ")\n",
    "\n",
    "fig.show()"
   ]
  },
  {
   "cell_type": "code",
   "execution_count": null,
   "metadata": {},
   "outputs": [],
   "source": []
  },
  {
   "cell_type": "code",
   "execution_count": 371,
   "metadata": {},
   "outputs": [
    {
     "data": {
      "text/html": [
       "<div>\n",
       "<style scoped>\n",
       "    .dataframe tbody tr th:only-of-type {\n",
       "        vertical-align: middle;\n",
       "    }\n",
       "\n",
       "    .dataframe tbody tr th {\n",
       "        vertical-align: top;\n",
       "    }\n",
       "\n",
       "    .dataframe thead th {\n",
       "        text-align: right;\n",
       "    }\n",
       "</style>\n",
       "<table border=\"1\" class=\"dataframe\">\n",
       "  <thead>\n",
       "    <tr style=\"text-align: right;\">\n",
       "      <th></th>\n",
       "      <th>GEO</th>\n",
       "      <th>EDUCATION</th>\n",
       "      <th>MAJOR</th>\n",
       "      <th>COUNT</th>\n",
       "    </tr>\n",
       "  </thead>\n",
       "  <tbody>\n",
       "    <tr>\n",
       "      <th>0</th>\n",
       "      <td>Alberta</td>\n",
       "      <td>High (secondary) school diploma or equivalency...</td>\n",
       "      <td>No postsecondary certificate, diploma or degree</td>\n",
       "      <td>2839925</td>\n",
       "    </tr>\n",
       "    <tr>\n",
       "      <th>1</th>\n",
       "      <td>Alberta</td>\n",
       "      <td>No certificate, diploma or degree</td>\n",
       "      <td>No postsecondary certificate, diploma or degree</td>\n",
       "      <td>921155</td>\n",
       "    </tr>\n",
       "    <tr>\n",
       "      <th>2</th>\n",
       "      <td>Alberta</td>\n",
       "      <td>Postsecondary certificate, diploma or degree</td>\n",
       "      <td>Agriculture, natural resources and conservation</td>\n",
       "      <td>220035</td>\n",
       "    </tr>\n",
       "    <tr>\n",
       "      <th>3</th>\n",
       "      <td>Alberta</td>\n",
       "      <td>Postsecondary certificate, diploma or degree</td>\n",
       "      <td>Architecture, engineering, and related trades</td>\n",
       "      <td>1983015</td>\n",
       "    </tr>\n",
       "    <tr>\n",
       "      <th>4</th>\n",
       "      <td>Alberta</td>\n",
       "      <td>Postsecondary certificate, diploma or degree</td>\n",
       "      <td>Business, management and public administration</td>\n",
       "      <td>1689520</td>\n",
       "    </tr>\n",
       "    <tr>\n",
       "      <th>...</th>\n",
       "      <td>...</td>\n",
       "      <td>...</td>\n",
       "      <td>...</td>\n",
       "      <td>...</td>\n",
       "    </tr>\n",
       "    <tr>\n",
       "      <th>173</th>\n",
       "      <td>Yukon</td>\n",
       "      <td>Postsecondary certificate, diploma or degree</td>\n",
       "      <td>Mathematics, computer and information sciences</td>\n",
       "      <td>1930</td>\n",
       "    </tr>\n",
       "    <tr>\n",
       "      <th>174</th>\n",
       "      <td>Yukon</td>\n",
       "      <td>Postsecondary certificate, diploma or degree</td>\n",
       "      <td>Personal, protective and transportation services</td>\n",
       "      <td>4805</td>\n",
       "    </tr>\n",
       "    <tr>\n",
       "      <th>175</th>\n",
       "      <td>Yukon</td>\n",
       "      <td>Postsecondary certificate, diploma or degree</td>\n",
       "      <td>Physical and life sciences and technologies</td>\n",
       "      <td>4040</td>\n",
       "    </tr>\n",
       "    <tr>\n",
       "      <th>176</th>\n",
       "      <td>Yukon</td>\n",
       "      <td>Postsecondary certificate, diploma or degree</td>\n",
       "      <td>Social and behavioural sciences and law</td>\n",
       "      <td>11035</td>\n",
       "    </tr>\n",
       "    <tr>\n",
       "      <th>177</th>\n",
       "      <td>Yukon</td>\n",
       "      <td>Postsecondary certificate, diploma or degree</td>\n",
       "      <td>Visual and performing arts, and communications...</td>\n",
       "      <td>1700</td>\n",
       "    </tr>\n",
       "  </tbody>\n",
       "</table>\n",
       "<p>178 rows × 4 columns</p>\n",
       "</div>"
      ],
      "text/plain": [
       "         GEO                                          EDUCATION  \\\n",
       "0    Alberta  High (secondary) school diploma or equivalency...   \n",
       "1    Alberta                  No certificate, diploma or degree   \n",
       "2    Alberta       Postsecondary certificate, diploma or degree   \n",
       "3    Alberta       Postsecondary certificate, diploma or degree   \n",
       "4    Alberta       Postsecondary certificate, diploma or degree   \n",
       "..       ...                                                ...   \n",
       "173    Yukon       Postsecondary certificate, diploma or degree   \n",
       "174    Yukon       Postsecondary certificate, diploma or degree   \n",
       "175    Yukon       Postsecondary certificate, diploma or degree   \n",
       "176    Yukon       Postsecondary certificate, diploma or degree   \n",
       "177    Yukon       Postsecondary certificate, diploma or degree   \n",
       "\n",
       "                                                 MAJOR    COUNT  \n",
       "0      No postsecondary certificate, diploma or degree  2839925  \n",
       "1      No postsecondary certificate, diploma or degree   921155  \n",
       "2      Agriculture, natural resources and conservation   220035  \n",
       "3        Architecture, engineering, and related trades  1983015  \n",
       "4       Business, management and public administration  1689520  \n",
       "..                                                 ...      ...  \n",
       "173     Mathematics, computer and information sciences     1930  \n",
       "174   Personal, protective and transportation services     4805  \n",
       "175        Physical and life sciences and technologies     4040  \n",
       "176            Social and behavioural sciences and law    11035  \n",
       "177  Visual and performing arts, and communications...     1700  \n",
       "\n",
       "[178 rows x 4 columns]"
      ]
     },
     "execution_count": 371,
     "metadata": {},
     "output_type": "execute_result"
    }
   ],
   "source": [
    "education_df = master_df.groupby([\"GEO\",\"EDUCATION\",\"MAJOR\"],as_index=False).COUNT.sum()\n",
    "education_df"
   ]
  }
 ],
 "metadata": {
  "kernelspec": {
   "display_name": ".env",
   "language": "python",
   "name": "python3"
  },
  "language_info": {
   "codemirror_mode": {
    "name": "ipython",
    "version": 3
   },
   "file_extension": ".py",
   "mimetype": "text/x-python",
   "name": "python",
   "nbconvert_exporter": "python",
   "pygments_lexer": "ipython3",
   "version": "3.9.21"
  }
 },
 "nbformat": 4,
 "nbformat_minor": 2
}

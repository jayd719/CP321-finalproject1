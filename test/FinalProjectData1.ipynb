{
 "cells": [
  {
   "cell_type": "markdown",
   "metadata": {},
   "source": [
    "# CP321 Final Project"
   ]
  },
  {
   "cell_type": "code",
   "execution_count": 142,
   "metadata": {},
   "outputs": [],
   "source": [
    "import pandas as pd\n",
    "import numpy as np\n",
    "import plotly.express as px\n",
    "import plotly.graph_objects as go"
   ]
  },
  {
   "cell_type": "code",
   "execution_count": 143,
   "metadata": {},
   "outputs": [],
   "source": [
    "datafile = \"/Users/jashan/Desktop/CP321-FinalProject/data/finalData.csv\""
   ]
  },
  {
   "cell_type": "code",
   "execution_count": 144,
   "metadata": {},
   "outputs": [
    {
     "data": {
      "application/vnd.microsoft.datawrangler.viewer.v0+json": {
       "columns": [
        {
         "name": "index",
         "rawType": "int64",
         "type": "integer"
        },
        {
         "name": "REF_DATE",
         "rawType": "int64",
         "type": "integer"
        },
        {
         "name": "GEO",
         "rawType": "object",
         "type": "string"
        },
        {
         "name": "DGUID",
         "rawType": "object",
         "type": "string"
        },
        {
         "name": "Age (2)",
         "rawType": "object",
         "type": "string"
        },
        {
         "name": "Highest certificate, diploma or degree (16)",
         "rawType": "object",
         "type": "string"
        },
        {
         "name": "Major field of study - Classification of Instructional Programs (CIP) 2021 (500)",
         "rawType": "object",
         "type": "string"
        },
        {
         "name": "Occupation - Unit group - National Occupational Classification (NOC) 2021 (821A)",
         "rawType": "object",
         "type": "string"
        },
        {
         "name": "Gender (3)",
         "rawType": "object",
         "type": "string"
        },
        {
         "name": "UOM",
         "rawType": "float64",
         "type": "float"
        },
        {
         "name": "UOM_ID",
         "rawType": "int64",
         "type": "integer"
        },
        {
         "name": "SCALAR_FACTOR",
         "rawType": "object",
         "type": "string"
        },
        {
         "name": "SCALAR_ID",
         "rawType": "int64",
         "type": "integer"
        },
        {
         "name": "VECTOR",
         "rawType": "float64",
         "type": "float"
        },
        {
         "name": "COORDINATE",
         "rawType": "object",
         "type": "string"
        },
        {
         "name": "VALUE",
         "rawType": "int64",
         "type": "integer"
        },
        {
         "name": "STATUS",
         "rawType": "float64",
         "type": "float"
        },
        {
         "name": "SYMBOL",
         "rawType": "float64",
         "type": "float"
        },
        {
         "name": "TERMINATED",
         "rawType": "float64",
         "type": "float"
        },
        {
         "name": "DECIMALS",
         "rawType": "int64",
         "type": "integer"
        }
       ],
       "conversionMethod": "pd.DataFrame",
       "ref": "3bd746b5-e871-4221-988c-6be830722c79",
       "rows": [
        [
         "0",
         "2021",
         "Newfoundland and Labrador",
         "2021A000210",
         "25 to 64 years",
         "No certificate, diploma or degree",
         "No postsecondary certificate, diploma or degree",
         "All occupations",
         "Men+",
         null,
         "0",
         "units",
         "0",
         null,
         "2.2.2.2.3.2",
         "12025",
         null,
         null,
         null,
         "0"
        ],
        [
         "1",
         "2021",
         "Newfoundland and Labrador",
         "2021A000210",
         "25 to 64 years",
         "No certificate, diploma or degree",
         "No postsecondary certificate, diploma or degree",
         "All occupations",
         "Women+",
         null,
         "0",
         "units",
         "0",
         null,
         "2.2.2.2.3.3",
         "7755",
         null,
         null,
         null,
         "0"
        ],
        [
         "2",
         "2021",
         "Newfoundland and Labrador",
         "2021A000210",
         "25 to 64 years",
         "No certificate, diploma or degree",
         "No postsecondary certificate, diploma or degree",
         "0 Legislative and senior management occupations",
         "Women+",
         null,
         "0",
         "units",
         "0",
         null,
         "2.2.2.2.4.3",
         "10",
         null,
         null,
         null,
         "0"
        ],
        [
         "3",
         "2021",
         "Newfoundland and Labrador",
         "2021A000210",
         "25 to 64 years",
         "No certificate, diploma or degree",
         "No postsecondary certificate, diploma or degree",
         "00 Legislative and senior managers",
         "Women+",
         null,
         "0",
         "units",
         "0",
         null,
         "2.2.2.2.5.3",
         "10",
         null,
         null,
         null,
         "0"
        ],
        [
         "4",
         "2021",
         "Newfoundland and Labrador",
         "2021A000210",
         "25 to 64 years",
         "No certificate, diploma or degree",
         "No postsecondary certificate, diploma or degree",
         "000 Legislative and senior managers",
         "Women+",
         null,
         "0",
         "units",
         "0",
         null,
         "2.2.2.2.6.3",
         "10",
         null,
         null,
         null,
         "0"
        ],
        [
         "5",
         "2021",
         "Newfoundland and Labrador",
         "2021A000210",
         "25 to 64 years",
         "No certificate, diploma or degree",
         "No postsecondary certificate, diploma or degree",
         "0001 Legislative and senior managers",
         "Women+",
         null,
         "0",
         "units",
         "0",
         null,
         "2.2.2.2.7.3",
         "10",
         null,
         null,
         null,
         "0"
        ],
        [
         "6",
         "2021",
         "Newfoundland and Labrador",
         "2021A000210",
         "25 to 64 years",
         "No certificate, diploma or degree",
         "No postsecondary certificate, diploma or degree",
         "00018 Seniors managers - public and private sector",
         "Women+",
         null,
         "0",
         "units",
         "0",
         null,
         "2.2.2.2.9.3",
         "10",
         null,
         null,
         null,
         "0"
        ],
        [
         "7",
         "2021",
         "Newfoundland and Labrador",
         "2021A000210",
         "25 to 64 years",
         "No certificate, diploma or degree",
         "No postsecondary certificate, diploma or degree",
         "1 Business, finance and administration occupations",
         "Men+",
         null,
         "0",
         "units",
         "0",
         null,
         "2.2.2.2.10.2",
         "250",
         null,
         null,
         null,
         "0"
        ],
        [
         "8",
         "2021",
         "Newfoundland and Labrador",
         "2021A000210",
         "25 to 64 years",
         "No certificate, diploma or degree",
         "No postsecondary certificate, diploma or degree",
         "1 Business, finance and administration occupations",
         "Women+",
         null,
         "0",
         "units",
         "0",
         null,
         "2.2.2.2.10.3",
         "375",
         null,
         null,
         null,
         "0"
        ],
        [
         "9",
         "2021",
         "Newfoundland and Labrador",
         "2021A000210",
         "25 to 64 years",
         "No certificate, diploma or degree",
         "No postsecondary certificate, diploma or degree",
         "10 Specialized middle management occupations in administrative services, financial and business services and communication (except broadcasting)",
         "Men+",
         null,
         "0",
         "units",
         "0",
         null,
         "2.2.2.2.11.2",
         "15",
         null,
         null,
         null,
         "0"
        ],
        [
         "10",
         "2021",
         "Newfoundland and Labrador",
         "2021A000210",
         "25 to 64 years",
         "No certificate, diploma or degree",
         "No postsecondary certificate, diploma or degree",
         "10 Specialized middle management occupations in administrative services, financial and business services and communication (except broadcasting)",
         "Women+",
         null,
         "0",
         "units",
         "0",
         null,
         "2.2.2.2.11.3",
         "20",
         null,
         null,
         null,
         "0"
        ],
        [
         "11",
         "2021",
         "Newfoundland and Labrador",
         "2021A000210",
         "25 to 64 years",
         "No certificate, diploma or degree",
         "No postsecondary certificate, diploma or degree",
         "100 Specialized middle management occupations in administrative services, financial and business services and communication (except broadcasting)",
         "Men+",
         null,
         "0",
         "units",
         "0",
         null,
         "2.2.2.2.12.2",
         "15",
         null,
         null,
         null,
         "0"
        ],
        [
         "12",
         "2021",
         "Newfoundland and Labrador",
         "2021A000210",
         "25 to 64 years",
         "No certificate, diploma or degree",
         "No postsecondary certificate, diploma or degree",
         "100 Specialized middle management occupations in administrative services, financial and business services and communication (except broadcasting)",
         "Women+",
         null,
         "0",
         "units",
         "0",
         null,
         "2.2.2.2.12.3",
         "20",
         null,
         null,
         null,
         "0"
        ],
        [
         "13",
         "2021",
         "Newfoundland and Labrador",
         "2021A000210",
         "25 to 64 years",
         "No certificate, diploma or degree",
         "No postsecondary certificate, diploma or degree",
         "1001 Administrative services managers",
         "Men+",
         null,
         "0",
         "units",
         "0",
         null,
         "2.2.2.2.13.2",
         "10",
         null,
         null,
         null,
         "0"
        ],
        [
         "14",
         "2021",
         "Newfoundland and Labrador",
         "2021A000210",
         "25 to 64 years",
         "No certificate, diploma or degree",
         "No postsecondary certificate, diploma or degree",
         "1001 Administrative services managers",
         "Women+",
         null,
         "0",
         "units",
         "0",
         null,
         "2.2.2.2.13.3",
         "10",
         null,
         null,
         null,
         "0"
        ],
        [
         "15",
         "2021",
         "Newfoundland and Labrador",
         "2021A000210",
         "25 to 64 years",
         "No certificate, diploma or degree",
         "No postsecondary certificate, diploma or degree",
         "1002 Managers in financial and business services",
         "Women+",
         null,
         "0",
         "units",
         "0",
         null,
         "2.2.2.2.18.3",
         "10",
         null,
         null,
         null,
         "0"
        ],
        [
         "16",
         "2021",
         "Newfoundland and Labrador",
         "2021A000210",
         "25 to 64 years",
         "No certificate, diploma or degree",
         "No postsecondary certificate, diploma or degree",
         "11 Professional occupations in finance and business",
         "Men+",
         null,
         "0",
         "units",
         "0",
         null,
         "2.2.2.2.25.2",
         "15",
         null,
         null,
         null,
         "0"
        ],
        [
         "17",
         "2021",
         "Newfoundland and Labrador",
         "2021A000210",
         "25 to 64 years",
         "No certificate, diploma or degree",
         "No postsecondary certificate, diploma or degree",
         "112 Professional occupations in business",
         "Men+",
         null,
         "0",
         "units",
         "0",
         null,
         "2.2.2.2.33.2",
         "15",
         null,
         null,
         null,
         "0"
        ],
        [
         "18",
         "2021",
         "Newfoundland and Labrador",
         "2021A000210",
         "25 to 64 years",
         "No certificate, diploma or degree",
         "No postsecondary certificate, diploma or degree",
         "1120 Human resources and business service professionals",
         "Men+",
         null,
         "0",
         "units",
         "0",
         null,
         "2.2.2.2.34.2",
         "15",
         null,
         null,
         null,
         "0"
        ],
        [
         "19",
         "2021",
         "Newfoundland and Labrador",
         "2021A000210",
         "25 to 64 years",
         "No certificate, diploma or degree",
         "No postsecondary certificate, diploma or degree",
         "11200 Human resources professionals",
         "Men+",
         null,
         "0",
         "units",
         "0",
         null,
         "2.2.2.2.35.2",
         "10",
         null,
         null,
         null,
         "0"
        ],
        [
         "20",
         "2021",
         "Newfoundland and Labrador",
         "2021A000210",
         "25 to 64 years",
         "No certificate, diploma or degree",
         "No postsecondary certificate, diploma or degree",
         "12 Administrative and financial supervisors and specialized administrative occupations",
         "Men+",
         null,
         "0",
         "units",
         "0",
         null,
         "2.2.2.2.38.2",
         "45",
         null,
         null,
         null,
         "0"
        ],
        [
         "21",
         "2021",
         "Newfoundland and Labrador",
         "2021A000210",
         "25 to 64 years",
         "No certificate, diploma or degree",
         "No postsecondary certificate, diploma or degree",
         "12 Administrative and financial supervisors and specialized administrative occupations",
         "Women+",
         null,
         "0",
         "units",
         "0",
         null,
         "2.2.2.2.38.3",
         "35",
         null,
         null,
         null,
         "0"
        ],
        [
         "22",
         "2021",
         "Newfoundland and Labrador",
         "2021A000210",
         "25 to 64 years",
         "No certificate, diploma or degree",
         "No postsecondary certificate, diploma or degree",
         "120 Administrative and financial supervisors",
         "Men+",
         null,
         "0",
         "units",
         "0",
         null,
         "2.2.2.2.39.2",
         "30",
         null,
         null,
         null,
         "0"
        ],
        [
         "23",
         "2021",
         "Newfoundland and Labrador",
         "2021A000210",
         "25 to 64 years",
         "No certificate, diploma or degree",
         "No postsecondary certificate, diploma or degree",
         "1201 Administrative and financial supervisors",
         "Men+",
         null,
         "0",
         "units",
         "0",
         null,
         "2.2.2.2.40.2",
         "30",
         null,
         null,
         null,
         "0"
        ],
        [
         "24",
         "2021",
         "Newfoundland and Labrador",
         "2021A000210",
         "25 to 64 years",
         "No certificate, diploma or degree",
         "No postsecondary certificate, diploma or degree",
         "12010 Supervisors, general office and administrative support workers",
         "Men+",
         null,
         "0",
         "units",
         "0",
         null,
         "2.2.2.2.41.2",
         "20",
         null,
         null,
         null,
         "0"
        ],
        [
         "25",
         "2021",
         "Newfoundland and Labrador",
         "2021A000210",
         "25 to 64 years",
         "No certificate, diploma or degree",
         "No postsecondary certificate, diploma or degree",
         "12013 Supervisors, supply chain, tracking and scheduling coordination occupations",
         "Men+",
         null,
         "0",
         "units",
         "0",
         null,
         "2.2.2.2.44.2",
         "10",
         null,
         null,
         null,
         "0"
        ],
        [
         "26",
         "2021",
         "Newfoundland and Labrador",
         "2021A000210",
         "25 to 64 years",
         "No certificate, diploma or degree",
         "No postsecondary certificate, diploma or degree",
         "121 Specialized administrative occupations",
         "Men+",
         null,
         "0",
         "units",
         "0",
         null,
         "2.2.2.2.45.2",
         "15",
         null,
         null,
         null,
         "0"
        ],
        [
         "27",
         "2021",
         "Newfoundland and Labrador",
         "2021A000210",
         "25 to 64 years",
         "No certificate, diploma or degree",
         "No postsecondary certificate, diploma or degree",
         "121 Specialized administrative occupations",
         "Women+",
         null,
         "0",
         "units",
         "0",
         null,
         "2.2.2.2.45.3",
         "10",
         null,
         null,
         null,
         "0"
        ],
        [
         "28",
         "2021",
         "Newfoundland and Labrador",
         "2021A000210",
         "25 to 64 years",
         "No certificate, diploma or degree",
         "No postsecondary certificate, diploma or degree",
         "1210 Administrative and regulatory occupations",
         "Men+",
         null,
         "0",
         "units",
         "0",
         null,
         "2.2.2.2.46.2",
         "15",
         null,
         null,
         null,
         "0"
        ],
        [
         "29",
         "2021",
         "Newfoundland and Labrador",
         "2021A000210",
         "25 to 64 years",
         "No certificate, diploma or degree",
         "No postsecondary certificate, diploma or degree",
         "1210 Administrative and regulatory occupations",
         "Women+",
         null,
         "0",
         "units",
         "0",
         null,
         "2.2.2.2.46.3",
         "10",
         null,
         null,
         null,
         "0"
        ],
        [
         "30",
         "2021",
         "Newfoundland and Labrador",
         "2021A000210",
         "25 to 64 years",
         "No certificate, diploma or degree",
         "No postsecondary certificate, diploma or degree",
         "12104 Employment insurance and revenue officers",
         "Men+",
         null,
         "0",
         "units",
         "0",
         null,
         "2.2.2.2.51.2",
         "10",
         null,
         null,
         null,
         "0"
        ],
        [
         "31",
         "2021",
         "Newfoundland and Labrador",
         "2021A000210",
         "25 to 64 years",
         "No certificate, diploma or degree",
         "No postsecondary certificate, diploma or degree",
         "122 Accounting, insurance and related business administrative occupations",
         "Women+",
         null,
         "0",
         "units",
         "0",
         null,
         "2.2.2.2.57.3",
         "20",
         null,
         null,
         null,
         "0"
        ],
        [
         "32",
         "2021",
         "Newfoundland and Labrador",
         "2021A000210",
         "25 to 64 years",
         "No certificate, diploma or degree",
         "No postsecondary certificate, diploma or degree",
         "1220 Accounting, insurance and related business administrative occupations",
         "Women+",
         null,
         "0",
         "units",
         "0",
         null,
         "2.2.2.2.58.3",
         "20",
         null,
         null,
         null,
         "0"
        ],
        [
         "33",
         "2021",
         "Newfoundland and Labrador",
         "2021A000210",
         "25 to 64 years",
         "No certificate, diploma or degree",
         "No postsecondary certificate, diploma or degree",
         "12200 Accounting technicians and bookkeepers",
         "Women+",
         null,
         "0",
         "units",
         "0",
         null,
         "2.2.2.2.59.3",
         "20",
         null,
         null,
         null,
         "0"
        ],
        [
         "34",
         "2021",
         "Newfoundland and Labrador",
         "2021A000210",
         "25 to 64 years",
         "No certificate, diploma or degree",
         "No postsecondary certificate, diploma or degree",
         "13 Administrative occupations and transportation logistics occupations",
         "Men+",
         null,
         "0",
         "units",
         "0",
         null,
         "2.2.2.2.63.2",
         "20",
         null,
         null,
         null,
         "0"
        ],
        [
         "35",
         "2021",
         "Newfoundland and Labrador",
         "2021A000210",
         "25 to 64 years",
         "No certificate, diploma or degree",
         "No postsecondary certificate, diploma or degree",
         "13 Administrative occupations and transportation logistics occupations",
         "Women+",
         null,
         "0",
         "units",
         "0",
         null,
         "2.2.2.2.63.3",
         "110",
         null,
         null,
         null,
         "0"
        ],
        [
         "36",
         "2021",
         "Newfoundland and Labrador",
         "2021A000210",
         "25 to 64 years",
         "No certificate, diploma or degree",
         "No postsecondary certificate, diploma or degree",
         "131 Administrative occupations",
         "Men+",
         null,
         "0",
         "units",
         "0",
         null,
         "2.2.2.2.64.2",
         "20",
         null,
         null,
         null,
         "0"
        ],
        [
         "37",
         "2021",
         "Newfoundland and Labrador",
         "2021A000210",
         "25 to 64 years",
         "No certificate, diploma or degree",
         "No postsecondary certificate, diploma or degree",
         "131 Administrative occupations",
         "Women+",
         null,
         "0",
         "units",
         "0",
         null,
         "2.2.2.2.64.3",
         "105",
         null,
         null,
         null,
         "0"
        ],
        [
         "38",
         "2021",
         "Newfoundland and Labrador",
         "2021A000210",
         "25 to 64 years",
         "No certificate, diploma or degree",
         "No postsecondary certificate, diploma or degree",
         "1310 Administrative, property and payroll officers",
         "Men+",
         null,
         "0",
         "units",
         "0",
         null,
         "2.2.2.2.65.2",
         "20",
         null,
         null,
         null,
         "0"
        ],
        [
         "39",
         "2021",
         "Newfoundland and Labrador",
         "2021A000210",
         "25 to 64 years",
         "No certificate, diploma or degree",
         "No postsecondary certificate, diploma or degree",
         "1310 Administrative, property and payroll officers",
         "Women+",
         null,
         "0",
         "units",
         "0",
         null,
         "2.2.2.2.65.3",
         "70",
         null,
         null,
         null,
         "0"
        ],
        [
         "40",
         "2021",
         "Newfoundland and Labrador",
         "2021A000210",
         "25 to 64 years",
         "No certificate, diploma or degree",
         "No postsecondary certificate, diploma or degree",
         "13100 Administrative officers",
         "Men+",
         null,
         "0",
         "units",
         "0",
         null,
         "2.2.2.2.66.2",
         "10",
         null,
         null,
         null,
         "0"
        ],
        [
         "41",
         "2021",
         "Newfoundland and Labrador",
         "2021A000210",
         "25 to 64 years",
         "No certificate, diploma or degree",
         "No postsecondary certificate, diploma or degree",
         "13100 Administrative officers",
         "Women+",
         null,
         "0",
         "units",
         "0",
         null,
         "2.2.2.2.66.3",
         "25",
         null,
         null,
         null,
         "0"
        ],
        [
         "42",
         "2021",
         "Newfoundland and Labrador",
         "2021A000210",
         "25 to 64 years",
         "No certificate, diploma or degree",
         "No postsecondary certificate, diploma or degree",
         "13101 Property administrators",
         "Men+",
         null,
         "0",
         "units",
         "0",
         null,
         "2.2.2.2.67.2",
         "15",
         null,
         null,
         null,
         "0"
        ],
        [
         "43",
         "2021",
         "Newfoundland and Labrador",
         "2021A000210",
         "25 to 64 years",
         "No certificate, diploma or degree",
         "No postsecondary certificate, diploma or degree",
         "13101 Property administrators",
         "Women+",
         null,
         "0",
         "units",
         "0",
         null,
         "2.2.2.2.67.3",
         "20",
         null,
         null,
         null,
         "0"
        ],
        [
         "44",
         "2021",
         "Newfoundland and Labrador",
         "2021A000210",
         "25 to 64 years",
         "No certificate, diploma or degree",
         "No postsecondary certificate, diploma or degree",
         "13102 Payroll administrators",
         "Women+",
         null,
         "0",
         "units",
         "0",
         null,
         "2.2.2.2.68.3",
         "25",
         null,
         null,
         null,
         "0"
        ],
        [
         "45",
         "2021",
         "Newfoundland and Labrador",
         "2021A000210",
         "25 to 64 years",
         "No certificate, diploma or degree",
         "No postsecondary certificate, diploma or degree",
         "1311 Office administrative assistants - general, legal and medical",
         "Women+",
         null,
         "0",
         "units",
         "0",
         null,
         "2.2.2.2.69.3",
         "40",
         null,
         null,
         null,
         "0"
        ],
        [
         "46",
         "2021",
         "Newfoundland and Labrador",
         "2021A000210",
         "25 to 64 years",
         "No certificate, diploma or degree",
         "No postsecondary certificate, diploma or degree",
         "13110 Administrative assistants",
         "Women+",
         null,
         "0",
         "units",
         "0",
         null,
         "2.2.2.2.70.3",
         "35",
         null,
         null,
         null,
         "0"
        ],
        [
         "47",
         "2021",
         "Newfoundland and Labrador",
         "2021A000210",
         "25 to 64 years",
         "No certificate, diploma or degree",
         "No postsecondary certificate, diploma or degree",
         "14 Administrative and financial support and supply chain logistics occupations",
         "Men+",
         null,
         "0",
         "units",
         "0",
         null,
         "2.2.2.2.77.2",
         "160",
         null,
         null,
         null,
         "0"
        ],
        [
         "48",
         "2021",
         "Newfoundland and Labrador",
         "2021A000210",
         "25 to 64 years",
         "No certificate, diploma or degree",
         "No postsecondary certificate, diploma or degree",
         "14 Administrative and financial support and supply chain logistics occupations",
         "Women+",
         null,
         "0",
         "units",
         "0",
         null,
         "2.2.2.2.77.3",
         "210",
         null,
         null,
         null,
         "0"
        ],
        [
         "49",
         "2021",
         "Newfoundland and Labrador",
         "2021A000210",
         "25 to 64 years",
         "No certificate, diploma or degree",
         "No postsecondary certificate, diploma or degree",
         "141 Office, court, and data support occupations",
         "Men+",
         null,
         "0",
         "units",
         "0",
         null,
         "2.2.2.2.78.2",
         "20",
         null,
         null,
         null,
         "0"
        ]
       ],
       "shape": {
        "columns": 19,
        "rows": 130832
       }
      },
      "text/html": [
       "<div>\n",
       "<style scoped>\n",
       "    .dataframe tbody tr th:only-of-type {\n",
       "        vertical-align: middle;\n",
       "    }\n",
       "\n",
       "    .dataframe tbody tr th {\n",
       "        vertical-align: top;\n",
       "    }\n",
       "\n",
       "    .dataframe thead th {\n",
       "        text-align: right;\n",
       "    }\n",
       "</style>\n",
       "<table border=\"1\" class=\"dataframe\">\n",
       "  <thead>\n",
       "    <tr style=\"text-align: right;\">\n",
       "      <th></th>\n",
       "      <th>REF_DATE</th>\n",
       "      <th>GEO</th>\n",
       "      <th>DGUID</th>\n",
       "      <th>Age (2)</th>\n",
       "      <th>Highest certificate, diploma or degree (16)</th>\n",
       "      <th>Major field of study - Classification of Instructional Programs (CIP) 2021 (500)</th>\n",
       "      <th>Occupation - Unit group - National Occupational Classification (NOC) 2021 (821A)</th>\n",
       "      <th>Gender (3)</th>\n",
       "      <th>UOM</th>\n",
       "      <th>UOM_ID</th>\n",
       "      <th>SCALAR_FACTOR</th>\n",
       "      <th>SCALAR_ID</th>\n",
       "      <th>VECTOR</th>\n",
       "      <th>COORDINATE</th>\n",
       "      <th>VALUE</th>\n",
       "      <th>STATUS</th>\n",
       "      <th>SYMBOL</th>\n",
       "      <th>TERMINATED</th>\n",
       "      <th>DECIMALS</th>\n",
       "    </tr>\n",
       "  </thead>\n",
       "  <tbody>\n",
       "    <tr>\n",
       "      <th>0</th>\n",
       "      <td>2021</td>\n",
       "      <td>Newfoundland and Labrador</td>\n",
       "      <td>2021A000210</td>\n",
       "      <td>25 to 64 years</td>\n",
       "      <td>No certificate, diploma or degree</td>\n",
       "      <td>No postsecondary certificate, diploma or degree</td>\n",
       "      <td>All occupations</td>\n",
       "      <td>Men+</td>\n",
       "      <td>NaN</td>\n",
       "      <td>0</td>\n",
       "      <td>units</td>\n",
       "      <td>0</td>\n",
       "      <td>NaN</td>\n",
       "      <td>2.2.2.2.3.2</td>\n",
       "      <td>12025</td>\n",
       "      <td>NaN</td>\n",
       "      <td>NaN</td>\n",
       "      <td>NaN</td>\n",
       "      <td>0</td>\n",
       "    </tr>\n",
       "    <tr>\n",
       "      <th>1</th>\n",
       "      <td>2021</td>\n",
       "      <td>Newfoundland and Labrador</td>\n",
       "      <td>2021A000210</td>\n",
       "      <td>25 to 64 years</td>\n",
       "      <td>No certificate, diploma or degree</td>\n",
       "      <td>No postsecondary certificate, diploma or degree</td>\n",
       "      <td>All occupations</td>\n",
       "      <td>Women+</td>\n",
       "      <td>NaN</td>\n",
       "      <td>0</td>\n",
       "      <td>units</td>\n",
       "      <td>0</td>\n",
       "      <td>NaN</td>\n",
       "      <td>2.2.2.2.3.3</td>\n",
       "      <td>7755</td>\n",
       "      <td>NaN</td>\n",
       "      <td>NaN</td>\n",
       "      <td>NaN</td>\n",
       "      <td>0</td>\n",
       "    </tr>\n",
       "    <tr>\n",
       "      <th>2</th>\n",
       "      <td>2021</td>\n",
       "      <td>Newfoundland and Labrador</td>\n",
       "      <td>2021A000210</td>\n",
       "      <td>25 to 64 years</td>\n",
       "      <td>No certificate, diploma or degree</td>\n",
       "      <td>No postsecondary certificate, diploma or degree</td>\n",
       "      <td>0 Legislative and senior management occupations</td>\n",
       "      <td>Women+</td>\n",
       "      <td>NaN</td>\n",
       "      <td>0</td>\n",
       "      <td>units</td>\n",
       "      <td>0</td>\n",
       "      <td>NaN</td>\n",
       "      <td>2.2.2.2.4.3</td>\n",
       "      <td>10</td>\n",
       "      <td>NaN</td>\n",
       "      <td>NaN</td>\n",
       "      <td>NaN</td>\n",
       "      <td>0</td>\n",
       "    </tr>\n",
       "    <tr>\n",
       "      <th>3</th>\n",
       "      <td>2021</td>\n",
       "      <td>Newfoundland and Labrador</td>\n",
       "      <td>2021A000210</td>\n",
       "      <td>25 to 64 years</td>\n",
       "      <td>No certificate, diploma or degree</td>\n",
       "      <td>No postsecondary certificate, diploma or degree</td>\n",
       "      <td>00 Legislative and senior managers</td>\n",
       "      <td>Women+</td>\n",
       "      <td>NaN</td>\n",
       "      <td>0</td>\n",
       "      <td>units</td>\n",
       "      <td>0</td>\n",
       "      <td>NaN</td>\n",
       "      <td>2.2.2.2.5.3</td>\n",
       "      <td>10</td>\n",
       "      <td>NaN</td>\n",
       "      <td>NaN</td>\n",
       "      <td>NaN</td>\n",
       "      <td>0</td>\n",
       "    </tr>\n",
       "    <tr>\n",
       "      <th>4</th>\n",
       "      <td>2021</td>\n",
       "      <td>Newfoundland and Labrador</td>\n",
       "      <td>2021A000210</td>\n",
       "      <td>25 to 64 years</td>\n",
       "      <td>No certificate, diploma or degree</td>\n",
       "      <td>No postsecondary certificate, diploma or degree</td>\n",
       "      <td>000 Legislative and senior managers</td>\n",
       "      <td>Women+</td>\n",
       "      <td>NaN</td>\n",
       "      <td>0</td>\n",
       "      <td>units</td>\n",
       "      <td>0</td>\n",
       "      <td>NaN</td>\n",
       "      <td>2.2.2.2.6.3</td>\n",
       "      <td>10</td>\n",
       "      <td>NaN</td>\n",
       "      <td>NaN</td>\n",
       "      <td>NaN</td>\n",
       "      <td>0</td>\n",
       "    </tr>\n",
       "    <tr>\n",
       "      <th>...</th>\n",
       "      <td>...</td>\n",
       "      <td>...</td>\n",
       "      <td>...</td>\n",
       "      <td>...</td>\n",
       "      <td>...</td>\n",
       "      <td>...</td>\n",
       "      <td>...</td>\n",
       "      <td>...</td>\n",
       "      <td>...</td>\n",
       "      <td>...</td>\n",
       "      <td>...</td>\n",
       "      <td>...</td>\n",
       "      <td>...</td>\n",
       "      <td>...</td>\n",
       "      <td>...</td>\n",
       "      <td>...</td>\n",
       "      <td>...</td>\n",
       "      <td>...</td>\n",
       "      <td>...</td>\n",
       "    </tr>\n",
       "    <tr>\n",
       "      <th>130827</th>\n",
       "      <td>2021</td>\n",
       "      <td>Nunavut</td>\n",
       "      <td>2021A000262</td>\n",
       "      <td>25 to 64 years</td>\n",
       "      <td>Postsecondary certificate, diploma or degree</td>\n",
       "      <td>Personal, protective and transportation services</td>\n",
       "      <td>9 Occupations in manufacturing and utilities</td>\n",
       "      <td>Men+</td>\n",
       "      <td>NaN</td>\n",
       "      <td>0</td>\n",
       "      <td>units</td>\n",
       "      <td>0</td>\n",
       "      <td>NaN</td>\n",
       "      <td>14.2.4.476.725.2</td>\n",
       "      <td>10</td>\n",
       "      <td>NaN</td>\n",
       "      <td>NaN</td>\n",
       "      <td>NaN</td>\n",
       "      <td>0</td>\n",
       "    </tr>\n",
       "    <tr>\n",
       "      <th>130828</th>\n",
       "      <td>2021</td>\n",
       "      <td>Nunavut</td>\n",
       "      <td>2021A000262</td>\n",
       "      <td>25 to 64 years</td>\n",
       "      <td>Postsecondary certificate, diploma or degree</td>\n",
       "      <td>Personal, protective and transportation services</td>\n",
       "      <td>90 Middle management occupations in manufactur...</td>\n",
       "      <td>Men+</td>\n",
       "      <td>NaN</td>\n",
       "      <td>0</td>\n",
       "      <td>units</td>\n",
       "      <td>0</td>\n",
       "      <td>NaN</td>\n",
       "      <td>14.2.4.476.726.2</td>\n",
       "      <td>10</td>\n",
       "      <td>NaN</td>\n",
       "      <td>NaN</td>\n",
       "      <td>NaN</td>\n",
       "      <td>0</td>\n",
       "    </tr>\n",
       "    <tr>\n",
       "      <th>130829</th>\n",
       "      <td>2021</td>\n",
       "      <td>Nunavut</td>\n",
       "      <td>2021A000262</td>\n",
       "      <td>25 to 64 years</td>\n",
       "      <td>Postsecondary certificate, diploma or degree</td>\n",
       "      <td>Personal, protective and transportation services</td>\n",
       "      <td>900 Middle management occupations in manufactu...</td>\n",
       "      <td>Men+</td>\n",
       "      <td>NaN</td>\n",
       "      <td>0</td>\n",
       "      <td>units</td>\n",
       "      <td>0</td>\n",
       "      <td>NaN</td>\n",
       "      <td>14.2.4.476.727.2</td>\n",
       "      <td>10</td>\n",
       "      <td>NaN</td>\n",
       "      <td>NaN</td>\n",
       "      <td>NaN</td>\n",
       "      <td>0</td>\n",
       "    </tr>\n",
       "    <tr>\n",
       "      <th>130830</th>\n",
       "      <td>2021</td>\n",
       "      <td>Nunavut</td>\n",
       "      <td>2021A000262</td>\n",
       "      <td>25 to 64 years</td>\n",
       "      <td>Postsecondary certificate, diploma or degree</td>\n",
       "      <td>Personal, protective and transportation services</td>\n",
       "      <td>9001 Managers in manufacturing and utilities</td>\n",
       "      <td>Men+</td>\n",
       "      <td>NaN</td>\n",
       "      <td>0</td>\n",
       "      <td>units</td>\n",
       "      <td>0</td>\n",
       "      <td>NaN</td>\n",
       "      <td>14.2.4.476.728.2</td>\n",
       "      <td>10</td>\n",
       "      <td>NaN</td>\n",
       "      <td>NaN</td>\n",
       "      <td>NaN</td>\n",
       "      <td>0</td>\n",
       "    </tr>\n",
       "    <tr>\n",
       "      <th>130831</th>\n",
       "      <td>2021</td>\n",
       "      <td>Nunavut</td>\n",
       "      <td>2021A000262</td>\n",
       "      <td>25 to 64 years</td>\n",
       "      <td>Postsecondary certificate, diploma or degree</td>\n",
       "      <td>Personal, protective and transportation services</td>\n",
       "      <td>90011 Utilities managers</td>\n",
       "      <td>Men+</td>\n",
       "      <td>NaN</td>\n",
       "      <td>0</td>\n",
       "      <td>units</td>\n",
       "      <td>0</td>\n",
       "      <td>NaN</td>\n",
       "      <td>14.2.4.476.730.2</td>\n",
       "      <td>10</td>\n",
       "      <td>NaN</td>\n",
       "      <td>NaN</td>\n",
       "      <td>NaN</td>\n",
       "      <td>0</td>\n",
       "    </tr>\n",
       "  </tbody>\n",
       "</table>\n",
       "<p>130832 rows × 19 columns</p>\n",
       "</div>"
      ],
      "text/plain": [
       "        REF_DATE                        GEO        DGUID         Age (2)  \\\n",
       "0           2021  Newfoundland and Labrador  2021A000210  25 to 64 years   \n",
       "1           2021  Newfoundland and Labrador  2021A000210  25 to 64 years   \n",
       "2           2021  Newfoundland and Labrador  2021A000210  25 to 64 years   \n",
       "3           2021  Newfoundland and Labrador  2021A000210  25 to 64 years   \n",
       "4           2021  Newfoundland and Labrador  2021A000210  25 to 64 years   \n",
       "...          ...                        ...          ...             ...   \n",
       "130827      2021                    Nunavut  2021A000262  25 to 64 years   \n",
       "130828      2021                    Nunavut  2021A000262  25 to 64 years   \n",
       "130829      2021                    Nunavut  2021A000262  25 to 64 years   \n",
       "130830      2021                    Nunavut  2021A000262  25 to 64 years   \n",
       "130831      2021                    Nunavut  2021A000262  25 to 64 years   \n",
       "\n",
       "         Highest certificate, diploma or degree (16)  \\\n",
       "0                  No certificate, diploma or degree   \n",
       "1                  No certificate, diploma or degree   \n",
       "2                  No certificate, diploma or degree   \n",
       "3                  No certificate, diploma or degree   \n",
       "4                  No certificate, diploma or degree   \n",
       "...                                              ...   \n",
       "130827  Postsecondary certificate, diploma or degree   \n",
       "130828  Postsecondary certificate, diploma or degree   \n",
       "130829  Postsecondary certificate, diploma or degree   \n",
       "130830  Postsecondary certificate, diploma or degree   \n",
       "130831  Postsecondary certificate, diploma or degree   \n",
       "\n",
       "       Major field of study - Classification of Instructional Programs (CIP) 2021 (500)  \\\n",
       "0         No postsecondary certificate, diploma or degree                                 \n",
       "1         No postsecondary certificate, diploma or degree                                 \n",
       "2         No postsecondary certificate, diploma or degree                                 \n",
       "3         No postsecondary certificate, diploma or degree                                 \n",
       "4         No postsecondary certificate, diploma or degree                                 \n",
       "...                                                   ...                                 \n",
       "130827   Personal, protective and transportation services                                 \n",
       "130828   Personal, protective and transportation services                                 \n",
       "130829   Personal, protective and transportation services                                 \n",
       "130830   Personal, protective and transportation services                                 \n",
       "130831   Personal, protective and transportation services                                 \n",
       "\n",
       "       Occupation - Unit group - National Occupational Classification (NOC) 2021 (821A)  \\\n",
       "0                                         All occupations                                 \n",
       "1                                         All occupations                                 \n",
       "2         0 Legislative and senior management occupations                                 \n",
       "3                      00 Legislative and senior managers                                 \n",
       "4                     000 Legislative and senior managers                                 \n",
       "...                                                   ...                                 \n",
       "130827       9 Occupations in manufacturing and utilities                                 \n",
       "130828  90 Middle management occupations in manufactur...                                 \n",
       "130829  900 Middle management occupations in manufactu...                                 \n",
       "130830       9001 Managers in manufacturing and utilities                                 \n",
       "130831                           90011 Utilities managers                                 \n",
       "\n",
       "       Gender (3)  UOM  UOM_ID SCALAR_FACTOR  SCALAR_ID  VECTOR  \\\n",
       "0            Men+  NaN       0         units          0     NaN   \n",
       "1          Women+  NaN       0         units          0     NaN   \n",
       "2          Women+  NaN       0         units          0     NaN   \n",
       "3          Women+  NaN       0         units          0     NaN   \n",
       "4          Women+  NaN       0         units          0     NaN   \n",
       "...           ...  ...     ...           ...        ...     ...   \n",
       "130827       Men+  NaN       0         units          0     NaN   \n",
       "130828       Men+  NaN       0         units          0     NaN   \n",
       "130829       Men+  NaN       0         units          0     NaN   \n",
       "130830       Men+  NaN       0         units          0     NaN   \n",
       "130831       Men+  NaN       0         units          0     NaN   \n",
       "\n",
       "              COORDINATE  VALUE  STATUS  SYMBOL  TERMINATED  DECIMALS  \n",
       "0            2.2.2.2.3.2  12025     NaN     NaN         NaN         0  \n",
       "1            2.2.2.2.3.3   7755     NaN     NaN         NaN         0  \n",
       "2            2.2.2.2.4.3     10     NaN     NaN         NaN         0  \n",
       "3            2.2.2.2.5.3     10     NaN     NaN         NaN         0  \n",
       "4            2.2.2.2.6.3     10     NaN     NaN         NaN         0  \n",
       "...                  ...    ...     ...     ...         ...       ...  \n",
       "130827  14.2.4.476.725.2     10     NaN     NaN         NaN         0  \n",
       "130828  14.2.4.476.726.2     10     NaN     NaN         NaN         0  \n",
       "130829  14.2.4.476.727.2     10     NaN     NaN         NaN         0  \n",
       "130830  14.2.4.476.728.2     10     NaN     NaN         NaN         0  \n",
       "130831  14.2.4.476.730.2     10     NaN     NaN         NaN         0  \n",
       "\n",
       "[130832 rows x 19 columns]"
      ]
     },
     "execution_count": 144,
     "metadata": {},
     "output_type": "execute_result"
    }
   ],
   "source": [
    "raw_data = pd.read_csv(datafile)\n",
    "raw_data"
   ]
  },
  {
   "cell_type": "code",
   "execution_count": 145,
   "metadata": {},
   "outputs": [
    {
     "data": {
      "application/vnd.microsoft.datawrangler.viewer.v0+json": {
       "columns": [
        {
         "name": "index",
         "rawType": "int64",
         "type": "integer"
        },
        {
         "name": "GEO",
         "rawType": "object",
         "type": "string"
        },
        {
         "name": "EDUCATION",
         "rawType": "object",
         "type": "string"
        },
        {
         "name": "MAJOR",
         "rawType": "object",
         "type": "string"
        },
        {
         "name": "OCCUPATION",
         "rawType": "object",
         "type": "string"
        },
        {
         "name": "GENDER",
         "rawType": "object",
         "type": "string"
        },
        {
         "name": "COUNT",
         "rawType": "int64",
         "type": "integer"
        }
       ],
       "conversionMethod": "pd.DataFrame",
       "ref": "03a273e1-153b-4e67-9a95-7feb4dd9d3fa",
       "rows": [
        [
         "0",
         "Newfoundland and Labrador",
         "No certificate, diploma or degree",
         "No postsecondary certificate, diploma or degree",
         "All occupations",
         "Men+",
         "12025"
        ],
        [
         "1",
         "Newfoundland and Labrador",
         "No certificate, diploma or degree",
         "No postsecondary certificate, diploma or degree",
         "All occupations",
         "Women+",
         "7755"
        ],
        [
         "2",
         "Newfoundland and Labrador",
         "No certificate, diploma or degree",
         "No postsecondary certificate, diploma or degree",
         "0 Legislative and senior management occupations",
         "Women+",
         "10"
        ],
        [
         "3",
         "Newfoundland and Labrador",
         "No certificate, diploma or degree",
         "No postsecondary certificate, diploma or degree",
         "00 Legislative and senior managers",
         "Women+",
         "10"
        ],
        [
         "4",
         "Newfoundland and Labrador",
         "No certificate, diploma or degree",
         "No postsecondary certificate, diploma or degree",
         "000 Legislative and senior managers",
         "Women+",
         "10"
        ],
        [
         "5",
         "Newfoundland and Labrador",
         "No certificate, diploma or degree",
         "No postsecondary certificate, diploma or degree",
         "0001 Legislative and senior managers",
         "Women+",
         "10"
        ],
        [
         "6",
         "Newfoundland and Labrador",
         "No certificate, diploma or degree",
         "No postsecondary certificate, diploma or degree",
         "00018 Seniors managers - public and private sector",
         "Women+",
         "10"
        ],
        [
         "7",
         "Newfoundland and Labrador",
         "No certificate, diploma or degree",
         "No postsecondary certificate, diploma or degree",
         "1 Business, finance and administration occupations",
         "Men+",
         "250"
        ],
        [
         "8",
         "Newfoundland and Labrador",
         "No certificate, diploma or degree",
         "No postsecondary certificate, diploma or degree",
         "1 Business, finance and administration occupations",
         "Women+",
         "375"
        ],
        [
         "9",
         "Newfoundland and Labrador",
         "No certificate, diploma or degree",
         "No postsecondary certificate, diploma or degree",
         "10 Specialized middle management occupations in administrative services, financial and business services and communication (except broadcasting)",
         "Men+",
         "15"
        ],
        [
         "10",
         "Newfoundland and Labrador",
         "No certificate, diploma or degree",
         "No postsecondary certificate, diploma or degree",
         "10 Specialized middle management occupations in administrative services, financial and business services and communication (except broadcasting)",
         "Women+",
         "20"
        ],
        [
         "11",
         "Newfoundland and Labrador",
         "No certificate, diploma or degree",
         "No postsecondary certificate, diploma or degree",
         "100 Specialized middle management occupations in administrative services, financial and business services and communication (except broadcasting)",
         "Men+",
         "15"
        ],
        [
         "12",
         "Newfoundland and Labrador",
         "No certificate, diploma or degree",
         "No postsecondary certificate, diploma or degree",
         "100 Specialized middle management occupations in administrative services, financial and business services and communication (except broadcasting)",
         "Women+",
         "20"
        ],
        [
         "13",
         "Newfoundland and Labrador",
         "No certificate, diploma or degree",
         "No postsecondary certificate, diploma or degree",
         "1001 Administrative services managers",
         "Men+",
         "10"
        ],
        [
         "14",
         "Newfoundland and Labrador",
         "No certificate, diploma or degree",
         "No postsecondary certificate, diploma or degree",
         "1001 Administrative services managers",
         "Women+",
         "10"
        ],
        [
         "15",
         "Newfoundland and Labrador",
         "No certificate, diploma or degree",
         "No postsecondary certificate, diploma or degree",
         "1002 Managers in financial and business services",
         "Women+",
         "10"
        ],
        [
         "16",
         "Newfoundland and Labrador",
         "No certificate, diploma or degree",
         "No postsecondary certificate, diploma or degree",
         "11 Professional occupations in finance and business",
         "Men+",
         "15"
        ],
        [
         "17",
         "Newfoundland and Labrador",
         "No certificate, diploma or degree",
         "No postsecondary certificate, diploma or degree",
         "112 Professional occupations in business",
         "Men+",
         "15"
        ],
        [
         "18",
         "Newfoundland and Labrador",
         "No certificate, diploma or degree",
         "No postsecondary certificate, diploma or degree",
         "1120 Human resources and business service professionals",
         "Men+",
         "15"
        ],
        [
         "19",
         "Newfoundland and Labrador",
         "No certificate, diploma or degree",
         "No postsecondary certificate, diploma or degree",
         "11200 Human resources professionals",
         "Men+",
         "10"
        ],
        [
         "20",
         "Newfoundland and Labrador",
         "No certificate, diploma or degree",
         "No postsecondary certificate, diploma or degree",
         "12 Administrative and financial supervisors and specialized administrative occupations",
         "Men+",
         "45"
        ],
        [
         "21",
         "Newfoundland and Labrador",
         "No certificate, diploma or degree",
         "No postsecondary certificate, diploma or degree",
         "12 Administrative and financial supervisors and specialized administrative occupations",
         "Women+",
         "35"
        ],
        [
         "22",
         "Newfoundland and Labrador",
         "No certificate, diploma or degree",
         "No postsecondary certificate, diploma or degree",
         "120 Administrative and financial supervisors",
         "Men+",
         "30"
        ],
        [
         "23",
         "Newfoundland and Labrador",
         "No certificate, diploma or degree",
         "No postsecondary certificate, diploma or degree",
         "1201 Administrative and financial supervisors",
         "Men+",
         "30"
        ],
        [
         "24",
         "Newfoundland and Labrador",
         "No certificate, diploma or degree",
         "No postsecondary certificate, diploma or degree",
         "12010 Supervisors, general office and administrative support workers",
         "Men+",
         "20"
        ],
        [
         "25",
         "Newfoundland and Labrador",
         "No certificate, diploma or degree",
         "No postsecondary certificate, diploma or degree",
         "12013 Supervisors, supply chain, tracking and scheduling coordination occupations",
         "Men+",
         "10"
        ],
        [
         "26",
         "Newfoundland and Labrador",
         "No certificate, diploma or degree",
         "No postsecondary certificate, diploma or degree",
         "121 Specialized administrative occupations",
         "Men+",
         "15"
        ],
        [
         "27",
         "Newfoundland and Labrador",
         "No certificate, diploma or degree",
         "No postsecondary certificate, diploma or degree",
         "121 Specialized administrative occupations",
         "Women+",
         "10"
        ],
        [
         "28",
         "Newfoundland and Labrador",
         "No certificate, diploma or degree",
         "No postsecondary certificate, diploma or degree",
         "1210 Administrative and regulatory occupations",
         "Men+",
         "15"
        ],
        [
         "29",
         "Newfoundland and Labrador",
         "No certificate, diploma or degree",
         "No postsecondary certificate, diploma or degree",
         "1210 Administrative and regulatory occupations",
         "Women+",
         "10"
        ],
        [
         "30",
         "Newfoundland and Labrador",
         "No certificate, diploma or degree",
         "No postsecondary certificate, diploma or degree",
         "12104 Employment insurance and revenue officers",
         "Men+",
         "10"
        ],
        [
         "31",
         "Newfoundland and Labrador",
         "No certificate, diploma or degree",
         "No postsecondary certificate, diploma or degree",
         "122 Accounting, insurance and related business administrative occupations",
         "Women+",
         "20"
        ],
        [
         "32",
         "Newfoundland and Labrador",
         "No certificate, diploma or degree",
         "No postsecondary certificate, diploma or degree",
         "1220 Accounting, insurance and related business administrative occupations",
         "Women+",
         "20"
        ],
        [
         "33",
         "Newfoundland and Labrador",
         "No certificate, diploma or degree",
         "No postsecondary certificate, diploma or degree",
         "12200 Accounting technicians and bookkeepers",
         "Women+",
         "20"
        ],
        [
         "34",
         "Newfoundland and Labrador",
         "No certificate, diploma or degree",
         "No postsecondary certificate, diploma or degree",
         "13 Administrative occupations and transportation logistics occupations",
         "Men+",
         "20"
        ],
        [
         "35",
         "Newfoundland and Labrador",
         "No certificate, diploma or degree",
         "No postsecondary certificate, diploma or degree",
         "13 Administrative occupations and transportation logistics occupations",
         "Women+",
         "110"
        ],
        [
         "36",
         "Newfoundland and Labrador",
         "No certificate, diploma or degree",
         "No postsecondary certificate, diploma or degree",
         "131 Administrative occupations",
         "Men+",
         "20"
        ],
        [
         "37",
         "Newfoundland and Labrador",
         "No certificate, diploma or degree",
         "No postsecondary certificate, diploma or degree",
         "131 Administrative occupations",
         "Women+",
         "105"
        ],
        [
         "38",
         "Newfoundland and Labrador",
         "No certificate, diploma or degree",
         "No postsecondary certificate, diploma or degree",
         "1310 Administrative, property and payroll officers",
         "Men+",
         "20"
        ],
        [
         "39",
         "Newfoundland and Labrador",
         "No certificate, diploma or degree",
         "No postsecondary certificate, diploma or degree",
         "1310 Administrative, property and payroll officers",
         "Women+",
         "70"
        ],
        [
         "40",
         "Newfoundland and Labrador",
         "No certificate, diploma or degree",
         "No postsecondary certificate, diploma or degree",
         "13100 Administrative officers",
         "Men+",
         "10"
        ],
        [
         "41",
         "Newfoundland and Labrador",
         "No certificate, diploma or degree",
         "No postsecondary certificate, diploma or degree",
         "13100 Administrative officers",
         "Women+",
         "25"
        ],
        [
         "42",
         "Newfoundland and Labrador",
         "No certificate, diploma or degree",
         "No postsecondary certificate, diploma or degree",
         "13101 Property administrators",
         "Men+",
         "15"
        ],
        [
         "43",
         "Newfoundland and Labrador",
         "No certificate, diploma or degree",
         "No postsecondary certificate, diploma or degree",
         "13101 Property administrators",
         "Women+",
         "20"
        ],
        [
         "44",
         "Newfoundland and Labrador",
         "No certificate, diploma or degree",
         "No postsecondary certificate, diploma or degree",
         "13102 Payroll administrators",
         "Women+",
         "25"
        ],
        [
         "45",
         "Newfoundland and Labrador",
         "No certificate, diploma or degree",
         "No postsecondary certificate, diploma or degree",
         "1311 Office administrative assistants - general, legal and medical",
         "Women+",
         "40"
        ],
        [
         "46",
         "Newfoundland and Labrador",
         "No certificate, diploma or degree",
         "No postsecondary certificate, diploma or degree",
         "13110 Administrative assistants",
         "Women+",
         "35"
        ],
        [
         "47",
         "Newfoundland and Labrador",
         "No certificate, diploma or degree",
         "No postsecondary certificate, diploma or degree",
         "14 Administrative and financial support and supply chain logistics occupations",
         "Men+",
         "160"
        ],
        [
         "48",
         "Newfoundland and Labrador",
         "No certificate, diploma or degree",
         "No postsecondary certificate, diploma or degree",
         "14 Administrative and financial support and supply chain logistics occupations",
         "Women+",
         "210"
        ],
        [
         "49",
         "Newfoundland and Labrador",
         "No certificate, diploma or degree",
         "No postsecondary certificate, diploma or degree",
         "141 Office, court, and data support occupations",
         "Men+",
         "20"
        ]
       ],
       "shape": {
        "columns": 6,
        "rows": 130832
       }
      },
      "text/html": [
       "<div>\n",
       "<style scoped>\n",
       "    .dataframe tbody tr th:only-of-type {\n",
       "        vertical-align: middle;\n",
       "    }\n",
       "\n",
       "    .dataframe tbody tr th {\n",
       "        vertical-align: top;\n",
       "    }\n",
       "\n",
       "    .dataframe thead th {\n",
       "        text-align: right;\n",
       "    }\n",
       "</style>\n",
       "<table border=\"1\" class=\"dataframe\">\n",
       "  <thead>\n",
       "    <tr style=\"text-align: right;\">\n",
       "      <th></th>\n",
       "      <th>GEO</th>\n",
       "      <th>EDUCATION</th>\n",
       "      <th>MAJOR</th>\n",
       "      <th>OCCUPATION</th>\n",
       "      <th>GENDER</th>\n",
       "      <th>COUNT</th>\n",
       "    </tr>\n",
       "  </thead>\n",
       "  <tbody>\n",
       "    <tr>\n",
       "      <th>0</th>\n",
       "      <td>Newfoundland and Labrador</td>\n",
       "      <td>No certificate, diploma or degree</td>\n",
       "      <td>No postsecondary certificate, diploma or degree</td>\n",
       "      <td>All occupations</td>\n",
       "      <td>Men+</td>\n",
       "      <td>12025</td>\n",
       "    </tr>\n",
       "    <tr>\n",
       "      <th>1</th>\n",
       "      <td>Newfoundland and Labrador</td>\n",
       "      <td>No certificate, diploma or degree</td>\n",
       "      <td>No postsecondary certificate, diploma or degree</td>\n",
       "      <td>All occupations</td>\n",
       "      <td>Women+</td>\n",
       "      <td>7755</td>\n",
       "    </tr>\n",
       "    <tr>\n",
       "      <th>2</th>\n",
       "      <td>Newfoundland and Labrador</td>\n",
       "      <td>No certificate, diploma or degree</td>\n",
       "      <td>No postsecondary certificate, diploma or degree</td>\n",
       "      <td>0 Legislative and senior management occupations</td>\n",
       "      <td>Women+</td>\n",
       "      <td>10</td>\n",
       "    </tr>\n",
       "    <tr>\n",
       "      <th>3</th>\n",
       "      <td>Newfoundland and Labrador</td>\n",
       "      <td>No certificate, diploma or degree</td>\n",
       "      <td>No postsecondary certificate, diploma or degree</td>\n",
       "      <td>00 Legislative and senior managers</td>\n",
       "      <td>Women+</td>\n",
       "      <td>10</td>\n",
       "    </tr>\n",
       "    <tr>\n",
       "      <th>4</th>\n",
       "      <td>Newfoundland and Labrador</td>\n",
       "      <td>No certificate, diploma or degree</td>\n",
       "      <td>No postsecondary certificate, diploma or degree</td>\n",
       "      <td>000 Legislative and senior managers</td>\n",
       "      <td>Women+</td>\n",
       "      <td>10</td>\n",
       "    </tr>\n",
       "    <tr>\n",
       "      <th>...</th>\n",
       "      <td>...</td>\n",
       "      <td>...</td>\n",
       "      <td>...</td>\n",
       "      <td>...</td>\n",
       "      <td>...</td>\n",
       "      <td>...</td>\n",
       "    </tr>\n",
       "    <tr>\n",
       "      <th>130827</th>\n",
       "      <td>Nunavut</td>\n",
       "      <td>Postsecondary certificate, diploma or degree</td>\n",
       "      <td>Personal, protective and transportation services</td>\n",
       "      <td>9 Occupations in manufacturing and utilities</td>\n",
       "      <td>Men+</td>\n",
       "      <td>10</td>\n",
       "    </tr>\n",
       "    <tr>\n",
       "      <th>130828</th>\n",
       "      <td>Nunavut</td>\n",
       "      <td>Postsecondary certificate, diploma or degree</td>\n",
       "      <td>Personal, protective and transportation services</td>\n",
       "      <td>90 Middle management occupations in manufactur...</td>\n",
       "      <td>Men+</td>\n",
       "      <td>10</td>\n",
       "    </tr>\n",
       "    <tr>\n",
       "      <th>130829</th>\n",
       "      <td>Nunavut</td>\n",
       "      <td>Postsecondary certificate, diploma or degree</td>\n",
       "      <td>Personal, protective and transportation services</td>\n",
       "      <td>900 Middle management occupations in manufactu...</td>\n",
       "      <td>Men+</td>\n",
       "      <td>10</td>\n",
       "    </tr>\n",
       "    <tr>\n",
       "      <th>130830</th>\n",
       "      <td>Nunavut</td>\n",
       "      <td>Postsecondary certificate, diploma or degree</td>\n",
       "      <td>Personal, protective and transportation services</td>\n",
       "      <td>9001 Managers in manufacturing and utilities</td>\n",
       "      <td>Men+</td>\n",
       "      <td>10</td>\n",
       "    </tr>\n",
       "    <tr>\n",
       "      <th>130831</th>\n",
       "      <td>Nunavut</td>\n",
       "      <td>Postsecondary certificate, diploma or degree</td>\n",
       "      <td>Personal, protective and transportation services</td>\n",
       "      <td>90011 Utilities managers</td>\n",
       "      <td>Men+</td>\n",
       "      <td>10</td>\n",
       "    </tr>\n",
       "  </tbody>\n",
       "</table>\n",
       "<p>130832 rows × 6 columns</p>\n",
       "</div>"
      ],
      "text/plain": [
       "                              GEO  \\\n",
       "0       Newfoundland and Labrador   \n",
       "1       Newfoundland and Labrador   \n",
       "2       Newfoundland and Labrador   \n",
       "3       Newfoundland and Labrador   \n",
       "4       Newfoundland and Labrador   \n",
       "...                           ...   \n",
       "130827                    Nunavut   \n",
       "130828                    Nunavut   \n",
       "130829                    Nunavut   \n",
       "130830                    Nunavut   \n",
       "130831                    Nunavut   \n",
       "\n",
       "                                           EDUCATION  \\\n",
       "0                  No certificate, diploma or degree   \n",
       "1                  No certificate, diploma or degree   \n",
       "2                  No certificate, diploma or degree   \n",
       "3                  No certificate, diploma or degree   \n",
       "4                  No certificate, diploma or degree   \n",
       "...                                              ...   \n",
       "130827  Postsecondary certificate, diploma or degree   \n",
       "130828  Postsecondary certificate, diploma or degree   \n",
       "130829  Postsecondary certificate, diploma or degree   \n",
       "130830  Postsecondary certificate, diploma or degree   \n",
       "130831  Postsecondary certificate, diploma or degree   \n",
       "\n",
       "                                                   MAJOR  \\\n",
       "0        No postsecondary certificate, diploma or degree   \n",
       "1        No postsecondary certificate, diploma or degree   \n",
       "2        No postsecondary certificate, diploma or degree   \n",
       "3        No postsecondary certificate, diploma or degree   \n",
       "4        No postsecondary certificate, diploma or degree   \n",
       "...                                                  ...   \n",
       "130827  Personal, protective and transportation services   \n",
       "130828  Personal, protective and transportation services   \n",
       "130829  Personal, protective and transportation services   \n",
       "130830  Personal, protective and transportation services   \n",
       "130831  Personal, protective and transportation services   \n",
       "\n",
       "                                               OCCUPATION  GENDER  COUNT  \n",
       "0                                         All occupations    Men+  12025  \n",
       "1                                         All occupations  Women+   7755  \n",
       "2         0 Legislative and senior management occupations  Women+     10  \n",
       "3                      00 Legislative and senior managers  Women+     10  \n",
       "4                     000 Legislative and senior managers  Women+     10  \n",
       "...                                                   ...     ...    ...  \n",
       "130827       9 Occupations in manufacturing and utilities    Men+     10  \n",
       "130828  90 Middle management occupations in manufactur...    Men+     10  \n",
       "130829  900 Middle management occupations in manufactu...    Men+     10  \n",
       "130830       9001 Managers in manufacturing and utilities    Men+     10  \n",
       "130831                           90011 Utilities managers    Men+     10  \n",
       "\n",
       "[130832 rows x 6 columns]"
      ]
     },
     "execution_count": 145,
     "metadata": {},
     "output_type": "execute_result"
    }
   ],
   "source": [
    "redundant_cols = [\n",
    "    \"DGUID\",\n",
    "    \"Age (2)\",\n",
    "    \"UOM\",\n",
    "    \"UOM_ID\",\n",
    "    \"SCALAR_FACTOR\",\n",
    "    \"SCALAR_ID\",\n",
    "    \"STATUS\",\n",
    "    \"SYMBOL\",\n",
    "    \"TERMINATED\",\n",
    "    \"DECIMALS\",\n",
    "    \"VECTOR\",\n",
    "    \"REF_DATE\",\n",
    "    \"COORDINATE\",\n",
    "]\n",
    "master_df = raw_data.drop(columns=redundant_cols)\n",
    "master_df.columns = [\"GEO\",\"EDUCATION\",\"MAJOR\",\"OCCUPATION\",\"GENDER\",\"COUNT\"]\n",
    "master_df"
   ]
  },
  {
   "cell_type": "code",
   "execution_count": 146,
   "metadata": {},
   "outputs": [
    {
     "data": {
      "text/plain": [
       "GEO           0\n",
       "EDUCATION     0\n",
       "MAJOR         0\n",
       "OCCUPATION    0\n",
       "GENDER        0\n",
       "COUNT         0\n",
       "dtype: int64"
      ]
     },
     "execution_count": 146,
     "metadata": {},
     "output_type": "execute_result"
    }
   ],
   "source": [
    "master_df.isnull().sum()"
   ]
  },
  {
   "cell_type": "markdown",
   "metadata": {},
   "source": [
    "Fix Gender"
   ]
  },
  {
   "cell_type": "code",
   "execution_count": 147,
   "metadata": {},
   "outputs": [
    {
     "data": {
      "application/vnd.microsoft.datawrangler.viewer.v0+json": {
       "columns": [
        {
         "name": "index",
         "rawType": "int64",
         "type": "integer"
        },
        {
         "name": "GEO",
         "rawType": "object",
         "type": "string"
        },
        {
         "name": "EDUCATION",
         "rawType": "object",
         "type": "string"
        },
        {
         "name": "MAJOR",
         "rawType": "object",
         "type": "string"
        },
        {
         "name": "OCCUPATION",
         "rawType": "object",
         "type": "string"
        },
        {
         "name": "GENDER",
         "rawType": "object",
         "type": "string"
        },
        {
         "name": "COUNT",
         "rawType": "int64",
         "type": "integer"
        },
        {
         "name": "NOC",
         "rawType": "object",
         "type": "unknown"
        },
        {
         "name": "Hierarchy",
         "rawType": "int64",
         "type": "integer"
        },
        {
         "name": "OCCUPATION_C",
         "rawType": "object",
         "type": "string"
        }
       ],
       "conversionMethod": "pd.DataFrame",
       "ref": "e74bc2ec-b5b4-431f-8975-34461ccabc87",
       "rows": [
        [
         "0",
         "Newfoundland and Labrador",
         "No certificate, diploma or degree",
         "No postsecondary certificate, diploma or degree",
         "All occupations",
         "Men",
         "12025",
         null,
         "0",
         "occupations"
        ],
        [
         "1",
         "Newfoundland and Labrador",
         "No certificate, diploma or degree",
         "No postsecondary certificate, diploma or degree",
         "All occupations",
         "Women",
         "7755",
         null,
         "0",
         "occupations"
        ],
        [
         "2",
         "Newfoundland and Labrador",
         "No certificate, diploma or degree",
         "No postsecondary certificate, diploma or degree",
         "0 Legislative and senior management occupations",
         "Women",
         "10",
         "0",
         "1",
         "Legislative and senior management occupations"
        ],
        [
         "3",
         "Newfoundland and Labrador",
         "No certificate, diploma or degree",
         "No postsecondary certificate, diploma or degree",
         "00 Legislative and senior managers",
         "Women",
         "10",
         "00",
         "2",
         "Legislative and senior managers"
        ],
        [
         "4",
         "Newfoundland and Labrador",
         "No certificate, diploma or degree",
         "No postsecondary certificate, diploma or degree",
         "000 Legislative and senior managers",
         "Women",
         "10",
         "000",
         "3",
         "Legislative and senior managers"
        ],
        [
         "5",
         "Newfoundland and Labrador",
         "No certificate, diploma or degree",
         "No postsecondary certificate, diploma or degree",
         "0001 Legislative and senior managers",
         "Women",
         "10",
         "0001",
         "4",
         "Legislative and senior managers"
        ],
        [
         "6",
         "Newfoundland and Labrador",
         "No certificate, diploma or degree",
         "No postsecondary certificate, diploma or degree",
         "00018 Seniors managers - public and private sector",
         "Women",
         "10",
         "00018",
         "5",
         "Seniors managers - public and private sector"
        ],
        [
         "7",
         "Newfoundland and Labrador",
         "No certificate, diploma or degree",
         "No postsecondary certificate, diploma or degree",
         "1 Business, finance and administration occupations",
         "Men",
         "250",
         "1",
         "1",
         "Business, finance and administration occupations"
        ],
        [
         "8",
         "Newfoundland and Labrador",
         "No certificate, diploma or degree",
         "No postsecondary certificate, diploma or degree",
         "1 Business, finance and administration occupations",
         "Women",
         "375",
         "1",
         "1",
         "Business, finance and administration occupations"
        ],
        [
         "9",
         "Newfoundland and Labrador",
         "No certificate, diploma or degree",
         "No postsecondary certificate, diploma or degree",
         "10 Specialized middle management occupations in administrative services, financial and business services and communication (except broadcasting)",
         "Men",
         "15",
         "10",
         "2",
         "Specialized middle management occupations in administrative services, financial and business services and communication (except broadcasting)"
        ],
        [
         "10",
         "Newfoundland and Labrador",
         "No certificate, diploma or degree",
         "No postsecondary certificate, diploma or degree",
         "10 Specialized middle management occupations in administrative services, financial and business services and communication (except broadcasting)",
         "Women",
         "20",
         "10",
         "2",
         "Specialized middle management occupations in administrative services, financial and business services and communication (except broadcasting)"
        ],
        [
         "11",
         "Newfoundland and Labrador",
         "No certificate, diploma or degree",
         "No postsecondary certificate, diploma or degree",
         "100 Specialized middle management occupations in administrative services, financial and business services and communication (except broadcasting)",
         "Men",
         "15",
         "100",
         "3",
         "Specialized middle management occupations in administrative services, financial and business services and communication (except broadcasting)"
        ],
        [
         "12",
         "Newfoundland and Labrador",
         "No certificate, diploma or degree",
         "No postsecondary certificate, diploma or degree",
         "100 Specialized middle management occupations in administrative services, financial and business services and communication (except broadcasting)",
         "Women",
         "20",
         "100",
         "3",
         "Specialized middle management occupations in administrative services, financial and business services and communication (except broadcasting)"
        ],
        [
         "13",
         "Newfoundland and Labrador",
         "No certificate, diploma or degree",
         "No postsecondary certificate, diploma or degree",
         "1001 Administrative services managers",
         "Men",
         "10",
         "1001",
         "4",
         "Administrative services managers"
        ],
        [
         "14",
         "Newfoundland and Labrador",
         "No certificate, diploma or degree",
         "No postsecondary certificate, diploma or degree",
         "1001 Administrative services managers",
         "Women",
         "10",
         "1001",
         "4",
         "Administrative services managers"
        ],
        [
         "15",
         "Newfoundland and Labrador",
         "No certificate, diploma or degree",
         "No postsecondary certificate, diploma or degree",
         "1002 Managers in financial and business services",
         "Women",
         "10",
         "1002",
         "4",
         "Managers in financial and business services"
        ],
        [
         "16",
         "Newfoundland and Labrador",
         "No certificate, diploma or degree",
         "No postsecondary certificate, diploma or degree",
         "11 Professional occupations in finance and business",
         "Men",
         "15",
         "11",
         "2",
         "Professional occupations in finance and business"
        ],
        [
         "17",
         "Newfoundland and Labrador",
         "No certificate, diploma or degree",
         "No postsecondary certificate, diploma or degree",
         "112 Professional occupations in business",
         "Men",
         "15",
         "112",
         "3",
         "Professional occupations in business"
        ],
        [
         "18",
         "Newfoundland and Labrador",
         "No certificate, diploma or degree",
         "No postsecondary certificate, diploma or degree",
         "1120 Human resources and business service professionals",
         "Men",
         "15",
         "1120",
         "4",
         "Human resources and business service professionals"
        ],
        [
         "19",
         "Newfoundland and Labrador",
         "No certificate, diploma or degree",
         "No postsecondary certificate, diploma or degree",
         "11200 Human resources professionals",
         "Men",
         "10",
         "11200",
         "5",
         "Human resources professionals"
        ],
        [
         "20",
         "Newfoundland and Labrador",
         "No certificate, diploma or degree",
         "No postsecondary certificate, diploma or degree",
         "12 Administrative and financial supervisors and specialized administrative occupations",
         "Men",
         "45",
         "12",
         "2",
         "Administrative and financial supervisors and specialized administrative occupations"
        ],
        [
         "21",
         "Newfoundland and Labrador",
         "No certificate, diploma or degree",
         "No postsecondary certificate, diploma or degree",
         "12 Administrative and financial supervisors and specialized administrative occupations",
         "Women",
         "35",
         "12",
         "2",
         "Administrative and financial supervisors and specialized administrative occupations"
        ],
        [
         "22",
         "Newfoundland and Labrador",
         "No certificate, diploma or degree",
         "No postsecondary certificate, diploma or degree",
         "120 Administrative and financial supervisors",
         "Men",
         "30",
         "120",
         "3",
         "Administrative and financial supervisors"
        ],
        [
         "23",
         "Newfoundland and Labrador",
         "No certificate, diploma or degree",
         "No postsecondary certificate, diploma or degree",
         "1201 Administrative and financial supervisors",
         "Men",
         "30",
         "1201",
         "4",
         "Administrative and financial supervisors"
        ],
        [
         "24",
         "Newfoundland and Labrador",
         "No certificate, diploma or degree",
         "No postsecondary certificate, diploma or degree",
         "12010 Supervisors, general office and administrative support workers",
         "Men",
         "20",
         "12010",
         "5",
         "Supervisors, general office and administrative support workers"
        ],
        [
         "25",
         "Newfoundland and Labrador",
         "No certificate, diploma or degree",
         "No postsecondary certificate, diploma or degree",
         "12013 Supervisors, supply chain, tracking and scheduling coordination occupations",
         "Men",
         "10",
         "12013",
         "5",
         "Supervisors, supply chain, tracking and scheduling coordination occupations"
        ],
        [
         "26",
         "Newfoundland and Labrador",
         "No certificate, diploma or degree",
         "No postsecondary certificate, diploma or degree",
         "121 Specialized administrative occupations",
         "Men",
         "15",
         "121",
         "3",
         "Specialized administrative occupations"
        ],
        [
         "27",
         "Newfoundland and Labrador",
         "No certificate, diploma or degree",
         "No postsecondary certificate, diploma or degree",
         "121 Specialized administrative occupations",
         "Women",
         "10",
         "121",
         "3",
         "Specialized administrative occupations"
        ],
        [
         "28",
         "Newfoundland and Labrador",
         "No certificate, diploma or degree",
         "No postsecondary certificate, diploma or degree",
         "1210 Administrative and regulatory occupations",
         "Men",
         "15",
         "1210",
         "4",
         "Administrative and regulatory occupations"
        ],
        [
         "29",
         "Newfoundland and Labrador",
         "No certificate, diploma or degree",
         "No postsecondary certificate, diploma or degree",
         "1210 Administrative and regulatory occupations",
         "Women",
         "10",
         "1210",
         "4",
         "Administrative and regulatory occupations"
        ],
        [
         "30",
         "Newfoundland and Labrador",
         "No certificate, diploma or degree",
         "No postsecondary certificate, diploma or degree",
         "12104 Employment insurance and revenue officers",
         "Men",
         "10",
         "12104",
         "5",
         "Employment insurance and revenue officers"
        ],
        [
         "31",
         "Newfoundland and Labrador",
         "No certificate, diploma or degree",
         "No postsecondary certificate, diploma or degree",
         "122 Accounting, insurance and related business administrative occupations",
         "Women",
         "20",
         "122",
         "3",
         "Accounting, insurance and related business administrative occupations"
        ],
        [
         "32",
         "Newfoundland and Labrador",
         "No certificate, diploma or degree",
         "No postsecondary certificate, diploma or degree",
         "1220 Accounting, insurance and related business administrative occupations",
         "Women",
         "20",
         "1220",
         "4",
         "Accounting, insurance and related business administrative occupations"
        ],
        [
         "33",
         "Newfoundland and Labrador",
         "No certificate, diploma or degree",
         "No postsecondary certificate, diploma or degree",
         "12200 Accounting technicians and bookkeepers",
         "Women",
         "20",
         "12200",
         "5",
         "Accounting technicians and bookkeepers"
        ],
        [
         "34",
         "Newfoundland and Labrador",
         "No certificate, diploma or degree",
         "No postsecondary certificate, diploma or degree",
         "13 Administrative occupations and transportation logistics occupations",
         "Men",
         "20",
         "13",
         "2",
         "Administrative occupations and transportation logistics occupations"
        ],
        [
         "35",
         "Newfoundland and Labrador",
         "No certificate, diploma or degree",
         "No postsecondary certificate, diploma or degree",
         "13 Administrative occupations and transportation logistics occupations",
         "Women",
         "110",
         "13",
         "2",
         "Administrative occupations and transportation logistics occupations"
        ],
        [
         "36",
         "Newfoundland and Labrador",
         "No certificate, diploma or degree",
         "No postsecondary certificate, diploma or degree",
         "131 Administrative occupations",
         "Men",
         "20",
         "131",
         "3",
         "Administrative occupations"
        ],
        [
         "37",
         "Newfoundland and Labrador",
         "No certificate, diploma or degree",
         "No postsecondary certificate, diploma or degree",
         "131 Administrative occupations",
         "Women",
         "105",
         "131",
         "3",
         "Administrative occupations"
        ],
        [
         "38",
         "Newfoundland and Labrador",
         "No certificate, diploma or degree",
         "No postsecondary certificate, diploma or degree",
         "1310 Administrative, property and payroll officers",
         "Men",
         "20",
         "1310",
         "4",
         "Administrative, property and payroll officers"
        ],
        [
         "39",
         "Newfoundland and Labrador",
         "No certificate, diploma or degree",
         "No postsecondary certificate, diploma or degree",
         "1310 Administrative, property and payroll officers",
         "Women",
         "70",
         "1310",
         "4",
         "Administrative, property and payroll officers"
        ],
        [
         "40",
         "Newfoundland and Labrador",
         "No certificate, diploma or degree",
         "No postsecondary certificate, diploma or degree",
         "13100 Administrative officers",
         "Men",
         "10",
         "13100",
         "5",
         "Administrative officers"
        ],
        [
         "41",
         "Newfoundland and Labrador",
         "No certificate, diploma or degree",
         "No postsecondary certificate, diploma or degree",
         "13100 Administrative officers",
         "Women",
         "25",
         "13100",
         "5",
         "Administrative officers"
        ],
        [
         "42",
         "Newfoundland and Labrador",
         "No certificate, diploma or degree",
         "No postsecondary certificate, diploma or degree",
         "13101 Property administrators",
         "Men",
         "15",
         "13101",
         "5",
         "Property administrators"
        ],
        [
         "43",
         "Newfoundland and Labrador",
         "No certificate, diploma or degree",
         "No postsecondary certificate, diploma or degree",
         "13101 Property administrators",
         "Women",
         "20",
         "13101",
         "5",
         "Property administrators"
        ],
        [
         "44",
         "Newfoundland and Labrador",
         "No certificate, diploma or degree",
         "No postsecondary certificate, diploma or degree",
         "13102 Payroll administrators",
         "Women",
         "25",
         "13102",
         "5",
         "Payroll administrators"
        ],
        [
         "45",
         "Newfoundland and Labrador",
         "No certificate, diploma or degree",
         "No postsecondary certificate, diploma or degree",
         "1311 Office administrative assistants - general, legal and medical",
         "Women",
         "40",
         "1311",
         "4",
         "Office administrative assistants - general, legal and medical"
        ],
        [
         "46",
         "Newfoundland and Labrador",
         "No certificate, diploma or degree",
         "No postsecondary certificate, diploma or degree",
         "13110 Administrative assistants",
         "Women",
         "35",
         "13110",
         "5",
         "Administrative assistants"
        ],
        [
         "47",
         "Newfoundland and Labrador",
         "No certificate, diploma or degree",
         "No postsecondary certificate, diploma or degree",
         "14 Administrative and financial support and supply chain logistics occupations",
         "Men",
         "160",
         "14",
         "2",
         "Administrative and financial support and supply chain logistics occupations"
        ],
        [
         "48",
         "Newfoundland and Labrador",
         "No certificate, diploma or degree",
         "No postsecondary certificate, diploma or degree",
         "14 Administrative and financial support and supply chain logistics occupations",
         "Women",
         "210",
         "14",
         "2",
         "Administrative and financial support and supply chain logistics occupations"
        ],
        [
         "49",
         "Newfoundland and Labrador",
         "No certificate, diploma or degree",
         "No postsecondary certificate, diploma or degree",
         "141 Office, court, and data support occupations",
         "Men",
         "20",
         "141",
         "3",
         "Office, court, and data support occupations"
        ]
       ],
       "shape": {
        "columns": 9,
        "rows": 130832
       }
      },
      "text/html": [
       "<div>\n",
       "<style scoped>\n",
       "    .dataframe tbody tr th:only-of-type {\n",
       "        vertical-align: middle;\n",
       "    }\n",
       "\n",
       "    .dataframe tbody tr th {\n",
       "        vertical-align: top;\n",
       "    }\n",
       "\n",
       "    .dataframe thead th {\n",
       "        text-align: right;\n",
       "    }\n",
       "</style>\n",
       "<table border=\"1\" class=\"dataframe\">\n",
       "  <thead>\n",
       "    <tr style=\"text-align: right;\">\n",
       "      <th></th>\n",
       "      <th>GEO</th>\n",
       "      <th>EDUCATION</th>\n",
       "      <th>MAJOR</th>\n",
       "      <th>OCCUPATION</th>\n",
       "      <th>GENDER</th>\n",
       "      <th>COUNT</th>\n",
       "      <th>NOC</th>\n",
       "      <th>Hierarchy</th>\n",
       "      <th>OCCUPATION_C</th>\n",
       "    </tr>\n",
       "  </thead>\n",
       "  <tbody>\n",
       "    <tr>\n",
       "      <th>0</th>\n",
       "      <td>Newfoundland and Labrador</td>\n",
       "      <td>No certificate, diploma or degree</td>\n",
       "      <td>No postsecondary certificate, diploma or degree</td>\n",
       "      <td>All occupations</td>\n",
       "      <td>Men</td>\n",
       "      <td>12025</td>\n",
       "      <td>NaN</td>\n",
       "      <td>0</td>\n",
       "      <td>occupations</td>\n",
       "    </tr>\n",
       "    <tr>\n",
       "      <th>1</th>\n",
       "      <td>Newfoundland and Labrador</td>\n",
       "      <td>No certificate, diploma or degree</td>\n",
       "      <td>No postsecondary certificate, diploma or degree</td>\n",
       "      <td>All occupations</td>\n",
       "      <td>Women</td>\n",
       "      <td>7755</td>\n",
       "      <td>NaN</td>\n",
       "      <td>0</td>\n",
       "      <td>occupations</td>\n",
       "    </tr>\n",
       "    <tr>\n",
       "      <th>2</th>\n",
       "      <td>Newfoundland and Labrador</td>\n",
       "      <td>No certificate, diploma or degree</td>\n",
       "      <td>No postsecondary certificate, diploma or degree</td>\n",
       "      <td>0 Legislative and senior management occupations</td>\n",
       "      <td>Women</td>\n",
       "      <td>10</td>\n",
       "      <td>0</td>\n",
       "      <td>1</td>\n",
       "      <td>Legislative and senior management occupations</td>\n",
       "    </tr>\n",
       "    <tr>\n",
       "      <th>3</th>\n",
       "      <td>Newfoundland and Labrador</td>\n",
       "      <td>No certificate, diploma or degree</td>\n",
       "      <td>No postsecondary certificate, diploma or degree</td>\n",
       "      <td>00 Legislative and senior managers</td>\n",
       "      <td>Women</td>\n",
       "      <td>10</td>\n",
       "      <td>00</td>\n",
       "      <td>2</td>\n",
       "      <td>Legislative and senior managers</td>\n",
       "    </tr>\n",
       "    <tr>\n",
       "      <th>4</th>\n",
       "      <td>Newfoundland and Labrador</td>\n",
       "      <td>No certificate, diploma or degree</td>\n",
       "      <td>No postsecondary certificate, diploma or degree</td>\n",
       "      <td>000 Legislative and senior managers</td>\n",
       "      <td>Women</td>\n",
       "      <td>10</td>\n",
       "      <td>000</td>\n",
       "      <td>3</td>\n",
       "      <td>Legislative and senior managers</td>\n",
       "    </tr>\n",
       "    <tr>\n",
       "      <th>...</th>\n",
       "      <td>...</td>\n",
       "      <td>...</td>\n",
       "      <td>...</td>\n",
       "      <td>...</td>\n",
       "      <td>...</td>\n",
       "      <td>...</td>\n",
       "      <td>...</td>\n",
       "      <td>...</td>\n",
       "      <td>...</td>\n",
       "    </tr>\n",
       "    <tr>\n",
       "      <th>130827</th>\n",
       "      <td>Nunavut</td>\n",
       "      <td>Postsecondary certificate, diploma or degree</td>\n",
       "      <td>Personal, protective and transportation services</td>\n",
       "      <td>9 Occupations in manufacturing and utilities</td>\n",
       "      <td>Men</td>\n",
       "      <td>10</td>\n",
       "      <td>9</td>\n",
       "      <td>1</td>\n",
       "      <td>Occupations in manufacturing and utilities</td>\n",
       "    </tr>\n",
       "    <tr>\n",
       "      <th>130828</th>\n",
       "      <td>Nunavut</td>\n",
       "      <td>Postsecondary certificate, diploma or degree</td>\n",
       "      <td>Personal, protective and transportation services</td>\n",
       "      <td>90 Middle management occupations in manufactur...</td>\n",
       "      <td>Men</td>\n",
       "      <td>10</td>\n",
       "      <td>90</td>\n",
       "      <td>2</td>\n",
       "      <td>Middle management occupations in manufacturing...</td>\n",
       "    </tr>\n",
       "    <tr>\n",
       "      <th>130829</th>\n",
       "      <td>Nunavut</td>\n",
       "      <td>Postsecondary certificate, diploma or degree</td>\n",
       "      <td>Personal, protective and transportation services</td>\n",
       "      <td>900 Middle management occupations in manufactu...</td>\n",
       "      <td>Men</td>\n",
       "      <td>10</td>\n",
       "      <td>900</td>\n",
       "      <td>3</td>\n",
       "      <td>Middle management occupations in manufacturing...</td>\n",
       "    </tr>\n",
       "    <tr>\n",
       "      <th>130830</th>\n",
       "      <td>Nunavut</td>\n",
       "      <td>Postsecondary certificate, diploma or degree</td>\n",
       "      <td>Personal, protective and transportation services</td>\n",
       "      <td>9001 Managers in manufacturing and utilities</td>\n",
       "      <td>Men</td>\n",
       "      <td>10</td>\n",
       "      <td>9001</td>\n",
       "      <td>4</td>\n",
       "      <td>Managers in manufacturing and utilities</td>\n",
       "    </tr>\n",
       "    <tr>\n",
       "      <th>130831</th>\n",
       "      <td>Nunavut</td>\n",
       "      <td>Postsecondary certificate, diploma or degree</td>\n",
       "      <td>Personal, protective and transportation services</td>\n",
       "      <td>90011 Utilities managers</td>\n",
       "      <td>Men</td>\n",
       "      <td>10</td>\n",
       "      <td>90011</td>\n",
       "      <td>5</td>\n",
       "      <td>Utilities managers</td>\n",
       "    </tr>\n",
       "  </tbody>\n",
       "</table>\n",
       "<p>130832 rows × 9 columns</p>\n",
       "</div>"
      ],
      "text/plain": [
       "                              GEO  \\\n",
       "0       Newfoundland and Labrador   \n",
       "1       Newfoundland and Labrador   \n",
       "2       Newfoundland and Labrador   \n",
       "3       Newfoundland and Labrador   \n",
       "4       Newfoundland and Labrador   \n",
       "...                           ...   \n",
       "130827                    Nunavut   \n",
       "130828                    Nunavut   \n",
       "130829                    Nunavut   \n",
       "130830                    Nunavut   \n",
       "130831                    Nunavut   \n",
       "\n",
       "                                           EDUCATION  \\\n",
       "0                  No certificate, diploma or degree   \n",
       "1                  No certificate, diploma or degree   \n",
       "2                  No certificate, diploma or degree   \n",
       "3                  No certificate, diploma or degree   \n",
       "4                  No certificate, diploma or degree   \n",
       "...                                              ...   \n",
       "130827  Postsecondary certificate, diploma or degree   \n",
       "130828  Postsecondary certificate, diploma or degree   \n",
       "130829  Postsecondary certificate, diploma or degree   \n",
       "130830  Postsecondary certificate, diploma or degree   \n",
       "130831  Postsecondary certificate, diploma or degree   \n",
       "\n",
       "                                                   MAJOR  \\\n",
       "0        No postsecondary certificate, diploma or degree   \n",
       "1        No postsecondary certificate, diploma or degree   \n",
       "2        No postsecondary certificate, diploma or degree   \n",
       "3        No postsecondary certificate, diploma or degree   \n",
       "4        No postsecondary certificate, diploma or degree   \n",
       "...                                                  ...   \n",
       "130827  Personal, protective and transportation services   \n",
       "130828  Personal, protective and transportation services   \n",
       "130829  Personal, protective and transportation services   \n",
       "130830  Personal, protective and transportation services   \n",
       "130831  Personal, protective and transportation services   \n",
       "\n",
       "                                               OCCUPATION GENDER  COUNT  \\\n",
       "0                                         All occupations    Men  12025   \n",
       "1                                         All occupations  Women   7755   \n",
       "2         0 Legislative and senior management occupations  Women     10   \n",
       "3                      00 Legislative and senior managers  Women     10   \n",
       "4                     000 Legislative and senior managers  Women     10   \n",
       "...                                                   ...    ...    ...   \n",
       "130827       9 Occupations in manufacturing and utilities    Men     10   \n",
       "130828  90 Middle management occupations in manufactur...    Men     10   \n",
       "130829  900 Middle management occupations in manufactu...    Men     10   \n",
       "130830       9001 Managers in manufacturing and utilities    Men     10   \n",
       "130831                           90011 Utilities managers    Men     10   \n",
       "\n",
       "          NOC  Hierarchy                                       OCCUPATION_C  \n",
       "0         NaN          0                                        occupations  \n",
       "1         NaN          0                                        occupations  \n",
       "2           0          1      Legislative and senior management occupations  \n",
       "3          00          2                    Legislative and senior managers  \n",
       "4         000          3                    Legislative and senior managers  \n",
       "...       ...        ...                                                ...  \n",
       "130827      9          1         Occupations in manufacturing and utilities  \n",
       "130828     90          2  Middle management occupations in manufacturing...  \n",
       "130829    900          3  Middle management occupations in manufacturing...  \n",
       "130830   9001          4            Managers in manufacturing and utilities  \n",
       "130831  90011          5                                 Utilities managers  \n",
       "\n",
       "[130832 rows x 9 columns]"
      ]
     },
     "execution_count": 147,
     "metadata": {},
     "output_type": "execute_result"
    }
   ],
   "source": [
    "def clean_gender_COUNTs(COUNT):\n",
    "    return COUNT[:-1]\n",
    "\n",
    "\n",
    "def get_noc_codes(COUNT):\n",
    "    noc = COUNT.split(\" \")[0]\n",
    "    if not noc.isdigit():\n",
    "        return np.nan\n",
    "    return noc\n",
    "\n",
    "def get_hierarchy_number(COUNT):\n",
    "    if type(COUNT) is float:\n",
    "        return 0\n",
    "    return len(COUNT)\n",
    "\n",
    "def clean_occupations(COUNT):\n",
    "    COUNT = COUNT.split(\" \")\n",
    "    COUNT.pop(0)\n",
    "    return \" \".join(COUNT)\n",
    "\n",
    "\n",
    "master_df[\"GENDER\"] = master_df.GENDER.apply(clean_gender_COUNTs) # remove plus sign form gender COUNTs\n",
    "master_df[\"NOC\"] = master_df.OCCUPATION.apply(get_noc_codes) # Split NOC codes based on categories.\n",
    "master_df[\"Hierarchy\"] = master_df.NOC.apply(get_hierarchy_number)\n",
    "master_df[\"OCCUPATION_C\"] = master_df.OCCUPATION.apply(clean_occupations)\n",
    "\n",
    "master_df"
   ]
  },
  {
   "cell_type": "code",
   "execution_count": 148,
   "metadata": {},
   "outputs": [
    {
     "name": "stdout",
     "output_type": "stream",
     "text": [
      "<class 'pandas.core.frame.DataFrame'>\n",
      "RangeIndex: 130832 entries, 0 to 130831\n",
      "Data columns (total 9 columns):\n",
      " #   Column        Non-Null Count   Dtype \n",
      "---  ------        --------------   ----- \n",
      " 0   GEO           130832 non-null  object\n",
      " 1   EDUCATION     130832 non-null  object\n",
      " 2   MAJOR         130832 non-null  object\n",
      " 3   OCCUPATION    130832 non-null  object\n",
      " 4   GENDER        130832 non-null  object\n",
      " 5   COUNT         130832 non-null  int64 \n",
      " 6   NOC           130477 non-null  object\n",
      " 7   Hierarchy     130832 non-null  int64 \n",
      " 8   OCCUPATION_C  130832 non-null  object\n",
      "dtypes: int64(2), object(7)\n",
      "memory usage: 9.0+ MB\n"
     ]
    }
   ],
   "source": [
    "master_df.info()"
   ]
  },
  {
   "cell_type": "code",
   "execution_count": 149,
   "metadata": {},
   "outputs": [
    {
     "data": {
      "text/plain": [
       "array(['Newfoundland and Labrador', 'Prince Edward Island', 'Nova Scotia',\n",
       "       'New Brunswick', 'Quebec', 'Ontario', 'Manitoba', 'Saskatchewan',\n",
       "       'Alberta', 'British Columbia', 'Yukon', 'Northwest Territories',\n",
       "       'Nunavut'], dtype=object)"
      ]
     },
     "execution_count": 149,
     "metadata": {},
     "output_type": "execute_result"
    }
   ],
   "source": [
    "master_df.GEO.unique()"
   ]
  },
  {
   "cell_type": "code",
   "execution_count": 150,
   "metadata": {},
   "outputs": [
    {
     "data": {
      "text/plain": [
       "array(['Legislative and senior management occupations',\n",
       "       'Business, finance and administration occupations',\n",
       "       'Natural and applied sciences and related occupations',\n",
       "       'Health occupations',\n",
       "       'Occupations in education, law and social, community and government services',\n",
       "       'Occupations in art, culture, recreation and sport',\n",
       "       'Sales and service occupations',\n",
       "       'Trades, transport and equipment operators and related occupations',\n",
       "       'Natural resources, agriculture and related production occupations',\n",
       "       'Occupations in manufacturing and utilities'], dtype=object)"
      ]
     },
     "execution_count": 150,
     "metadata": {},
     "output_type": "execute_result"
    }
   ],
   "source": [
    "broader_cats = master_df[master_df.Hierarchy==1].OCCUPATION_C.unique()\n",
    "broader_cats"
   ]
  },
  {
   "cell_type": "code",
   "execution_count": 151,
   "metadata": {},
   "outputs": [
    {
     "data": {
      "application/vnd.microsoft.datawrangler.viewer.v0+json": {
       "columns": [
        {
         "name": "index",
         "rawType": "int64",
         "type": "integer"
        },
        {
         "name": "GEO",
         "rawType": "object",
         "type": "string"
        },
        {
         "name": "OCCUPATION_C",
         "rawType": "object",
         "type": "string"
        },
        {
         "name": "GENDER",
         "rawType": "object",
         "type": "string"
        },
        {
         "name": "COUNT",
         "rawType": "int64",
         "type": "integer"
        }
       ],
       "conversionMethod": "pd.DataFrame",
       "ref": "0d31c2bf-e96e-4dd6-863e-d644c17361bb",
       "rows": [
        [
         "0",
         "Alberta",
         "Business, finance and administration occupations",
         "Men",
         "98320"
        ],
        [
         "1",
         "Alberta",
         "Business, finance and administration occupations",
         "Women",
         "248605"
        ],
        [
         "2",
         "Alberta",
         "Health occupations",
         "Men",
         "31680"
        ],
        [
         "3",
         "Alberta",
         "Health occupations",
         "Women",
         "140075"
        ],
        [
         "4",
         "Alberta",
         "Legislative and senior management occupations",
         "Men",
         "15080"
        ],
        [
         "5",
         "Alberta",
         "Legislative and senior management occupations",
         "Women",
         "6370"
        ],
        [
         "6",
         "Alberta",
         "Natural and applied sciences and related occupations",
         "Men",
         "132840"
        ],
        [
         "7",
         "Alberta",
         "Natural and applied sciences and related occupations",
         "Women",
         "41165"
        ],
        [
         "8",
         "Alberta",
         "Natural resources, agriculture and related production occupations",
         "Men",
         "57725"
        ],
        [
         "9",
         "Alberta",
         "Natural resources, agriculture and related production occupations",
         "Women",
         "15175"
        ],
        [
         "10",
         "Alberta",
         "Occupations in art, culture, recreation and sport",
         "Men",
         "17780"
        ],
        [
         "11",
         "Alberta",
         "Occupations in art, culture, recreation and sport",
         "Women",
         "27355"
        ],
        [
         "12",
         "Alberta",
         "Occupations in education, law and social, community and government services",
         "Men",
         "76000"
        ],
        [
         "13",
         "Alberta",
         "Occupations in education, law and social, community and government services",
         "Women",
         "157265"
        ],
        [
         "14",
         "Alberta",
         "Occupations in manufacturing and utilities",
         "Men",
         "60505"
        ],
        [
         "15",
         "Alberta",
         "Occupations in manufacturing and utilities",
         "Women",
         "16265"
        ],
        [
         "16",
         "Alberta",
         "Sales and service occupations",
         "Men",
         "170640"
        ],
        [
         "17",
         "Alberta",
         "Sales and service occupations",
         "Women",
         "241910"
        ],
        [
         "18",
         "Alberta",
         "Trades, transport and equipment operators and related occupations",
         "Men",
         "359795"
        ],
        [
         "19",
         "Alberta",
         "Trades, transport and equipment operators and related occupations",
         "Women",
         "39750"
        ],
        [
         "20",
         "British Columbia",
         "Business, finance and administration occupations",
         "Men",
         "121755"
        ],
        [
         "21",
         "British Columbia",
         "Business, finance and administration occupations",
         "Women",
         "287075"
        ],
        [
         "22",
         "British Columbia",
         "Health occupations",
         "Men",
         "39850"
        ],
        [
         "23",
         "British Columbia",
         "Health occupations",
         "Women",
         "146955"
        ],
        [
         "24",
         "British Columbia",
         "Legislative and senior management occupations",
         "Men",
         "19995"
        ],
        [
         "25",
         "British Columbia",
         "Legislative and senior management occupations",
         "Women",
         "9250"
        ],
        [
         "26",
         "British Columbia",
         "Natural and applied sciences and related occupations",
         "Men",
         "147230"
        ],
        [
         "27",
         "British Columbia",
         "Natural and applied sciences and related occupations",
         "Women",
         "48305"
        ],
        [
         "28",
         "British Columbia",
         "Natural resources, agriculture and related production occupations",
         "Men",
         "40475"
        ],
        [
         "29",
         "British Columbia",
         "Natural resources, agriculture and related production occupations",
         "Women",
         "16480"
        ],
        [
         "30",
         "British Columbia",
         "Occupations in art, culture, recreation and sport",
         "Men",
         "45185"
        ],
        [
         "31",
         "British Columbia",
         "Occupations in art, culture, recreation and sport",
         "Women",
         "51635"
        ],
        [
         "32",
         "British Columbia",
         "Occupations in education, law and social, community and government services",
         "Men",
         "93745"
        ],
        [
         "33",
         "British Columbia",
         "Occupations in education, law and social, community and government services",
         "Women",
         "193420"
        ],
        [
         "34",
         "British Columbia",
         "Occupations in manufacturing and utilities",
         "Men",
         "55670"
        ],
        [
         "35",
         "British Columbia",
         "Occupations in manufacturing and utilities",
         "Women",
         "23790"
        ],
        [
         "36",
         "British Columbia",
         "Sales and service occupations",
         "Men",
         "217245"
        ],
        [
         "37",
         "British Columbia",
         "Sales and service occupations",
         "Women",
         "292755"
        ],
        [
         "38",
         "British Columbia",
         "Trades, transport and equipment operators and related occupations",
         "Men",
         "376060"
        ],
        [
         "39",
         "British Columbia",
         "Trades, transport and equipment operators and related occupations",
         "Women",
         "40265"
        ],
        [
         "40",
         "Manitoba",
         "Business, finance and administration occupations",
         "Men",
         "28670"
        ],
        [
         "41",
         "Manitoba",
         "Business, finance and administration occupations",
         "Women",
         "67945"
        ],
        [
         "42",
         "Manitoba",
         "Health occupations",
         "Men",
         "11665"
        ],
        [
         "43",
         "Manitoba",
         "Health occupations",
         "Women",
         "42380"
        ],
        [
         "44",
         "Manitoba",
         "Legislative and senior management occupations",
         "Men",
         "3745"
        ],
        [
         "45",
         "Manitoba",
         "Legislative and senior management occupations",
         "Women",
         "2100"
        ],
        [
         "46",
         "Manitoba",
         "Natural and applied sciences and related occupations",
         "Men",
         "27750"
        ],
        [
         "47",
         "Manitoba",
         "Natural and applied sciences and related occupations",
         "Women",
         "8370"
        ],
        [
         "48",
         "Manitoba",
         "Natural resources, agriculture and related production occupations",
         "Men",
         "16375"
        ],
        [
         "49",
         "Manitoba",
         "Natural resources, agriculture and related production occupations",
         "Women",
         "4500"
        ]
       ],
       "shape": {
        "columns": 4,
        "rows": 260
       }
      },
      "text/html": [
       "<div>\n",
       "<style scoped>\n",
       "    .dataframe tbody tr th:only-of-type {\n",
       "        vertical-align: middle;\n",
       "    }\n",
       "\n",
       "    .dataframe tbody tr th {\n",
       "        vertical-align: top;\n",
       "    }\n",
       "\n",
       "    .dataframe thead th {\n",
       "        text-align: right;\n",
       "    }\n",
       "</style>\n",
       "<table border=\"1\" class=\"dataframe\">\n",
       "  <thead>\n",
       "    <tr style=\"text-align: right;\">\n",
       "      <th></th>\n",
       "      <th>GEO</th>\n",
       "      <th>OCCUPATION_C</th>\n",
       "      <th>GENDER</th>\n",
       "      <th>COUNT</th>\n",
       "    </tr>\n",
       "  </thead>\n",
       "  <tbody>\n",
       "    <tr>\n",
       "      <th>0</th>\n",
       "      <td>Alberta</td>\n",
       "      <td>Business, finance and administration occupations</td>\n",
       "      <td>Men</td>\n",
       "      <td>98320</td>\n",
       "    </tr>\n",
       "    <tr>\n",
       "      <th>1</th>\n",
       "      <td>Alberta</td>\n",
       "      <td>Business, finance and administration occupations</td>\n",
       "      <td>Women</td>\n",
       "      <td>248605</td>\n",
       "    </tr>\n",
       "    <tr>\n",
       "      <th>2</th>\n",
       "      <td>Alberta</td>\n",
       "      <td>Health occupations</td>\n",
       "      <td>Men</td>\n",
       "      <td>31680</td>\n",
       "    </tr>\n",
       "    <tr>\n",
       "      <th>3</th>\n",
       "      <td>Alberta</td>\n",
       "      <td>Health occupations</td>\n",
       "      <td>Women</td>\n",
       "      <td>140075</td>\n",
       "    </tr>\n",
       "    <tr>\n",
       "      <th>4</th>\n",
       "      <td>Alberta</td>\n",
       "      <td>Legislative and senior management occupations</td>\n",
       "      <td>Men</td>\n",
       "      <td>15080</td>\n",
       "    </tr>\n",
       "    <tr>\n",
       "      <th>...</th>\n",
       "      <td>...</td>\n",
       "      <td>...</td>\n",
       "      <td>...</td>\n",
       "      <td>...</td>\n",
       "    </tr>\n",
       "    <tr>\n",
       "      <th>255</th>\n",
       "      <td>Yukon</td>\n",
       "      <td>Occupations in manufacturing and utilities</td>\n",
       "      <td>Women</td>\n",
       "      <td>40</td>\n",
       "    </tr>\n",
       "    <tr>\n",
       "      <th>256</th>\n",
       "      <td>Yukon</td>\n",
       "      <td>Sales and service occupations</td>\n",
       "      <td>Men</td>\n",
       "      <td>1615</td>\n",
       "    </tr>\n",
       "    <tr>\n",
       "      <th>257</th>\n",
       "      <td>Yukon</td>\n",
       "      <td>Sales and service occupations</td>\n",
       "      <td>Women</td>\n",
       "      <td>1880</td>\n",
       "    </tr>\n",
       "    <tr>\n",
       "      <th>258</th>\n",
       "      <td>Yukon</td>\n",
       "      <td>Trades, transport and equipment operators and ...</td>\n",
       "      <td>Men</td>\n",
       "      <td>3435</td>\n",
       "    </tr>\n",
       "    <tr>\n",
       "      <th>259</th>\n",
       "      <td>Yukon</td>\n",
       "      <td>Trades, transport and equipment operators and ...</td>\n",
       "      <td>Women</td>\n",
       "      <td>355</td>\n",
       "    </tr>\n",
       "  </tbody>\n",
       "</table>\n",
       "<p>260 rows × 4 columns</p>\n",
       "</div>"
      ],
      "text/plain": [
       "         GEO                                       OCCUPATION_C GENDER   COUNT\n",
       "0    Alberta   Business, finance and administration occupations    Men   98320\n",
       "1    Alberta   Business, finance and administration occupations  Women  248605\n",
       "2    Alberta                                 Health occupations    Men   31680\n",
       "3    Alberta                                 Health occupations  Women  140075\n",
       "4    Alberta      Legislative and senior management occupations    Men   15080\n",
       "..       ...                                                ...    ...     ...\n",
       "255    Yukon         Occupations in manufacturing and utilities  Women      40\n",
       "256    Yukon                      Sales and service occupations    Men    1615\n",
       "257    Yukon                      Sales and service occupations  Women    1880\n",
       "258    Yukon  Trades, transport and equipment operators and ...    Men    3435\n",
       "259    Yukon  Trades, transport and equipment operators and ...  Women     355\n",
       "\n",
       "[260 rows x 4 columns]"
      ]
     },
     "execution_count": 151,
     "metadata": {},
     "output_type": "execute_result"
    }
   ],
   "source": [
    "temp_df = master_df[master_df.Hierarchy == 1].groupby([\"GEO\",\"OCCUPATION_C\",\"GENDER\"],as_index=False).COUNT.sum()\n",
    "temp_df"
   ]
  },
  {
   "cell_type": "code",
   "execution_count": 152,
   "metadata": {},
   "outputs": [
    {
     "data": {
      "application/vnd.microsoft.datawrangler.viewer.v0+json": {
       "columns": [
        {
         "name": "index",
         "rawType": "int64",
         "type": "integer"
        },
        {
         "name": "GEO",
         "rawType": "object",
         "type": "string"
        },
        {
         "name": "OCCUPATION_C",
         "rawType": "object",
         "type": "string"
        },
        {
         "name": "GENDER",
         "rawType": "object",
         "type": "string"
        },
        {
         "name": "COUNT",
         "rawType": "int64",
         "type": "integer"
        }
       ],
       "conversionMethod": "pd.DataFrame",
       "ref": "dd508bc1-a8f7-4761-87b9-79f397a7caa5",
       "rows": [
        [
         "0",
         "Alberta",
         "Business, finance and administration occupations",
         "Men",
         "98320"
        ],
        [
         "1",
         "Alberta",
         "Business, finance and administration occupations",
         "Women",
         "248605"
        ],
        [
         "2",
         "Alberta",
         "Health occupations",
         "Men",
         "31680"
        ],
        [
         "3",
         "Alberta",
         "Health occupations",
         "Women",
         "140075"
        ],
        [
         "4",
         "Alberta",
         "Legislative and senior management occupations",
         "Men",
         "15080"
        ],
        [
         "5",
         "Alberta",
         "Legislative and senior management occupations",
         "Women",
         "6370"
        ],
        [
         "6",
         "Alberta",
         "Natural and applied sciences and related occupations",
         "Men",
         "132840"
        ],
        [
         "7",
         "Alberta",
         "Natural and applied sciences and related occupations",
         "Women",
         "41165"
        ],
        [
         "8",
         "Alberta",
         "Natural resources, agriculture and related production occupations",
         "Men",
         "57725"
        ],
        [
         "9",
         "Alberta",
         "Natural resources, agriculture and related production occupations",
         "Women",
         "15175"
        ],
        [
         "10",
         "Alberta",
         "Occupations in art, culture, recreation and sport",
         "Men",
         "17780"
        ],
        [
         "11",
         "Alberta",
         "Occupations in art, culture, recreation and sport",
         "Women",
         "27355"
        ],
        [
         "12",
         "Alberta",
         "Occupations in education, law and social, community and government services",
         "Men",
         "76000"
        ],
        [
         "13",
         "Alberta",
         "Occupations in education, law and social, community and government services",
         "Women",
         "157265"
        ],
        [
         "14",
         "Alberta",
         "Occupations in manufacturing and utilities",
         "Men",
         "60505"
        ],
        [
         "15",
         "Alberta",
         "Occupations in manufacturing and utilities",
         "Women",
         "16265"
        ],
        [
         "16",
         "Alberta",
         "Sales and service occupations",
         "Men",
         "170640"
        ],
        [
         "17",
         "Alberta",
         "Sales and service occupations",
         "Women",
         "241910"
        ],
        [
         "18",
         "Alberta",
         "Trades, transport and equipment operators and related occupations",
         "Men",
         "359795"
        ],
        [
         "19",
         "Alberta",
         "Trades, transport and equipment operators and related occupations",
         "Women",
         "39750"
        ]
       ],
       "shape": {
        "columns": 4,
        "rows": 20
       }
      },
      "text/html": [
       "<div>\n",
       "<style scoped>\n",
       "    .dataframe tbody tr th:only-of-type {\n",
       "        vertical-align: middle;\n",
       "    }\n",
       "\n",
       "    .dataframe tbody tr th {\n",
       "        vertical-align: top;\n",
       "    }\n",
       "\n",
       "    .dataframe thead th {\n",
       "        text-align: right;\n",
       "    }\n",
       "</style>\n",
       "<table border=\"1\" class=\"dataframe\">\n",
       "  <thead>\n",
       "    <tr style=\"text-align: right;\">\n",
       "      <th></th>\n",
       "      <th>GEO</th>\n",
       "      <th>OCCUPATION_C</th>\n",
       "      <th>GENDER</th>\n",
       "      <th>COUNT</th>\n",
       "    </tr>\n",
       "  </thead>\n",
       "  <tbody>\n",
       "    <tr>\n",
       "      <th>0</th>\n",
       "      <td>Alberta</td>\n",
       "      <td>Business, finance and administration occupations</td>\n",
       "      <td>Men</td>\n",
       "      <td>98320</td>\n",
       "    </tr>\n",
       "    <tr>\n",
       "      <th>1</th>\n",
       "      <td>Alberta</td>\n",
       "      <td>Business, finance and administration occupations</td>\n",
       "      <td>Women</td>\n",
       "      <td>248605</td>\n",
       "    </tr>\n",
       "    <tr>\n",
       "      <th>2</th>\n",
       "      <td>Alberta</td>\n",
       "      <td>Health occupations</td>\n",
       "      <td>Men</td>\n",
       "      <td>31680</td>\n",
       "    </tr>\n",
       "    <tr>\n",
       "      <th>3</th>\n",
       "      <td>Alberta</td>\n",
       "      <td>Health occupations</td>\n",
       "      <td>Women</td>\n",
       "      <td>140075</td>\n",
       "    </tr>\n",
       "    <tr>\n",
       "      <th>4</th>\n",
       "      <td>Alberta</td>\n",
       "      <td>Legislative and senior management occupations</td>\n",
       "      <td>Men</td>\n",
       "      <td>15080</td>\n",
       "    </tr>\n",
       "    <tr>\n",
       "      <th>5</th>\n",
       "      <td>Alberta</td>\n",
       "      <td>Legislative and senior management occupations</td>\n",
       "      <td>Women</td>\n",
       "      <td>6370</td>\n",
       "    </tr>\n",
       "    <tr>\n",
       "      <th>6</th>\n",
       "      <td>Alberta</td>\n",
       "      <td>Natural and applied sciences and related occup...</td>\n",
       "      <td>Men</td>\n",
       "      <td>132840</td>\n",
       "    </tr>\n",
       "    <tr>\n",
       "      <th>7</th>\n",
       "      <td>Alberta</td>\n",
       "      <td>Natural and applied sciences and related occup...</td>\n",
       "      <td>Women</td>\n",
       "      <td>41165</td>\n",
       "    </tr>\n",
       "    <tr>\n",
       "      <th>8</th>\n",
       "      <td>Alberta</td>\n",
       "      <td>Natural resources, agriculture and related pro...</td>\n",
       "      <td>Men</td>\n",
       "      <td>57725</td>\n",
       "    </tr>\n",
       "    <tr>\n",
       "      <th>9</th>\n",
       "      <td>Alberta</td>\n",
       "      <td>Natural resources, agriculture and related pro...</td>\n",
       "      <td>Women</td>\n",
       "      <td>15175</td>\n",
       "    </tr>\n",
       "    <tr>\n",
       "      <th>10</th>\n",
       "      <td>Alberta</td>\n",
       "      <td>Occupations in art, culture, recreation and sport</td>\n",
       "      <td>Men</td>\n",
       "      <td>17780</td>\n",
       "    </tr>\n",
       "    <tr>\n",
       "      <th>11</th>\n",
       "      <td>Alberta</td>\n",
       "      <td>Occupations in art, culture, recreation and sport</td>\n",
       "      <td>Women</td>\n",
       "      <td>27355</td>\n",
       "    </tr>\n",
       "    <tr>\n",
       "      <th>12</th>\n",
       "      <td>Alberta</td>\n",
       "      <td>Occupations in education, law and social, comm...</td>\n",
       "      <td>Men</td>\n",
       "      <td>76000</td>\n",
       "    </tr>\n",
       "    <tr>\n",
       "      <th>13</th>\n",
       "      <td>Alberta</td>\n",
       "      <td>Occupations in education, law and social, comm...</td>\n",
       "      <td>Women</td>\n",
       "      <td>157265</td>\n",
       "    </tr>\n",
       "    <tr>\n",
       "      <th>14</th>\n",
       "      <td>Alberta</td>\n",
       "      <td>Occupations in manufacturing and utilities</td>\n",
       "      <td>Men</td>\n",
       "      <td>60505</td>\n",
       "    </tr>\n",
       "    <tr>\n",
       "      <th>15</th>\n",
       "      <td>Alberta</td>\n",
       "      <td>Occupations in manufacturing and utilities</td>\n",
       "      <td>Women</td>\n",
       "      <td>16265</td>\n",
       "    </tr>\n",
       "    <tr>\n",
       "      <th>16</th>\n",
       "      <td>Alberta</td>\n",
       "      <td>Sales and service occupations</td>\n",
       "      <td>Men</td>\n",
       "      <td>170640</td>\n",
       "    </tr>\n",
       "    <tr>\n",
       "      <th>17</th>\n",
       "      <td>Alberta</td>\n",
       "      <td>Sales and service occupations</td>\n",
       "      <td>Women</td>\n",
       "      <td>241910</td>\n",
       "    </tr>\n",
       "    <tr>\n",
       "      <th>18</th>\n",
       "      <td>Alberta</td>\n",
       "      <td>Trades, transport and equipment operators and ...</td>\n",
       "      <td>Men</td>\n",
       "      <td>359795</td>\n",
       "    </tr>\n",
       "    <tr>\n",
       "      <th>19</th>\n",
       "      <td>Alberta</td>\n",
       "      <td>Trades, transport and equipment operators and ...</td>\n",
       "      <td>Women</td>\n",
       "      <td>39750</td>\n",
       "    </tr>\n",
       "  </tbody>\n",
       "</table>\n",
       "</div>"
      ],
      "text/plain": [
       "        GEO                                       OCCUPATION_C GENDER   COUNT\n",
       "0   Alberta   Business, finance and administration occupations    Men   98320\n",
       "1   Alberta   Business, finance and administration occupations  Women  248605\n",
       "2   Alberta                                 Health occupations    Men   31680\n",
       "3   Alberta                                 Health occupations  Women  140075\n",
       "4   Alberta      Legislative and senior management occupations    Men   15080\n",
       "5   Alberta      Legislative and senior management occupations  Women    6370\n",
       "6   Alberta  Natural and applied sciences and related occup...    Men  132840\n",
       "7   Alberta  Natural and applied sciences and related occup...  Women   41165\n",
       "8   Alberta  Natural resources, agriculture and related pro...    Men   57725\n",
       "9   Alberta  Natural resources, agriculture and related pro...  Women   15175\n",
       "10  Alberta  Occupations in art, culture, recreation and sport    Men   17780\n",
       "11  Alberta  Occupations in art, culture, recreation and sport  Women   27355\n",
       "12  Alberta  Occupations in education, law and social, comm...    Men   76000\n",
       "13  Alberta  Occupations in education, law and social, comm...  Women  157265\n",
       "14  Alberta         Occupations in manufacturing and utilities    Men   60505\n",
       "15  Alberta         Occupations in manufacturing and utilities  Women   16265\n",
       "16  Alberta                      Sales and service occupations    Men  170640\n",
       "17  Alberta                      Sales and service occupations  Women  241910\n",
       "18  Alberta  Trades, transport and equipment operators and ...    Men  359795\n",
       "19  Alberta  Trades, transport and equipment operators and ...  Women   39750"
      ]
     },
     "execution_count": 152,
     "metadata": {},
     "output_type": "execute_result"
    }
   ],
   "source": [
    "alberta = temp_df[temp_df.GEO == \"Alberta\"].copy()\n",
    "alberta"
   ]
  },
  {
   "cell_type": "code",
   "execution_count": 153,
   "metadata": {},
   "outputs": [
    {
     "ename": "ValueError",
     "evalue": "Mime type rendering requires nbformat>=4.2.0 but it is not installed",
     "output_type": "error",
     "traceback": [
      "\u001b[0;31m---------------------------------------------------------------------------\u001b[0m",
      "\u001b[0;31mValueError\u001b[0m                                Traceback (most recent call last)",
      "File \u001b[0;32m~/Desktop/CP321-FinalProject/.env/lib/python3.9/site-packages/IPython/core/formatters.py:922\u001b[0m, in \u001b[0;36mIPythonDisplayFormatter.__call__\u001b[0;34m(self, obj)\u001b[0m\n\u001b[1;32m    920\u001b[0m method \u001b[38;5;241m=\u001b[39m get_real_method(obj, \u001b[38;5;28mself\u001b[39m\u001b[38;5;241m.\u001b[39mprint_method)\n\u001b[1;32m    921\u001b[0m \u001b[38;5;28;01mif\u001b[39;00m method \u001b[38;5;129;01mis\u001b[39;00m \u001b[38;5;129;01mnot\u001b[39;00m \u001b[38;5;28;01mNone\u001b[39;00m:\n\u001b[0;32m--> 922\u001b[0m     \u001b[43mmethod\u001b[49m\u001b[43m(\u001b[49m\u001b[43m)\u001b[49m\n\u001b[1;32m    923\u001b[0m     \u001b[38;5;28;01mreturn\u001b[39;00m \u001b[38;5;28;01mTrue\u001b[39;00m\n",
      "File \u001b[0;32m~/Desktop/CP321-FinalProject/.env/lib/python3.9/site-packages/plotly/basedatatypes.py:833\u001b[0m, in \u001b[0;36mBaseFigure._ipython_display_\u001b[0;34m(self)\u001b[0m\n\u001b[1;32m    830\u001b[0m \u001b[38;5;28;01mimport\u001b[39;00m\u001b[38;5;250m \u001b[39m\u001b[38;5;21;01mplotly\u001b[39;00m\u001b[38;5;21;01m.\u001b[39;00m\u001b[38;5;21;01mio\u001b[39;00m\u001b[38;5;250m \u001b[39m\u001b[38;5;28;01mas\u001b[39;00m\u001b[38;5;250m \u001b[39m\u001b[38;5;21;01mpio\u001b[39;00m\n\u001b[1;32m    832\u001b[0m \u001b[38;5;28;01mif\u001b[39;00m pio\u001b[38;5;241m.\u001b[39mrenderers\u001b[38;5;241m.\u001b[39mrender_on_display \u001b[38;5;129;01mand\u001b[39;00m pio\u001b[38;5;241m.\u001b[39mrenderers\u001b[38;5;241m.\u001b[39mdefault:\n\u001b[0;32m--> 833\u001b[0m     \u001b[43mpio\u001b[49m\u001b[38;5;241;43m.\u001b[39;49m\u001b[43mshow\u001b[49m\u001b[43m(\u001b[49m\u001b[38;5;28;43mself\u001b[39;49m\u001b[43m)\u001b[49m\n\u001b[1;32m    834\u001b[0m \u001b[38;5;28;01melse\u001b[39;00m:\n\u001b[1;32m    835\u001b[0m     \u001b[38;5;28mprint\u001b[39m(\u001b[38;5;28mrepr\u001b[39m(\u001b[38;5;28mself\u001b[39m))\n",
      "File \u001b[0;32m~/Desktop/CP321-FinalProject/.env/lib/python3.9/site-packages/plotly/io/_renderers.py:425\u001b[0m, in \u001b[0;36mshow\u001b[0;34m(fig, renderer, validate, **kwargs)\u001b[0m\n\u001b[1;32m    420\u001b[0m     \u001b[38;5;28;01mraise\u001b[39;00m \u001b[38;5;167;01mValueError\u001b[39;00m(\n\u001b[1;32m    421\u001b[0m         \u001b[38;5;124m\"\u001b[39m\u001b[38;5;124mMime type rendering requires ipython but it is not installed\u001b[39m\u001b[38;5;124m\"\u001b[39m\n\u001b[1;32m    422\u001b[0m     )\n\u001b[1;32m    424\u001b[0m \u001b[38;5;28;01mif\u001b[39;00m \u001b[38;5;129;01mnot\u001b[39;00m nbformat \u001b[38;5;129;01mor\u001b[39;00m Version(nbformat\u001b[38;5;241m.\u001b[39m__version__) \u001b[38;5;241m<\u001b[39m Version(\u001b[38;5;124m\"\u001b[39m\u001b[38;5;124m4.2.0\u001b[39m\u001b[38;5;124m\"\u001b[39m):\n\u001b[0;32m--> 425\u001b[0m     \u001b[38;5;28;01mraise\u001b[39;00m \u001b[38;5;167;01mValueError\u001b[39;00m(\n\u001b[1;32m    426\u001b[0m         \u001b[38;5;124m\"\u001b[39m\u001b[38;5;124mMime type rendering requires nbformat>=4.2.0 but it is not installed\u001b[39m\u001b[38;5;124m\"\u001b[39m\n\u001b[1;32m    427\u001b[0m     )\n\u001b[1;32m    429\u001b[0m display_jupyter_version_warnings()\n\u001b[1;32m    431\u001b[0m ipython_display\u001b[38;5;241m.\u001b[39mdisplay(bundle, raw\u001b[38;5;241m=\u001b[39m\u001b[38;5;28;01mTrue\u001b[39;00m)\n",
      "\u001b[0;31mValueError\u001b[0m: Mime type rendering requires nbformat>=4.2.0 but it is not installed"
     ]
    },
    {
     "data": {
      "application/vnd.plotly.v1+json": {
       "config": {
        "plotlyServerURL": "https://plot.ly"
       },
       "data": [
        {
         "alignmentgroup": "True",
         "cliponaxis": false,
         "hovertemplate": "GENDER=Men<br>Occupation Code=%{x}<br>COUNT=%{y}<extra></extra>",
         "legendgroup": "Men",
         "marker": {
          "color": "#636efa",
          "pattern": {
           "shape": ""
          }
         },
         "name": "Men",
         "offsetgroup": "Men",
         "orientation": "v",
         "showlegend": true,
         "textangle": 0,
         "textfont": {
          "size": 12
         },
         "textposition": "outside",
         "type": "bar",
         "x": [
          "Business, finance and administration occupations",
          "Health occupations",
          "Legislative and senior management occupations",
          "Natural and applied sciences and related occupations",
          "Natural resources, agriculture and related production occupations",
          "Occupations in art, culture, recreation and sport",
          "Occupations in education, law and social, community and government services",
          "Occupations in manufacturing and utilities",
          "Sales and service occupations",
          "Trades, transport and equipment operators and related occupations"
         ],
         "xaxis": "x",
         "y": {
          "bdata": "EIABAMB7AADoOgAA6AYCAH3hAAB0RQAA4CgBAFnsAACQmgIAc30FAA==",
          "dtype": "i4"
         },
         "yaxis": "y"
        },
        {
         "alignmentgroup": "True",
         "cliponaxis": false,
         "hovertemplate": "GENDER=Women<br>Occupation Code=%{x}<br>COUNT=%{y}<extra></extra>",
         "legendgroup": "Women",
         "marker": {
          "color": "#EF553B",
          "pattern": {
           "shape": ""
          }
         },
         "name": "Women",
         "offsetgroup": "Women",
         "orientation": "v",
         "showlegend": true,
         "textangle": 0,
         "textfont": {
          "size": 12
         },
         "textposition": "outside",
         "type": "bar",
         "x": [
          "Business, finance and administration occupations",
          "Health occupations",
          "Legislative and senior management occupations",
          "Natural and applied sciences and related occupations",
          "Natural resources, agriculture and related production occupations",
          "Occupations in art, culture, recreation and sport",
          "Occupations in education, law and social, community and government services",
          "Occupations in manufacturing and utilities",
          "Sales and service occupations",
          "Trades, transport and equipment operators and related occupations"
         ],
         "xaxis": "x",
         "y": {
          "bdata": "HcsDACsjAgDiGAAAzaAAAEc7AADbagAAUWYCAIk/AAD2sAMARpsAAA==",
          "dtype": "i4"
         },
         "yaxis": "y"
        }
       ],
       "layout": {
        "barmode": "group",
        "hovermode": "x unified",
        "legend": {
         "title": {
          "text": "Gender"
         },
         "tracegroupgap": 0
        },
        "plot_bgcolor": "white",
        "template": {
         "data": {
          "bar": [
           {
            "error_x": {
             "color": "#2a3f5f"
            },
            "error_y": {
             "color": "#2a3f5f"
            },
            "marker": {
             "line": {
              "color": "#E5ECF6",
              "width": 0.5
             },
             "pattern": {
              "fillmode": "overlay",
              "size": 10,
              "solidity": 0.2
             }
            },
            "type": "bar"
           }
          ],
          "barpolar": [
           {
            "marker": {
             "line": {
              "color": "#E5ECF6",
              "width": 0.5
             },
             "pattern": {
              "fillmode": "overlay",
              "size": 10,
              "solidity": 0.2
             }
            },
            "type": "barpolar"
           }
          ],
          "carpet": [
           {
            "aaxis": {
             "endlinecolor": "#2a3f5f",
             "gridcolor": "white",
             "linecolor": "white",
             "minorgridcolor": "white",
             "startlinecolor": "#2a3f5f"
            },
            "baxis": {
             "endlinecolor": "#2a3f5f",
             "gridcolor": "white",
             "linecolor": "white",
             "minorgridcolor": "white",
             "startlinecolor": "#2a3f5f"
            },
            "type": "carpet"
           }
          ],
          "choropleth": [
           {
            "colorbar": {
             "outlinewidth": 0,
             "ticks": ""
            },
            "type": "choropleth"
           }
          ],
          "contour": [
           {
            "colorbar": {
             "outlinewidth": 0,
             "ticks": ""
            },
            "colorscale": [
             [
              0,
              "#0d0887"
             ],
             [
              0.1111111111111111,
              "#46039f"
             ],
             [
              0.2222222222222222,
              "#7201a8"
             ],
             [
              0.3333333333333333,
              "#9c179e"
             ],
             [
              0.4444444444444444,
              "#bd3786"
             ],
             [
              0.5555555555555556,
              "#d8576b"
             ],
             [
              0.6666666666666666,
              "#ed7953"
             ],
             [
              0.7777777777777778,
              "#fb9f3a"
             ],
             [
              0.8888888888888888,
              "#fdca26"
             ],
             [
              1,
              "#f0f921"
             ]
            ],
            "type": "contour"
           }
          ],
          "contourcarpet": [
           {
            "colorbar": {
             "outlinewidth": 0,
             "ticks": ""
            },
            "type": "contourcarpet"
           }
          ],
          "heatmap": [
           {
            "colorbar": {
             "outlinewidth": 0,
             "ticks": ""
            },
            "colorscale": [
             [
              0,
              "#0d0887"
             ],
             [
              0.1111111111111111,
              "#46039f"
             ],
             [
              0.2222222222222222,
              "#7201a8"
             ],
             [
              0.3333333333333333,
              "#9c179e"
             ],
             [
              0.4444444444444444,
              "#bd3786"
             ],
             [
              0.5555555555555556,
              "#d8576b"
             ],
             [
              0.6666666666666666,
              "#ed7953"
             ],
             [
              0.7777777777777778,
              "#fb9f3a"
             ],
             [
              0.8888888888888888,
              "#fdca26"
             ],
             [
              1,
              "#f0f921"
             ]
            ],
            "type": "heatmap"
           }
          ],
          "histogram": [
           {
            "marker": {
             "pattern": {
              "fillmode": "overlay",
              "size": 10,
              "solidity": 0.2
             }
            },
            "type": "histogram"
           }
          ],
          "histogram2d": [
           {
            "colorbar": {
             "outlinewidth": 0,
             "ticks": ""
            },
            "colorscale": [
             [
              0,
              "#0d0887"
             ],
             [
              0.1111111111111111,
              "#46039f"
             ],
             [
              0.2222222222222222,
              "#7201a8"
             ],
             [
              0.3333333333333333,
              "#9c179e"
             ],
             [
              0.4444444444444444,
              "#bd3786"
             ],
             [
              0.5555555555555556,
              "#d8576b"
             ],
             [
              0.6666666666666666,
              "#ed7953"
             ],
             [
              0.7777777777777778,
              "#fb9f3a"
             ],
             [
              0.8888888888888888,
              "#fdca26"
             ],
             [
              1,
              "#f0f921"
             ]
            ],
            "type": "histogram2d"
           }
          ],
          "histogram2dcontour": [
           {
            "colorbar": {
             "outlinewidth": 0,
             "ticks": ""
            },
            "colorscale": [
             [
              0,
              "#0d0887"
             ],
             [
              0.1111111111111111,
              "#46039f"
             ],
             [
              0.2222222222222222,
              "#7201a8"
             ],
             [
              0.3333333333333333,
              "#9c179e"
             ],
             [
              0.4444444444444444,
              "#bd3786"
             ],
             [
              0.5555555555555556,
              "#d8576b"
             ],
             [
              0.6666666666666666,
              "#ed7953"
             ],
             [
              0.7777777777777778,
              "#fb9f3a"
             ],
             [
              0.8888888888888888,
              "#fdca26"
             ],
             [
              1,
              "#f0f921"
             ]
            ],
            "type": "histogram2dcontour"
           }
          ],
          "mesh3d": [
           {
            "colorbar": {
             "outlinewidth": 0,
             "ticks": ""
            },
            "type": "mesh3d"
           }
          ],
          "parcoords": [
           {
            "line": {
             "colorbar": {
              "outlinewidth": 0,
              "ticks": ""
             }
            },
            "type": "parcoords"
           }
          ],
          "pie": [
           {
            "automargin": true,
            "type": "pie"
           }
          ],
          "scatter": [
           {
            "fillpattern": {
             "fillmode": "overlay",
             "size": 10,
             "solidity": 0.2
            },
            "type": "scatter"
           }
          ],
          "scatter3d": [
           {
            "line": {
             "colorbar": {
              "outlinewidth": 0,
              "ticks": ""
             }
            },
            "marker": {
             "colorbar": {
              "outlinewidth": 0,
              "ticks": ""
             }
            },
            "type": "scatter3d"
           }
          ],
          "scattercarpet": [
           {
            "marker": {
             "colorbar": {
              "outlinewidth": 0,
              "ticks": ""
             }
            },
            "type": "scattercarpet"
           }
          ],
          "scattergeo": [
           {
            "marker": {
             "colorbar": {
              "outlinewidth": 0,
              "ticks": ""
             }
            },
            "type": "scattergeo"
           }
          ],
          "scattergl": [
           {
            "marker": {
             "colorbar": {
              "outlinewidth": 0,
              "ticks": ""
             }
            },
            "type": "scattergl"
           }
          ],
          "scattermap": [
           {
            "marker": {
             "colorbar": {
              "outlinewidth": 0,
              "ticks": ""
             }
            },
            "type": "scattermap"
           }
          ],
          "scattermapbox": [
           {
            "marker": {
             "colorbar": {
              "outlinewidth": 0,
              "ticks": ""
             }
            },
            "type": "scattermapbox"
           }
          ],
          "scatterpolar": [
           {
            "marker": {
             "colorbar": {
              "outlinewidth": 0,
              "ticks": ""
             }
            },
            "type": "scatterpolar"
           }
          ],
          "scatterpolargl": [
           {
            "marker": {
             "colorbar": {
              "outlinewidth": 0,
              "ticks": ""
             }
            },
            "type": "scatterpolargl"
           }
          ],
          "scatterternary": [
           {
            "marker": {
             "colorbar": {
              "outlinewidth": 0,
              "ticks": ""
             }
            },
            "type": "scatterternary"
           }
          ],
          "surface": [
           {
            "colorbar": {
             "outlinewidth": 0,
             "ticks": ""
            },
            "colorscale": [
             [
              0,
              "#0d0887"
             ],
             [
              0.1111111111111111,
              "#46039f"
             ],
             [
              0.2222222222222222,
              "#7201a8"
             ],
             [
              0.3333333333333333,
              "#9c179e"
             ],
             [
              0.4444444444444444,
              "#bd3786"
             ],
             [
              0.5555555555555556,
              "#d8576b"
             ],
             [
              0.6666666666666666,
              "#ed7953"
             ],
             [
              0.7777777777777778,
              "#fb9f3a"
             ],
             [
              0.8888888888888888,
              "#fdca26"
             ],
             [
              1,
              "#f0f921"
             ]
            ],
            "type": "surface"
           }
          ],
          "table": [
           {
            "cells": {
             "fill": {
              "color": "#EBF0F8"
             },
             "line": {
              "color": "white"
             }
            },
            "header": {
             "fill": {
              "color": "#C8D4E3"
             },
             "line": {
              "color": "white"
             }
            },
            "type": "table"
           }
          ]
         },
         "layout": {
          "annotationdefaults": {
           "arrowcolor": "#2a3f5f",
           "arrowhead": 0,
           "arrowwidth": 1
          },
          "autotypenumbers": "strict",
          "coloraxis": {
           "colorbar": {
            "outlinewidth": 0,
            "ticks": ""
           }
          },
          "colorscale": {
           "diverging": [
            [
             0,
             "#8e0152"
            ],
            [
             0.1,
             "#c51b7d"
            ],
            [
             0.2,
             "#de77ae"
            ],
            [
             0.3,
             "#f1b6da"
            ],
            [
             0.4,
             "#fde0ef"
            ],
            [
             0.5,
             "#f7f7f7"
            ],
            [
             0.6,
             "#e6f5d0"
            ],
            [
             0.7,
             "#b8e186"
            ],
            [
             0.8,
             "#7fbc41"
            ],
            [
             0.9,
             "#4d9221"
            ],
            [
             1,
             "#276419"
            ]
           ],
           "sequential": [
            [
             0,
             "#0d0887"
            ],
            [
             0.1111111111111111,
             "#46039f"
            ],
            [
             0.2222222222222222,
             "#7201a8"
            ],
            [
             0.3333333333333333,
             "#9c179e"
            ],
            [
             0.4444444444444444,
             "#bd3786"
            ],
            [
             0.5555555555555556,
             "#d8576b"
            ],
            [
             0.6666666666666666,
             "#ed7953"
            ],
            [
             0.7777777777777778,
             "#fb9f3a"
            ],
            [
             0.8888888888888888,
             "#fdca26"
            ],
            [
             1,
             "#f0f921"
            ]
           ],
           "sequentialminus": [
            [
             0,
             "#0d0887"
            ],
            [
             0.1111111111111111,
             "#46039f"
            ],
            [
             0.2222222222222222,
             "#7201a8"
            ],
            [
             0.3333333333333333,
             "#9c179e"
            ],
            [
             0.4444444444444444,
             "#bd3786"
            ],
            [
             0.5555555555555556,
             "#d8576b"
            ],
            [
             0.6666666666666666,
             "#ed7953"
            ],
            [
             0.7777777777777778,
             "#fb9f3a"
            ],
            [
             0.8888888888888888,
             "#fdca26"
            ],
            [
             1,
             "#f0f921"
            ]
           ]
          },
          "colorway": [
           "#636efa",
           "#EF553B",
           "#00cc96",
           "#ab63fa",
           "#FFA15A",
           "#19d3f3",
           "#FF6692",
           "#B6E880",
           "#FF97FF",
           "#FECB52"
          ],
          "font": {
           "color": "#2a3f5f"
          },
          "geo": {
           "bgcolor": "white",
           "lakecolor": "white",
           "landcolor": "#E5ECF6",
           "showlakes": true,
           "showland": true,
           "subunitcolor": "white"
          },
          "hoverlabel": {
           "align": "left"
          },
          "hovermode": "closest",
          "mapbox": {
           "style": "light"
          },
          "paper_bgcolor": "white",
          "plot_bgcolor": "#E5ECF6",
          "polar": {
           "angularaxis": {
            "gridcolor": "white",
            "linecolor": "white",
            "ticks": ""
           },
           "bgcolor": "#E5ECF6",
           "radialaxis": {
            "gridcolor": "white",
            "linecolor": "white",
            "ticks": ""
           }
          },
          "scene": {
           "xaxis": {
            "backgroundcolor": "#E5ECF6",
            "gridcolor": "white",
            "gridwidth": 2,
            "linecolor": "white",
            "showbackground": true,
            "ticks": "",
            "zerolinecolor": "white"
           },
           "yaxis": {
            "backgroundcolor": "#E5ECF6",
            "gridcolor": "white",
            "gridwidth": 2,
            "linecolor": "white",
            "showbackground": true,
            "ticks": "",
            "zerolinecolor": "white"
           },
           "zaxis": {
            "backgroundcolor": "#E5ECF6",
            "gridcolor": "white",
            "gridwidth": 2,
            "linecolor": "white",
            "showbackground": true,
            "ticks": "",
            "zerolinecolor": "white"
           }
          },
          "shapedefaults": {
           "line": {
            "color": "#2a3f5f"
           }
          },
          "ternary": {
           "aaxis": {
            "gridcolor": "white",
            "linecolor": "white",
            "ticks": ""
           },
           "baxis": {
            "gridcolor": "white",
            "linecolor": "white",
            "ticks": ""
           },
           "bgcolor": "#E5ECF6",
           "caxis": {
            "gridcolor": "white",
            "linecolor": "white",
            "ticks": ""
           }
          },
          "title": {
           "x": 0.05
          },
          "xaxis": {
           "automargin": true,
           "gridcolor": "white",
           "linecolor": "white",
           "ticks": "",
           "title": {
            "standoff": 15
           },
           "zerolinecolor": "white",
           "zerolinewidth": 2
          },
          "yaxis": {
           "automargin": true,
           "gridcolor": "white",
           "linecolor": "white",
           "ticks": "",
           "title": {
            "standoff": 15
           },
           "zerolinecolor": "white",
           "zerolinewidth": 2
          }
         }
        },
        "title": {
         "text": "Gender Distribution Across Occupations in Alberta"
        },
        "xaxis": {
         "anchor": "y",
         "categoryorder": "total descending",
         "domain": [
          0,
          1
         ],
         "tickangle": -45,
         "title": {
          "text": "Occupation Code"
         }
        },
        "yaxis": {
         "anchor": "x",
         "domain": [
          0,
          1
         ],
         "title": {
          "text": "COUNT"
         }
        }
       }
      },
      "text/html": [
       "<div>                        <script type=\"text/javascript\">window.PlotlyConfig = {MathJaxConfig: 'local'};</script>\n",
       "        <script charset=\"utf-8\" src=\"https://cdn.plot.ly/plotly-3.0.1.min.js\"></script>                <div id=\"1ecdab19-474b-45ad-8fa6-39658dc6df48\" class=\"plotly-graph-div\" style=\"height:100%; width:100%;\"></div>            <script type=\"text/javascript\">                window.PLOTLYENV=window.PLOTLYENV || {};                                if (document.getElementById(\"1ecdab19-474b-45ad-8fa6-39658dc6df48\")) {                    Plotly.newPlot(                        \"1ecdab19-474b-45ad-8fa6-39658dc6df48\",                        [{\"alignmentgroup\":\"True\",\"hovertemplate\":\"GENDER=Men\\u003cbr\\u003eOccupation Code=%{x}\\u003cbr\\u003eCOUNT=%{y}\\u003cextra\\u003e\\u003c\\u002fextra\\u003e\",\"legendgroup\":\"Men\",\"marker\":{\"color\":\"#636efa\",\"pattern\":{\"shape\":\"\"}},\"name\":\"Men\",\"offsetgroup\":\"Men\",\"orientation\":\"v\",\"showlegend\":true,\"textposition\":\"outside\",\"x\":[\"Business, finance and administration occupations\",\"Health occupations\",\"Legislative and senior management occupations\",\"Natural and applied sciences and related occupations\",\"Natural resources, agriculture and related production occupations\",\"Occupations in art, culture, recreation and sport\",\"Occupations in education, law and social, community and government services\",\"Occupations in manufacturing and utilities\",\"Sales and service occupations\",\"Trades, transport and equipment operators and related occupations\"],\"xaxis\":\"x\",\"y\":{\"dtype\":\"i4\",\"bdata\":\"EIABAMB7AADoOgAA6AYCAH3hAAB0RQAA4CgBAFnsAACQmgIAc30FAA==\"},\"yaxis\":\"y\",\"type\":\"bar\",\"textfont\":{\"size\":12},\"cliponaxis\":false,\"textangle\":0},{\"alignmentgroup\":\"True\",\"hovertemplate\":\"GENDER=Women\\u003cbr\\u003eOccupation Code=%{x}\\u003cbr\\u003eCOUNT=%{y}\\u003cextra\\u003e\\u003c\\u002fextra\\u003e\",\"legendgroup\":\"Women\",\"marker\":{\"color\":\"#EF553B\",\"pattern\":{\"shape\":\"\"}},\"name\":\"Women\",\"offsetgroup\":\"Women\",\"orientation\":\"v\",\"showlegend\":true,\"textposition\":\"outside\",\"x\":[\"Business, finance and administration occupations\",\"Health occupations\",\"Legislative and senior management occupations\",\"Natural and applied sciences and related occupations\",\"Natural resources, agriculture and related production occupations\",\"Occupations in art, culture, recreation and sport\",\"Occupations in education, law and social, community and government services\",\"Occupations in manufacturing and utilities\",\"Sales and service occupations\",\"Trades, transport and equipment operators and related occupations\"],\"xaxis\":\"x\",\"y\":{\"dtype\":\"i4\",\"bdata\":\"HcsDACsjAgDiGAAAzaAAAEc7AADbagAAUWYCAIk\\u002fAAD2sAMARpsAAA==\"},\"yaxis\":\"y\",\"type\":\"bar\",\"textfont\":{\"size\":12},\"cliponaxis\":false,\"textangle\":0}],                        {\"template\":{\"data\":{\"histogram2dcontour\":[{\"type\":\"histogram2dcontour\",\"colorbar\":{\"outlinewidth\":0,\"ticks\":\"\"},\"colorscale\":[[0.0,\"#0d0887\"],[0.1111111111111111,\"#46039f\"],[0.2222222222222222,\"#7201a8\"],[0.3333333333333333,\"#9c179e\"],[0.4444444444444444,\"#bd3786\"],[0.5555555555555556,\"#d8576b\"],[0.6666666666666666,\"#ed7953\"],[0.7777777777777778,\"#fb9f3a\"],[0.8888888888888888,\"#fdca26\"],[1.0,\"#f0f921\"]]}],\"choropleth\":[{\"type\":\"choropleth\",\"colorbar\":{\"outlinewidth\":0,\"ticks\":\"\"}}],\"histogram2d\":[{\"type\":\"histogram2d\",\"colorbar\":{\"outlinewidth\":0,\"ticks\":\"\"},\"colorscale\":[[0.0,\"#0d0887\"],[0.1111111111111111,\"#46039f\"],[0.2222222222222222,\"#7201a8\"],[0.3333333333333333,\"#9c179e\"],[0.4444444444444444,\"#bd3786\"],[0.5555555555555556,\"#d8576b\"],[0.6666666666666666,\"#ed7953\"],[0.7777777777777778,\"#fb9f3a\"],[0.8888888888888888,\"#fdca26\"],[1.0,\"#f0f921\"]]}],\"heatmap\":[{\"type\":\"heatmap\",\"colorbar\":{\"outlinewidth\":0,\"ticks\":\"\"},\"colorscale\":[[0.0,\"#0d0887\"],[0.1111111111111111,\"#46039f\"],[0.2222222222222222,\"#7201a8\"],[0.3333333333333333,\"#9c179e\"],[0.4444444444444444,\"#bd3786\"],[0.5555555555555556,\"#d8576b\"],[0.6666666666666666,\"#ed7953\"],[0.7777777777777778,\"#fb9f3a\"],[0.8888888888888888,\"#fdca26\"],[1.0,\"#f0f921\"]]}],\"contourcarpet\":[{\"type\":\"contourcarpet\",\"colorbar\":{\"outlinewidth\":0,\"ticks\":\"\"}}],\"contour\":[{\"type\":\"contour\",\"colorbar\":{\"outlinewidth\":0,\"ticks\":\"\"},\"colorscale\":[[0.0,\"#0d0887\"],[0.1111111111111111,\"#46039f\"],[0.2222222222222222,\"#7201a8\"],[0.3333333333333333,\"#9c179e\"],[0.4444444444444444,\"#bd3786\"],[0.5555555555555556,\"#d8576b\"],[0.6666666666666666,\"#ed7953\"],[0.7777777777777778,\"#fb9f3a\"],[0.8888888888888888,\"#fdca26\"],[1.0,\"#f0f921\"]]}],\"surface\":[{\"type\":\"surface\",\"colorbar\":{\"outlinewidth\":0,\"ticks\":\"\"},\"colorscale\":[[0.0,\"#0d0887\"],[0.1111111111111111,\"#46039f\"],[0.2222222222222222,\"#7201a8\"],[0.3333333333333333,\"#9c179e\"],[0.4444444444444444,\"#bd3786\"],[0.5555555555555556,\"#d8576b\"],[0.6666666666666666,\"#ed7953\"],[0.7777777777777778,\"#fb9f3a\"],[0.8888888888888888,\"#fdca26\"],[1.0,\"#f0f921\"]]}],\"mesh3d\":[{\"type\":\"mesh3d\",\"colorbar\":{\"outlinewidth\":0,\"ticks\":\"\"}}],\"scatter\":[{\"fillpattern\":{\"fillmode\":\"overlay\",\"size\":10,\"solidity\":0.2},\"type\":\"scatter\"}],\"parcoords\":[{\"type\":\"parcoords\",\"line\":{\"colorbar\":{\"outlinewidth\":0,\"ticks\":\"\"}}}],\"scatterpolargl\":[{\"type\":\"scatterpolargl\",\"marker\":{\"colorbar\":{\"outlinewidth\":0,\"ticks\":\"\"}}}],\"bar\":[{\"error_x\":{\"color\":\"#2a3f5f\"},\"error_y\":{\"color\":\"#2a3f5f\"},\"marker\":{\"line\":{\"color\":\"#E5ECF6\",\"width\":0.5},\"pattern\":{\"fillmode\":\"overlay\",\"size\":10,\"solidity\":0.2}},\"type\":\"bar\"}],\"scattergeo\":[{\"type\":\"scattergeo\",\"marker\":{\"colorbar\":{\"outlinewidth\":0,\"ticks\":\"\"}}}],\"scatterpolar\":[{\"type\":\"scatterpolar\",\"marker\":{\"colorbar\":{\"outlinewidth\":0,\"ticks\":\"\"}}}],\"histogram\":[{\"marker\":{\"pattern\":{\"fillmode\":\"overlay\",\"size\":10,\"solidity\":0.2}},\"type\":\"histogram\"}],\"scattergl\":[{\"type\":\"scattergl\",\"marker\":{\"colorbar\":{\"outlinewidth\":0,\"ticks\":\"\"}}}],\"scatter3d\":[{\"type\":\"scatter3d\",\"line\":{\"colorbar\":{\"outlinewidth\":0,\"ticks\":\"\"}},\"marker\":{\"colorbar\":{\"outlinewidth\":0,\"ticks\":\"\"}}}],\"scattermap\":[{\"type\":\"scattermap\",\"marker\":{\"colorbar\":{\"outlinewidth\":0,\"ticks\":\"\"}}}],\"scattermapbox\":[{\"type\":\"scattermapbox\",\"marker\":{\"colorbar\":{\"outlinewidth\":0,\"ticks\":\"\"}}}],\"scatterternary\":[{\"type\":\"scatterternary\",\"marker\":{\"colorbar\":{\"outlinewidth\":0,\"ticks\":\"\"}}}],\"scattercarpet\":[{\"type\":\"scattercarpet\",\"marker\":{\"colorbar\":{\"outlinewidth\":0,\"ticks\":\"\"}}}],\"carpet\":[{\"aaxis\":{\"endlinecolor\":\"#2a3f5f\",\"gridcolor\":\"white\",\"linecolor\":\"white\",\"minorgridcolor\":\"white\",\"startlinecolor\":\"#2a3f5f\"},\"baxis\":{\"endlinecolor\":\"#2a3f5f\",\"gridcolor\":\"white\",\"linecolor\":\"white\",\"minorgridcolor\":\"white\",\"startlinecolor\":\"#2a3f5f\"},\"type\":\"carpet\"}],\"table\":[{\"cells\":{\"fill\":{\"color\":\"#EBF0F8\"},\"line\":{\"color\":\"white\"}},\"header\":{\"fill\":{\"color\":\"#C8D4E3\"},\"line\":{\"color\":\"white\"}},\"type\":\"table\"}],\"barpolar\":[{\"marker\":{\"line\":{\"color\":\"#E5ECF6\",\"width\":0.5},\"pattern\":{\"fillmode\":\"overlay\",\"size\":10,\"solidity\":0.2}},\"type\":\"barpolar\"}],\"pie\":[{\"automargin\":true,\"type\":\"pie\"}]},\"layout\":{\"autotypenumbers\":\"strict\",\"colorway\":[\"#636efa\",\"#EF553B\",\"#00cc96\",\"#ab63fa\",\"#FFA15A\",\"#19d3f3\",\"#FF6692\",\"#B6E880\",\"#FF97FF\",\"#FECB52\"],\"font\":{\"color\":\"#2a3f5f\"},\"hovermode\":\"closest\",\"hoverlabel\":{\"align\":\"left\"},\"paper_bgcolor\":\"white\",\"plot_bgcolor\":\"#E5ECF6\",\"polar\":{\"bgcolor\":\"#E5ECF6\",\"angularaxis\":{\"gridcolor\":\"white\",\"linecolor\":\"white\",\"ticks\":\"\"},\"radialaxis\":{\"gridcolor\":\"white\",\"linecolor\":\"white\",\"ticks\":\"\"}},\"ternary\":{\"bgcolor\":\"#E5ECF6\",\"aaxis\":{\"gridcolor\":\"white\",\"linecolor\":\"white\",\"ticks\":\"\"},\"baxis\":{\"gridcolor\":\"white\",\"linecolor\":\"white\",\"ticks\":\"\"},\"caxis\":{\"gridcolor\":\"white\",\"linecolor\":\"white\",\"ticks\":\"\"}},\"coloraxis\":{\"colorbar\":{\"outlinewidth\":0,\"ticks\":\"\"}},\"colorscale\":{\"sequential\":[[0.0,\"#0d0887\"],[0.1111111111111111,\"#46039f\"],[0.2222222222222222,\"#7201a8\"],[0.3333333333333333,\"#9c179e\"],[0.4444444444444444,\"#bd3786\"],[0.5555555555555556,\"#d8576b\"],[0.6666666666666666,\"#ed7953\"],[0.7777777777777778,\"#fb9f3a\"],[0.8888888888888888,\"#fdca26\"],[1.0,\"#f0f921\"]],\"sequentialminus\":[[0.0,\"#0d0887\"],[0.1111111111111111,\"#46039f\"],[0.2222222222222222,\"#7201a8\"],[0.3333333333333333,\"#9c179e\"],[0.4444444444444444,\"#bd3786\"],[0.5555555555555556,\"#d8576b\"],[0.6666666666666666,\"#ed7953\"],[0.7777777777777778,\"#fb9f3a\"],[0.8888888888888888,\"#fdca26\"],[1.0,\"#f0f921\"]],\"diverging\":[[0,\"#8e0152\"],[0.1,\"#c51b7d\"],[0.2,\"#de77ae\"],[0.3,\"#f1b6da\"],[0.4,\"#fde0ef\"],[0.5,\"#f7f7f7\"],[0.6,\"#e6f5d0\"],[0.7,\"#b8e186\"],[0.8,\"#7fbc41\"],[0.9,\"#4d9221\"],[1,\"#276419\"]]},\"xaxis\":{\"gridcolor\":\"white\",\"linecolor\":\"white\",\"ticks\":\"\",\"title\":{\"standoff\":15},\"zerolinecolor\":\"white\",\"automargin\":true,\"zerolinewidth\":2},\"yaxis\":{\"gridcolor\":\"white\",\"linecolor\":\"white\",\"ticks\":\"\",\"title\":{\"standoff\":15},\"zerolinecolor\":\"white\",\"automargin\":true,\"zerolinewidth\":2},\"scene\":{\"xaxis\":{\"backgroundcolor\":\"#E5ECF6\",\"gridcolor\":\"white\",\"linecolor\":\"white\",\"showbackground\":true,\"ticks\":\"\",\"zerolinecolor\":\"white\",\"gridwidth\":2},\"yaxis\":{\"backgroundcolor\":\"#E5ECF6\",\"gridcolor\":\"white\",\"linecolor\":\"white\",\"showbackground\":true,\"ticks\":\"\",\"zerolinecolor\":\"white\",\"gridwidth\":2},\"zaxis\":{\"backgroundcolor\":\"#E5ECF6\",\"gridcolor\":\"white\",\"linecolor\":\"white\",\"showbackground\":true,\"ticks\":\"\",\"zerolinecolor\":\"white\",\"gridwidth\":2}},\"shapedefaults\":{\"line\":{\"color\":\"#2a3f5f\"}},\"annotationdefaults\":{\"arrowcolor\":\"#2a3f5f\",\"arrowhead\":0,\"arrowwidth\":1},\"geo\":{\"bgcolor\":\"white\",\"landcolor\":\"#E5ECF6\",\"subunitcolor\":\"white\",\"showland\":true,\"showlakes\":true,\"lakecolor\":\"white\"},\"title\":{\"x\":0.05},\"mapbox\":{\"style\":\"light\"}}},\"xaxis\":{\"anchor\":\"y\",\"domain\":[0.0,1.0],\"title\":{\"text\":\"Occupation Code\"},\"categoryorder\":\"total descending\",\"tickangle\":-45},\"yaxis\":{\"anchor\":\"x\",\"domain\":[0.0,1.0],\"title\":{\"text\":\"COUNT\"}},\"legend\":{\"title\":{\"text\":\"Gender\"},\"tracegroupgap\":0},\"title\":{\"text\":\"Gender Distribution Across Occupations in Alberta\"},\"barmode\":\"group\",\"plot_bgcolor\":\"white\",\"hovermode\":\"x unified\"},                        {\"responsive\": true}                    )                };            </script>        </div>"
      ],
      "text/plain": [
       "Figure({\n",
       "    'data': [{'alignmentgroup': 'True',\n",
       "              'cliponaxis': False,\n",
       "              'hovertemplate': 'GENDER=Men<br>Occupation Code=%{x}<br>COUNT=%{y}<extra></extra>',\n",
       "              'legendgroup': 'Men',\n",
       "              'marker': {'color': '#636efa', 'pattern': {'shape': ''}},\n",
       "              'name': 'Men',\n",
       "              'offsetgroup': 'Men',\n",
       "              'orientation': 'v',\n",
       "              'showlegend': True,\n",
       "              'textangle': 0,\n",
       "              'textfont': {'size': 12},\n",
       "              'textposition': 'outside',\n",
       "              'type': 'bar',\n",
       "              'x': array(['Business, finance and administration occupations',\n",
       "                          'Health occupations', 'Legislative and senior management occupations',\n",
       "                          'Natural and applied sciences and related occupations',\n",
       "                          'Natural resources, agriculture and related production occupations',\n",
       "                          'Occupations in art, culture, recreation and sport',\n",
       "                          'Occupations in education, law and social, community and government services',\n",
       "                          'Occupations in manufacturing and utilities',\n",
       "                          'Sales and service occupations',\n",
       "                          'Trades, transport and equipment operators and related occupations'],\n",
       "                         dtype=object),\n",
       "              'xaxis': 'x',\n",
       "              'y': {'bdata': 'EIABAMB7AADoOgAA6AYCAH3hAAB0RQAA4CgBAFnsAACQmgIAc30FAA==', 'dtype': 'i4'},\n",
       "              'yaxis': 'y'},\n",
       "             {'alignmentgroup': 'True',\n",
       "              'cliponaxis': False,\n",
       "              'hovertemplate': 'GENDER=Women<br>Occupation Code=%{x}<br>COUNT=%{y}<extra></extra>',\n",
       "              'legendgroup': 'Women',\n",
       "              'marker': {'color': '#EF553B', 'pattern': {'shape': ''}},\n",
       "              'name': 'Women',\n",
       "              'offsetgroup': 'Women',\n",
       "              'orientation': 'v',\n",
       "              'showlegend': True,\n",
       "              'textangle': 0,\n",
       "              'textfont': {'size': 12},\n",
       "              'textposition': 'outside',\n",
       "              'type': 'bar',\n",
       "              'x': array(['Business, finance and administration occupations',\n",
       "                          'Health occupations', 'Legislative and senior management occupations',\n",
       "                          'Natural and applied sciences and related occupations',\n",
       "                          'Natural resources, agriculture and related production occupations',\n",
       "                          'Occupations in art, culture, recreation and sport',\n",
       "                          'Occupations in education, law and social, community and government services',\n",
       "                          'Occupations in manufacturing and utilities',\n",
       "                          'Sales and service occupations',\n",
       "                          'Trades, transport and equipment operators and related occupations'],\n",
       "                         dtype=object),\n",
       "              'xaxis': 'x',\n",
       "              'y': {'bdata': 'HcsDACsjAgDiGAAAzaAAAEc7AADbagAAUWYCAIk/AAD2sAMARpsAAA==', 'dtype': 'i4'},\n",
       "              'yaxis': 'y'}],\n",
       "    'layout': {'barmode': 'group',\n",
       "               'hovermode': 'x unified',\n",
       "               'legend': {'title': {'text': 'Gender'}, 'tracegroupgap': 0},\n",
       "               'plot_bgcolor': 'white',\n",
       "               'template': '...',\n",
       "               'title': {'text': 'Gender Distribution Across Occupations in Alberta'},\n",
       "               'xaxis': {'anchor': 'y',\n",
       "                         'categoryorder': 'total descending',\n",
       "                         'domain': [0.0, 1.0],\n",
       "                         'tickangle': -45,\n",
       "                         'title': {'text': 'Occupation Code'}},\n",
       "               'yaxis': {'anchor': 'x', 'domain': [0.0, 1.0], 'title': {'text': 'COUNT'}}}\n",
       "})"
      ]
     },
     "execution_count": 153,
     "metadata": {},
     "output_type": "execute_result"
    }
   ],
   "source": [
    "fig = px.bar(\n",
    "    alberta,\n",
    "    x=\"OCCUPATION_C\",\n",
    "    y=\"COUNT\",\n",
    "    color=\"GENDER\",\n",
    "    barmode=\"group\",\n",
    "    title=\"Gender Distribution Across Occupations in Alberta\",\n",
    "    labels={\"OCCUPATION_C\": \"Occupation Code\", \"Count\": \"Number of People\"},\n",
    ")\n",
    "\n",
    "fig.update_layout(xaxis={\"categoryorder\": \"total descending\"})\n",
    "fig.update_layout(\n",
    "    xaxis_tickangle=-45,\n",
    "    plot_bgcolor=\"white\",\n",
    "    hovermode=\"x unified\",\n",
    "    legend_title_text=\"Gender\",\n",
    ")\n",
    "\n",
    "fig.update_traces(\n",
    "    textfont_size=12, textangle=0, textposition=\"outside\", cliponaxis=False\n",
    ")\n",
    "\n",
    "fig"
   ]
  },
  {
   "cell_type": "code",
   "execution_count": 154,
   "metadata": {},
   "outputs": [
    {
     "data": {
      "application/vnd.microsoft.datawrangler.viewer.v0+json": {
       "columns": [
        {
         "name": "index",
         "rawType": "int64",
         "type": "integer"
        },
        {
         "name": "GEO",
         "rawType": "object",
         "type": "string"
        },
        {
         "name": "OCCUPATION_C",
         "rawType": "object",
         "type": "string"
        },
        {
         "name": "GENDER",
         "rawType": "object",
         "type": "string"
        },
        {
         "name": "COUNT",
         "rawType": "int64",
         "type": "integer"
        }
       ],
       "conversionMethod": "pd.DataFrame",
       "ref": "387625d2-c21c-4315-acc2-064daa927560",
       "rows": [
        [
         "0",
         "Alberta",
         "Business, finance and administration occupations",
         "Men",
         "98320"
        ],
        [
         "1",
         "Alberta",
         "Business, finance and administration occupations",
         "Women",
         "248605"
        ],
        [
         "20",
         "British Columbia",
         "Business, finance and administration occupations",
         "Men",
         "121755"
        ],
        [
         "21",
         "British Columbia",
         "Business, finance and administration occupations",
         "Women",
         "287075"
        ],
        [
         "40",
         "Manitoba",
         "Business, finance and administration occupations",
         "Men",
         "28670"
        ],
        [
         "41",
         "Manitoba",
         "Business, finance and administration occupations",
         "Women",
         "67945"
        ],
        [
         "60",
         "New Brunswick",
         "Business, finance and administration occupations",
         "Men",
         "14880"
        ],
        [
         "61",
         "New Brunswick",
         "Business, finance and administration occupations",
         "Women",
         "39110"
        ],
        [
         "80",
         "Newfoundland and Labrador",
         "Business, finance and administration occupations",
         "Men",
         "7625"
        ],
        [
         "81",
         "Newfoundland and Labrador",
         "Business, finance and administration occupations",
         "Women",
         "22885"
        ],
        [
         "100",
         "Northwest Territories",
         "Business, finance and administration occupations",
         "Men",
         "905"
        ],
        [
         "101",
         "Northwest Territories",
         "Business, finance and administration occupations",
         "Women",
         "2820"
        ],
        [
         "120",
         "Nova Scotia",
         "Business, finance and administration occupations",
         "Men",
         "19025"
        ],
        [
         "121",
         "Nova Scotia",
         "Business, finance and administration occupations",
         "Women",
         "48250"
        ],
        [
         "140",
         "Nunavut",
         "Business, finance and administration occupations",
         "Men",
         "560"
        ],
        [
         "141",
         "Nunavut",
         "Business, finance and administration occupations",
         "Women",
         "1615"
        ],
        [
         "160",
         "Ontario",
         "Business, finance and administration occupations",
         "Men",
         "396015"
        ],
        [
         "161",
         "Ontario",
         "Business, finance and administration occupations",
         "Women",
         "814415"
        ],
        [
         "180",
         "Prince Edward Island",
         "Business, finance and administration occupations",
         "Men",
         "2965"
        ],
        [
         "181",
         "Prince Edward Island",
         "Business, finance and administration occupations",
         "Women",
         "8035"
        ],
        [
         "200",
         "Quebec",
         "Business, finance and administration occupations",
         "Men",
         "227215"
        ],
        [
         "201",
         "Quebec",
         "Business, finance and administration occupations",
         "Women",
         "487910"
        ],
        [
         "220",
         "Saskatchewan",
         "Business, finance and administration occupations",
         "Men",
         "19345"
        ],
        [
         "221",
         "Saskatchewan",
         "Business, finance and administration occupations",
         "Women",
         "55900"
        ],
        [
         "240",
         "Yukon",
         "Business, finance and administration occupations",
         "Men",
         "850"
        ],
        [
         "241",
         "Yukon",
         "Business, finance and administration occupations",
         "Women",
         "2920"
        ]
       ],
       "shape": {
        "columns": 4,
        "rows": 26
       }
      },
      "text/html": [
       "<div>\n",
       "<style scoped>\n",
       "    .dataframe tbody tr th:only-of-type {\n",
       "        vertical-align: middle;\n",
       "    }\n",
       "\n",
       "    .dataframe tbody tr th {\n",
       "        vertical-align: top;\n",
       "    }\n",
       "\n",
       "    .dataframe thead th {\n",
       "        text-align: right;\n",
       "    }\n",
       "</style>\n",
       "<table border=\"1\" class=\"dataframe\">\n",
       "  <thead>\n",
       "    <tr style=\"text-align: right;\">\n",
       "      <th></th>\n",
       "      <th>GEO</th>\n",
       "      <th>OCCUPATION_C</th>\n",
       "      <th>GENDER</th>\n",
       "      <th>COUNT</th>\n",
       "    </tr>\n",
       "  </thead>\n",
       "  <tbody>\n",
       "    <tr>\n",
       "      <th>0</th>\n",
       "      <td>Alberta</td>\n",
       "      <td>Business, finance and administration occupations</td>\n",
       "      <td>Men</td>\n",
       "      <td>98320</td>\n",
       "    </tr>\n",
       "    <tr>\n",
       "      <th>1</th>\n",
       "      <td>Alberta</td>\n",
       "      <td>Business, finance and administration occupations</td>\n",
       "      <td>Women</td>\n",
       "      <td>248605</td>\n",
       "    </tr>\n",
       "    <tr>\n",
       "      <th>20</th>\n",
       "      <td>British Columbia</td>\n",
       "      <td>Business, finance and administration occupations</td>\n",
       "      <td>Men</td>\n",
       "      <td>121755</td>\n",
       "    </tr>\n",
       "    <tr>\n",
       "      <th>21</th>\n",
       "      <td>British Columbia</td>\n",
       "      <td>Business, finance and administration occupations</td>\n",
       "      <td>Women</td>\n",
       "      <td>287075</td>\n",
       "    </tr>\n",
       "    <tr>\n",
       "      <th>40</th>\n",
       "      <td>Manitoba</td>\n",
       "      <td>Business, finance and administration occupations</td>\n",
       "      <td>Men</td>\n",
       "      <td>28670</td>\n",
       "    </tr>\n",
       "    <tr>\n",
       "      <th>41</th>\n",
       "      <td>Manitoba</td>\n",
       "      <td>Business, finance and administration occupations</td>\n",
       "      <td>Women</td>\n",
       "      <td>67945</td>\n",
       "    </tr>\n",
       "    <tr>\n",
       "      <th>60</th>\n",
       "      <td>New Brunswick</td>\n",
       "      <td>Business, finance and administration occupations</td>\n",
       "      <td>Men</td>\n",
       "      <td>14880</td>\n",
       "    </tr>\n",
       "    <tr>\n",
       "      <th>61</th>\n",
       "      <td>New Brunswick</td>\n",
       "      <td>Business, finance and administration occupations</td>\n",
       "      <td>Women</td>\n",
       "      <td>39110</td>\n",
       "    </tr>\n",
       "    <tr>\n",
       "      <th>80</th>\n",
       "      <td>Newfoundland and Labrador</td>\n",
       "      <td>Business, finance and administration occupations</td>\n",
       "      <td>Men</td>\n",
       "      <td>7625</td>\n",
       "    </tr>\n",
       "    <tr>\n",
       "      <th>81</th>\n",
       "      <td>Newfoundland and Labrador</td>\n",
       "      <td>Business, finance and administration occupations</td>\n",
       "      <td>Women</td>\n",
       "      <td>22885</td>\n",
       "    </tr>\n",
       "    <tr>\n",
       "      <th>100</th>\n",
       "      <td>Northwest Territories</td>\n",
       "      <td>Business, finance and administration occupations</td>\n",
       "      <td>Men</td>\n",
       "      <td>905</td>\n",
       "    </tr>\n",
       "    <tr>\n",
       "      <th>101</th>\n",
       "      <td>Northwest Territories</td>\n",
       "      <td>Business, finance and administration occupations</td>\n",
       "      <td>Women</td>\n",
       "      <td>2820</td>\n",
       "    </tr>\n",
       "    <tr>\n",
       "      <th>120</th>\n",
       "      <td>Nova Scotia</td>\n",
       "      <td>Business, finance and administration occupations</td>\n",
       "      <td>Men</td>\n",
       "      <td>19025</td>\n",
       "    </tr>\n",
       "    <tr>\n",
       "      <th>121</th>\n",
       "      <td>Nova Scotia</td>\n",
       "      <td>Business, finance and administration occupations</td>\n",
       "      <td>Women</td>\n",
       "      <td>48250</td>\n",
       "    </tr>\n",
       "    <tr>\n",
       "      <th>140</th>\n",
       "      <td>Nunavut</td>\n",
       "      <td>Business, finance and administration occupations</td>\n",
       "      <td>Men</td>\n",
       "      <td>560</td>\n",
       "    </tr>\n",
       "    <tr>\n",
       "      <th>141</th>\n",
       "      <td>Nunavut</td>\n",
       "      <td>Business, finance and administration occupations</td>\n",
       "      <td>Women</td>\n",
       "      <td>1615</td>\n",
       "    </tr>\n",
       "    <tr>\n",
       "      <th>160</th>\n",
       "      <td>Ontario</td>\n",
       "      <td>Business, finance and administration occupations</td>\n",
       "      <td>Men</td>\n",
       "      <td>396015</td>\n",
       "    </tr>\n",
       "    <tr>\n",
       "      <th>161</th>\n",
       "      <td>Ontario</td>\n",
       "      <td>Business, finance and administration occupations</td>\n",
       "      <td>Women</td>\n",
       "      <td>814415</td>\n",
       "    </tr>\n",
       "    <tr>\n",
       "      <th>180</th>\n",
       "      <td>Prince Edward Island</td>\n",
       "      <td>Business, finance and administration occupations</td>\n",
       "      <td>Men</td>\n",
       "      <td>2965</td>\n",
       "    </tr>\n",
       "    <tr>\n",
       "      <th>181</th>\n",
       "      <td>Prince Edward Island</td>\n",
       "      <td>Business, finance and administration occupations</td>\n",
       "      <td>Women</td>\n",
       "      <td>8035</td>\n",
       "    </tr>\n",
       "    <tr>\n",
       "      <th>200</th>\n",
       "      <td>Quebec</td>\n",
       "      <td>Business, finance and administration occupations</td>\n",
       "      <td>Men</td>\n",
       "      <td>227215</td>\n",
       "    </tr>\n",
       "    <tr>\n",
       "      <th>201</th>\n",
       "      <td>Quebec</td>\n",
       "      <td>Business, finance and administration occupations</td>\n",
       "      <td>Women</td>\n",
       "      <td>487910</td>\n",
       "    </tr>\n",
       "    <tr>\n",
       "      <th>220</th>\n",
       "      <td>Saskatchewan</td>\n",
       "      <td>Business, finance and administration occupations</td>\n",
       "      <td>Men</td>\n",
       "      <td>19345</td>\n",
       "    </tr>\n",
       "    <tr>\n",
       "      <th>221</th>\n",
       "      <td>Saskatchewan</td>\n",
       "      <td>Business, finance and administration occupations</td>\n",
       "      <td>Women</td>\n",
       "      <td>55900</td>\n",
       "    </tr>\n",
       "    <tr>\n",
       "      <th>240</th>\n",
       "      <td>Yukon</td>\n",
       "      <td>Business, finance and administration occupations</td>\n",
       "      <td>Men</td>\n",
       "      <td>850</td>\n",
       "    </tr>\n",
       "    <tr>\n",
       "      <th>241</th>\n",
       "      <td>Yukon</td>\n",
       "      <td>Business, finance and administration occupations</td>\n",
       "      <td>Women</td>\n",
       "      <td>2920</td>\n",
       "    </tr>\n",
       "  </tbody>\n",
       "</table>\n",
       "</div>"
      ],
      "text/plain": [
       "                           GEO  \\\n",
       "0                      Alberta   \n",
       "1                      Alberta   \n",
       "20            British Columbia   \n",
       "21            British Columbia   \n",
       "40                    Manitoba   \n",
       "41                    Manitoba   \n",
       "60               New Brunswick   \n",
       "61               New Brunswick   \n",
       "80   Newfoundland and Labrador   \n",
       "81   Newfoundland and Labrador   \n",
       "100      Northwest Territories   \n",
       "101      Northwest Territories   \n",
       "120                Nova Scotia   \n",
       "121                Nova Scotia   \n",
       "140                    Nunavut   \n",
       "141                    Nunavut   \n",
       "160                    Ontario   \n",
       "161                    Ontario   \n",
       "180       Prince Edward Island   \n",
       "181       Prince Edward Island   \n",
       "200                     Quebec   \n",
       "201                     Quebec   \n",
       "220               Saskatchewan   \n",
       "221               Saskatchewan   \n",
       "240                      Yukon   \n",
       "241                      Yukon   \n",
       "\n",
       "                                         OCCUPATION_C GENDER   COUNT  \n",
       "0    Business, finance and administration occupations    Men   98320  \n",
       "1    Business, finance and administration occupations  Women  248605  \n",
       "20   Business, finance and administration occupations    Men  121755  \n",
       "21   Business, finance and administration occupations  Women  287075  \n",
       "40   Business, finance and administration occupations    Men   28670  \n",
       "41   Business, finance and administration occupations  Women   67945  \n",
       "60   Business, finance and administration occupations    Men   14880  \n",
       "61   Business, finance and administration occupations  Women   39110  \n",
       "80   Business, finance and administration occupations    Men    7625  \n",
       "81   Business, finance and administration occupations  Women   22885  \n",
       "100  Business, finance and administration occupations    Men     905  \n",
       "101  Business, finance and administration occupations  Women    2820  \n",
       "120  Business, finance and administration occupations    Men   19025  \n",
       "121  Business, finance and administration occupations  Women   48250  \n",
       "140  Business, finance and administration occupations    Men     560  \n",
       "141  Business, finance and administration occupations  Women    1615  \n",
       "160  Business, finance and administration occupations    Men  396015  \n",
       "161  Business, finance and administration occupations  Women  814415  \n",
       "180  Business, finance and administration occupations    Men    2965  \n",
       "181  Business, finance and administration occupations  Women    8035  \n",
       "200  Business, finance and administration occupations    Men  227215  \n",
       "201  Business, finance and administration occupations  Women  487910  \n",
       "220  Business, finance and administration occupations    Men   19345  \n",
       "221  Business, finance and administration occupations  Women   55900  \n",
       "240  Business, finance and administration occupations    Men     850  \n",
       "241  Business, finance and administration occupations  Women    2920  "
      ]
     },
     "execution_count": 154,
     "metadata": {},
     "output_type": "execute_result"
    }
   ],
   "source": [
    "industry = temp_df[\n",
    "    temp_df.OCCUPATION_C == \"Business, finance and administration occupations\"\n",
    "].copy()\n",
    "industry"
   ]
  },
  {
   "cell_type": "code",
   "execution_count": 167,
   "metadata": {},
   "outputs": [
    {
     "ename": "ValueError",
     "evalue": "Mime type rendering requires nbformat>=4.2.0 but it is not installed",
     "output_type": "error",
     "traceback": [
      "\u001b[0;31m---------------------------------------------------------------------------\u001b[0m",
      "\u001b[0;31mValueError\u001b[0m                                Traceback (most recent call last)",
      "File \u001b[0;32m~/Desktop/CP321-FinalProject/.env/lib/python3.9/site-packages/IPython/core/formatters.py:922\u001b[0m, in \u001b[0;36mIPythonDisplayFormatter.__call__\u001b[0;34m(self, obj)\u001b[0m\n\u001b[1;32m    920\u001b[0m method \u001b[38;5;241m=\u001b[39m get_real_method(obj, \u001b[38;5;28mself\u001b[39m\u001b[38;5;241m.\u001b[39mprint_method)\n\u001b[1;32m    921\u001b[0m \u001b[38;5;28;01mif\u001b[39;00m method \u001b[38;5;129;01mis\u001b[39;00m \u001b[38;5;129;01mnot\u001b[39;00m \u001b[38;5;28;01mNone\u001b[39;00m:\n\u001b[0;32m--> 922\u001b[0m     \u001b[43mmethod\u001b[49m\u001b[43m(\u001b[49m\u001b[43m)\u001b[49m\n\u001b[1;32m    923\u001b[0m     \u001b[38;5;28;01mreturn\u001b[39;00m \u001b[38;5;28;01mTrue\u001b[39;00m\n",
      "File \u001b[0;32m~/Desktop/CP321-FinalProject/.env/lib/python3.9/site-packages/plotly/basedatatypes.py:833\u001b[0m, in \u001b[0;36mBaseFigure._ipython_display_\u001b[0;34m(self)\u001b[0m\n\u001b[1;32m    830\u001b[0m \u001b[38;5;28;01mimport\u001b[39;00m\u001b[38;5;250m \u001b[39m\u001b[38;5;21;01mplotly\u001b[39;00m\u001b[38;5;21;01m.\u001b[39;00m\u001b[38;5;21;01mio\u001b[39;00m\u001b[38;5;250m \u001b[39m\u001b[38;5;28;01mas\u001b[39;00m\u001b[38;5;250m \u001b[39m\u001b[38;5;21;01mpio\u001b[39;00m\n\u001b[1;32m    832\u001b[0m \u001b[38;5;28;01mif\u001b[39;00m pio\u001b[38;5;241m.\u001b[39mrenderers\u001b[38;5;241m.\u001b[39mrender_on_display \u001b[38;5;129;01mand\u001b[39;00m pio\u001b[38;5;241m.\u001b[39mrenderers\u001b[38;5;241m.\u001b[39mdefault:\n\u001b[0;32m--> 833\u001b[0m     \u001b[43mpio\u001b[49m\u001b[38;5;241;43m.\u001b[39;49m\u001b[43mshow\u001b[49m\u001b[43m(\u001b[49m\u001b[38;5;28;43mself\u001b[39;49m\u001b[43m)\u001b[49m\n\u001b[1;32m    834\u001b[0m \u001b[38;5;28;01melse\u001b[39;00m:\n\u001b[1;32m    835\u001b[0m     \u001b[38;5;28mprint\u001b[39m(\u001b[38;5;28mrepr\u001b[39m(\u001b[38;5;28mself\u001b[39m))\n",
      "File \u001b[0;32m~/Desktop/CP321-FinalProject/.env/lib/python3.9/site-packages/plotly/io/_renderers.py:425\u001b[0m, in \u001b[0;36mshow\u001b[0;34m(fig, renderer, validate, **kwargs)\u001b[0m\n\u001b[1;32m    420\u001b[0m     \u001b[38;5;28;01mraise\u001b[39;00m \u001b[38;5;167;01mValueError\u001b[39;00m(\n\u001b[1;32m    421\u001b[0m         \u001b[38;5;124m\"\u001b[39m\u001b[38;5;124mMime type rendering requires ipython but it is not installed\u001b[39m\u001b[38;5;124m\"\u001b[39m\n\u001b[1;32m    422\u001b[0m     )\n\u001b[1;32m    424\u001b[0m \u001b[38;5;28;01mif\u001b[39;00m \u001b[38;5;129;01mnot\u001b[39;00m nbformat \u001b[38;5;129;01mor\u001b[39;00m Version(nbformat\u001b[38;5;241m.\u001b[39m__version__) \u001b[38;5;241m<\u001b[39m Version(\u001b[38;5;124m\"\u001b[39m\u001b[38;5;124m4.2.0\u001b[39m\u001b[38;5;124m\"\u001b[39m):\n\u001b[0;32m--> 425\u001b[0m     \u001b[38;5;28;01mraise\u001b[39;00m \u001b[38;5;167;01mValueError\u001b[39;00m(\n\u001b[1;32m    426\u001b[0m         \u001b[38;5;124m\"\u001b[39m\u001b[38;5;124mMime type rendering requires nbformat>=4.2.0 but it is not installed\u001b[39m\u001b[38;5;124m\"\u001b[39m\n\u001b[1;32m    427\u001b[0m     )\n\u001b[1;32m    429\u001b[0m display_jupyter_version_warnings()\n\u001b[1;32m    431\u001b[0m ipython_display\u001b[38;5;241m.\u001b[39mdisplay(bundle, raw\u001b[38;5;241m=\u001b[39m\u001b[38;5;28;01mTrue\u001b[39;00m)\n",
      "\u001b[0;31mValueError\u001b[0m: Mime type rendering requires nbformat>=4.2.0 but it is not installed"
     ]
    },
    {
     "data": {
      "application/vnd.plotly.v1+json": {
       "config": {
        "plotlyServerURL": "https://plot.ly"
       },
       "data": [
        {
         "alignmentgroup": "True",
         "cliponaxis": false,
         "customdata": [
          [
           "Men"
          ],
          [
           "Men"
          ],
          [
           "Men"
          ],
          [
           "Men"
          ],
          [
           "Men"
          ],
          [
           "Men"
          ],
          [
           "Men"
          ],
          [
           "Men"
          ],
          [
           "Men"
          ],
          [
           "Men"
          ],
          [
           "Men"
          ],
          [
           "Men"
          ],
          [
           "Men"
          ]
         ],
         "hovertemplate": "<b>%{hovertext}</b><br><br>COUNT=%{y}<extra></extra>",
         "hovertext": [
          "Alberta",
          "British Columbia",
          "Manitoba",
          "New Brunswick",
          "Newfoundland and Labrador",
          "Northwest Territories",
          "Nova Scotia",
          "Nunavut",
          "Ontario",
          "Prince Edward Island",
          "Quebec",
          "Saskatchewan",
          "Yukon"
         ],
         "legendgroup": "Men",
         "marker": {
          "color": "#636efa",
          "pattern": {
           "shape": ""
          }
         },
         "name": "Men",
         "offsetgroup": "Men",
         "orientation": "v",
         "showlegend": true,
         "textangle": 0,
         "textfont": {
          "size": 1
         },
         "textposition": "outside",
         "texttemplate": "%{y:.2s}",
         "type": "bar",
         "x": [
          "Alberta",
          "British Columbia",
          "Manitoba",
          "New Brunswick",
          "Newfoundland and Labrador",
          "Northwest Territories",
          "Nova Scotia",
          "Nunavut",
          "Ontario",
          "Prince Edward Island",
          "Quebec",
          "Saskatchewan",
          "Yukon"
         ],
         "xaxis": "x",
         "y": {
          "bdata": "EIABAJvbAQD+bwAAIDoAAMkdAACJAwAAUUoAADACAADvCgYAlQsAAI93AwCRSwAAUgMAAA==",
          "dtype": "i4"
         },
         "yaxis": "y"
        },
        {
         "alignmentgroup": "True",
         "cliponaxis": false,
         "customdata": [
          [
           "Women"
          ],
          [
           "Women"
          ],
          [
           "Women"
          ],
          [
           "Women"
          ],
          [
           "Women"
          ],
          [
           "Women"
          ],
          [
           "Women"
          ],
          [
           "Women"
          ],
          [
           "Women"
          ],
          [
           "Women"
          ],
          [
           "Women"
          ],
          [
           "Women"
          ],
          [
           "Women"
          ]
         ],
         "hovertemplate": "<b>%{hovertext}</b><br><br>COUNT=%{y}<extra></extra>",
         "hovertext": [
          "Alberta",
          "British Columbia",
          "Manitoba",
          "New Brunswick",
          "Newfoundland and Labrador",
          "Northwest Territories",
          "Nova Scotia",
          "Nunavut",
          "Ontario",
          "Prince Edward Island",
          "Quebec",
          "Saskatchewan",
          "Yukon"
         ],
         "legendgroup": "Women",
         "marker": {
          "color": "#EF553B",
          "pattern": {
           "shape": ""
          }
         },
         "name": "Women",
         "offsetgroup": "Women",
         "orientation": "v",
         "showlegend": true,
         "textangle": 0,
         "textfont": {
          "size": 1
         },
         "textposition": "outside",
         "texttemplate": "%{y:.2s}",
         "type": "bar",
         "x": [
          "Alberta",
          "British Columbia",
          "Manitoba",
          "New Brunswick",
          "Newfoundland and Labrador",
          "Northwest Territories",
          "Nova Scotia",
          "Nunavut",
          "Ontario",
          "Prince Edward Island",
          "Quebec",
          "Saskatchewan",
          "Yukon"
         ],
         "xaxis": "x",
         "y": {
          "bdata": "HcsDAGNhBABpCQEAxpgAAGVZAAAECwAAerwAAE8GAABPbQwAYx8AAOZxBwBc2gAAaAsAAA==",
          "dtype": "i4"
         },
         "yaxis": "y"
        }
       ],
       "layout": {
        "barmode": "group",
        "height": 600,
        "legend": {
         "bordercolor": "black",
         "borderwidth": 1,
         "orientation": "h",
         "title": {},
         "tracegroupgap": 0,
         "x": 1,
         "xanchor": "right",
         "y": 1,
         "yanchor": "bottom"
        },
        "margin": {
         "b": 100,
         "l": 50,
         "r": 50,
         "t": 80
        },
        "template": {
         "data": {
          "bar": [
           {
            "error_x": {
             "color": "#2a3f5f"
            },
            "error_y": {
             "color": "#2a3f5f"
            },
            "marker": {
             "line": {
              "color": "white",
              "width": 0.5
             },
             "pattern": {
              "fillmode": "overlay",
              "size": 10,
              "solidity": 0.2
             }
            },
            "type": "bar"
           }
          ],
          "barpolar": [
           {
            "marker": {
             "line": {
              "color": "white",
              "width": 0.5
             },
             "pattern": {
              "fillmode": "overlay",
              "size": 10,
              "solidity": 0.2
             }
            },
            "type": "barpolar"
           }
          ],
          "carpet": [
           {
            "aaxis": {
             "endlinecolor": "#2a3f5f",
             "gridcolor": "#C8D4E3",
             "linecolor": "#C8D4E3",
             "minorgridcolor": "#C8D4E3",
             "startlinecolor": "#2a3f5f"
            },
            "baxis": {
             "endlinecolor": "#2a3f5f",
             "gridcolor": "#C8D4E3",
             "linecolor": "#C8D4E3",
             "minorgridcolor": "#C8D4E3",
             "startlinecolor": "#2a3f5f"
            },
            "type": "carpet"
           }
          ],
          "choropleth": [
           {
            "colorbar": {
             "outlinewidth": 0,
             "ticks": ""
            },
            "type": "choropleth"
           }
          ],
          "contour": [
           {
            "colorbar": {
             "outlinewidth": 0,
             "ticks": ""
            },
            "colorscale": [
             [
              0,
              "#0d0887"
             ],
             [
              0.1111111111111111,
              "#46039f"
             ],
             [
              0.2222222222222222,
              "#7201a8"
             ],
             [
              0.3333333333333333,
              "#9c179e"
             ],
             [
              0.4444444444444444,
              "#bd3786"
             ],
             [
              0.5555555555555556,
              "#d8576b"
             ],
             [
              0.6666666666666666,
              "#ed7953"
             ],
             [
              0.7777777777777778,
              "#fb9f3a"
             ],
             [
              0.8888888888888888,
              "#fdca26"
             ],
             [
              1,
              "#f0f921"
             ]
            ],
            "type": "contour"
           }
          ],
          "contourcarpet": [
           {
            "colorbar": {
             "outlinewidth": 0,
             "ticks": ""
            },
            "type": "contourcarpet"
           }
          ],
          "heatmap": [
           {
            "colorbar": {
             "outlinewidth": 0,
             "ticks": ""
            },
            "colorscale": [
             [
              0,
              "#0d0887"
             ],
             [
              0.1111111111111111,
              "#46039f"
             ],
             [
              0.2222222222222222,
              "#7201a8"
             ],
             [
              0.3333333333333333,
              "#9c179e"
             ],
             [
              0.4444444444444444,
              "#bd3786"
             ],
             [
              0.5555555555555556,
              "#d8576b"
             ],
             [
              0.6666666666666666,
              "#ed7953"
             ],
             [
              0.7777777777777778,
              "#fb9f3a"
             ],
             [
              0.8888888888888888,
              "#fdca26"
             ],
             [
              1,
              "#f0f921"
             ]
            ],
            "type": "heatmap"
           }
          ],
          "histogram": [
           {
            "marker": {
             "pattern": {
              "fillmode": "overlay",
              "size": 10,
              "solidity": 0.2
             }
            },
            "type": "histogram"
           }
          ],
          "histogram2d": [
           {
            "colorbar": {
             "outlinewidth": 0,
             "ticks": ""
            },
            "colorscale": [
             [
              0,
              "#0d0887"
             ],
             [
              0.1111111111111111,
              "#46039f"
             ],
             [
              0.2222222222222222,
              "#7201a8"
             ],
             [
              0.3333333333333333,
              "#9c179e"
             ],
             [
              0.4444444444444444,
              "#bd3786"
             ],
             [
              0.5555555555555556,
              "#d8576b"
             ],
             [
              0.6666666666666666,
              "#ed7953"
             ],
             [
              0.7777777777777778,
              "#fb9f3a"
             ],
             [
              0.8888888888888888,
              "#fdca26"
             ],
             [
              1,
              "#f0f921"
             ]
            ],
            "type": "histogram2d"
           }
          ],
          "histogram2dcontour": [
           {
            "colorbar": {
             "outlinewidth": 0,
             "ticks": ""
            },
            "colorscale": [
             [
              0,
              "#0d0887"
             ],
             [
              0.1111111111111111,
              "#46039f"
             ],
             [
              0.2222222222222222,
              "#7201a8"
             ],
             [
              0.3333333333333333,
              "#9c179e"
             ],
             [
              0.4444444444444444,
              "#bd3786"
             ],
             [
              0.5555555555555556,
              "#d8576b"
             ],
             [
              0.6666666666666666,
              "#ed7953"
             ],
             [
              0.7777777777777778,
              "#fb9f3a"
             ],
             [
              0.8888888888888888,
              "#fdca26"
             ],
             [
              1,
              "#f0f921"
             ]
            ],
            "type": "histogram2dcontour"
           }
          ],
          "mesh3d": [
           {
            "colorbar": {
             "outlinewidth": 0,
             "ticks": ""
            },
            "type": "mesh3d"
           }
          ],
          "parcoords": [
           {
            "line": {
             "colorbar": {
              "outlinewidth": 0,
              "ticks": ""
             }
            },
            "type": "parcoords"
           }
          ],
          "pie": [
           {
            "automargin": true,
            "type": "pie"
           }
          ],
          "scatter": [
           {
            "fillpattern": {
             "fillmode": "overlay",
             "size": 10,
             "solidity": 0.2
            },
            "type": "scatter"
           }
          ],
          "scatter3d": [
           {
            "line": {
             "colorbar": {
              "outlinewidth": 0,
              "ticks": ""
             }
            },
            "marker": {
             "colorbar": {
              "outlinewidth": 0,
              "ticks": ""
             }
            },
            "type": "scatter3d"
           }
          ],
          "scattercarpet": [
           {
            "marker": {
             "colorbar": {
              "outlinewidth": 0,
              "ticks": ""
             }
            },
            "type": "scattercarpet"
           }
          ],
          "scattergeo": [
           {
            "marker": {
             "colorbar": {
              "outlinewidth": 0,
              "ticks": ""
             }
            },
            "type": "scattergeo"
           }
          ],
          "scattergl": [
           {
            "marker": {
             "colorbar": {
              "outlinewidth": 0,
              "ticks": ""
             }
            },
            "type": "scattergl"
           }
          ],
          "scattermap": [
           {
            "marker": {
             "colorbar": {
              "outlinewidth": 0,
              "ticks": ""
             }
            },
            "type": "scattermap"
           }
          ],
          "scattermapbox": [
           {
            "marker": {
             "colorbar": {
              "outlinewidth": 0,
              "ticks": ""
             }
            },
            "type": "scattermapbox"
           }
          ],
          "scatterpolar": [
           {
            "marker": {
             "colorbar": {
              "outlinewidth": 0,
              "ticks": ""
             }
            },
            "type": "scatterpolar"
           }
          ],
          "scatterpolargl": [
           {
            "marker": {
             "colorbar": {
              "outlinewidth": 0,
              "ticks": ""
             }
            },
            "type": "scatterpolargl"
           }
          ],
          "scatterternary": [
           {
            "marker": {
             "colorbar": {
              "outlinewidth": 0,
              "ticks": ""
             }
            },
            "type": "scatterternary"
           }
          ],
          "surface": [
           {
            "colorbar": {
             "outlinewidth": 0,
             "ticks": ""
            },
            "colorscale": [
             [
              0,
              "#0d0887"
             ],
             [
              0.1111111111111111,
              "#46039f"
             ],
             [
              0.2222222222222222,
              "#7201a8"
             ],
             [
              0.3333333333333333,
              "#9c179e"
             ],
             [
              0.4444444444444444,
              "#bd3786"
             ],
             [
              0.5555555555555556,
              "#d8576b"
             ],
             [
              0.6666666666666666,
              "#ed7953"
             ],
             [
              0.7777777777777778,
              "#fb9f3a"
             ],
             [
              0.8888888888888888,
              "#fdca26"
             ],
             [
              1,
              "#f0f921"
             ]
            ],
            "type": "surface"
           }
          ],
          "table": [
           {
            "cells": {
             "fill": {
              "color": "#EBF0F8"
             },
             "line": {
              "color": "white"
             }
            },
            "header": {
             "fill": {
              "color": "#C8D4E3"
             },
             "line": {
              "color": "white"
             }
            },
            "type": "table"
           }
          ]
         },
         "layout": {
          "annotationdefaults": {
           "arrowcolor": "#2a3f5f",
           "arrowhead": 0,
           "arrowwidth": 1
          },
          "autotypenumbers": "strict",
          "coloraxis": {
           "colorbar": {
            "outlinewidth": 0,
            "ticks": ""
           }
          },
          "colorscale": {
           "diverging": [
            [
             0,
             "#8e0152"
            ],
            [
             0.1,
             "#c51b7d"
            ],
            [
             0.2,
             "#de77ae"
            ],
            [
             0.3,
             "#f1b6da"
            ],
            [
             0.4,
             "#fde0ef"
            ],
            [
             0.5,
             "#f7f7f7"
            ],
            [
             0.6,
             "#e6f5d0"
            ],
            [
             0.7,
             "#b8e186"
            ],
            [
             0.8,
             "#7fbc41"
            ],
            [
             0.9,
             "#4d9221"
            ],
            [
             1,
             "#276419"
            ]
           ],
           "sequential": [
            [
             0,
             "#0d0887"
            ],
            [
             0.1111111111111111,
             "#46039f"
            ],
            [
             0.2222222222222222,
             "#7201a8"
            ],
            [
             0.3333333333333333,
             "#9c179e"
            ],
            [
             0.4444444444444444,
             "#bd3786"
            ],
            [
             0.5555555555555556,
             "#d8576b"
            ],
            [
             0.6666666666666666,
             "#ed7953"
            ],
            [
             0.7777777777777778,
             "#fb9f3a"
            ],
            [
             0.8888888888888888,
             "#fdca26"
            ],
            [
             1,
             "#f0f921"
            ]
           ],
           "sequentialminus": [
            [
             0,
             "#0d0887"
            ],
            [
             0.1111111111111111,
             "#46039f"
            ],
            [
             0.2222222222222222,
             "#7201a8"
            ],
            [
             0.3333333333333333,
             "#9c179e"
            ],
            [
             0.4444444444444444,
             "#bd3786"
            ],
            [
             0.5555555555555556,
             "#d8576b"
            ],
            [
             0.6666666666666666,
             "#ed7953"
            ],
            [
             0.7777777777777778,
             "#fb9f3a"
            ],
            [
             0.8888888888888888,
             "#fdca26"
            ],
            [
             1,
             "#f0f921"
            ]
           ]
          },
          "colorway": [
           "#636efa",
           "#EF553B",
           "#00cc96",
           "#ab63fa",
           "#FFA15A",
           "#19d3f3",
           "#FF6692",
           "#B6E880",
           "#FF97FF",
           "#FECB52"
          ],
          "font": {
           "color": "#2a3f5f"
          },
          "geo": {
           "bgcolor": "white",
           "lakecolor": "white",
           "landcolor": "white",
           "showlakes": true,
           "showland": true,
           "subunitcolor": "#C8D4E3"
          },
          "hoverlabel": {
           "align": "left"
          },
          "hovermode": "closest",
          "mapbox": {
           "style": "light"
          },
          "paper_bgcolor": "white",
          "plot_bgcolor": "white",
          "polar": {
           "angularaxis": {
            "gridcolor": "#EBF0F8",
            "linecolor": "#EBF0F8",
            "ticks": ""
           },
           "bgcolor": "white",
           "radialaxis": {
            "gridcolor": "#EBF0F8",
            "linecolor": "#EBF0F8",
            "ticks": ""
           }
          },
          "scene": {
           "xaxis": {
            "backgroundcolor": "white",
            "gridcolor": "#DFE8F3",
            "gridwidth": 2,
            "linecolor": "#EBF0F8",
            "showbackground": true,
            "ticks": "",
            "zerolinecolor": "#EBF0F8"
           },
           "yaxis": {
            "backgroundcolor": "white",
            "gridcolor": "#DFE8F3",
            "gridwidth": 2,
            "linecolor": "#EBF0F8",
            "showbackground": true,
            "ticks": "",
            "zerolinecolor": "#EBF0F8"
           },
           "zaxis": {
            "backgroundcolor": "white",
            "gridcolor": "#DFE8F3",
            "gridwidth": 2,
            "linecolor": "#EBF0F8",
            "showbackground": true,
            "ticks": "",
            "zerolinecolor": "#EBF0F8"
           }
          },
          "shapedefaults": {
           "line": {
            "color": "#2a3f5f"
           }
          },
          "ternary": {
           "aaxis": {
            "gridcolor": "#DFE8F3",
            "linecolor": "#A2B1C6",
            "ticks": ""
           },
           "baxis": {
            "gridcolor": "#DFE8F3",
            "linecolor": "#A2B1C6",
            "ticks": ""
           },
           "bgcolor": "white",
           "caxis": {
            "gridcolor": "#DFE8F3",
            "linecolor": "#A2B1C6",
            "ticks": ""
           }
          },
          "title": {
           "x": 0.05
          },
          "xaxis": {
           "automargin": true,
           "gridcolor": "#EBF0F8",
           "linecolor": "#EBF0F8",
           "ticks": "",
           "title": {
            "standoff": 15
           },
           "zerolinecolor": "#EBF0F8",
           "zerolinewidth": 2
          },
          "yaxis": {
           "automargin": true,
           "gridcolor": "#EBF0F8",
           "linecolor": "#EBF0F8",
           "ticks": "",
           "title": {
            "standoff": 15
           },
           "zerolinecolor": "#EBF0F8",
           "zerolinewidth": 2
          }
         }
        },
        "title": {
         "font": {
          "color": "#2a4978",
          "family": "Arial",
          "size": 20
         },
         "text": "<b>Gender Composition of  Aerospace Engineering Departments Across Canada</b>"
        },
        "xaxis": {
         "anchor": "y",
         "categoryorder": "total descending",
         "domain": [
          0,
          1
         ],
         "tickangle": -30,
         "tickfont": {
          "size": 12
         },
         "title": {
          "font": {
           "size": 12
          },
          "text": "<b>Administrative Units</b>"
         }
        },
        "yaxis": {
         "anchor": "x",
         "domain": [
          0,
          1
         ],
         "gridcolor": "rgba(200, 200, 200, 0.3)",
         "showgrid": true,
         "tickfont": {
          "size": 12
         },
         "title": {
          "font": {
           "size": 12
          },
          "text": "<b>Number of People (Log Scale)</b>"
         },
         "type": "log"
        }
       }
      },
      "text/html": [
       "<div>                        <script type=\"text/javascript\">window.PlotlyConfig = {MathJaxConfig: 'local'};</script>\n",
       "        <script charset=\"utf-8\" src=\"https://cdn.plot.ly/plotly-3.0.1.min.js\"></script>                <div id=\"fbe37411-8fe9-4c9b-92fe-0d88c01d0556\" class=\"plotly-graph-div\" style=\"height:600px; width:100%;\"></div>            <script type=\"text/javascript\">                window.PLOTLYENV=window.PLOTLYENV || {};                                if (document.getElementById(\"fbe37411-8fe9-4c9b-92fe-0d88c01d0556\")) {                    Plotly.newPlot(                        \"fbe37411-8fe9-4c9b-92fe-0d88c01d0556\",                        [{\"alignmentgroup\":\"True\",\"customdata\":[[\"Men\"],[\"Men\"],[\"Men\"],[\"Men\"],[\"Men\"],[\"Men\"],[\"Men\"],[\"Men\"],[\"Men\"],[\"Men\"],[\"Men\"],[\"Men\"],[\"Men\"]],\"hovertemplate\":\"\\u003cb\\u003e%{hovertext}\\u003c\\u002fb\\u003e\\u003cbr\\u003e\\u003cbr\\u003eCOUNT=%{y}\\u003cextra\\u003e\\u003c\\u002fextra\\u003e\",\"hovertext\":[\"Alberta\",\"British Columbia\",\"Manitoba\",\"New Brunswick\",\"Newfoundland and Labrador\",\"Northwest Territories\",\"Nova Scotia\",\"Nunavut\",\"Ontario\",\"Prince Edward Island\",\"Quebec\",\"Saskatchewan\",\"Yukon\"],\"legendgroup\":\"Men\",\"marker\":{\"color\":\"#636efa\",\"pattern\":{\"shape\":\"\"}},\"name\":\"Men\",\"offsetgroup\":\"Men\",\"orientation\":\"v\",\"showlegend\":true,\"textposition\":\"outside\",\"x\":[\"Alberta\",\"British Columbia\",\"Manitoba\",\"New Brunswick\",\"Newfoundland and Labrador\",\"Northwest Territories\",\"Nova Scotia\",\"Nunavut\",\"Ontario\",\"Prince Edward Island\",\"Quebec\",\"Saskatchewan\",\"Yukon\"],\"xaxis\":\"x\",\"y\":{\"dtype\":\"i4\",\"bdata\":\"EIABAJvbAQD+bwAAIDoAAMkdAACJAwAAUUoAADACAADvCgYAlQsAAI93AwCRSwAAUgMAAA==\"},\"yaxis\":\"y\",\"type\":\"bar\",\"textfont\":{\"size\":1},\"cliponaxis\":false,\"textangle\":0,\"texttemplate\":\"%{y:.2s}\"},{\"alignmentgroup\":\"True\",\"customdata\":[[\"Women\"],[\"Women\"],[\"Women\"],[\"Women\"],[\"Women\"],[\"Women\"],[\"Women\"],[\"Women\"],[\"Women\"],[\"Women\"],[\"Women\"],[\"Women\"],[\"Women\"]],\"hovertemplate\":\"\\u003cb\\u003e%{hovertext}\\u003c\\u002fb\\u003e\\u003cbr\\u003e\\u003cbr\\u003eCOUNT=%{y}\\u003cextra\\u003e\\u003c\\u002fextra\\u003e\",\"hovertext\":[\"Alberta\",\"British Columbia\",\"Manitoba\",\"New Brunswick\",\"Newfoundland and Labrador\",\"Northwest Territories\",\"Nova Scotia\",\"Nunavut\",\"Ontario\",\"Prince Edward Island\",\"Quebec\",\"Saskatchewan\",\"Yukon\"],\"legendgroup\":\"Women\",\"marker\":{\"color\":\"#EF553B\",\"pattern\":{\"shape\":\"\"}},\"name\":\"Women\",\"offsetgroup\":\"Women\",\"orientation\":\"v\",\"showlegend\":true,\"textposition\":\"outside\",\"x\":[\"Alberta\",\"British Columbia\",\"Manitoba\",\"New Brunswick\",\"Newfoundland and Labrador\",\"Northwest Territories\",\"Nova Scotia\",\"Nunavut\",\"Ontario\",\"Prince Edward Island\",\"Quebec\",\"Saskatchewan\",\"Yukon\"],\"xaxis\":\"x\",\"y\":{\"dtype\":\"i4\",\"bdata\":\"HcsDAGNhBABpCQEAxpgAAGVZAAAECwAAerwAAE8GAABPbQwAYx8AAOZxBwBc2gAAaAsAAA==\"},\"yaxis\":\"y\",\"type\":\"bar\",\"textfont\":{\"size\":1},\"cliponaxis\":false,\"textangle\":0,\"texttemplate\":\"%{y:.2s}\"}],                        {\"template\":{\"data\":{\"barpolar\":[{\"marker\":{\"line\":{\"color\":\"white\",\"width\":0.5},\"pattern\":{\"fillmode\":\"overlay\",\"size\":10,\"solidity\":0.2}},\"type\":\"barpolar\"}],\"bar\":[{\"error_x\":{\"color\":\"#2a3f5f\"},\"error_y\":{\"color\":\"#2a3f5f\"},\"marker\":{\"line\":{\"color\":\"white\",\"width\":0.5},\"pattern\":{\"fillmode\":\"overlay\",\"size\":10,\"solidity\":0.2}},\"type\":\"bar\"}],\"carpet\":[{\"aaxis\":{\"endlinecolor\":\"#2a3f5f\",\"gridcolor\":\"#C8D4E3\",\"linecolor\":\"#C8D4E3\",\"minorgridcolor\":\"#C8D4E3\",\"startlinecolor\":\"#2a3f5f\"},\"baxis\":{\"endlinecolor\":\"#2a3f5f\",\"gridcolor\":\"#C8D4E3\",\"linecolor\":\"#C8D4E3\",\"minorgridcolor\":\"#C8D4E3\",\"startlinecolor\":\"#2a3f5f\"},\"type\":\"carpet\"}],\"choropleth\":[{\"colorbar\":{\"outlinewidth\":0,\"ticks\":\"\"},\"type\":\"choropleth\"}],\"contourcarpet\":[{\"colorbar\":{\"outlinewidth\":0,\"ticks\":\"\"},\"type\":\"contourcarpet\"}],\"contour\":[{\"colorbar\":{\"outlinewidth\":0,\"ticks\":\"\"},\"colorscale\":[[0.0,\"#0d0887\"],[0.1111111111111111,\"#46039f\"],[0.2222222222222222,\"#7201a8\"],[0.3333333333333333,\"#9c179e\"],[0.4444444444444444,\"#bd3786\"],[0.5555555555555556,\"#d8576b\"],[0.6666666666666666,\"#ed7953\"],[0.7777777777777778,\"#fb9f3a\"],[0.8888888888888888,\"#fdca26\"],[1.0,\"#f0f921\"]],\"type\":\"contour\"}],\"heatmap\":[{\"colorbar\":{\"outlinewidth\":0,\"ticks\":\"\"},\"colorscale\":[[0.0,\"#0d0887\"],[0.1111111111111111,\"#46039f\"],[0.2222222222222222,\"#7201a8\"],[0.3333333333333333,\"#9c179e\"],[0.4444444444444444,\"#bd3786\"],[0.5555555555555556,\"#d8576b\"],[0.6666666666666666,\"#ed7953\"],[0.7777777777777778,\"#fb9f3a\"],[0.8888888888888888,\"#fdca26\"],[1.0,\"#f0f921\"]],\"type\":\"heatmap\"}],\"histogram2dcontour\":[{\"colorbar\":{\"outlinewidth\":0,\"ticks\":\"\"},\"colorscale\":[[0.0,\"#0d0887\"],[0.1111111111111111,\"#46039f\"],[0.2222222222222222,\"#7201a8\"],[0.3333333333333333,\"#9c179e\"],[0.4444444444444444,\"#bd3786\"],[0.5555555555555556,\"#d8576b\"],[0.6666666666666666,\"#ed7953\"],[0.7777777777777778,\"#fb9f3a\"],[0.8888888888888888,\"#fdca26\"],[1.0,\"#f0f921\"]],\"type\":\"histogram2dcontour\"}],\"histogram2d\":[{\"colorbar\":{\"outlinewidth\":0,\"ticks\":\"\"},\"colorscale\":[[0.0,\"#0d0887\"],[0.1111111111111111,\"#46039f\"],[0.2222222222222222,\"#7201a8\"],[0.3333333333333333,\"#9c179e\"],[0.4444444444444444,\"#bd3786\"],[0.5555555555555556,\"#d8576b\"],[0.6666666666666666,\"#ed7953\"],[0.7777777777777778,\"#fb9f3a\"],[0.8888888888888888,\"#fdca26\"],[1.0,\"#f0f921\"]],\"type\":\"histogram2d\"}],\"histogram\":[{\"marker\":{\"pattern\":{\"fillmode\":\"overlay\",\"size\":10,\"solidity\":0.2}},\"type\":\"histogram\"}],\"mesh3d\":[{\"colorbar\":{\"outlinewidth\":0,\"ticks\":\"\"},\"type\":\"mesh3d\"}],\"parcoords\":[{\"line\":{\"colorbar\":{\"outlinewidth\":0,\"ticks\":\"\"}},\"type\":\"parcoords\"}],\"pie\":[{\"automargin\":true,\"type\":\"pie\"}],\"scatter3d\":[{\"line\":{\"colorbar\":{\"outlinewidth\":0,\"ticks\":\"\"}},\"marker\":{\"colorbar\":{\"outlinewidth\":0,\"ticks\":\"\"}},\"type\":\"scatter3d\"}],\"scattercarpet\":[{\"marker\":{\"colorbar\":{\"outlinewidth\":0,\"ticks\":\"\"}},\"type\":\"scattercarpet\"}],\"scattergeo\":[{\"marker\":{\"colorbar\":{\"outlinewidth\":0,\"ticks\":\"\"}},\"type\":\"scattergeo\"}],\"scattergl\":[{\"marker\":{\"colorbar\":{\"outlinewidth\":0,\"ticks\":\"\"}},\"type\":\"scattergl\"}],\"scattermapbox\":[{\"marker\":{\"colorbar\":{\"outlinewidth\":0,\"ticks\":\"\"}},\"type\":\"scattermapbox\"}],\"scattermap\":[{\"marker\":{\"colorbar\":{\"outlinewidth\":0,\"ticks\":\"\"}},\"type\":\"scattermap\"}],\"scatterpolargl\":[{\"marker\":{\"colorbar\":{\"outlinewidth\":0,\"ticks\":\"\"}},\"type\":\"scatterpolargl\"}],\"scatterpolar\":[{\"marker\":{\"colorbar\":{\"outlinewidth\":0,\"ticks\":\"\"}},\"type\":\"scatterpolar\"}],\"scatter\":[{\"fillpattern\":{\"fillmode\":\"overlay\",\"size\":10,\"solidity\":0.2},\"type\":\"scatter\"}],\"scatterternary\":[{\"marker\":{\"colorbar\":{\"outlinewidth\":0,\"ticks\":\"\"}},\"type\":\"scatterternary\"}],\"surface\":[{\"colorbar\":{\"outlinewidth\":0,\"ticks\":\"\"},\"colorscale\":[[0.0,\"#0d0887\"],[0.1111111111111111,\"#46039f\"],[0.2222222222222222,\"#7201a8\"],[0.3333333333333333,\"#9c179e\"],[0.4444444444444444,\"#bd3786\"],[0.5555555555555556,\"#d8576b\"],[0.6666666666666666,\"#ed7953\"],[0.7777777777777778,\"#fb9f3a\"],[0.8888888888888888,\"#fdca26\"],[1.0,\"#f0f921\"]],\"type\":\"surface\"}],\"table\":[{\"cells\":{\"fill\":{\"color\":\"#EBF0F8\"},\"line\":{\"color\":\"white\"}},\"header\":{\"fill\":{\"color\":\"#C8D4E3\"},\"line\":{\"color\":\"white\"}},\"type\":\"table\"}]},\"layout\":{\"annotationdefaults\":{\"arrowcolor\":\"#2a3f5f\",\"arrowhead\":0,\"arrowwidth\":1},\"autotypenumbers\":\"strict\",\"coloraxis\":{\"colorbar\":{\"outlinewidth\":0,\"ticks\":\"\"}},\"colorscale\":{\"diverging\":[[0,\"#8e0152\"],[0.1,\"#c51b7d\"],[0.2,\"#de77ae\"],[0.3,\"#f1b6da\"],[0.4,\"#fde0ef\"],[0.5,\"#f7f7f7\"],[0.6,\"#e6f5d0\"],[0.7,\"#b8e186\"],[0.8,\"#7fbc41\"],[0.9,\"#4d9221\"],[1,\"#276419\"]],\"sequential\":[[0.0,\"#0d0887\"],[0.1111111111111111,\"#46039f\"],[0.2222222222222222,\"#7201a8\"],[0.3333333333333333,\"#9c179e\"],[0.4444444444444444,\"#bd3786\"],[0.5555555555555556,\"#d8576b\"],[0.6666666666666666,\"#ed7953\"],[0.7777777777777778,\"#fb9f3a\"],[0.8888888888888888,\"#fdca26\"],[1.0,\"#f0f921\"]],\"sequentialminus\":[[0.0,\"#0d0887\"],[0.1111111111111111,\"#46039f\"],[0.2222222222222222,\"#7201a8\"],[0.3333333333333333,\"#9c179e\"],[0.4444444444444444,\"#bd3786\"],[0.5555555555555556,\"#d8576b\"],[0.6666666666666666,\"#ed7953\"],[0.7777777777777778,\"#fb9f3a\"],[0.8888888888888888,\"#fdca26\"],[1.0,\"#f0f921\"]]},\"colorway\":[\"#636efa\",\"#EF553B\",\"#00cc96\",\"#ab63fa\",\"#FFA15A\",\"#19d3f3\",\"#FF6692\",\"#B6E880\",\"#FF97FF\",\"#FECB52\"],\"font\":{\"color\":\"#2a3f5f\"},\"geo\":{\"bgcolor\":\"white\",\"lakecolor\":\"white\",\"landcolor\":\"white\",\"showlakes\":true,\"showland\":true,\"subunitcolor\":\"#C8D4E3\"},\"hoverlabel\":{\"align\":\"left\"},\"hovermode\":\"closest\",\"mapbox\":{\"style\":\"light\"},\"paper_bgcolor\":\"white\",\"plot_bgcolor\":\"white\",\"polar\":{\"angularaxis\":{\"gridcolor\":\"#EBF0F8\",\"linecolor\":\"#EBF0F8\",\"ticks\":\"\"},\"bgcolor\":\"white\",\"radialaxis\":{\"gridcolor\":\"#EBF0F8\",\"linecolor\":\"#EBF0F8\",\"ticks\":\"\"}},\"scene\":{\"xaxis\":{\"backgroundcolor\":\"white\",\"gridcolor\":\"#DFE8F3\",\"gridwidth\":2,\"linecolor\":\"#EBF0F8\",\"showbackground\":true,\"ticks\":\"\",\"zerolinecolor\":\"#EBF0F8\"},\"yaxis\":{\"backgroundcolor\":\"white\",\"gridcolor\":\"#DFE8F3\",\"gridwidth\":2,\"linecolor\":\"#EBF0F8\",\"showbackground\":true,\"ticks\":\"\",\"zerolinecolor\":\"#EBF0F8\"},\"zaxis\":{\"backgroundcolor\":\"white\",\"gridcolor\":\"#DFE8F3\",\"gridwidth\":2,\"linecolor\":\"#EBF0F8\",\"showbackground\":true,\"ticks\":\"\",\"zerolinecolor\":\"#EBF0F8\"}},\"shapedefaults\":{\"line\":{\"color\":\"#2a3f5f\"}},\"ternary\":{\"aaxis\":{\"gridcolor\":\"#DFE8F3\",\"linecolor\":\"#A2B1C6\",\"ticks\":\"\"},\"baxis\":{\"gridcolor\":\"#DFE8F3\",\"linecolor\":\"#A2B1C6\",\"ticks\":\"\"},\"bgcolor\":\"white\",\"caxis\":{\"gridcolor\":\"#DFE8F3\",\"linecolor\":\"#A2B1C6\",\"ticks\":\"\"}},\"title\":{\"x\":0.05},\"xaxis\":{\"automargin\":true,\"gridcolor\":\"#EBF0F8\",\"linecolor\":\"#EBF0F8\",\"ticks\":\"\",\"title\":{\"standoff\":15},\"zerolinecolor\":\"#EBF0F8\",\"zerolinewidth\":2},\"yaxis\":{\"automargin\":true,\"gridcolor\":\"#EBF0F8\",\"linecolor\":\"#EBF0F8\",\"ticks\":\"\",\"title\":{\"standoff\":15},\"zerolinecolor\":\"#EBF0F8\",\"zerolinewidth\":2}}},\"xaxis\":{\"anchor\":\"y\",\"domain\":[0.0,1.0],\"title\":{\"text\":\"\\u003cb\\u003eAdministrative Units\\u003c\\u002fb\\u003e\",\"font\":{\"size\":12}},\"categoryorder\":\"total descending\",\"tickfont\":{\"size\":12},\"tickangle\":-30},\"yaxis\":{\"anchor\":\"x\",\"domain\":[0.0,1.0],\"title\":{\"text\":\"\\u003cb\\u003eNumber of People (Log Scale)\\u003c\\u002fb\\u003e\",\"font\":{\"size\":12}},\"type\":\"log\",\"tickfont\":{\"size\":12},\"showgrid\":true,\"gridcolor\":\"rgba(200, 200, 200, 0.3)\"},\"legend\":{\"title\":{},\"tracegroupgap\":0,\"orientation\":\"h\",\"y\":1,\"x\":1,\"xanchor\":\"right\",\"yanchor\":\"bottom\",\"bordercolor\":\"black\",\"borderwidth\":1},\"margin\":{\"t\":80,\"l\":50,\"r\":50,\"b\":100},\"barmode\":\"group\",\"height\":600,\"title\":{\"font\":{\"size\":20,\"family\":\"Arial\",\"color\":\"#2a4978\"},\"text\":\"\\u003cb\\u003eGender Composition of  Aerospace Engineering Departments Across Canada\\u003c\\u002fb\\u003e\"}},                        {\"responsive\": true}                    )                };            </script>        </div>"
      ],
      "text/plain": [
       "Figure({\n",
       "    'data': [{'alignmentgroup': 'True',\n",
       "              'cliponaxis': False,\n",
       "              'customdata': array([['Men'],\n",
       "                                   ['Men'],\n",
       "                                   ['Men'],\n",
       "                                   ['Men'],\n",
       "                                   ['Men'],\n",
       "                                   ['Men'],\n",
       "                                   ['Men'],\n",
       "                                   ['Men'],\n",
       "                                   ['Men'],\n",
       "                                   ['Men'],\n",
       "                                   ['Men'],\n",
       "                                   ['Men'],\n",
       "                                   ['Men']], dtype=object),\n",
       "              'hovertemplate': '<b>%{hovertext}</b><br><br>COUNT=%{y}<extra></extra>',\n",
       "              'hovertext': array(['Alberta', 'British Columbia', 'Manitoba', 'New Brunswick',\n",
       "                                  'Newfoundland and Labrador', 'Northwest Territories', 'Nova Scotia',\n",
       "                                  'Nunavut', 'Ontario', 'Prince Edward Island', 'Quebec', 'Saskatchewan',\n",
       "                                  'Yukon'], dtype=object),\n",
       "              'legendgroup': 'Men',\n",
       "              'marker': {'color': '#636efa', 'pattern': {'shape': ''}},\n",
       "              'name': 'Men',\n",
       "              'offsetgroup': 'Men',\n",
       "              'orientation': 'v',\n",
       "              'showlegend': True,\n",
       "              'textangle': 0,\n",
       "              'textfont': {'size': 1},\n",
       "              'textposition': 'outside',\n",
       "              'texttemplate': '%{y:.2s}',\n",
       "              'type': 'bar',\n",
       "              'x': array(['Alberta', 'British Columbia', 'Manitoba', 'New Brunswick',\n",
       "                          'Newfoundland and Labrador', 'Northwest Territories', 'Nova Scotia',\n",
       "                          'Nunavut', 'Ontario', 'Prince Edward Island', 'Quebec', 'Saskatchewan',\n",
       "                          'Yukon'], dtype=object),\n",
       "              'xaxis': 'x',\n",
       "              'y': {'bdata': 'EIABAJvbAQD+bwAAIDoAAMkdAACJAwAAUUoAADACAADvCgYAlQsAAI93AwCRSwAAUgMAAA==', 'dtype': 'i4'},\n",
       "              'yaxis': 'y'},\n",
       "             {'alignmentgroup': 'True',\n",
       "              'cliponaxis': False,\n",
       "              'customdata': array([['Women'],\n",
       "                                   ['Women'],\n",
       "                                   ['Women'],\n",
       "                                   ['Women'],\n",
       "                                   ['Women'],\n",
       "                                   ['Women'],\n",
       "                                   ['Women'],\n",
       "                                   ['Women'],\n",
       "                                   ['Women'],\n",
       "                                   ['Women'],\n",
       "                                   ['Women'],\n",
       "                                   ['Women'],\n",
       "                                   ['Women']], dtype=object),\n",
       "              'hovertemplate': '<b>%{hovertext}</b><br><br>COUNT=%{y}<extra></extra>',\n",
       "              'hovertext': array(['Alberta', 'British Columbia', 'Manitoba', 'New Brunswick',\n",
       "                                  'Newfoundland and Labrador', 'Northwest Territories', 'Nova Scotia',\n",
       "                                  'Nunavut', 'Ontario', 'Prince Edward Island', 'Quebec', 'Saskatchewan',\n",
       "                                  'Yukon'], dtype=object),\n",
       "              'legendgroup': 'Women',\n",
       "              'marker': {'color': '#EF553B', 'pattern': {'shape': ''}},\n",
       "              'name': 'Women',\n",
       "              'offsetgroup': 'Women',\n",
       "              'orientation': 'v',\n",
       "              'showlegend': True,\n",
       "              'textangle': 0,\n",
       "              'textfont': {'size': 1},\n",
       "              'textposition': 'outside',\n",
       "              'texttemplate': '%{y:.2s}',\n",
       "              'type': 'bar',\n",
       "              'x': array(['Alberta', 'British Columbia', 'Manitoba', 'New Brunswick',\n",
       "                          'Newfoundland and Labrador', 'Northwest Territories', 'Nova Scotia',\n",
       "                          'Nunavut', 'Ontario', 'Prince Edward Island', 'Quebec', 'Saskatchewan',\n",
       "                          'Yukon'], dtype=object),\n",
       "              'xaxis': 'x',\n",
       "              'y': {'bdata': 'HcsDAGNhBABpCQEAxpgAAGVZAAAECwAAerwAAE8GAABPbQwAYx8AAOZxBwBc2gAAaAsAAA==', 'dtype': 'i4'},\n",
       "              'yaxis': 'y'}],\n",
       "    'layout': {'barmode': 'group',\n",
       "               'height': 600,\n",
       "               'legend': {'bordercolor': 'black',\n",
       "                          'borderwidth': 1,\n",
       "                          'orientation': 'h',\n",
       "                          'title': {},\n",
       "                          'tracegroupgap': 0,\n",
       "                          'x': 1,\n",
       "                          'xanchor': 'right',\n",
       "                          'y': 1,\n",
       "                          'yanchor': 'bottom'},\n",
       "               'margin': {'b': 100, 'l': 50, 'r': 50, 't': 80},\n",
       "               'template': '...',\n",
       "               'title': {'font': {'color': '#2a4978', 'family': 'Arial', 'size': 20},\n",
       "                         'text': '<b>Gender Composition of  Aerospace Engineering Departments Across Canada</b>'},\n",
       "               'xaxis': {'anchor': 'y',\n",
       "                         'categoryorder': 'total descending',\n",
       "                         'domain': [0.0, 1.0],\n",
       "                         'tickangle': -30,\n",
       "                         'tickfont': {'size': 12},\n",
       "                         'title': {'font': {'size': 12}, 'text': '<b>Administrative Units</b>'}},\n",
       "               'yaxis': {'anchor': 'x',\n",
       "                         'domain': [0.0, 1.0],\n",
       "                         'gridcolor': 'rgba(200, 200, 200, 0.3)',\n",
       "                         'showgrid': True,\n",
       "                         'tickfont': {'size': 12},\n",
       "                         'title': {'font': {'size': 12}, 'text': '<b>Number of People (Log Scale)</b>'},\n",
       "                         'type': 'log'}}\n",
       "})"
      ]
     },
     "execution_count": 167,
     "metadata": {},
     "output_type": "execute_result"
    }
   ],
   "source": [
    "fig = px.bar(\n",
    "    industry,\n",
    "    x=\"GEO\",\n",
    "    y=\"COUNT\",\n",
    "    color=\"GENDER\",\n",
    "    barmode=\"group\",\n",
    "    log_y=True,\n",
    "    template=\"plotly_white\",\n",
    "    hover_name=\"GEO\",\n",
    "    hover_data={\"GENDER\":False,\"GEO\":False},\n",
    ")\n",
    "\n",
    "fig.update_layout(xaxis={\"categoryorder\": \"total descending\"})\n",
    "\n",
    "fig.update_layout(\n",
    "    xaxis_tickangle=-30,\n",
    "    xaxis=dict(\n",
    "        categoryorder=\"total descending\",\n",
    "        tickangle=-30,\n",
    "        title=\"<b>Administrative Units</b>\",\n",
    "        tickfont=dict(size=12),\n",
    "        title_font=dict(size=12 ),\n",
    "    ),\n",
    "    yaxis=dict(\n",
    "        title=\"<b>Number of People (Log Scale)</b>\",\n",
    "        tickfont=dict(size=12),\n",
    "        title_font=dict(size=12),\n",
    "        showgrid=True,\n",
    "        gridcolor=\"rgba(200, 200, 200, 0.3)\",\n",
    "    ),\n",
    "    height=600,\n",
    "    margin=dict(l=50, r=50, t=80, b=100),\n",
    ")\n",
    "\n",
    "# update Tile\n",
    "fig.update_layout(\n",
    "    title=dict(\n",
    "        text=\"<b>Gender Composition of  Aerospace Engineering Departments Across Canada</b>\",\n",
    "        font=dict(size=20, family=\"Arial\", color=\"#2a4978\"),\n",
    "    )\n",
    ")\n",
    "fig.update_layout(\n",
    "    legend=dict(\n",
    "        orientation=\"h\",\n",
    "        title=None,\n",
    "        y=1,\n",
    "        x=1,\n",
    "        xanchor=\"right\",\n",
    "        yanchor=\"bottom\",\n",
    "    ),\n",
    "    legend_bordercolor=\"black\",\n",
    "    legend_borderwidth=1,\n",
    ")\n",
    "fig.update_traces(\n",
    "    textfont_size=1,\n",
    "    textangle=0,\n",
    "    textposition=\"outside\",\n",
    "    cliponaxis=False,\n",
    "    texttemplate=\"%{y:.2s}\", \n",
    ")\n",
    "\n",
    "fig"
   ]
  },
  {
   "cell_type": "code",
   "execution_count": null,
   "metadata": {},
   "outputs": [],
   "source": []
  }
 ],
 "metadata": {
  "kernelspec": {
   "display_name": ".env",
   "language": "python",
   "name": "python3"
  },
  "language_info": {
   "codemirror_mode": {
    "name": "ipython",
    "version": 3
   },
   "file_extension": ".py",
   "mimetype": "text/x-python",
   "name": "python",
   "nbconvert_exporter": "python",
   "pygments_lexer": "ipython3",
   "version": "3.9.21"
  }
 },
 "nbformat": 4,
 "nbformat_minor": 2
}
